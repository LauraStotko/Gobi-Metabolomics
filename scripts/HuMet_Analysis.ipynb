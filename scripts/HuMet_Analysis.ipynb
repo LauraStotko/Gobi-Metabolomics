{
 "cells": [
  {
   "cell_type": "code",
   "execution_count": 111,
   "id": "6db63fb5-d4f1-47b1-8e55-4c668123b3e1",
   "metadata": {
    "vscode": {
     "languageId": "r"
    }
   },
   "outputs": [],
   "source": [
    "library(data.table)\n",
    "library(dplyr)\n",
    "library(nparLD)\n",
    "library(missForest)\n",
    "library(parallel)\n",
    "library(doParallel)\n",
    "library(Mfuzz)\n",
    "library(Biobase)"
   ]
  },
  {
   "cell_type": "markdown",
   "id": "b25848e5",
   "metadata": {},
   "source": [
    "# HuMet DATASET"
   ]
  },
  {
   "cell_type": "markdown",
   "id": "e6803ace",
   "metadata": {},
   "source": [
    "In this notebook, we analyze a subset of the HuMet dataset, focusing on **plasma** samples across three platforms:\n",
    "\n",
    "- Metabolon HD4 (nt-ms)\n",
    "- Biocrates p150 (t-ms)\n",
    "- In-house biochemistry (chem.)"
   ]
  },
  {
   "cell_type": "markdown",
   "id": "3ee22f17-b4a6-4e38-ba1b-001fadaa2a99",
   "metadata": {},
   "source": [
    "## Loading the Data"
   ]
  },
  {
   "cell_type": "code",
   "execution_count": 112,
   "id": "2afcdd37-4af8-4520-8de9-9a3e40f81c07",
   "metadata": {
    "vscode": {
     "languageId": "r"
    }
   },
   "outputs": [
    {
     "data": {
      "text/html": [
       "<table class=\"dataframe\">\n",
       "<caption>A data.table: 6 x 733</caption>\n",
       "<thead>\n",
       "\t<tr><th scope=col>time</th><th scope=col>subject</th><th scope=col>1-(1-enyl-oleoyl)-GPC (P-18:1) [P, nt-ms]</th><th scope=col>1-(1-enyl-oleoyl)-GPE (P-18:1) [P, nt-ms]</th><th scope=col>1-(1-enyl-palmitoyl)-GPC (P-16:0) [P, nt-ms]</th><th scope=col>1-(1-enyl-palmitoyl)-GPE (P-16:0) [P, nt-ms]</th><th scope=col>1-(1-enyl-stearoyl)-GPC (P-18:0) [P, nt-ms]</th><th scope=col>1-(1-enyl-stearoyl)-GPE (P-18:0) [P, nt-ms]</th><th scope=col>1-adrenoyl-GPC (22:4) [P, nt-ms]</th><th scope=col>1-arachidonoyl-GPC (20:4n6) [P, nt-ms]</th><th scope=col>...</th><th scope=col>SM C24:1 [P, t-ms]</th><th scope=col>SM C26:1 [P, t-ms]</th><th scope=col>threonine [P, t-ms]</th><th scope=col>tryptophan [P, t-ms]</th><th scope=col>tyrosine [P, t-ms]</th><th scope=col>valine [P, t-ms]</th><th scope=col>Glucose [P, chem.]</th><th scope=col>Insulin [P, chem.]</th><th scope=col>Lactate [P, chem.]</th><th scope=col>NEFA [P, chem.]</th></tr>\n",
       "\t<tr><th scope=col>&lt;int&gt;</th><th scope=col>&lt;int&gt;</th><th scope=col>&lt;dbl&gt;</th><th scope=col>&lt;dbl&gt;</th><th scope=col>&lt;dbl&gt;</th><th scope=col>&lt;dbl&gt;</th><th scope=col>&lt;dbl&gt;</th><th scope=col>&lt;dbl&gt;</th><th scope=col>&lt;dbl&gt;</th><th scope=col>&lt;dbl&gt;</th><th scope=col>...</th><th scope=col>&lt;dbl&gt;</th><th scope=col>&lt;dbl&gt;</th><th scope=col>&lt;dbl&gt;</th><th scope=col>&lt;dbl&gt;</th><th scope=col>&lt;dbl&gt;</th><th scope=col>&lt;dbl&gt;</th><th scope=col>&lt;dbl&gt;</th><th scope=col>&lt;dbl&gt;</th><th scope=col>&lt;dbl&gt;</th><th scope=col>&lt;dbl&gt;</th></tr>\n",
       "</thead>\n",
       "<tbody>\n",
       "\t<tr><td>1</td><td>1</td><td>0.4938</td><td>1.0205</td><td>0.8303</td><td>1.0580</td><td>0.9130</td><td>1.0212</td><td>0.5614</td><td>0.5686</td><td>...</td><td>24.0</td><td>0.185</td><td>225.2</td><td> 83.7</td><td>93.2</td><td>426.5</td><td>103.0</td><td>6.85</td><td>8.90</td><td>0.38</td></tr>\n",
       "\t<tr><td>2</td><td>1</td><td>    NA</td><td>0.4827</td><td>0.7422</td><td>0.8171</td><td>0.6513</td><td>1.0613</td><td>0.4811</td><td>0.4346</td><td>...</td><td>25.4</td><td>0.214</td><td>188.0</td><td> 75.5</td><td>69.8</td><td>317.0</td><td> 95.0</td><td>5.42</td><td>7.85</td><td>0.52</td></tr>\n",
       "\t<tr><td>3</td><td>1</td><td>0.5089</td><td>0.7566</td><td>0.7895</td><td>0.8633</td><td>0.8431</td><td>1.0804</td><td>0.5727</td><td>0.5011</td><td>...</td><td>27.8</td><td>0.183</td><td>245.3</td><td> 92.2</td><td>82.9</td><td>436.1</td><td> 87.0</td><td>3.99</td><td>6.80</td><td>0.66</td></tr>\n",
       "\t<tr><td>4</td><td>1</td><td>0.5022</td><td>0.6572</td><td>0.7738</td><td>0.7747</td><td>0.7635</td><td>0.9441</td><td>0.5314</td><td>0.5299</td><td>...</td><td>27.5</td><td>0.255</td><td>160.8</td><td> 70.6</td><td>61.3</td><td>279.5</td><td> 89.8</td><td>4.09</td><td>6.50</td><td>0.58</td></tr>\n",
       "\t<tr><td>5</td><td>1</td><td>0.5717</td><td>0.6865</td><td>0.9145</td><td>0.8733</td><td>0.9987</td><td>1.0984</td><td>0.6610</td><td>0.6097</td><td>...</td><td>28.8</td><td>0.241</td><td>263.4</td><td>101.1</td><td>91.5</td><td>396.7</td><td> 92.7</td><td>4.18</td><td>6.20</td><td>0.50</td></tr>\n",
       "\t<tr><td>6</td><td>1</td><td>0.5622</td><td>0.7593</td><td>0.9676</td><td>0.9409</td><td>1.0000</td><td>1.0538</td><td>0.7443</td><td>0.6149</td><td>...</td><td>28.8</td><td>0.247</td><td>200.0</td><td> 87.7</td><td>80.7</td><td>371.8</td><td> 91.2</td><td>3.88</td><td>6.00</td><td>0.59</td></tr>\n",
       "</tbody>\n",
       "</table>\n"
      ],
      "text/latex": [
       "A data.table: 6 x 733\n",
       "\\begin{tabular}{lllllllllllllllllllll}\n",
       " time & subject & 1-(1-enyl-oleoyl)-GPC (P-18:1) {[}P, nt-ms{]} & 1-(1-enyl-oleoyl)-GPE (P-18:1) {[}P, nt-ms{]} & 1-(1-enyl-palmitoyl)-GPC (P-16:0) {[}P, nt-ms{]} & 1-(1-enyl-palmitoyl)-GPE (P-16:0) {[}P, nt-ms{]} & 1-(1-enyl-stearoyl)-GPC (P-18:0) {[}P, nt-ms{]} & 1-(1-enyl-stearoyl)-GPE (P-18:0) {[}P, nt-ms{]} & 1-adrenoyl-GPC (22:4) {[}P, nt-ms{]} & 1-arachidonoyl-GPC (20:4n6) {[}P, nt-ms{]} & ... & SM C24:1 {[}P, t-ms{]} & SM C26:1 {[}P, t-ms{]} & threonine {[}P, t-ms{]} & tryptophan {[}P, t-ms{]} & tyrosine {[}P, t-ms{]} & valine {[}P, t-ms{]} & Glucose {[}P, chem.{]} & Insulin {[}P, chem.{]} & Lactate {[}P, chem.{]} & NEFA {[}P, chem.{]}\\\\\n",
       " <int> & <int> & <dbl> & <dbl> & <dbl> & <dbl> & <dbl> & <dbl> & <dbl> & <dbl> & ... & <dbl> & <dbl> & <dbl> & <dbl> & <dbl> & <dbl> & <dbl> & <dbl> & <dbl> & <dbl>\\\\\n",
       "\\hline\n",
       "\t 1 & 1 & 0.4938 & 1.0205 & 0.8303 & 1.0580 & 0.9130 & 1.0212 & 0.5614 & 0.5686 & ... & 24.0 & 0.185 & 225.2 &  83.7 & 93.2 & 426.5 & 103.0 & 6.85 & 8.90 & 0.38\\\\\n",
       "\t 2 & 1 &     NA & 0.4827 & 0.7422 & 0.8171 & 0.6513 & 1.0613 & 0.4811 & 0.4346 & ... & 25.4 & 0.214 & 188.0 &  75.5 & 69.8 & 317.0 &  95.0 & 5.42 & 7.85 & 0.52\\\\\n",
       "\t 3 & 1 & 0.5089 & 0.7566 & 0.7895 & 0.8633 & 0.8431 & 1.0804 & 0.5727 & 0.5011 & ... & 27.8 & 0.183 & 245.3 &  92.2 & 82.9 & 436.1 &  87.0 & 3.99 & 6.80 & 0.66\\\\\n",
       "\t 4 & 1 & 0.5022 & 0.6572 & 0.7738 & 0.7747 & 0.7635 & 0.9441 & 0.5314 & 0.5299 & ... & 27.5 & 0.255 & 160.8 &  70.6 & 61.3 & 279.5 &  89.8 & 4.09 & 6.50 & 0.58\\\\\n",
       "\t 5 & 1 & 0.5717 & 0.6865 & 0.9145 & 0.8733 & 0.9987 & 1.0984 & 0.6610 & 0.6097 & ... & 28.8 & 0.241 & 263.4 & 101.1 & 91.5 & 396.7 &  92.7 & 4.18 & 6.20 & 0.50\\\\\n",
       "\t 6 & 1 & 0.5622 & 0.7593 & 0.9676 & 0.9409 & 1.0000 & 1.0538 & 0.7443 & 0.6149 & ... & 28.8 & 0.247 & 200.0 &  87.7 & 80.7 & 371.8 &  91.2 & 3.88 & 6.00 & 0.59\\\\\n",
       "\\end{tabular}\n"
      ],
      "text/markdown": [
       "\n",
       "A data.table: 6 x 733\n",
       "\n",
       "| time &lt;int&gt; | subject &lt;int&gt; | 1-(1-enyl-oleoyl)-GPC (P-18:1) [P, nt-ms] &lt;dbl&gt; | 1-(1-enyl-oleoyl)-GPE (P-18:1) [P, nt-ms] &lt;dbl&gt; | 1-(1-enyl-palmitoyl)-GPC (P-16:0) [P, nt-ms] &lt;dbl&gt; | 1-(1-enyl-palmitoyl)-GPE (P-16:0) [P, nt-ms] &lt;dbl&gt; | 1-(1-enyl-stearoyl)-GPC (P-18:0) [P, nt-ms] &lt;dbl&gt; | 1-(1-enyl-stearoyl)-GPE (P-18:0) [P, nt-ms] &lt;dbl&gt; | 1-adrenoyl-GPC (22:4) [P, nt-ms] &lt;dbl&gt; | 1-arachidonoyl-GPC (20:4n6) [P, nt-ms] &lt;dbl&gt; | ... ... | SM C24:1 [P, t-ms] &lt;dbl&gt; | SM C26:1 [P, t-ms] &lt;dbl&gt; | threonine [P, t-ms] &lt;dbl&gt; | tryptophan [P, t-ms] &lt;dbl&gt; | tyrosine [P, t-ms] &lt;dbl&gt; | valine [P, t-ms] &lt;dbl&gt; | Glucose [P, chem.] &lt;dbl&gt; | Insulin [P, chem.] &lt;dbl&gt; | Lactate [P, chem.] &lt;dbl&gt; | NEFA [P, chem.] &lt;dbl&gt; |\n",
       "|---|---|---|---|---|---|---|---|---|---|---|---|---|---|---|---|---|---|---|---|---|\n",
       "| 1 | 1 | 0.4938 | 1.0205 | 0.8303 | 1.0580 | 0.9130 | 1.0212 | 0.5614 | 0.5686 | ... | 24.0 | 0.185 | 225.2 |  83.7 | 93.2 | 426.5 | 103.0 | 6.85 | 8.90 | 0.38 |\n",
       "| 2 | 1 |     NA | 0.4827 | 0.7422 | 0.8171 | 0.6513 | 1.0613 | 0.4811 | 0.4346 | ... | 25.4 | 0.214 | 188.0 |  75.5 | 69.8 | 317.0 |  95.0 | 5.42 | 7.85 | 0.52 |\n",
       "| 3 | 1 | 0.5089 | 0.7566 | 0.7895 | 0.8633 | 0.8431 | 1.0804 | 0.5727 | 0.5011 | ... | 27.8 | 0.183 | 245.3 |  92.2 | 82.9 | 436.1 |  87.0 | 3.99 | 6.80 | 0.66 |\n",
       "| 4 | 1 | 0.5022 | 0.6572 | 0.7738 | 0.7747 | 0.7635 | 0.9441 | 0.5314 | 0.5299 | ... | 27.5 | 0.255 | 160.8 |  70.6 | 61.3 | 279.5 |  89.8 | 4.09 | 6.50 | 0.58 |\n",
       "| 5 | 1 | 0.5717 | 0.6865 | 0.9145 | 0.8733 | 0.9987 | 1.0984 | 0.6610 | 0.6097 | ... | 28.8 | 0.241 | 263.4 | 101.1 | 91.5 | 396.7 |  92.7 | 4.18 | 6.20 | 0.50 |\n",
       "| 6 | 1 | 0.5622 | 0.7593 | 0.9676 | 0.9409 | 1.0000 | 1.0538 | 0.7443 | 0.6149 | ... | 28.8 | 0.247 | 200.0 |  87.7 | 80.7 | 371.8 |  91.2 | 3.88 | 6.00 | 0.59 |\n",
       "\n"
      ],
      "text/plain": [
       "  time subject 1-(1-enyl-oleoyl)-GPC (P-18:1) [P, nt-ms]\n",
       "1 1    1       0.4938                                   \n",
       "2 2    1           NA                                   \n",
       "3 3    1       0.5089                                   \n",
       "4 4    1       0.5022                                   \n",
       "5 5    1       0.5717                                   \n",
       "6 6    1       0.5622                                   \n",
       "  1-(1-enyl-oleoyl)-GPE (P-18:1) [P, nt-ms]\n",
       "1 1.0205                                   \n",
       "2 0.4827                                   \n",
       "3 0.7566                                   \n",
       "4 0.6572                                   \n",
       "5 0.6865                                   \n",
       "6 0.7593                                   \n",
       "  1-(1-enyl-palmitoyl)-GPC (P-16:0) [P, nt-ms]\n",
       "1 0.8303                                      \n",
       "2 0.7422                                      \n",
       "3 0.7895                                      \n",
       "4 0.7738                                      \n",
       "5 0.9145                                      \n",
       "6 0.9676                                      \n",
       "  1-(1-enyl-palmitoyl)-GPE (P-16:0) [P, nt-ms]\n",
       "1 1.0580                                      \n",
       "2 0.8171                                      \n",
       "3 0.8633                                      \n",
       "4 0.7747                                      \n",
       "5 0.8733                                      \n",
       "6 0.9409                                      \n",
       "  1-(1-enyl-stearoyl)-GPC (P-18:0) [P, nt-ms]\n",
       "1 0.9130                                     \n",
       "2 0.6513                                     \n",
       "3 0.8431                                     \n",
       "4 0.7635                                     \n",
       "5 0.9987                                     \n",
       "6 1.0000                                     \n",
       "  1-(1-enyl-stearoyl)-GPE (P-18:0) [P, nt-ms] 1-adrenoyl-GPC (22:4) [P, nt-ms]\n",
       "1 1.0212                                      0.5614                          \n",
       "2 1.0613                                      0.4811                          \n",
       "3 1.0804                                      0.5727                          \n",
       "4 0.9441                                      0.5314                          \n",
       "5 1.0984                                      0.6610                          \n",
       "6 1.0538                                      0.7443                          \n",
       "  1-arachidonoyl-GPC (20:4n6) [P, nt-ms] ... SM C24:1 [P, t-ms]\n",
       "1 0.5686                                 ... 24.0              \n",
       "2 0.4346                                 ... 25.4              \n",
       "3 0.5011                                 ... 27.8              \n",
       "4 0.5299                                 ... 27.5              \n",
       "5 0.6097                                 ... 28.8              \n",
       "6 0.6149                                 ... 28.8              \n",
       "  SM C26:1 [P, t-ms] threonine [P, t-ms] tryptophan [P, t-ms]\n",
       "1 0.185              225.2                83.7               \n",
       "2 0.214              188.0                75.5               \n",
       "3 0.183              245.3                92.2               \n",
       "4 0.255              160.8                70.6               \n",
       "5 0.241              263.4               101.1               \n",
       "6 0.247              200.0                87.7               \n",
       "  tyrosine [P, t-ms] valine [P, t-ms] Glucose [P, chem.] Insulin [P, chem.]\n",
       "1 93.2               426.5            103.0              6.85              \n",
       "2 69.8               317.0             95.0              5.42              \n",
       "3 82.9               436.1             87.0              3.99              \n",
       "4 61.3               279.5             89.8              4.09              \n",
       "5 91.5               396.7             92.7              4.18              \n",
       "6 80.7               371.8             91.2              3.88              \n",
       "  Lactate [P, chem.] NEFA [P, chem.]\n",
       "1 8.90               0.38           \n",
       "2 7.85               0.52           \n",
       "3 6.80               0.66           \n",
       "4 6.50               0.58           \n",
       "5 6.20               0.50           \n",
       "6 6.00               0.59           "
      ]
     },
     "metadata": {},
     "output_type": "display_data"
    },
    {
     "data": {
      "text/html": [
       "<table class=\"dataframe\">\n",
       "<caption>A data.table: 6 x 10</caption>\n",
       "<thead>\n",
       "\t<tr><th scope=col>metabolite</th><th scope=col>super_pathway</th><th scope=col>sub_pathway</th><th scope=col>fluid</th><th scope=col>platform_name</th><th scope=col>platform_unit</th><th scope=col>retention_index</th><th scope=col>CAS</th><th scope=col>PubChem</th><th scope=col>ChEBI</th></tr>\n",
       "\t<tr><th scope=col>&lt;chr&gt;</th><th scope=col>&lt;chr&gt;</th><th scope=col>&lt;chr&gt;</th><th scope=col>&lt;chr&gt;</th><th scope=col>&lt;chr&gt;</th><th scope=col>&lt;chr&gt;</th><th scope=col>&lt;dbl&gt;</th><th scope=col>&lt;chr&gt;</th><th scope=col>&lt;chr&gt;</th><th scope=col>&lt;chr&gt;</th></tr>\n",
       "</thead>\n",
       "<tbody>\n",
       "\t<tr><td>1-(1-enyl-oleoyl)-GPC (P-18:1)*   </td><td>Lipids</td><td>Lysoplasmalogen</td><td>plasma</td><td>Metabolon HD4 [nt-ms]</td><td>normalized counts</td><td>1547</td><td>NA</td><td>        </td><td>CHEBI:136125</td></tr>\n",
       "\t<tr><td>1-(1-enyl-oleoyl)-GPE (P-18:1)*   </td><td>Lipids</td><td>Lysoplasmalogen</td><td>plasma</td><td>Metabolon HD4 [nt-ms]</td><td>normalized counts</td><td>6250</td><td>NA</td><td>        </td><td>CHEBI:133229</td></tr>\n",
       "\t<tr><td>1-(1-enyl-palmitoyl)-GPC (P-16:0)*</td><td>Lipids</td><td>Lysoplasmalogen</td><td>plasma</td><td>Metabolon HD4 [nt-ms]</td><td>normalized counts</td><td>1547</td><td>NA</td><td>        </td><td>CHEBI:73841 </td></tr>\n",
       "\t<tr><td>1-(1-enyl-palmitoyl)-GPE (P-16:0)*</td><td>Lipids</td><td>Lysoplasmalogen</td><td>plasma</td><td>Metabolon HD4 [nt-ms]</td><td>normalized counts</td><td>1558</td><td>NA</td><td>42607469</td><td>CHEBI:138421</td></tr>\n",
       "\t<tr><td>1-(1-enyl-stearoyl)-GPC (P-18:0) *</td><td>Lipids</td><td>Lysoplasmalogen</td><td>plasma</td><td>Metabolon HD4 [nt-ms]</td><td>normalized counts</td><td>1560</td><td>NA</td><td>24779527</td><td>CHEBI:88779 </td></tr>\n",
       "\t<tr><td>1-(1-enyl-stearoyl)-GPE (P-18:0)* </td><td>Lipids</td><td>Lysoplasmalogen</td><td>plasma</td><td>Metabolon HD4 [nt-ms]</td><td>normalized counts</td><td>6500</td><td>NA</td><td>42607470</td><td>CHEBI:87823 </td></tr>\n",
       "</tbody>\n",
       "</table>\n"
      ],
      "text/latex": [
       "A data.table: 6 x 10\n",
       "\\begin{tabular}{llllllllll}\n",
       " metabolite & super\\_pathway & sub\\_pathway & fluid & platform\\_name & platform\\_unit & retention\\_index & CAS & PubChem & ChEBI\\\\\n",
       " <chr> & <chr> & <chr> & <chr> & <chr> & <chr> & <dbl> & <chr> & <chr> & <chr>\\\\\n",
       "\\hline\n",
       "\t 1-(1-enyl-oleoyl)-GPC (P-18:1)*    & Lipids & Lysoplasmalogen & plasma & Metabolon HD4 {[}nt-ms{]} & normalized counts & 1547 & NA &          & CHEBI:136125\\\\\n",
       "\t 1-(1-enyl-oleoyl)-GPE (P-18:1)*    & Lipids & Lysoplasmalogen & plasma & Metabolon HD4 {[}nt-ms{]} & normalized counts & 6250 & NA &          & CHEBI:133229\\\\\n",
       "\t 1-(1-enyl-palmitoyl)-GPC (P-16:0)* & Lipids & Lysoplasmalogen & plasma & Metabolon HD4 {[}nt-ms{]} & normalized counts & 1547 & NA &          & CHEBI:73841 \\\\\n",
       "\t 1-(1-enyl-palmitoyl)-GPE (P-16:0)* & Lipids & Lysoplasmalogen & plasma & Metabolon HD4 {[}nt-ms{]} & normalized counts & 1558 & NA & 42607469 & CHEBI:138421\\\\\n",
       "\t 1-(1-enyl-stearoyl)-GPC (P-18:0) * & Lipids & Lysoplasmalogen & plasma & Metabolon HD4 {[}nt-ms{]} & normalized counts & 1560 & NA & 24779527 & CHEBI:88779 \\\\\n",
       "\t 1-(1-enyl-stearoyl)-GPE (P-18:0)*  & Lipids & Lysoplasmalogen & plasma & Metabolon HD4 {[}nt-ms{]} & normalized counts & 6500 & NA & 42607470 & CHEBI:87823 \\\\\n",
       "\\end{tabular}\n"
      ],
      "text/markdown": [
       "\n",
       "A data.table: 6 x 10\n",
       "\n",
       "| metabolite &lt;chr&gt; | super_pathway &lt;chr&gt; | sub_pathway &lt;chr&gt; | fluid &lt;chr&gt; | platform_name &lt;chr&gt; | platform_unit &lt;chr&gt; | retention_index &lt;dbl&gt; | CAS &lt;chr&gt; | PubChem &lt;chr&gt; | ChEBI &lt;chr&gt; |\n",
       "|---|---|---|---|---|---|---|---|---|---|\n",
       "| 1-(1-enyl-oleoyl)-GPC (P-18:1)*    | Lipids | Lysoplasmalogen | plasma | Metabolon HD4 [nt-ms] | normalized counts | 1547 | NA | <!----> | CHEBI:136125 |\n",
       "| 1-(1-enyl-oleoyl)-GPE (P-18:1)*    | Lipids | Lysoplasmalogen | plasma | Metabolon HD4 [nt-ms] | normalized counts | 6250 | NA | <!----> | CHEBI:133229 |\n",
       "| 1-(1-enyl-palmitoyl)-GPC (P-16:0)* | Lipids | Lysoplasmalogen | plasma | Metabolon HD4 [nt-ms] | normalized counts | 1547 | NA | <!----> | CHEBI:73841  |\n",
       "| 1-(1-enyl-palmitoyl)-GPE (P-16:0)* | Lipids | Lysoplasmalogen | plasma | Metabolon HD4 [nt-ms] | normalized counts | 1558 | NA | 42607469 | CHEBI:138421 |\n",
       "| 1-(1-enyl-stearoyl)-GPC (P-18:0) * | Lipids | Lysoplasmalogen | plasma | Metabolon HD4 [nt-ms] | normalized counts | 1560 | NA | 24779527 | CHEBI:88779  |\n",
       "| 1-(1-enyl-stearoyl)-GPE (P-18:0)*  | Lipids | Lysoplasmalogen | plasma | Metabolon HD4 [nt-ms] | normalized counts | 6500 | NA | 42607470 | CHEBI:87823  |\n",
       "\n"
      ],
      "text/plain": [
       "  metabolite                         super_pathway sub_pathway     fluid \n",
       "1 1-(1-enyl-oleoyl)-GPC (P-18:1)*    Lipids        Lysoplasmalogen plasma\n",
       "2 1-(1-enyl-oleoyl)-GPE (P-18:1)*    Lipids        Lysoplasmalogen plasma\n",
       "3 1-(1-enyl-palmitoyl)-GPC (P-16:0)* Lipids        Lysoplasmalogen plasma\n",
       "4 1-(1-enyl-palmitoyl)-GPE (P-16:0)* Lipids        Lysoplasmalogen plasma\n",
       "5 1-(1-enyl-stearoyl)-GPC (P-18:0) * Lipids        Lysoplasmalogen plasma\n",
       "6 1-(1-enyl-stearoyl)-GPE (P-18:0)*  Lipids        Lysoplasmalogen plasma\n",
       "  platform_name         platform_unit     retention_index CAS PubChem \n",
       "1 Metabolon HD4 [nt-ms] normalized counts 1547            NA          \n",
       "2 Metabolon HD4 [nt-ms] normalized counts 6250            NA          \n",
       "3 Metabolon HD4 [nt-ms] normalized counts 1547            NA          \n",
       "4 Metabolon HD4 [nt-ms] normalized counts 1558            NA  42607469\n",
       "5 Metabolon HD4 [nt-ms] normalized counts 1560            NA  24779527\n",
       "6 Metabolon HD4 [nt-ms] normalized counts 6500            NA  42607470\n",
       "  ChEBI       \n",
       "1 CHEBI:136125\n",
       "2 CHEBI:133229\n",
       "3 CHEBI:73841 \n",
       "4 CHEBI:138421\n",
       "5 CHEBI:88779 \n",
       "6 CHEBI:87823 "
      ]
     },
     "metadata": {},
     "output_type": "display_data"
    }
   ],
   "source": [
    "met_data <- fread(\"../input/raw/humet_data_raw_none_subjects15_tp57.csv\", sep = \",\", fill = TRUE)\n",
    "info_data <- fread(\"../input/humet_info.csv\", sep = \",\", fill = TRUE)\n",
    "head(met_data)\n",
    "head(info_data)"
   ]
  },
  {
   "cell_type": "markdown",
   "id": "a5ca85e8-1ead-4f17-b85e-1df33aec7f5e",
   "metadata": {
    "jp-MarkdownHeadingCollapsed": true
   },
   "source": [
    "## Data Analysis"
   ]
  },
  {
   "cell_type": "code",
   "execution_count": null,
   "id": "708c8e34-38e6-40f2-986a-7d5b570259fd",
   "metadata": {
    "vscode": {
     "languageId": "r"
    }
   },
   "outputs": [],
   "source": [
    "# Count metabolite columns\n",
    "num_metabolite_columns <- length(setdiff(names(met_data), c(\"time\", \"subject\")))\n",
    "\n",
    "unique_time_values <- unique(met_data$time)\n",
    "unique_subject_values <- unique(met_data$subject)\n",
    "\n",
    "print(paste(\"Number of metabolites:\", num_metabolite_columns))\n",
    "print(paste(\"Unique time values:\", paste(unique_time_values, collapse = \", \")))\n",
    "print(paste(\"Unique subject values:\", paste(unique_subject_values, collapse = \", \")))"
   ]
  },
  {
   "cell_type": "code",
   "execution_count": null,
   "id": "5520baae-160c-4290-be24-0b1e97107350",
   "metadata": {
    "vscode": {
     "languageId": "r"
    }
   },
   "outputs": [],
   "source": [
    "# Count occurrences of each unique platform\n",
    "platform_counts <- table(info_data$platform_name)\n",
    "print(platform_counts)"
   ]
  },
  {
   "cell_type": "markdown",
   "id": "b2710623-ca0f-4c5f-af26-e065d76755d1",
   "metadata": {},
   "source": [
    "- Targeted: 132\n",
    "- Non-Targeted: 502\n",
    "- Insulin (Hormone): 1"
   ]
  },
  {
   "cell_type": "markdown",
   "id": "c42e2e34-0559-4672-b0c6-823a71648953",
   "metadata": {},
   "source": [
    "## Preprocessing"
   ]
  },
  {
   "cell_type": "markdown",
   "id": "37a1920a-c58e-4695-aaa4-ebe5d50679af",
   "metadata": {},
   "source": [
    "## Adding Challenge information"
   ]
  },
  {
   "cell_type": "markdown",
   "id": "66f93f13-fedb-4e27-8ade-ccdb6560fc9c",
   "metadata": {},
   "source": [
    "**Relevant time intervals for our analysis**:\n",
    "\n",
    "Since the original dataset lacked challenge information, we assigned it based on the time column:\n",
    "\n",
    "- **Fasting**: Time points 1–10\n",
    "- **Physical Activity**: Time points 33–39\n",
    "- **Oral Lipid Tolerance Test (OLTT)**: Time points 40–50"
   ]
  },
  {
   "cell_type": "code",
   "execution_count": 113,
   "id": "1617fa67-7550-4f6b-a5c9-05eb9cb04fa8",
   "metadata": {
    "vscode": {
     "languageId": "r"
    }
   },
   "outputs": [
    {
     "data": {
      "text/html": [
       "<table class=\"dataframe\">\n",
       "<caption>A data.table: 6 x 734</caption>\n",
       "<thead>\n",
       "\t<tr><th scope=col>time</th><th scope=col>subject</th><th scope=col>1-(1-enyl-oleoyl)-GPC (P-18:1) [P, nt-ms]</th><th scope=col>1-(1-enyl-oleoyl)-GPE (P-18:1) [P, nt-ms]</th><th scope=col>1-(1-enyl-palmitoyl)-GPC (P-16:0) [P, nt-ms]</th><th scope=col>1-(1-enyl-palmitoyl)-GPE (P-16:0) [P, nt-ms]</th><th scope=col>1-(1-enyl-stearoyl)-GPC (P-18:0) [P, nt-ms]</th><th scope=col>1-(1-enyl-stearoyl)-GPE (P-18:0) [P, nt-ms]</th><th scope=col>1-adrenoyl-GPC (22:4) [P, nt-ms]</th><th scope=col>1-arachidonoyl-GPC (20:4n6) [P, nt-ms]</th><th scope=col>...</th><th scope=col>SM C26:1 [P, t-ms]</th><th scope=col>threonine [P, t-ms]</th><th scope=col>tryptophan [P, t-ms]</th><th scope=col>tyrosine [P, t-ms]</th><th scope=col>valine [P, t-ms]</th><th scope=col>Glucose [P, chem.]</th><th scope=col>Insulin [P, chem.]</th><th scope=col>Lactate [P, chem.]</th><th scope=col>NEFA [P, chem.]</th><th scope=col>challenge</th></tr>\n",
       "\t<tr><th scope=col>&lt;int&gt;</th><th scope=col>&lt;int&gt;</th><th scope=col>&lt;dbl&gt;</th><th scope=col>&lt;dbl&gt;</th><th scope=col>&lt;dbl&gt;</th><th scope=col>&lt;dbl&gt;</th><th scope=col>&lt;dbl&gt;</th><th scope=col>&lt;dbl&gt;</th><th scope=col>&lt;dbl&gt;</th><th scope=col>&lt;dbl&gt;</th><th scope=col>...</th><th scope=col>&lt;dbl&gt;</th><th scope=col>&lt;dbl&gt;</th><th scope=col>&lt;dbl&gt;</th><th scope=col>&lt;dbl&gt;</th><th scope=col>&lt;dbl&gt;</th><th scope=col>&lt;dbl&gt;</th><th scope=col>&lt;dbl&gt;</th><th scope=col>&lt;dbl&gt;</th><th scope=col>&lt;dbl&gt;</th><th scope=col>&lt;chr&gt;</th></tr>\n",
       "</thead>\n",
       "<tbody>\n",
       "\t<tr><td>1</td><td>1</td><td>0.4938</td><td>1.0205</td><td>0.8303</td><td>1.0580</td><td>0.9130</td><td>1.0212</td><td>0.5614</td><td>0.5686</td><td>...</td><td>0.185</td><td>225.2</td><td> 83.7</td><td>93.2</td><td>426.5</td><td>103.0</td><td>6.85</td><td>8.90</td><td>0.38</td><td>Fasting</td></tr>\n",
       "\t<tr><td>2</td><td>1</td><td>    NA</td><td>0.4827</td><td>0.7422</td><td>0.8171</td><td>0.6513</td><td>1.0613</td><td>0.4811</td><td>0.4346</td><td>...</td><td>0.214</td><td>188.0</td><td> 75.5</td><td>69.8</td><td>317.0</td><td> 95.0</td><td>5.42</td><td>7.85</td><td>0.52</td><td>Fasting</td></tr>\n",
       "\t<tr><td>3</td><td>1</td><td>0.5089</td><td>0.7566</td><td>0.7895</td><td>0.8633</td><td>0.8431</td><td>1.0804</td><td>0.5727</td><td>0.5011</td><td>...</td><td>0.183</td><td>245.3</td><td> 92.2</td><td>82.9</td><td>436.1</td><td> 87.0</td><td>3.99</td><td>6.80</td><td>0.66</td><td>Fasting</td></tr>\n",
       "\t<tr><td>4</td><td>1</td><td>0.5022</td><td>0.6572</td><td>0.7738</td><td>0.7747</td><td>0.7635</td><td>0.9441</td><td>0.5314</td><td>0.5299</td><td>...</td><td>0.255</td><td>160.8</td><td> 70.6</td><td>61.3</td><td>279.5</td><td> 89.8</td><td>4.09</td><td>6.50</td><td>0.58</td><td>Fasting</td></tr>\n",
       "\t<tr><td>5</td><td>1</td><td>0.5717</td><td>0.6865</td><td>0.9145</td><td>0.8733</td><td>0.9987</td><td>1.0984</td><td>0.6610</td><td>0.6097</td><td>...</td><td>0.241</td><td>263.4</td><td>101.1</td><td>91.5</td><td>396.7</td><td> 92.7</td><td>4.18</td><td>6.20</td><td>0.50</td><td>Fasting</td></tr>\n",
       "\t<tr><td>6</td><td>1</td><td>0.5622</td><td>0.7593</td><td>0.9676</td><td>0.9409</td><td>1.0000</td><td>1.0538</td><td>0.7443</td><td>0.6149</td><td>...</td><td>0.247</td><td>200.0</td><td> 87.7</td><td>80.7</td><td>371.8</td><td> 91.2</td><td>3.88</td><td>6.00</td><td>0.59</td><td>Fasting</td></tr>\n",
       "</tbody>\n",
       "</table>\n"
      ],
      "text/latex": [
       "A data.table: 6 x 734\n",
       "\\begin{tabular}{lllllllllllllllllllll}\n",
       " time & subject & 1-(1-enyl-oleoyl)-GPC (P-18:1) {[}P, nt-ms{]} & 1-(1-enyl-oleoyl)-GPE (P-18:1) {[}P, nt-ms{]} & 1-(1-enyl-palmitoyl)-GPC (P-16:0) {[}P, nt-ms{]} & 1-(1-enyl-palmitoyl)-GPE (P-16:0) {[}P, nt-ms{]} & 1-(1-enyl-stearoyl)-GPC (P-18:0) {[}P, nt-ms{]} & 1-(1-enyl-stearoyl)-GPE (P-18:0) {[}P, nt-ms{]} & 1-adrenoyl-GPC (22:4) {[}P, nt-ms{]} & 1-arachidonoyl-GPC (20:4n6) {[}P, nt-ms{]} & ... & SM C26:1 {[}P, t-ms{]} & threonine {[}P, t-ms{]} & tryptophan {[}P, t-ms{]} & tyrosine {[}P, t-ms{]} & valine {[}P, t-ms{]} & Glucose {[}P, chem.{]} & Insulin {[}P, chem.{]} & Lactate {[}P, chem.{]} & NEFA {[}P, chem.{]} & challenge\\\\\n",
       " <int> & <int> & <dbl> & <dbl> & <dbl> & <dbl> & <dbl> & <dbl> & <dbl> & <dbl> & ... & <dbl> & <dbl> & <dbl> & <dbl> & <dbl> & <dbl> & <dbl> & <dbl> & <dbl> & <chr>\\\\\n",
       "\\hline\n",
       "\t 1 & 1 & 0.4938 & 1.0205 & 0.8303 & 1.0580 & 0.9130 & 1.0212 & 0.5614 & 0.5686 & ... & 0.185 & 225.2 &  83.7 & 93.2 & 426.5 & 103.0 & 6.85 & 8.90 & 0.38 & Fasting\\\\\n",
       "\t 2 & 1 &     NA & 0.4827 & 0.7422 & 0.8171 & 0.6513 & 1.0613 & 0.4811 & 0.4346 & ... & 0.214 & 188.0 &  75.5 & 69.8 & 317.0 &  95.0 & 5.42 & 7.85 & 0.52 & Fasting\\\\\n",
       "\t 3 & 1 & 0.5089 & 0.7566 & 0.7895 & 0.8633 & 0.8431 & 1.0804 & 0.5727 & 0.5011 & ... & 0.183 & 245.3 &  92.2 & 82.9 & 436.1 &  87.0 & 3.99 & 6.80 & 0.66 & Fasting\\\\\n",
       "\t 4 & 1 & 0.5022 & 0.6572 & 0.7738 & 0.7747 & 0.7635 & 0.9441 & 0.5314 & 0.5299 & ... & 0.255 & 160.8 &  70.6 & 61.3 & 279.5 &  89.8 & 4.09 & 6.50 & 0.58 & Fasting\\\\\n",
       "\t 5 & 1 & 0.5717 & 0.6865 & 0.9145 & 0.8733 & 0.9987 & 1.0984 & 0.6610 & 0.6097 & ... & 0.241 & 263.4 & 101.1 & 91.5 & 396.7 &  92.7 & 4.18 & 6.20 & 0.50 & Fasting\\\\\n",
       "\t 6 & 1 & 0.5622 & 0.7593 & 0.9676 & 0.9409 & 1.0000 & 1.0538 & 0.7443 & 0.6149 & ... & 0.247 & 200.0 &  87.7 & 80.7 & 371.8 &  91.2 & 3.88 & 6.00 & 0.59 & Fasting\\\\\n",
       "\\end{tabular}\n"
      ],
      "text/markdown": [
       "\n",
       "A data.table: 6 x 734\n",
       "\n",
       "| time &lt;int&gt; | subject &lt;int&gt; | 1-(1-enyl-oleoyl)-GPC (P-18:1) [P, nt-ms] &lt;dbl&gt; | 1-(1-enyl-oleoyl)-GPE (P-18:1) [P, nt-ms] &lt;dbl&gt; | 1-(1-enyl-palmitoyl)-GPC (P-16:0) [P, nt-ms] &lt;dbl&gt; | 1-(1-enyl-palmitoyl)-GPE (P-16:0) [P, nt-ms] &lt;dbl&gt; | 1-(1-enyl-stearoyl)-GPC (P-18:0) [P, nt-ms] &lt;dbl&gt; | 1-(1-enyl-stearoyl)-GPE (P-18:0) [P, nt-ms] &lt;dbl&gt; | 1-adrenoyl-GPC (22:4) [P, nt-ms] &lt;dbl&gt; | 1-arachidonoyl-GPC (20:4n6) [P, nt-ms] &lt;dbl&gt; | ... ... | SM C26:1 [P, t-ms] &lt;dbl&gt; | threonine [P, t-ms] &lt;dbl&gt; | tryptophan [P, t-ms] &lt;dbl&gt; | tyrosine [P, t-ms] &lt;dbl&gt; | valine [P, t-ms] &lt;dbl&gt; | Glucose [P, chem.] &lt;dbl&gt; | Insulin [P, chem.] &lt;dbl&gt; | Lactate [P, chem.] &lt;dbl&gt; | NEFA [P, chem.] &lt;dbl&gt; | challenge &lt;chr&gt; |\n",
       "|---|---|---|---|---|---|---|---|---|---|---|---|---|---|---|---|---|---|---|---|---|\n",
       "| 1 | 1 | 0.4938 | 1.0205 | 0.8303 | 1.0580 | 0.9130 | 1.0212 | 0.5614 | 0.5686 | ... | 0.185 | 225.2 |  83.7 | 93.2 | 426.5 | 103.0 | 6.85 | 8.90 | 0.38 | Fasting |\n",
       "| 2 | 1 |     NA | 0.4827 | 0.7422 | 0.8171 | 0.6513 | 1.0613 | 0.4811 | 0.4346 | ... | 0.214 | 188.0 |  75.5 | 69.8 | 317.0 |  95.0 | 5.42 | 7.85 | 0.52 | Fasting |\n",
       "| 3 | 1 | 0.5089 | 0.7566 | 0.7895 | 0.8633 | 0.8431 | 1.0804 | 0.5727 | 0.5011 | ... | 0.183 | 245.3 |  92.2 | 82.9 | 436.1 |  87.0 | 3.99 | 6.80 | 0.66 | Fasting |\n",
       "| 4 | 1 | 0.5022 | 0.6572 | 0.7738 | 0.7747 | 0.7635 | 0.9441 | 0.5314 | 0.5299 | ... | 0.255 | 160.8 |  70.6 | 61.3 | 279.5 |  89.8 | 4.09 | 6.50 | 0.58 | Fasting |\n",
       "| 5 | 1 | 0.5717 | 0.6865 | 0.9145 | 0.8733 | 0.9987 | 1.0984 | 0.6610 | 0.6097 | ... | 0.241 | 263.4 | 101.1 | 91.5 | 396.7 |  92.7 | 4.18 | 6.20 | 0.50 | Fasting |\n",
       "| 6 | 1 | 0.5622 | 0.7593 | 0.9676 | 0.9409 | 1.0000 | 1.0538 | 0.7443 | 0.6149 | ... | 0.247 | 200.0 |  87.7 | 80.7 | 371.8 |  91.2 | 3.88 | 6.00 | 0.59 | Fasting |\n",
       "\n"
      ],
      "text/plain": [
       "  time subject 1-(1-enyl-oleoyl)-GPC (P-18:1) [P, nt-ms]\n",
       "1 1    1       0.4938                                   \n",
       "2 2    1           NA                                   \n",
       "3 3    1       0.5089                                   \n",
       "4 4    1       0.5022                                   \n",
       "5 5    1       0.5717                                   \n",
       "6 6    1       0.5622                                   \n",
       "  1-(1-enyl-oleoyl)-GPE (P-18:1) [P, nt-ms]\n",
       "1 1.0205                                   \n",
       "2 0.4827                                   \n",
       "3 0.7566                                   \n",
       "4 0.6572                                   \n",
       "5 0.6865                                   \n",
       "6 0.7593                                   \n",
       "  1-(1-enyl-palmitoyl)-GPC (P-16:0) [P, nt-ms]\n",
       "1 0.8303                                      \n",
       "2 0.7422                                      \n",
       "3 0.7895                                      \n",
       "4 0.7738                                      \n",
       "5 0.9145                                      \n",
       "6 0.9676                                      \n",
       "  1-(1-enyl-palmitoyl)-GPE (P-16:0) [P, nt-ms]\n",
       "1 1.0580                                      \n",
       "2 0.8171                                      \n",
       "3 0.8633                                      \n",
       "4 0.7747                                      \n",
       "5 0.8733                                      \n",
       "6 0.9409                                      \n",
       "  1-(1-enyl-stearoyl)-GPC (P-18:0) [P, nt-ms]\n",
       "1 0.9130                                     \n",
       "2 0.6513                                     \n",
       "3 0.8431                                     \n",
       "4 0.7635                                     \n",
       "5 0.9987                                     \n",
       "6 1.0000                                     \n",
       "  1-(1-enyl-stearoyl)-GPE (P-18:0) [P, nt-ms] 1-adrenoyl-GPC (22:4) [P, nt-ms]\n",
       "1 1.0212                                      0.5614                          \n",
       "2 1.0613                                      0.4811                          \n",
       "3 1.0804                                      0.5727                          \n",
       "4 0.9441                                      0.5314                          \n",
       "5 1.0984                                      0.6610                          \n",
       "6 1.0538                                      0.7443                          \n",
       "  1-arachidonoyl-GPC (20:4n6) [P, nt-ms] ... SM C26:1 [P, t-ms]\n",
       "1 0.5686                                 ... 0.185             \n",
       "2 0.4346                                 ... 0.214             \n",
       "3 0.5011                                 ... 0.183             \n",
       "4 0.5299                                 ... 0.255             \n",
       "5 0.6097                                 ... 0.241             \n",
       "6 0.6149                                 ... 0.247             \n",
       "  threonine [P, t-ms] tryptophan [P, t-ms] tyrosine [P, t-ms] valine [P, t-ms]\n",
       "1 225.2                83.7                93.2               426.5           \n",
       "2 188.0                75.5                69.8               317.0           \n",
       "3 245.3                92.2                82.9               436.1           \n",
       "4 160.8                70.6                61.3               279.5           \n",
       "5 263.4               101.1                91.5               396.7           \n",
       "6 200.0                87.7                80.7               371.8           \n",
       "  Glucose [P, chem.] Insulin [P, chem.] Lactate [P, chem.] NEFA [P, chem.]\n",
       "1 103.0              6.85               8.90               0.38           \n",
       "2  95.0              5.42               7.85               0.52           \n",
       "3  87.0              3.99               6.80               0.66           \n",
       "4  89.8              4.09               6.50               0.58           \n",
       "5  92.7              4.18               6.20               0.50           \n",
       "6  91.2              3.88               6.00               0.59           \n",
       "  challenge\n",
       "1 Fasting  \n",
       "2 Fasting  \n",
       "3 Fasting  \n",
       "4 Fasting  \n",
       "5 Fasting  \n",
       "6 Fasting  "
      ]
     },
     "metadata": {},
     "output_type": "display_data"
    }
   ],
   "source": [
    "# Create a dataset with all time intervals\n",
    "met_data <- met_data %>%\n",
    "  mutate(challenge = case_when(\n",
    "    time >= 1 & time <= 10 ~ \"Fasting\",\n",
    "    time >= 33 & time <= 39 ~ \"Physical Activity\",\n",
    "    time >= 40 & time <= 50 ~ \"OLTT\", # crosscheck what happens if OLTT ends at 48\n",
    "    TRUE ~ \"Other\"  # Keep \"Other\" instead of filtering out\n",
    "  ))\n",
    "\n",
    "# Display first rows of both datasets\n",
    "#tail(met_data_all)\n",
    "head(met_data)"
   ]
  },
  {
   "cell_type": "markdown",
   "id": "6faf0668-416f-4f7f-bbc6-5c1241798a44",
   "metadata": {},
   "source": [
    "## Removing Metabolites with > 30% missing values"
   ]
  },
  {
   "cell_type": "code",
   "execution_count": 114,
   "id": "385d2b97-37ca-4c2e-b79a-535f171f52b1",
   "metadata": {
    "vscode": {
     "languageId": "r"
    }
   },
   "outputs": [],
   "source": [
    "remove_high_na_metabolites <- function(met_data, threshold = 0.3, output_file = \"removed_metabolites.txt\") {\n",
    "  # Identify metabolite columns (excluding time, subject, and challenge)\n",
    "  metabolite_columns <- setdiff(colnames(met_data), c(\"time\", \"subject\", \"challenge\"))\n",
    "  \n",
    "  # Calculate the percentage of missing values for each metabolite\n",
    "  na_percentage <- colMeans(is.na(met_data[, ..metabolite_columns]))\n",
    "\n",
    "  # Find metabolites with more than `threshold` missing values\n",
    "  high_na_metabolites <- names(na_percentage[na_percentage > threshold])\n",
    "\n",
    "  # Write the removed metabolite names to a text file\n",
    "  if (length(high_na_metabolites) > 0) {\n",
    "    writeLines(high_na_metabolites, output_file)\n",
    "  }\n",
    "\n",
    "  # Remove these metabolites from met_data\n",
    "  filtered_met_data <- met_data[, !high_na_metabolites, with = FALSE]\n",
    "\n",
    "  return(filtered_met_data)\n",
    "}\n",
    "\n",
    "# Apply function to clean met_data\n",
    "met_data <- remove_high_na_metabolites(met_data)"
   ]
  },
  {
   "cell_type": "markdown",
   "id": "c9a9da23",
   "metadata": {},
   "source": [
    "#### Leaving Only Relevant Time Points"
   ]
  },
  {
   "cell_type": "code",
   "execution_count": 115,
   "id": "5f6fb512",
   "metadata": {
    "vscode": {
     "languageId": "r"
    }
   },
   "outputs": [],
   "source": [
    "# Create a dataset with only relevant time intervals\n",
    "met_data <- met_data %>%\n",
    "  filter(challenge != \"Other\")"
   ]
  },
  {
   "cell_type": "markdown",
   "id": "082e8d5e-732e-4fce-a280-c1414acee93d",
   "metadata": {},
   "source": [
    "## Splitting the dataset based on platform"
   ]
  },
  {
   "cell_type": "code",
   "execution_count": 116,
   "id": "0c85ceb8-0f79-43a0-a71c-958749b4835c",
   "metadata": {
    "vscode": {
     "languageId": "r"
    }
   },
   "outputs": [],
   "source": [
    "# Identify metabolite columns (excluding time, subject, and challenge)\n",
    "metabolite_columns <- setdiff(colnames(met_data), c(\"time\", \"subject\", \"challenge\"))\n",
    "\n",
    "# Define platform patterns for Metabolon and Biocrates\n",
    "platforms <- list(\n",
    "  metabolon = \"\\\\[P, nt-ms\\\\]\",\n",
    "  biocrates = \"\\\\[P, t-ms\\\\]\"\n",
    ")\n",
    "\n",
    "# Function to filter metabolites based on platform\n",
    "filter_metabolites <- function(pattern) {\n",
    "  selected_cols <- c(\"time\", \"subject\", \"challenge\", metabolite_columns[grepl(pattern, metabolite_columns)])\n",
    "  met_data[, ..selected_cols]\n",
    "}\n",
    "\n",
    "# Function to filter metabolites NOT belonging to Metabolon or Biocrates (i.e., Inhouse)\n",
    "filter_inhouse_metabolites <- function() {\n",
    "  excluded_cols <- unique(unlist(lapply(platforms, function(p) metabolite_columns[grepl(p, metabolite_columns)])))\n",
    "  selected_cols <- c(\"time\", \"subject\", \"challenge\", setdiff(metabolite_columns, excluded_cols))\n",
    "  met_data[, ..selected_cols]\n",
    "}\n",
    "\n",
    "# Create datasets\n",
    "met_data_metabolon <- filter_metabolites(platforms$metabolon)\n",
    "met_data_biocrates <- filter_metabolites(platforms$biocrates)\n",
    "met_data_inhouse <- filter_inhouse_metabolites()  # Everything else\n"
   ]
  },
  {
   "cell_type": "markdown",
   "id": "8b372f64-94ab-4cef-84d2-acd9d0931b1d",
   "metadata": {},
   "source": [
    "## Handle Missing Values - missForest"
   ]
  },
  {
   "cell_type": "code",
   "execution_count": null,
   "id": "b820b76b-9996-4b5f-aec8-2402eb81727d",
   "metadata": {
    "jupyter": {
     "source_hidden": true
    },
    "vscode": {
     "languageId": "r"
    }
   },
   "outputs": [],
   "source": [
    "# Count missing values in each dataset\n",
    "sum(is.na(data_fasting))\n",
    "sum(is.na(data_exercise))\n",
    "sum(is.na(data_oltt))"
   ]
  },
  {
   "cell_type": "code",
   "execution_count": 117,
   "id": "458ad7a1-9508-4cd6-a521-99ddde5ec23f",
   "metadata": {
    "vscode": {
     "languageId": "r"
    }
   },
   "outputs": [
    {
     "name": "stdout",
     "output_type": "stream",
     "text": [
      "  parallelizing over the variables of the input data matrix 'xmis'\n",
      "  missForest iteration 1 in progress...done!\n",
      "    estimated error(s): 0.6648431 0 \n",
      "    difference(s): 0.00363823 0 \n",
      "    time: 16.418 seconds\n",
      "\n",
      "  missForest iteration 2 in progress...done!\n",
      "    estimated error(s): 0.6872388 0 \n",
      "    difference(s): 0.002561098 0 \n",
      "    time: 16.172 seconds\n",
      "\n",
      "  missForest iteration 3 in progress...done!\n",
      "    estimated error(s): 0.6856945 0 \n",
      "    difference(s): 0.002923526 0 \n",
      "    time: 15.492 seconds\n",
      "\n",
      "  parallelizing over the variables of the input data matrix 'xmis'\n",
      "  missForest iteration 1 in progress...done!\n",
      "    estimated error(s): 0.1267831 0 \n",
      "    difference(s): 5.811953e-06 0 \n",
      "    time: 1.947 seconds\n",
      "\n",
      "  missForest iteration 2 in progress...done!\n",
      "    estimated error(s): 0.1186948 0 \n",
      "    difference(s): 1.483467e-05 0 \n",
      "    time: 1.886 seconds\n",
      "\n",
      "  parallelizing over the variables of the input data matrix 'xmis'\n",
      "  missForest iteration 1 in progress...done!\n",
      "    estimated error(s): 0 0 \n",
      "    difference(s): 0 0 \n",
      "    time: 0.002 seconds\n",
      "\n",
      "  missForest iteration 2 in progress...done!\n",
      "    estimated error(s): 0 0 \n",
      "    difference(s): 0 0 \n",
      "    time: 0.001 seconds\n",
      "\n"
     ]
    }
   ],
   "source": [
    "# Function to convert categorical variables to factors\n",
    "convert_to_factors <- function(data) {\n",
    "  data %>%\n",
    "    mutate(\n",
    "      challenge = as.factor(challenge),\n",
    "      time = as.factor(time),\n",
    "      subject = as.factor(subject)\n",
    "    ) %>%\n",
    "    mutate(across(where(is.character), as.factor))\n",
    "}\n",
    "\n",
    "# Function for missForest imputation with adaptive parallelization\n",
    "perform_missForest <- function(data_subset, ntree_val = 10) {\n",
    "  num_vars <- ncol(data_subset)  # Get the number of variables\n",
    "  \n",
    "  # Adjust cores to be at most the number of variables\n",
    "  num_cores <- min(detectCores() - 1, num_vars)\n",
    "  \n",
    "  # If parallelization is still invalid, set it to 'no'\n",
    "  parallel_option <- if (num_cores > 1) \"variables\" else \"no\"\n",
    "  \n",
    "  cl <- makeCluster(num_cores, type = \"FORK\") \n",
    "  registerDoParallel(cl)\n",
    "  \n",
    "  set.seed(42)  # Ensures reproducibility\n",
    "  imputed_data <- missForest(data_subset, ntree = ntree_val, parallelize = parallel_option, verbose = TRUE)\n",
    "  \n",
    "  stopCluster(cl)  # Stop cluster\n",
    "  \n",
    "  return(imputed_data$ximp)  # Extract imputed dataset\n",
    "}\n",
    "\n",
    "# Wrapper function to process and impute metabolite datasets\n",
    "data_pipeline <- function(metabolite_datasets) {\n",
    "  # Convert categorical variables to factors\n",
    "  metabolite_datasets <- lapply(metabolite_datasets, convert_to_factors)\n",
    "  \n",
    "  # Perform imputation with automatic parallelization adjustment\n",
    "  imputed_data <- lapply(metabolite_datasets, perform_missForest, ntree_val = 10) #400\n",
    "  \n",
    "  return(imputed_data)\n",
    "}\n",
    "\n",
    "# List of metabolite datasets\n",
    "metabolite_datasets <- list(\n",
    "  metabolon = met_data_metabolon,\n",
    "  biocrates = met_data_biocrates,\n",
    "  inhouse = met_data_inhouse\n",
    ")\n",
    "\n",
    "# Apply pipeline to each dataset\n",
    "imputed_metabolite_data <- data_pipeline(metabolite_datasets)"
   ]
  },
  {
   "cell_type": "code",
   "execution_count": null,
   "id": "fc54576a",
   "metadata": {
    "vscode": {
     "languageId": "r"
    }
   },
   "outputs": [],
   "source": [
    "imputed_metabolite_data"
   ]
  },
  {
   "cell_type": "code",
   "execution_count": 113,
   "id": "cf6bbba5",
   "metadata": {
    "vscode": {
     "languageId": "r"
    }
   },
   "outputs": [],
   "source": [
    "### AFTER REMOVING OTHER\n",
    "\n",
    "# 50 trees => 0.603862\n",
    "# 68 trees => 0.6200632\n",
    "# 69 trees => 0.594013\n",
    "# 70 trees => 0.5919029\n",
    "# 75 trees => 0.5951333\n",
    "# 76 trees => 0.5837592\n",
    "# 77 trees => 0.5951333\n",
    "# 78 trees => 0.5852654\n",
    "# 80 trees => 0.6201631\n",
    "# 100 trees => 0.5938395\n",
    "# 120 trees => 0.6130575\n",
    "# 400 trees => 0.5863569"
   ]
  },
  {
   "cell_type": "markdown",
   "id": "72379a05",
   "metadata": {},
   "source": [
    "#### Merging platform-separated datasets together "
   ]
  },
  {
   "cell_type": "code",
   "execution_count": 118,
   "id": "b54ccd1a",
   "metadata": {
    "vscode": {
     "languageId": "r"
    }
   },
   "outputs": [
    {
     "data": {
      "text/html": [
       "<table class=\"dataframe\">\n",
       "<caption>A data.table: 6 x 640</caption>\n",
       "<thead>\n",
       "\t<tr><th scope=col>time</th><th scope=col>subject</th><th scope=col>challenge</th><th scope=col>1-(1-enyl-oleoyl)-GPC (P-18:1) [P, nt-ms]</th><th scope=col>1-(1-enyl-oleoyl)-GPE (P-18:1) [P, nt-ms]</th><th scope=col>1-(1-enyl-palmitoyl)-GPC (P-16:0) [P, nt-ms]</th><th scope=col>1-(1-enyl-palmitoyl)-GPE (P-16:0) [P, nt-ms]</th><th scope=col>1-(1-enyl-stearoyl)-GPC (P-18:0) [P, nt-ms]</th><th scope=col>1-(1-enyl-stearoyl)-GPE (P-18:0) [P, nt-ms]</th><th scope=col>1-adrenoyl-GPC (22:4) [P, nt-ms]</th><th scope=col>...</th><th scope=col>SM C24:0 [P, t-ms]</th><th scope=col>SM C24:1 [P, t-ms]</th><th scope=col>SM C26:1 [P, t-ms]</th><th scope=col>threonine [P, t-ms]</th><th scope=col>tryptophan [P, t-ms]</th><th scope=col>tyrosine [P, t-ms]</th><th scope=col>valine [P, t-ms]</th><th scope=col>Glucose [P, chem.]</th><th scope=col>Insulin [P, chem.]</th><th scope=col>Lactate [P, chem.]</th></tr>\n",
       "\t<tr><th scope=col>&lt;fct&gt;</th><th scope=col>&lt;fct&gt;</th><th scope=col>&lt;fct&gt;</th><th scope=col>&lt;dbl&gt;</th><th scope=col>&lt;dbl&gt;</th><th scope=col>&lt;dbl&gt;</th><th scope=col>&lt;dbl&gt;</th><th scope=col>&lt;dbl&gt;</th><th scope=col>&lt;dbl&gt;</th><th scope=col>&lt;dbl&gt;</th><th scope=col>...</th><th scope=col>&lt;dbl&gt;</th><th scope=col>&lt;dbl&gt;</th><th scope=col>&lt;dbl&gt;</th><th scope=col>&lt;dbl&gt;</th><th scope=col>&lt;dbl&gt;</th><th scope=col>&lt;dbl&gt;</th><th scope=col>&lt;dbl&gt;</th><th scope=col>&lt;dbl&gt;</th><th scope=col>&lt;dbl&gt;</th><th scope=col>&lt;dbl&gt;</th></tr>\n",
       "</thead>\n",
       "<tbody>\n",
       "\t<tr><td>1</td><td>1</td><td>Fasting</td><td>0.4938</td><td>1.0205</td><td>0.83030</td><td>1.0580</td><td>0.91300</td><td>1.0212</td><td>0.56140</td><td>...</td><td>11.28</td><td>24.0</td><td>0.185</td><td>225.2</td><td>83.7</td><td>93.2</td><td>426.5</td><td>103.0</td><td>6.85</td><td> 8.9</td></tr>\n",
       "\t<tr><td>1</td><td>2</td><td>Fasting</td><td>1.2173</td><td>1.2686</td><td>1.17500</td><td>1.1096</td><td>1.10530</td><td>1.2545</td><td>1.27130</td><td>...</td><td>22.50</td><td>49.2</td><td>0.435</td><td> 82.1</td><td>85.7</td><td>76.4</td><td>229.6</td><td> 89.1</td><td>4.78</td><td> 7.9</td></tr>\n",
       "\t<tr><td>1</td><td>3</td><td>Fasting</td><td>1.1172</td><td>3.0355</td><td>1.43310</td><td>1.7547</td><td>1.66490</td><td>2.5967</td><td>1.06020</td><td>...</td><td>20.69</td><td>47.3</td><td>0.475</td><td> 86.0</td><td>81.5</td><td>62.8</td><td>233.3</td><td> 86.2</td><td>7.31</td><td>10.6</td></tr>\n",
       "\t<tr><td>1</td><td>4</td><td>Fasting</td><td>1.2224</td><td>1.1570</td><td>1.14865</td><td>1.1423</td><td>1.11795</td><td>1.0157</td><td>1.11795</td><td>...</td><td>11.81</td><td>30.6</td><td>0.345</td><td> 66.3</td><td>74.9</td><td>66.5</td><td>232.6</td><td> 79.2</td><td>3.29</td><td> 7.1</td></tr>\n",
       "\t<tr><td>1</td><td>5</td><td>Fasting</td><td>1.3746</td><td>1.2251</td><td>1.37440</td><td>1.4259</td><td>1.49160</td><td>1.0728</td><td>1.32780</td><td>...</td><td>19.91</td><td>46.2</td><td>0.421</td><td> 94.1</td><td>76.2</td><td>61.4</td><td>271.6</td><td> 93.8</td><td>6.06</td><td>11.7</td></tr>\n",
       "\t<tr><td>1</td><td>6</td><td>Fasting</td><td>1.0824</td><td>1.3979</td><td>1.17350</td><td>0.8401</td><td>1.19710</td><td>1.4994</td><td>1.03940</td><td>...</td><td>13.99</td><td>33.8</td><td>0.303</td><td> 89.2</td><td>75.7</td><td>78.8</td><td>248.1</td><td> 85.6</td><td>6.20</td><td> 9.6</td></tr>\n",
       "</tbody>\n",
       "</table>\n"
      ],
      "text/latex": [
       "A data.table: 6 x 640\n",
       "\\begin{tabular}{lllllllllllllllllllll}\n",
       " time & subject & challenge & 1-(1-enyl-oleoyl)-GPC (P-18:1) {[}P, nt-ms{]} & 1-(1-enyl-oleoyl)-GPE (P-18:1) {[}P, nt-ms{]} & 1-(1-enyl-palmitoyl)-GPC (P-16:0) {[}P, nt-ms{]} & 1-(1-enyl-palmitoyl)-GPE (P-16:0) {[}P, nt-ms{]} & 1-(1-enyl-stearoyl)-GPC (P-18:0) {[}P, nt-ms{]} & 1-(1-enyl-stearoyl)-GPE (P-18:0) {[}P, nt-ms{]} & 1-adrenoyl-GPC (22:4) {[}P, nt-ms{]} & ... & SM C24:0 {[}P, t-ms{]} & SM C24:1 {[}P, t-ms{]} & SM C26:1 {[}P, t-ms{]} & threonine {[}P, t-ms{]} & tryptophan {[}P, t-ms{]} & tyrosine {[}P, t-ms{]} & valine {[}P, t-ms{]} & Glucose {[}P, chem.{]} & Insulin {[}P, chem.{]} & Lactate {[}P, chem.{]}\\\\\n",
       " <fct> & <fct> & <fct> & <dbl> & <dbl> & <dbl> & <dbl> & <dbl> & <dbl> & <dbl> & ... & <dbl> & <dbl> & <dbl> & <dbl> & <dbl> & <dbl> & <dbl> & <dbl> & <dbl> & <dbl>\\\\\n",
       "\\hline\n",
       "\t 1 & 1 & Fasting & 0.4938 & 1.0205 & 0.83030 & 1.0580 & 0.91300 & 1.0212 & 0.56140 & ... & 11.28 & 24.0 & 0.185 & 225.2 & 83.7 & 93.2 & 426.5 & 103.0 & 6.85 &  8.9\\\\\n",
       "\t 1 & 2 & Fasting & 1.2173 & 1.2686 & 1.17500 & 1.1096 & 1.10530 & 1.2545 & 1.27130 & ... & 22.50 & 49.2 & 0.435 &  82.1 & 85.7 & 76.4 & 229.6 &  89.1 & 4.78 &  7.9\\\\\n",
       "\t 1 & 3 & Fasting & 1.1172 & 3.0355 & 1.43310 & 1.7547 & 1.66490 & 2.5967 & 1.06020 & ... & 20.69 & 47.3 & 0.475 &  86.0 & 81.5 & 62.8 & 233.3 &  86.2 & 7.31 & 10.6\\\\\n",
       "\t 1 & 4 & Fasting & 1.2224 & 1.1570 & 1.14865 & 1.1423 & 1.11795 & 1.0157 & 1.11795 & ... & 11.81 & 30.6 & 0.345 &  66.3 & 74.9 & 66.5 & 232.6 &  79.2 & 3.29 &  7.1\\\\\n",
       "\t 1 & 5 & Fasting & 1.3746 & 1.2251 & 1.37440 & 1.4259 & 1.49160 & 1.0728 & 1.32780 & ... & 19.91 & 46.2 & 0.421 &  94.1 & 76.2 & 61.4 & 271.6 &  93.8 & 6.06 & 11.7\\\\\n",
       "\t 1 & 6 & Fasting & 1.0824 & 1.3979 & 1.17350 & 0.8401 & 1.19710 & 1.4994 & 1.03940 & ... & 13.99 & 33.8 & 0.303 &  89.2 & 75.7 & 78.8 & 248.1 &  85.6 & 6.20 &  9.6\\\\\n",
       "\\end{tabular}\n"
      ],
      "text/markdown": [
       "\n",
       "A data.table: 6 x 640\n",
       "\n",
       "| time &lt;fct&gt; | subject &lt;fct&gt; | challenge &lt;fct&gt; | 1-(1-enyl-oleoyl)-GPC (P-18:1) [P, nt-ms] &lt;dbl&gt; | 1-(1-enyl-oleoyl)-GPE (P-18:1) [P, nt-ms] &lt;dbl&gt; | 1-(1-enyl-palmitoyl)-GPC (P-16:0) [P, nt-ms] &lt;dbl&gt; | 1-(1-enyl-palmitoyl)-GPE (P-16:0) [P, nt-ms] &lt;dbl&gt; | 1-(1-enyl-stearoyl)-GPC (P-18:0) [P, nt-ms] &lt;dbl&gt; | 1-(1-enyl-stearoyl)-GPE (P-18:0) [P, nt-ms] &lt;dbl&gt; | 1-adrenoyl-GPC (22:4) [P, nt-ms] &lt;dbl&gt; | ... ... | SM C24:0 [P, t-ms] &lt;dbl&gt; | SM C24:1 [P, t-ms] &lt;dbl&gt; | SM C26:1 [P, t-ms] &lt;dbl&gt; | threonine [P, t-ms] &lt;dbl&gt; | tryptophan [P, t-ms] &lt;dbl&gt; | tyrosine [P, t-ms] &lt;dbl&gt; | valine [P, t-ms] &lt;dbl&gt; | Glucose [P, chem.] &lt;dbl&gt; | Insulin [P, chem.] &lt;dbl&gt; | Lactate [P, chem.] &lt;dbl&gt; |\n",
       "|---|---|---|---|---|---|---|---|---|---|---|---|---|---|---|---|---|---|---|---|---|\n",
       "| 1 | 1 | Fasting | 0.4938 | 1.0205 | 0.83030 | 1.0580 | 0.91300 | 1.0212 | 0.56140 | ... | 11.28 | 24.0 | 0.185 | 225.2 | 83.7 | 93.2 | 426.5 | 103.0 | 6.85 |  8.9 |\n",
       "| 1 | 2 | Fasting | 1.2173 | 1.2686 | 1.17500 | 1.1096 | 1.10530 | 1.2545 | 1.27130 | ... | 22.50 | 49.2 | 0.435 |  82.1 | 85.7 | 76.4 | 229.6 |  89.1 | 4.78 |  7.9 |\n",
       "| 1 | 3 | Fasting | 1.1172 | 3.0355 | 1.43310 | 1.7547 | 1.66490 | 2.5967 | 1.06020 | ... | 20.69 | 47.3 | 0.475 |  86.0 | 81.5 | 62.8 | 233.3 |  86.2 | 7.31 | 10.6 |\n",
       "| 1 | 4 | Fasting | 1.2224 | 1.1570 | 1.14865 | 1.1423 | 1.11795 | 1.0157 | 1.11795 | ... | 11.81 | 30.6 | 0.345 |  66.3 | 74.9 | 66.5 | 232.6 |  79.2 | 3.29 |  7.1 |\n",
       "| 1 | 5 | Fasting | 1.3746 | 1.2251 | 1.37440 | 1.4259 | 1.49160 | 1.0728 | 1.32780 | ... | 19.91 | 46.2 | 0.421 |  94.1 | 76.2 | 61.4 | 271.6 |  93.8 | 6.06 | 11.7 |\n",
       "| 1 | 6 | Fasting | 1.0824 | 1.3979 | 1.17350 | 0.8401 | 1.19710 | 1.4994 | 1.03940 | ... | 13.99 | 33.8 | 0.303 |  89.2 | 75.7 | 78.8 | 248.1 |  85.6 | 6.20 |  9.6 |\n",
       "\n"
      ],
      "text/plain": [
       "  time subject challenge 1-(1-enyl-oleoyl)-GPC (P-18:1) [P, nt-ms]\n",
       "1 1    1       Fasting   0.4938                                   \n",
       "2 1    2       Fasting   1.2173                                   \n",
       "3 1    3       Fasting   1.1172                                   \n",
       "4 1    4       Fasting   1.2224                                   \n",
       "5 1    5       Fasting   1.3746                                   \n",
       "6 1    6       Fasting   1.0824                                   \n",
       "  1-(1-enyl-oleoyl)-GPE (P-18:1) [P, nt-ms]\n",
       "1 1.0205                                   \n",
       "2 1.2686                                   \n",
       "3 3.0355                                   \n",
       "4 1.1570                                   \n",
       "5 1.2251                                   \n",
       "6 1.3979                                   \n",
       "  1-(1-enyl-palmitoyl)-GPC (P-16:0) [P, nt-ms]\n",
       "1 0.83030                                     \n",
       "2 1.17500                                     \n",
       "3 1.43310                                     \n",
       "4 1.14865                                     \n",
       "5 1.37440                                     \n",
       "6 1.17350                                     \n",
       "  1-(1-enyl-palmitoyl)-GPE (P-16:0) [P, nt-ms]\n",
       "1 1.0580                                      \n",
       "2 1.1096                                      \n",
       "3 1.7547                                      \n",
       "4 1.1423                                      \n",
       "5 1.4259                                      \n",
       "6 0.8401                                      \n",
       "  1-(1-enyl-stearoyl)-GPC (P-18:0) [P, nt-ms]\n",
       "1 0.91300                                    \n",
       "2 1.10530                                    \n",
       "3 1.66490                                    \n",
       "4 1.11795                                    \n",
       "5 1.49160                                    \n",
       "6 1.19710                                    \n",
       "  1-(1-enyl-stearoyl)-GPE (P-18:0) [P, nt-ms] 1-adrenoyl-GPC (22:4) [P, nt-ms]\n",
       "1 1.0212                                      0.56140                         \n",
       "2 1.2545                                      1.27130                         \n",
       "3 2.5967                                      1.06020                         \n",
       "4 1.0157                                      1.11795                         \n",
       "5 1.0728                                      1.32780                         \n",
       "6 1.4994                                      1.03940                         \n",
       "  ... SM C24:0 [P, t-ms] SM C24:1 [P, t-ms] SM C26:1 [P, t-ms]\n",
       "1 ... 11.28              24.0               0.185             \n",
       "2 ... 22.50              49.2               0.435             \n",
       "3 ... 20.69              47.3               0.475             \n",
       "4 ... 11.81              30.6               0.345             \n",
       "5 ... 19.91              46.2               0.421             \n",
       "6 ... 13.99              33.8               0.303             \n",
       "  threonine [P, t-ms] tryptophan [P, t-ms] tyrosine [P, t-ms] valine [P, t-ms]\n",
       "1 225.2               83.7                 93.2               426.5           \n",
       "2  82.1               85.7                 76.4               229.6           \n",
       "3  86.0               81.5                 62.8               233.3           \n",
       "4  66.3               74.9                 66.5               232.6           \n",
       "5  94.1               76.2                 61.4               271.6           \n",
       "6  89.2               75.7                 78.8               248.1           \n",
       "  Glucose [P, chem.] Insulin [P, chem.] Lactate [P, chem.]\n",
       "1 103.0              6.85                8.9              \n",
       "2  89.1              4.78                7.9              \n",
       "3  86.2              7.31               10.6              \n",
       "4  79.2              3.29                7.1              \n",
       "5  93.8              6.06               11.7              \n",
       "6  85.6              6.20                9.6              "
      ]
     },
     "metadata": {},
     "output_type": "display_data"
    }
   ],
   "source": [
    "# Merge datasets based on time, subject, and challenge\n",
    "combined_data <- Reduce(function(x, y) {\n",
    "  merge(x, y, by = c(\"time\", \"subject\", \"challenge\"), all = TRUE)\n",
    "}, list(imputed_metabolite_data$metabolon, \n",
    "        imputed_metabolite_data$biocrates, \n",
    "        imputed_metabolite_data$inhouse))\n",
    "\n",
    "# Print the first rows of the combined dataset\n",
    "head(combined_data)"
   ]
  },
  {
   "cell_type": "markdown",
   "id": "7cdbed50",
   "metadata": {},
   "source": [
    "## Correlation (FOR LAURA)"
   ]
  },
  {
   "cell_type": "code",
   "execution_count": 119,
   "id": "322ab128",
   "metadata": {
    "vscode": {
     "languageId": "r"
    }
   },
   "outputs": [
    {
     "name": "stdout",
     "output_type": "stream",
     "text": [
      "[1] \"correlatin input saved\"\n"
     ]
    }
   ],
   "source": [
    "fwrite(combined_data, \"../results/correlation_input.csv\")\n",
    "  print(\"correlatin input saved\")"
   ]
  },
  {
   "cell_type": "markdown",
   "id": "14ba1c94-72ed-4a38-bde4-c3196103a9da",
   "metadata": {},
   "source": [
    "## Reformating the Table"
   ]
  },
  {
   "cell_type": "code",
   "execution_count": null,
   "id": "0c6f193b",
   "metadata": {
    "vscode": {
     "languageId": "r"
    }
   },
   "outputs": [],
   "source": [
    "# Function to add platform information and reshape each dataset into long format\n",
    "reshape_long <- function(data) {\n",
    "  # Identify metabolite columns (exclude time, subject, challenge)\n",
    "  metabolite_columns <- setdiff(names(data), c(\"time\", \"subject\", \"challenge\"))\n",
    "  \n",
    "  # Convert all metabolite columns to numeric (preserves NA values)\n",
    "  data[, (metabolite_columns) := lapply(.SD, as.numeric), .SDcols = metabolite_columns]\n",
    "  \n",
    "  # Reshape into long format\n",
    "  long_data <- melt(data,\n",
    "                    id.vars = c(\"time\", \"subject\", \"challenge\"),  # Keep these columns unchanged\n",
    "                    measure.vars = metabolite_columns,  # Only reshape metabolite columns\n",
    "                    variable.name = \"metabolite\",\n",
    "                    value.name = \"response\",\n",
    "                    na.rm = FALSE)  # Keep NA values instead of removing them\n",
    "  \n",
    "  # Add platform name based on the metabolite column name\n",
    "  long_data[, platform_name := case_when(\n",
    "    grepl(\"\\\\[P, t-ms\\\\]\", metabolite) ~ \"Biocrates p150 [t-ms]\",\n",
    "    grepl(\"\\\\[P, nt-ms\\\\]\", metabolite) ~ \"Metabolon HD4 [nt-ms]\",\n",
    "    grepl(\"\\\\[P, chem.\\\\]\", metabolite) ~ \"In-house biochemistry [chem.]\",\n",
    "    TRUE ~ \"Unknown\"  # Default case for anything that doesn't match\n",
    "  )]\n",
    "  \n",
    "  return(long_data)\n",
    "}\n",
    "\n",
    "# Reshape the combined dataset into long format\n",
    "met_data <- reshape_long(combined_data)\n",
    "\n",
    "\n",
    "# Print first rows of the final combined dataset\n",
    "head(met_data)"
   ]
  },
  {
   "cell_type": "markdown",
   "id": "f12c99d8-a30a-4282-883a-72bcb39be841",
   "metadata": {},
   "source": [
    "Clean up the metabolite names"
   ]
  },
  {
   "cell_type": "code",
   "execution_count": null,
   "id": "1b4492a3-8ed6-48e4-aecb-2105f58e4f4f",
   "metadata": {
    "vscode": {
     "languageId": "r"
    }
   },
   "outputs": [],
   "source": [
    "# Clean metabolite names by removing anything inside square brackets and trimming whitespace\n",
    "met_data[, metabolite := gsub(\"\\\\[.*?\\\\]\", \"\", metabolite)]  # Remove text inside brackets\n",
    "met_data[, metabolite := trimws(metabolite)]  # Trim leading/trailing spaces\n",
    "met_data[, metabolite := tolower(metabolite)]  # Convert to lowercase\n",
    "\n",
    "# Print first rows to verify changes\n",
    "head(met_data)\n"
   ]
  },
  {
   "cell_type": "markdown",
   "id": "ba57c35d-86e4-487d-bc43-ea3203689950",
   "metadata": {},
   "source": [
    "Some data is missing from our met_data dataset (e.g. super_pathway and sub_pathway), we need to add it for further analysis. For this we use info_data.\n",
    "\n",
    "Clean up of info_data:"
   ]
  },
  {
   "cell_type": "code",
   "execution_count": null,
   "id": "9bf7d0d9-56f8-4040-a890-ee8a6a9a47a4",
   "metadata": {
    "vscode": {
     "languageId": "r"
    }
   },
   "outputs": [],
   "source": [
    "# Keep only rows where fluid == \"plasma\"\n",
    "info_data <- info_data[fluid == \"plasma\"]\n",
    "\n",
    "# Ensure correct encoding and remove asterisks\n",
    "info_data$metabolite <- gsub(\"[*]\", \"\", info_data$metabolite)  # Remove all asterisks\n",
    "info_data$metabolite <- gsub(\"\\u200B\", \"\", info_data$metabolite)  # Remove zero-width spaces (if present)\n",
    "info_data$metabolite <- gsub(\"[[:space:]]+$\", \"\", info_data$metabolite)  # Trim trailing spaces\n",
    "info_data$metabolite <- trimws(info_data$metabolite)  # Remove any remaining spaces\n",
    "info_data$metabolite <- tolower(info_data$metabolite)  # Convert to lowercase\n",
    "\n",
    "head(info_data)"
   ]
  },
  {
   "cell_type": "markdown",
   "id": "5d8c1190-fc88-47d7-88d1-664be4eafbc0",
   "metadata": {},
   "source": [
    "Merging the data "
   ]
  },
  {
   "cell_type": "code",
   "execution_count": null,
   "id": "b03db27e-7f6c-46d6-88d7-12146f4acc88",
   "metadata": {
    "vscode": {
     "languageId": "r"
    }
   },
   "outputs": [],
   "source": [
    "# Merge met_data with info_data based on metabolite and platform_name\n",
    "met_data <- merge(met_data, \n",
    "                  info_data[, .(metabolite, platform_name, super_pathway, sub_pathway)], \n",
    "                  by = c(\"metabolite\", \"platform_name\"), \n",
    "                  all.x = TRUE)  # Keep all rows in met_data\n",
    "\n",
    "# Print first rows to verify the merge\n",
    "head(met_data)"
   ]
  },
  {
   "cell_type": "markdown",
   "id": "40803dfa",
   "metadata": {},
   "source": [
    "## Hypothesis Testing"
   ]
  },
  {
   "cell_type": "code",
   "execution_count": null,
   "id": "88391e3e",
   "metadata": {
    "vscode": {
     "languageId": "r"
    }
   },
   "outputs": [],
   "source": [
    "# Create a new dataset excluding rows where platform is \"In-house biochemistry [chem.]\"\n",
    "met_data_filtered <- met_data[platform_name != \"In-house biochemistry [chem.]\", ]\n",
    "\n",
    "# Print the first few rows of the new dataset\n",
    "head(met_data_filtered)"
   ]
  },
  {
   "cell_type": "markdown",
   "id": "c6aceeae",
   "metadata": {},
   "source": [
    "For ANOVA & T-TEST we need to only use targeted and non-targeted metabolites, we remove molecules from in Biochemistry, since these are not metabolites (e.g. insulin)"
   ]
  },
  {
   "cell_type": "code",
   "execution_count": null,
   "id": "fb2ff914",
   "metadata": {
    "vscode": {
     "languageId": "r"
    }
   },
   "outputs": [],
   "source": [
    "num_unique_metabolite_platforms <- nrow(unique(met_data_filtered[, .(metabolite, platform_name)]))\n",
    "print(num_unique_metabolite_platforms)"
   ]
  },
  {
   "cell_type": "markdown",
   "id": "ba38260e",
   "metadata": {},
   "source": [
    "## Anova-Test"
   ]
  },
  {
   "cell_type": "code",
   "execution_count": null,
   "id": "5775b653",
   "metadata": {
    "vscode": {
     "languageId": "r"
    }
   },
   "outputs": [],
   "source": [
    "# Define significance threshold after multiple testing correction\n",
    "p_threshold <- 0.05 / 634\n",
    "\n",
    "# Convert challenge_time to a categorical variable\n",
    "met_data_filtered[, time := as.factor(time)]\n",
    "met_data_filtered[, subject := as.factor(subject)]\n",
    "\n",
    "# Subset data by challenge\n",
    "metabolite_data_fasting <- met_data_filtered[challenge == \"Fasting\"]\n",
    "metabolite_data_pat <- met_data_filtered[challenge == \"Physical Activity\"]\n",
    "metabolite_data_oltt <- met_data_filtered[challenge == \"OLTT\"]\n",
    "\n",
    "# Function to run ANOVA-like test while considering metabolite & platform\n",
    "run_anova_like_test <- function(metabolite_data, challenge_name) {\n",
    "    \n",
    "    # Initialize results list\n",
    "    results <- list()\n",
    "\n",
    "    # Loop through unique metabolite-platform combinations\n",
    "    unique_metabolites <- unique(metabolite_data[, .(metabolite, platform_name, super_pathway, sub_pathway)])\n",
    "    \n",
    "    for (i in seq_len(nrow(unique_metabolites))) {\n",
    "        \n",
    "        met <- unique_metabolites$metabolite[i]\n",
    "        plat <- unique_metabolites$platform_name[i]\n",
    "        super_path <- unique_metabolites$super_pathway[i]\n",
    "        sub_path <- unique_metabolites$sub_pathway[i]\n",
    "        \n",
    "        # Subset data for this metabolite and platform\n",
    "        subset_data <- metabolite_data[metabolite == met & platform_name == plat]\n",
    "        \n",
    "        # Ensure sufficient data points for analysis\n",
    "        if (nrow(subset_data) > 2) {\n",
    "            \n",
    "            # Run the ld.f1 test\n",
    "            test_result <- ld.f1(y = subset_data$response, \n",
    "                                 time = subset_data$time, \n",
    "                                 subject = subset_data$subject, \n",
    "                                 description=FALSE)\n",
    "\n",
    "            # Extract p-value for time effect\n",
    "            p_value <- test_result$ANOVA.test$`p-value`\n",
    "            \n",
    "            # Store results\n",
    "            results[[paste(met, plat, sep = \"_\")]] <- data.table(\n",
    "              challenge = challenge_name,\n",
    "              metabolite = met,\n",
    "              platform_name = plat,\n",
    "              super_pathway = super_path,\n",
    "              sub_pathway = sub_path,\n",
    "              p_value = p_value\n",
    "            )\n",
    "        }\n",
    "    }\n",
    "\n",
    "    # Combine results into a data frame\n",
    "    anova_results <- rbindlist(results, fill = TRUE)\n",
    "\n",
    "    # Identify significant time effects\n",
    "    anova_results[, significant := p_value < p_threshold]\n",
    "\n",
    "    return(anova_results)\n",
    "}\n",
    "\n",
    "# Run ANOVA-like test for each challenge\n",
    "anova_results_fasting <- run_anova_like_test(metabolite_data_fasting, \"Fasting\")\n",
    "anova_results_pat <- run_anova_like_test(metabolite_data_pat, \"Physical Activity\")\n",
    "anova_results_oltt <- run_anova_like_test(metabolite_data_oltt, \"OLTT\")\n",
    "\n",
    "# Combine all results into one table\n",
    "#final_anova_results <- rbind(anova_results_ogtt, anova_results_oltt, anova_results_sld, fill = TRUE)\n",
    "#final_anova_results"
   ]
  },
  {
   "cell_type": "markdown",
   "id": "4ce8210f",
   "metadata": {},
   "source": [
    "#### Significant effect of time on metabolite levels during at least one challenge"
   ]
  },
  {
   "cell_type": "code",
   "execution_count": null,
   "id": "b061b50c",
   "metadata": {
    "vscode": {
     "languageId": "r"
    }
   },
   "outputs": [],
   "source": [
    "# Get all unique metabolites from the updated dataset (excluding insulin)\n",
    "all_metabolites <- unique(met_data_filtered[, .(metabolite, platform_name, super_pathway, sub_pathway)])\n",
    "\n",
    "# Sort metabolites first by super_pathway, then sub_pathway, then metabolite name\n",
    "all_metabolites <- all_metabolites[order(super_pathway, sub_pathway, tolower(metabolite))]\n",
    "\n",
    "# Initialize the column as FALSE for all metabolites\n",
    "all_metabolites[, significant_any_challenge := FALSE]\n",
    "\n",
    "# Extract **only** significant metabolites (ensuring metabolite-platform pairs match)\n",
    "significant_fasting <- anova_results_fasting[significant == TRUE, .(metabolite, platform_name)]\n",
    "significant_pat <- anova_results_pat[significant == TRUE, .(metabolite, platform_name)]\n",
    "significant_oltt <- anova_results_oltt[significant == TRUE, .(metabolite, platform_name)]\n",
    "\n",
    "# Function to update significance status **only for matching metabolite + platform pairs**\n",
    "update_significance <- function(met_data_filtered, sig_data) {\n",
    "    if (nrow(sig_data) > 0) {  # Only run if there's data\n",
    "        met_data_filtered[sig_data, on = .(metabolite,platform_name), significant_any_challenge := TRUE]\n",
    "    }\n",
    "}\n",
    "\n",
    "# Update based on **corrected** significance lists\n",
    "update_significance(all_metabolites, significant_fasting)\n",
    "update_significance(all_metabolites, significant_pat)\n",
    "update_significance(all_metabolites, significant_oltt)\n",
    "\n",
    "# Save the output file\n",
    "#fwrite(all_metabolites, \"../results/anova_results_significant_in_at_least_one_challenge.csv\")\n",
    "\n",
    "# Display output\n",
    "head(all_metabolites)"
   ]
  },
  {
   "cell_type": "markdown",
   "id": "f613f209",
   "metadata": {},
   "source": [
    "#### Significant effect of time on metabolite levels during at all challenges"
   ]
  },
  {
   "cell_type": "code",
   "execution_count": null,
   "id": "2f72bc03",
   "metadata": {
    "vscode": {
     "languageId": "r"
    }
   },
   "outputs": [],
   "source": [
    "# Initialize columns for each category as FALSE\n",
    "all_metabolites[, `:=`(\n",
    "  significant_fasting = FALSE,\n",
    "  significant_pat = FALSE,\n",
    "  significant_oltt = FALSE,\n",
    "  significant_fasting_pat = FALSE,\n",
    "  significant_fasting_oltt = FALSE,\n",
    "  significant_pat_oltt = FALSE,\n",
    "  significant_fasting_pat_oltt = FALSE\n",
    ")]\n",
    "\n",
    "# Function to update significance for each individual challenge\n",
    "update_significance <- function(met_data, sig_data, column_name) {\n",
    "    if (nrow(sig_data) > 0) {\n",
    "        met_data[sig_data, on = .(metabolite, platform_name), (column_name) := TRUE]\n",
    "    }\n",
    "}\n",
    "\n",
    "# Update individual significance columns\n",
    "update_significance(all_metabolites, significant_fasting, \"significant_fasting\")\n",
    "update_significance(all_metabolites, significant_pat, \"significant_pat\")\n",
    "update_significance(all_metabolites, significant_oltt, \"significant_oltt\")\n",
    "\n",
    "# Debugging: Check individual significance counts\n",
    "print(paste(\"fasting:\", sum(all_metabolites$significant_fasting)))\n",
    "print(paste(\"pat:\", sum(all_metabolites$significant_pat)))\n",
    "print(paste(\"oltt:\", sum(all_metabolites$significant_oltt)))\n",
    "\n",
    "# Calculate overlaps\n",
    "all_metabolites[, `:=`(\n",
    "  significant_fasting_pat = significant_fasting & significant_pat & !significant_oltt,\n",
    "  significant_fasting_oltt = significant_fasting & significant_oltt & !significant_pat,\n",
    "  significant_pat_oltt = significant_pat & significant_oltt & !significant_fasting,\n",
    "  significant_fasting_pat_oltt = significant_fasting & significant_pat & significant_oltt\n",
    ")]\n",
    "\n",
    "# Debugging: Check overlap counts\n",
    "print(paste(\"fasting ∩ pat:\", sum(all_metabolites$significant_fasting_pat)))\n",
    "print(paste(\"fasting ∩ oltt:\", sum(all_metabolites$significant_fasting_oltt)))\n",
    "print(paste(\"pat ∩ oltt:\", sum(all_metabolites$significant_pat_oltt)))\n",
    "print(paste(\"fasting ∩ pat ∩ oltt:\", sum(all_metabolites$significant_fasting_pat_oltt)))\n",
    "\n",
    "# Save the updated table\n",
    "#fwrite(all_metabolites, \"results/all_metabolites_with_significance.csv\")\n",
    "\n",
    "# Calculate final counts\n",
    "counts <- list(\n",
    "  fasting = sum(all_metabolites$significant_fasting),\n",
    "  pat = sum(all_metabolites$significant_pat),\n",
    "  oltt = sum(all_metabolites$significant_oltt),\n",
    "  fasting_pat = sum(all_metabolites$significant_fasting_pat),\n",
    "  fasting_oltt = sum(all_metabolites$significant_fasting_oltt),\n",
    "  pat_oltt = sum(all_metabolites$significant_pat_oltt),\n",
    "  fasting_pat_oltt = sum(all_metabolites$significant_fasting_pat_oltt)\n",
    ")\n",
    "\n",
    "# Print final counts\n",
    "print(counts)"
   ]
  },
  {
   "cell_type": "markdown",
   "id": "fb77a3d9",
   "metadata": {},
   "source": [
    "## T-Test"
   ]
  },
  {
   "cell_type": "code",
   "execution_count": null,
   "id": "38a9dcfe",
   "metadata": {
    "vscode": {
     "languageId": "r"
    }
   },
   "outputs": [],
   "source": [
    "# Select baseline data for different challenges\n",
    "baseline_fasting <- met_data[challenge == \"Fasting\" & time == \"1\"]  # Baseline for fasting\n",
    "baseline_pat  <- met_data[challenge == \"Physical Activity\" & time == \"33\"]  # Baseline for physical activity\n",
    "\n",
    "# Ensure only common subjects are used across all three conditions\n",
    "common_subjects <- Reduce(intersect, list(baseline_fasting$subject, baseline_pat$subject))\n",
    "baseline_fasting <- baseline_fasting[subject %in% common_subjects]\n",
    "baseline_pat <- baseline_pat[subject %in% common_subjects]\n",
    "\n",
    "# Get the list of unique metabolites\n",
    "metabolites <- unique(met_data$metabolite)\n",
    "\n",
    "# Perform paired t-tests for all metabolites\n",
    "results <- lapply(metabolites, function(met) {\n",
    "  # Subset data for the current metabolite\n",
    "  fasting_values <- baseline_fasting[metabolite == met, response]\n",
    "  pat_values <- baseline_pat[metabolite == met, response]\n",
    "  \n",
    "  # Ensure there are valid values for all comparisons\n",
    "  if (length(fasting_values) > 1 & length(pat_values) > 1) {\n",
    "    # Calculate mean differences\n",
    "    mean_diff_pat <- mean(pat_values, na.rm = TRUE) - mean(fasting_values, na.rm = TRUE)\n",
    "    \n",
    "    # Perform paired t-tests\n",
    "    p_val_pat <- tryCatch(\n",
    "      t.test(pat_values, fasting_values, paired = TRUE, var.equal = FALSE)$p.value,\n",
    "      error = function(e) NA\n",
    "    )\n",
    "    \n",
    "    # Determine significance\n",
    "    anova_significance <- all_metabolites[metabolite == met, significant_fasting_pat_oltt]\n",
    "\n",
    "    pathway_info <- all_metabolites[metabolite == met, .(platform_name, super_pathway, sub_pathway, significant_fasting_pat_oltt)]\n",
    "    \n",
    "    # Return results as a data.table\n",
    "    return(data.table(\n",
    "      metabolite = met,\n",
    "      platform_name = pathway_info$platform_name,\n",
    "      super_pathway = pathway_info$super_pathway,\n",
    "      sub_pathway = pathway_info$sub_pathway,\n",
    "      mean_diff_PAT_FASTING = mean_diff_pat,\n",
    "      pvalue_PAT_FASTING = p_val_pat,\n",
    "      significant_response = anova_significance\n",
    "    ))\n",
    "  }\n",
    "})\n",
    "\n",
    "# Remove NULL results safely\n",
    "results <- rbindlist(Filter(Negate(is.null), results), fill = TRUE)\n",
    "\n",
    "# Filter rows where significant_FASTING_OLTT_PAT is TRUE\n",
    "filtered_results <- results[significant_response == TRUE]\n",
    "\n",
    "# Save filtered results to a CSV file\n",
    "fwrite(filtered_results, \"../results/paired_ttest_results.csv\")\n",
    "message(\"Filtered T-Test completed! Filtered results saved in: ../results/paired_ttest_results.csv\")\n",
    "\n",
    "# Print summary of the filtered results\n",
    "num_significant <- nrow(filtered_results)\n",
    "total_tests <- nrow(results)\n",
    "percentage <- (num_significant / total_tests) * 100\n",
    "\n",
    "cat(\"Number of significant metabolites (filtered):\", num_significant, \"\\n\")\n",
    "cat(\"Percentage of significant results (filtered):\", round(percentage, 2), \"%\\n\")"
   ]
  },
  {
   "cell_type": "code",
   "execution_count": null,
   "id": "2de013c3",
   "metadata": {
    "vscode": {
     "languageId": "r"
    }
   },
   "outputs": [],
   "source": [
    "# Map missing information from met_data_filtered to filtered_results based on \"metabolite\"\n",
    "clustering_input <- merge(\n",
    "  filtered_results, \n",
    "  met_data_filtered[, .(metabolite, response, subject, challenge, time)], \n",
    "  by = \"metabolite\", \n",
    "  all.x = TRUE\n",
    ")\n",
    "\n",
    "# Save the updated results\n",
    "fwrite(clustering_input, \"../results/clustering_input.csv\")\n",
    "#message(\"Mapped results saved in: ../results/mapped_filtered_results.csv\")\n",
    "\n",
    "# Display the first few rows of the updated data\n",
    "head(clustering_input)"
   ]
  },
  {
   "cell_type": "markdown",
   "id": "0f54acb0",
   "metadata": {},
   "source": [
    "# Clustering"
   ]
  },
  {
   "cell_type": "code",
   "execution_count": null,
   "id": "55e04fac",
   "metadata": {
    "vscode": {
     "languageId": "r"
    }
   },
   "outputs": [],
   "source": [
    "# Funktion für den Workflow\n",
    "run_clustering <- function(c_num = 8, m = 1.25, seed = 123) {\n",
    "  \n",
    "  # Setze Seed für Reproduzierbarkeit\n",
    "  set.seed(seed)\n",
    "  \n",
    "  # 1. Daten laden und vorverarbeiten\n",
    "  df <- clustering_input\n",
    "  head(df)\n",
    "  \n",
    "  # Sicherstellen, dass notwendige Spalten vorhanden sind\n",
    "  required_columns <- c(\"metabolite\", \"super_pathway\", \"sub_pathway\", \"response\", \"subject\", \"challenge\")\n",
    "  if (!all(required_columns %in% colnames(df))) {\n",
    "    stop(\"Not all required columns are present in the dataset!\")\n",
    "  }\n",
    "  \n",
    "  # Filter und Vorverarbeitung\n",
    "  #df <- df[!(df$challenge == \"OGTT\" & df$response == 240), ] # Entferne bestimmte Zeilen\n",
    "  df$challenge <- NULL # Entferne die 'challenge'-Spalte\n",
    "  \n",
    "  # Fehlende Werte im 'response'-Feld durch den Mittelwert ersetzen\n",
    "  df$response[is.na(df$response)] <- mean(df$response, na.rm = TRUE)\n",
    "  \n",
    "  # Z-Score Normalisierung pro Metabolit\n",
    "  df$response <- ave(df$response, df$metabolite, FUN = function(x) scale(x, center = TRUE, scale = TRUE))\n",
    "  \n",
    "  # Metadaten speichern\n",
    "  df_meta <- unique(df[, c(\"metabolite\", \"super_pathway\", \"sub_pathway\")])\n",
    "  \n",
    "  # 2. Daten für Clustering vorbereiten\n",
    "  # Aggregiere Mittelwerte von 'response' nach 'metabolite' und 'platform_name'\n",
    "  df_agg <- aggregate(response ~ metabolite + platform_name, data = df, FUN = mean)\n",
    "  \n",
    "  # Erstelle eine vollständige Kombination aller 'metabolite' und 'platform_name'\n",
    "  all_combinations <- expand.grid(metabolite = unique(df_agg$metabolite),\n",
    "                                   platform_name = unique(df_agg$platform_name))\n",
    "  \n",
    "  # Verbinde die vollständige Kombination mit den aggregierten Daten\n",
    "  df_agg <- merge(all_combinations, df_agg, by = c(\"metabolite\", \"platform_name\"), all.x = TRUE)\n",
    "  \n",
    "  # Fehlende Werte in 'response' mit 0 auffüllen\n",
    "  df_agg$response[is.na(df_agg$response)] <- 0\n",
    "  \n",
    "  # Konvertiere die aggregierten Daten in eine Matrix\n",
    "  response_matrix <- reshape(df_agg, idvar = \"metabolite\", timevar = \"platform_name\", direction = \"wide\")\n",
    "  rownames(response_matrix) <- response_matrix$metabolite\n",
    "  response_matrix <- response_matrix[, -1] # Entferne die erste Spalte (metabolite)\n",
    "  response_matrix <- as.matrix(response_matrix)\n",
    "  \n",
    "  # ExpressionSet erstellen\n",
    "  expr_set <- new(\"ExpressionSet\", exprs = response_matrix)\n",
    "  \n",
    "  # 3. Mfuzz-Clustering durchführen\n",
    "  cl <- mfuzz(expr_set, c = c_num, m = m)\n",
    "  \n",
    "  # 4. Ergebnisse formatieren\n",
    "  cluster_assignments <- data.frame(\n",
    "    metabolite = rownames(response_matrix),\n",
    "    cl$membership\n",
    "  )\n",
    "  \n",
    "  # Bestimme den Cluster mit der höchsten Wahrscheinlichkeit für jeden Metaboliten\n",
    "  cluster_assignments$Assigned_Cluster <- apply(cl$membership, 1, which.max)\n",
    "  \n",
    "  # Füge Super Pathway und Sub Pathway hinzu\n",
    "  cluster_assignments <- merge(cluster_assignments, df_meta, by = \"metabolite\", all.x = TRUE)\n",
    "  \n",
    "  # Formatieren der Spalten\n",
    "  colnames(cluster_assignments) <- c(\n",
    "    \"Metabolite\", \"Cluster_1\", \"Cluster_2\", \"Cluster_3\", \"Cluster_4\", \"Cluster_5\",\n",
    "    \"Cluster_6\", \"Cluster_7\", \"Cluster_8\", \"Assigned_Cluster\", \"Super_Pathway\", \"Sub_Pathway\"\n",
    "  )\n",
    "  \n",
    "  # Ergebnisse speichern\n",
    "  fwrite(cluster_assignments, \"../results/mfuzz_results.csv\")\n",
    "  print(\"Clustering abgeschlossen! Ergebnisse gespeichert.\")\n",
    "}\n",
    "\n",
    "# Beispielaufruf\n",
    "run_clustering(\n",
    "  c_num = 8,  # Anzahl der Cluster\n",
    "  m = 1.25,   # Fuzzifizierungsparameter\n",
    "  seed = 42  # Seed für Reproduzierbarkeit\n",
    ")"
   ]
  }
 ],
 "metadata": {
  "kernelspec": {
   "display_name": "R",
   "language": "R",
   "name": "ir"
  },
  "language_info": {
   "codemirror_mode": "r",
   "file_extension": ".r",
   "mimetype": "text/x-r-source",
   "name": "R",
   "pygments_lexer": "r",
   "version": "4.4.2"
  }
 },
 "nbformat": 4,
 "nbformat_minor": 5
}
