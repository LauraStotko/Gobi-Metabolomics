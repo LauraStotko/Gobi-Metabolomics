{
 "cells": [
  {
   "cell_type": "code",
   "execution_count": 255,
   "id": "6db63fb5-d4f1-47b1-8e55-4c668123b3e1",
   "metadata": {
    "vscode": {
     "languageId": "r"
    }
   },
   "outputs": [],
   "source": [
    "library(data.table)\n",
    "library(dplyr)\n",
    "library(nparLD)\n",
    "library(missForest)\n",
    "library(parallel)\n",
    "library(doParallel)\n",
    "library(stats)\n",
    "library(Mfuzz)\n",
    "library(Biobase)\n",
    "library(ggplot2)\n",
    "library(ggrepel)\n",
    "library(tidyr)\n",
    "library(viridis)"
   ]
  },
  {
   "cell_type": "markdown",
   "id": "b25848e5",
   "metadata": {},
   "source": [
    "# HuMet DATASET"
   ]
  },
  {
   "cell_type": "markdown",
   "id": "e6803ace",
   "metadata": {},
   "source": [
    "In this notebook, we analyze a subset of the HuMet dataset, focusing on **plasma** samples across three platforms:\n",
    "\n",
    "- Metabolon HD4 (nt-ms)\n",
    "- Biocrates p150 (t-ms)\n",
    "- In-house biochemistry (chem.)"
   ]
  },
  {
   "cell_type": "markdown",
   "id": "3ee22f17-b4a6-4e38-ba1b-001fadaa2a99",
   "metadata": {},
   "source": [
    "## Loading the Data"
   ]
  },
  {
   "cell_type": "code",
   "execution_count": null,
   "id": "2afcdd37-4af8-4520-8de9-9a3e40f81c07",
   "metadata": {
    "vscode": {
     "languageId": "r"
    }
   },
   "outputs": [],
   "source": [
    "met_data <- fread(\"../input/raw/humet_data_raw_none_subjects15_tp57.csv\", sep = \",\", fill = TRUE)\n",
    "info_data <- fread(\"../input/humet_info.csv\", sep = \",\", fill = TRUE)\n",
    "head(met_data)\n",
    "head(info_data)"
   ]
  },
  {
   "cell_type": "markdown",
   "id": "a5ca85e8-1ead-4f17-b85e-1df33aec7f5e",
   "metadata": {
    "jp-MarkdownHeadingCollapsed": true
   },
   "source": [
    "## Data Analysis"
   ]
  },
  {
   "cell_type": "code",
   "execution_count": null,
   "id": "708c8e34-38e6-40f2-986a-7d5b570259fd",
   "metadata": {
    "vscode": {
     "languageId": "r"
    }
   },
   "outputs": [],
   "source": [
    "# Count metabolite columns\n",
    "num_metabolite_columns <- length(setdiff(names(met_data), c(\"time\", \"subject\")))\n",
    "\n",
    "unique_time_values <- unique(met_data$time)\n",
    "unique_subject_values <- unique(met_data$subject)\n",
    "\n",
    "print(paste(\"Number of metabolites:\", num_metabolite_columns))\n",
    "print(paste(\"Unique time values:\", paste(unique_time_values, collapse = \", \")))\n",
    "print(paste(\"Unique subject values:\", paste(unique_subject_values, collapse = \", \")))"
   ]
  },
  {
   "cell_type": "code",
   "execution_count": null,
   "id": "5520baae-160c-4290-be24-0b1e97107350",
   "metadata": {
    "vscode": {
     "languageId": "r"
    }
   },
   "outputs": [],
   "source": [
    "# Count occurrences of each unique platform\n",
    "platform_counts <- table(info_data$platform_name)\n",
    "print(platform_counts)"
   ]
  },
  {
   "cell_type": "markdown",
   "id": "b2710623-ca0f-4c5f-af26-e065d76755d1",
   "metadata": {},
   "source": [
    "- Targeted: 132\n",
    "- Non-Targeted: 502\n",
    "- Insulin (Hormone): 1"
   ]
  },
  {
   "cell_type": "markdown",
   "id": "c42e2e34-0559-4672-b0c6-823a71648953",
   "metadata": {},
   "source": [
    "# Preprocessing"
   ]
  },
  {
   "cell_type": "markdown",
   "id": "37a1920a-c58e-4695-aaa4-ebe5d50679af",
   "metadata": {},
   "source": [
    "## Adding Challenge information"
   ]
  },
  {
   "cell_type": "markdown",
   "id": "66f93f13-fedb-4e27-8ade-ccdb6560fc9c",
   "metadata": {},
   "source": [
    "**Relevant time intervals for our analysis**:\n",
    "\n",
    "Since the original dataset lacked challenge information, we assigned it based on the time column:\n",
    "\n",
    "- **Fasting**: Time points 1–10\n",
    "- **Physical Activity**: Time points 33–39\n",
    "- **Oral Lipid Tolerance Test (OLTT)**: Time points 40–50"
   ]
  },
  {
   "cell_type": "code",
   "execution_count": null,
   "id": "1617fa67-7550-4f6b-a5c9-05eb9cb04fa8",
   "metadata": {
    "vscode": {
     "languageId": "r"
    }
   },
   "outputs": [],
   "source": [
    "# Create a dataset with all time intervals\n",
    "met_data <- met_data %>%\n",
    "  mutate(challenge = case_when(\n",
    "    time >= 1 & time <= 10 ~ \"Fasting\",\n",
    "    time >= 33 & time <= 39 ~ \"PAT\",\n",
    "    time >= 40 & time <= 50 ~ \"OLTT\", # crosscheck what happens if OLTT ends at 48\n",
    "    TRUE ~ \"Other\"  # Keep \"Other\" instead of filtering out\n",
    "  ))\n",
    "\n",
    "# Display first rows of both datasets\n",
    "#tail(met_data_all)\n",
    "head(met_data)"
   ]
  },
  {
   "cell_type": "code",
   "execution_count": null,
   "id": "7db75ce3",
   "metadata": {
    "vscode": {
     "languageId": "r"
    }
   },
   "outputs": [],
   "source": [
    "# Remove rows where challenge_time is NA\n",
    "all_metabolites <- all_metabolites %>% filter(!is.na(challenge_time))\n",
    "\n",
    "# Column to remove\n",
    "col_to_remove <- \"time\"\n",
    "\n",
    "# Remove column if it exists\n",
    "if (col_to_remove %in% names(all_metabolites)) {\n",
    "    all_metabolites[, (col_to_remove) := NULL]\n",
    "}"
   ]
  },
  {
   "cell_type": "markdown",
   "id": "4d3789cf",
   "metadata": {},
   "source": [
    "## Adding Challenge_Time Information"
   ]
  },
  {
   "cell_type": "code",
   "execution_count": null,
   "id": "dbc5d944",
   "metadata": {
    "vscode": {
     "languageId": "r"
    }
   },
   "outputs": [],
   "source": [
    "# Add the challenge_time column based on challenge and time\n",
    "met_data[, challenge_time := case_when(\n",
    "  challenge == \"Fasting\" & time == 1 ~ 0,\n",
    "  challenge == \"Fasting\" & time == 2 ~ 120,\n",
    "  challenge == \"Fasting\" & time == 3 ~ 240,\n",
    "  challenge == \"Fasting\" & time == 4 ~ 360,\n",
    "  challenge == \"Fasting\" & time == 5 ~ 480,\n",
    "  challenge == \"Fasting\" & time == 6 ~ 600,\n",
    "  challenge == \"Fasting\" & time == 7 ~ 720,\n",
    "  challenge == \"Fasting\" & time == 8 ~ 840,\n",
    "  challenge == \"Fasting\" & time == 9 ~ 960,\n",
    "  challenge == \"Fasting\" & time == 10 ~ 1920,\n",
    "  challenge == \"PAT\" & time == 33 ~ 0,\n",
    "  challenge == \"PAT\" & time == 34 ~ 15,\n",
    "  challenge == \"PAT\" & time == 35 ~ 30,\n",
    "  challenge == \"PAT\" & time == 36 ~ 45,\n",
    "  challenge == \"PAT\" & time == 37 ~ 60,\n",
    "  challenge == \"PAT\" & time == 38 ~ 90,\n",
    "  challenge == \"PAT\" & time == 39 ~ 120,\n",
    "  challenge == \"OLTT\" & time == 40 ~ 0,\n",
    "  challenge == \"OLTT\" & time == 41 ~ 30,\n",
    "  challenge == \"OLTT\" & time == 42 ~ 60,\n",
    "  challenge == \"OLTT\" & time == 43 ~ 90,\n",
    "  challenge == \"OLTT\" & time == 44 ~ 120,\n",
    "  challenge == \"OLTT\" & time == 45 ~ 180,\n",
    "  challenge == \"OLTT\" & time == 46 ~ 240,\n",
    "  challenge == \"OLTT\" & time == 47 ~ 300,\n",
    "  challenge == \"OLTT\" & time == 48 ~ 360,\n",
    "  challenge == \"OLTT\" & time == 49 ~ 420,\n",
    "  challenge == \"OLTT\" & time == 50 ~ 480,\n",
    "  TRUE ~ NA_real_  # For all other cases, set NA\n",
    ")]\n",
    "\n",
    "# Remove rows where challenge_time is NA and drop the 'time' column\n",
    "#met_data <- met_data[!is.na(challenge_time), .SD, .SDcols = !'time']\n",
    "\n",
    "# Rename challenge_time to time\n",
    "#setnames(met_data, \"challenge_time\", \"time\")\n",
    "\n",
    "# View the cleaned data\n",
    "head(met_data)"
   ]
  },
  {
   "cell_type": "markdown",
   "id": "6faf0668-416f-4f7f-bbc6-5c1241798a44",
   "metadata": {},
   "source": [
    "## Removing Metabolites with > 30% missing values"
   ]
  },
  {
   "cell_type": "code",
   "execution_count": 10,
   "id": "385d2b97-37ca-4c2e-b79a-535f171f52b1",
   "metadata": {
    "vscode": {
     "languageId": "r"
    }
   },
   "outputs": [],
   "source": [
    "remove_high_na_metabolites <- function(met_data, threshold = 0.3, output_file = \"removed_metabolites.txt\") {\n",
    "\n",
    "  metabolite_columns <- setdiff(colnames(met_data), c(\"time\", \"subject\", \"challenge\", \"challenge_time\"))\n",
    "  # Calculate the percentage of missing values for each metabolite\n",
    "  na_percentage <- colMeans(is.na(met_data[, ..metabolite_columns]))\n",
    "\n",
    "  # Find metabolites with more than `threshold` missing values\n",
    "  high_na_metabolites <- names(na_percentage[na_percentage > threshold])\n",
    "\n",
    "  # Write the removed metabolite names to a text file\n",
    "  if (length(high_na_metabolites) > 0) {\n",
    "    writeLines(high_na_metabolites, output_file)\n",
    "  }\n",
    "\n",
    "  # Remove these metabolites from met_data\n",
    "  filtered_met_data <- met_data[, !high_na_metabolites, with = FALSE]\n",
    "\n",
    "  return(filtered_met_data)\n",
    "}\n",
    "\n",
    "# Apply function to clean met_data\n",
    "met_data <- remove_high_na_metabolites(met_data)"
   ]
  },
  {
   "cell_type": "markdown",
   "id": "c9a9da23",
   "metadata": {},
   "source": [
    "#### Leaving Only Relevant Time Points"
   ]
  },
  {
   "cell_type": "code",
   "execution_count": 11,
   "id": "5f6fb512",
   "metadata": {
    "vscode": {
     "languageId": "r"
    }
   },
   "outputs": [],
   "source": [
    "# Create a dataset with only relevant time intervals\n",
    "met_data <- met_data %>%\n",
    "  filter(challenge != \"Other\")"
   ]
  },
  {
   "cell_type": "markdown",
   "id": "082e8d5e-732e-4fce-a280-c1414acee93d",
   "metadata": {},
   "source": [
    "## Splitting the dataset based on platform"
   ]
  },
  {
   "cell_type": "code",
   "execution_count": 12,
   "id": "0c85ceb8-0f79-43a0-a71c-958749b4835c",
   "metadata": {
    "vscode": {
     "languageId": "r"
    }
   },
   "outputs": [],
   "source": [
    "# Identify metabolite columns (excluding time, subject, and challenge)\n",
    "metabolite_columns <- setdiff(colnames(met_data), c(\"time\", \"subject\", \"challenge\", \"challenge_time\"))\n",
    "\n",
    "# Define platform patterns for Metabolon and Biocrates\n",
    "platforms <- list(\n",
    "  metabolon = \"\\\\[P, nt-ms\\\\]\",\n",
    "  biocrates = \"\\\\[P, t-ms\\\\]\"\n",
    ")\n",
    "\n",
    "# Function to filter metabolites based on platform\n",
    "filter_metabolites <- function(pattern) {\n",
    "  selected_cols <- c(\"time\", \"subject\", \"challenge\", \"challenge_time\", metabolite_columns[grepl(pattern, metabolite_columns)])\n",
    "  met_data[, ..selected_cols]\n",
    "}\n",
    "\n",
    "# Function to filter metabolites NOT belonging to Metabolon or Biocrates (i.e., Inhouse)\n",
    "filter_inhouse_metabolites <- function() {\n",
    "  excluded_cols <- unique(unlist(lapply(platforms, function(p) metabolite_columns[grepl(p, metabolite_columns)])))\n",
    "  selected_cols <- c(\"time\", \"subject\", \"challenge\", \"challenge_time\", setdiff(metabolite_columns, excluded_cols))\n",
    "  met_data[, ..selected_cols]\n",
    "}\n",
    "\n",
    "# Create datasets\n",
    "met_data_metabolon <- filter_metabolites(platforms$metabolon)\n",
    "met_data_biocrates <- filter_metabolites(platforms$biocrates)\n",
    "met_data_inhouse <- filter_inhouse_metabolites()  # Everything else\n"
   ]
  },
  {
   "cell_type": "markdown",
   "id": "8b372f64-94ab-4cef-84d2-acd9d0931b1d",
   "metadata": {},
   "source": [
    "## Handle Missing Values - missForest"
   ]
  },
  {
   "cell_type": "code",
   "execution_count": null,
   "id": "b820b76b-9996-4b5f-aec8-2402eb81727d",
   "metadata": {
    "jupyter": {
     "source_hidden": true
    },
    "vscode": {
     "languageId": "r"
    }
   },
   "outputs": [],
   "source": [
    "# Count missing values in each dataset\n",
    "sum(is.na(data_fasting))\n",
    "sum(is.na(data_exercise))\n",
    "sum(is.na(data_oltt))"
   ]
  },
  {
   "cell_type": "code",
   "execution_count": null,
   "id": "458ad7a1-9508-4cd6-a521-99ddde5ec23f",
   "metadata": {
    "vscode": {
     "languageId": "r"
    }
   },
   "outputs": [],
   "source": [
    "# Function to convert categorical variables to factors\n",
    "convert_to_factors <- function(data) {\n",
    "  data %>%\n",
    "    mutate(\n",
    "      challenge = as.factor(challenge),\n",
    "      time = as.factor(time),\n",
    "      subject = as.factor(subject)\n",
    "    ) %>%\n",
    "    mutate(across(where(is.character), as.factor))\n",
    "}\n",
    "\n",
    "# Function for missForest imputation with adaptive parallelization\n",
    "perform_missForest <- function(data_subset, ntree_val = 10) {\n",
    "  num_vars <- ncol(data_subset)  # Get the number of variables\n",
    "  \n",
    "  # Adjust cores to be at most the number of variables\n",
    "  num_cores <- min(detectCores() - 1, num_vars)\n",
    "  \n",
    "  # If parallelization is still invalid, set it to 'no'\n",
    "  parallel_option <- if (num_cores > 1) \"variables\" else \"no\"\n",
    "  \n",
    "  cl <- makeCluster(num_cores, type = \"FORK\") \n",
    "  registerDoParallel(cl)\n",
    "  \n",
    "  set.seed(42)  # Ensures reproducibility\n",
    "  imputed_data <- missForest(data_subset, ntree = ntree_val, parallelize = parallel_option, verbose = TRUE)\n",
    "  \n",
    "  stopCluster(cl)  # Stop cluster\n",
    "  \n",
    "  return(imputed_data$ximp)  # Extract imputed dataset\n",
    "}\n",
    "\n",
    "# Wrapper function to process and impute metabolite datasets\n",
    "data_pipeline <- function(metabolite_datasets) {\n",
    "  # Convert categorical variables to factors\n",
    "  metabolite_datasets <- lapply(metabolite_datasets, convert_to_factors)\n",
    "  \n",
    "  # Perform imputation with automatic parallelization adjustment\n",
    "  imputed_data <- lapply(metabolite_datasets, perform_missForest, ntree_val = 400) #400\n",
    "  \n",
    "  return(imputed_data)\n",
    "}\n",
    "\n",
    "# List of metabolite datasets\n",
    "metabolite_datasets <- list(\n",
    "  metabolon = met_data_metabolon,\n",
    "  biocrates = met_data_biocrates,\n",
    "  inhouse = met_data_inhouse\n",
    ")\n",
    "\n",
    "# Apply pipeline to each dataset\n",
    "imputed_metabolite_data <- data_pipeline(metabolite_datasets)"
   ]
  },
  {
   "cell_type": "code",
   "execution_count": null,
   "id": "fc54576a",
   "metadata": {
    "vscode": {
     "languageId": "r"
    }
   },
   "outputs": [],
   "source": [
    "imputed_metabolite_data"
   ]
  },
  {
   "cell_type": "code",
   "execution_count": 113,
   "id": "cf6bbba5",
   "metadata": {
    "vscode": {
     "languageId": "r"
    }
   },
   "outputs": [],
   "source": [
    "### AFTER REMOVING OTHER\n",
    "\n",
    "# 50 trees => 0.603862\n",
    "# 68 trees => 0.6200632\n",
    "# 69 trees => 0.594013\n",
    "# 70 trees => 0.5919029\n",
    "# 75 trees => 0.5951333\n",
    "# 76 trees => 0.5837592\n",
    "# 77 trees => 0.5951333\n",
    "# 78 trees => 0.5852654\n",
    "# 80 trees => 0.6201631\n",
    "# 100 trees => 0.5938395\n",
    "# 120 trees => 0.6130575\n",
    "# 400 trees => 0.5863569"
   ]
  },
  {
   "cell_type": "markdown",
   "id": "72379a05",
   "metadata": {},
   "source": [
    "#### Merging platform-separated datasets together "
   ]
  },
  {
   "cell_type": "code",
   "execution_count": null,
   "id": "b54ccd1a",
   "metadata": {
    "vscode": {
     "languageId": "r"
    }
   },
   "outputs": [],
   "source": [
    "# Merge datasets based on time, subject, and challenge\n",
    "combined_data <- Reduce(function(x, y) {\n",
    "  merge(x, y, by = c(\"time\", \"subject\", \"challenge\", \"challenge_time\"), all = TRUE)\n",
    "}, list(imputed_metabolite_data$metabolon, \n",
    "        imputed_metabolite_data$biocrates, \n",
    "        imputed_metabolite_data$inhouse))\n",
    "\n",
    "# Print the first rows of the combined dataset\n",
    "head(combined_data)"
   ]
  },
  {
   "cell_type": "code",
   "execution_count": 15,
   "id": "c7bc8a20",
   "metadata": {
    "vscode": {
     "languageId": "r"
    }
   },
   "outputs": [],
   "source": [
    "fwrite(combined_data, \"../data/processed/humet_imputed_400trees.csv\")"
   ]
  },
  {
   "cell_type": "markdown",
   "id": "7cdbed50",
   "metadata": {},
   "source": [
    "## Correlation"
   ]
  },
  {
   "cell_type": "code",
   "execution_count": null,
   "id": "78fee791",
   "metadata": {
    "vscode": {
     "languageId": "r"
    }
   },
   "outputs": [],
   "source": [
    "correlation_analysis <- function(target_variable, \n",
    "                                 exclude_columns = c(), \n",
    "                                 method = \"pearson\", \n",
    "                                 p_adjust_method = \"bonferroni\") {\n",
    "\n",
    "  \n",
    "  # Daten einlesen\n",
    "  df <- combined_data\n",
    "  \n",
    "  # Identifiziere numerische Spalten und schließe Zielvariable sowie andere auszuschließende Spalten aus\n",
    "  numeric_columns <- sapply(df, is.numeric)\n",
    "  metabolite_columns <- setdiff(names(df)[numeric_columns], c(target_variable, exclude_columns))\n",
    "  \n",
    "  # Ergebnisse vorbereiten\n",
    "  cor_results <- data.frame(Metabolite = metabolite_columns, Correlation = NA, p_value = NA)\n",
    "  \n",
    "  # Berechnung der paarweisen Korrelation\n",
    "  for (metabolite in metabolite_columns) {\n",
    "    cor_test <- cor.test(df[[metabolite]], df[[target_variable]], method = method)\n",
    "    cor_results[cor_results$Metabolite == metabolite, \"Correlation\"] <- cor_test$estimate\n",
    "    cor_results[cor_results$Metabolite == metabolite, \"p_value\"] <- cor_test$p.value\n",
    "  }\n",
    "  \n",
    "  # Multiple Testing Correction\n",
    "  cor_results$p_adjusted <- p.adjust(cor_results$p_value, method = p_adjust_method)\n",
    "  \n",
    "  # Ergebnisse sortieren\n",
    "  cor_results <- cor_results[order(cor_results$p_adjusted), ]\n",
    "\n",
    "  fwrite(cor_results, \"../results/correlation_results\")\n",
    "  \n",
    "  # Top 10 Ergebnisse ausgeben\n",
    "  return(head(cor_results, 10))\n",
    "}\n",
    "\n",
    "# Beispiel-Aufruf der Funktion\n",
    "result <- correlation_analysis(\n",
    "  target_variable = \"Insulin [P, chem.]\", # Zielvariable angepasst\n",
    "  exclude_columns = c(\"time\", \"subject\", \"challenge\"), # Ausschlüsse anpassen\n",
    "  method = \"pearson\",\n",
    "  p_adjust_method = \"bonferroni\"\n",
    ")\n",
    "\n",
    "# Ergebnisse anzeigen\n",
    "print(result)"
   ]
  },
  {
   "cell_type": "markdown",
   "id": "30d48ffa",
   "metadata": {},
   "source": []
  },
  {
   "cell_type": "markdown",
   "id": "14ba1c94-72ed-4a38-bde4-c3196103a9da",
   "metadata": {},
   "source": [
    "# Reformating the Table"
   ]
  },
  {
   "cell_type": "code",
   "execution_count": null,
   "id": "e46840da",
   "metadata": {
    "vscode": {
     "languageId": "r"
    }
   },
   "outputs": [],
   "source": [
    "combined_data <- fread(\"../data/processed/humet_imputed_400trees.csv\", sep = \",\", fill = TRUE)\n",
    "info_data <- fread(\"../input/humet_info.csv\", sep = \",\", fill = TRUE)\n",
    "head(combined_data)"
   ]
  },
  {
   "cell_type": "code",
   "execution_count": null,
   "id": "0c6f193b",
   "metadata": {
    "vscode": {
     "languageId": "r"
    }
   },
   "outputs": [],
   "source": [
    "# Function to add platform information and reshape each dataset into long format\n",
    "reshape_long <- function(data) {\n",
    "  # Identify metabolite columns (exclude time, subject, challenge)\n",
    "  metabolite_columns <- setdiff(names(data), c(\"time\", \"subject\", \"challenge\", \"challenge_time\"))\n",
    "  \n",
    "  # Convert all metabolite columns to numeric (preserves NA values)\n",
    "  data[, (metabolite_columns) := lapply(.SD, as.numeric), .SDcols = metabolite_columns]\n",
    "  \n",
    "  # Reshape into long format\n",
    "  long_data <- melt(data,\n",
    "                    id.vars = c(\"time\", \"subject\", \"challenge\", \"challenge_time\"),  # Keep these columns unchanged\n",
    "                    measure.vars = metabolite_columns,  # Only reshape metabolite columns\n",
    "                    variable.name = \"metabolite\",\n",
    "                    value.name = \"response\",\n",
    "                    na.rm = FALSE)  # Keep NA values instead of removing them\n",
    "  \n",
    "  # Add platform name based on the metabolite column name\n",
    "  long_data[, platform_name := case_when(\n",
    "    grepl(\"\\\\[P, t-ms\\\\]\", metabolite) ~ \"Biocrates p150 [t-ms]\",\n",
    "    grepl(\"\\\\[P, nt-ms\\\\]\", metabolite) ~ \"Metabolon HD4 [nt-ms]\",\n",
    "    grepl(\"\\\\[P, chem.\\\\]\", metabolite) ~ \"In-house biochemistry [chem.]\",\n",
    "    TRUE ~ \"Unknown\"  # Default case for anything that doesn't match\n",
    "  )]\n",
    "  \n",
    "  return(long_data)\n",
    "}\n",
    "\n",
    "# Reshape the combined dataset into long format\n",
    "met_data <- reshape_long(combined_data)\n",
    "\n",
    "\n",
    "# Print first rows of the final combined dataset\n",
    "head(met_data)"
   ]
  },
  {
   "cell_type": "markdown",
   "id": "f12c99d8-a30a-4282-883a-72bcb39be841",
   "metadata": {},
   "source": [
    "Clean up the metabolite names"
   ]
  },
  {
   "cell_type": "code",
   "execution_count": null,
   "id": "1b4492a3-8ed6-48e4-aecb-2105f58e4f4f",
   "metadata": {
    "vscode": {
     "languageId": "r"
    }
   },
   "outputs": [],
   "source": [
    "# Clean metabolite names by removing anything inside square brackets and trimming whitespace\n",
    "met_data[, metabolite := gsub(\"\\\\[.*?\\\\]\", \"\", metabolite)]  # Remove text inside brackets\n",
    "met_data[, metabolite := trimws(metabolite)]  # Trim leading/trailing spaces\n",
    "met_data[, metabolite := tolower(metabolite)]  # Convert to lowercase\n",
    "\n",
    "# Print first rows to verify changes\n",
    "head(met_data)\n"
   ]
  },
  {
   "cell_type": "markdown",
   "id": "ba57c35d-86e4-487d-bc43-ea3203689950",
   "metadata": {},
   "source": [
    "Some data is missing from our met_data dataset (e.g. super_pathway and sub_pathway), we need to add it for further analysis. For this we use info_data.\n",
    "\n",
    "Clean up of info_data:"
   ]
  },
  {
   "cell_type": "code",
   "execution_count": null,
   "id": "9bf7d0d9-56f8-4040-a890-ee8a6a9a47a4",
   "metadata": {
    "vscode": {
     "languageId": "r"
    }
   },
   "outputs": [],
   "source": [
    "# Keep only rows where fluid == \"plasma\"\n",
    "info_data <- info_data[fluid == \"plasma\"]\n",
    "\n",
    "# Ensure correct encoding and remove asterisks\n",
    "info_data$metabolite <- gsub(\"[*]\", \"\", info_data$metabolite)  # Remove all asterisks\n",
    "info_data$metabolite <- gsub(\"\\u200B\", \"\", info_data$metabolite)  # Remove zero-width spaces (if present)\n",
    "info_data$metabolite <- gsub(\"[[:space:]]+$\", \"\", info_data$metabolite)  # Trim trailing spaces\n",
    "info_data$metabolite <- trimws(info_data$metabolite)  # Remove any remaining spaces\n",
    "info_data$metabolite <- tolower(info_data$metabolite)  # Convert to lowercase\n",
    "\n",
    "head(info_data)"
   ]
  },
  {
   "cell_type": "markdown",
   "id": "5d8c1190-fc88-47d7-88d1-664be4eafbc0",
   "metadata": {},
   "source": [
    "Merging the data "
   ]
  },
  {
   "cell_type": "code",
   "execution_count": null,
   "id": "b03db27e-7f6c-46d6-88d7-12146f4acc88",
   "metadata": {
    "vscode": {
     "languageId": "r"
    }
   },
   "outputs": [],
   "source": [
    "# Merge met_data with info_data based on metabolite and platform_name\n",
    "met_data <- merge(met_data, \n",
    "                  info_data[, .(metabolite, platform_name, super_pathway, sub_pathway)], \n",
    "                  by = c(\"metabolite\", \"platform_name\"), \n",
    "                  all.x = TRUE)  # Keep all rows in met_data\n",
    "\n",
    "# Print first rows to verify the merge\n",
    "head(met_data)"
   ]
  },
  {
   "cell_type": "markdown",
   "id": "40803dfa",
   "metadata": {},
   "source": [
    "## Hypothesis Testing"
   ]
  },
  {
   "cell_type": "markdown",
   "id": "15b960f1",
   "metadata": {},
   "source": [
    "DO YOU WANT TO ANALYSE HORMONES (E.G. INSULIN) TOO, RUN THIS CELL"
   ]
  },
  {
   "cell_type": "code",
   "execution_count": null,
   "id": "cba27710",
   "metadata": {
    "vscode": {
     "languageId": "r"
    }
   },
   "outputs": [],
   "source": [
    "met_data_filtered <- met_data\n",
    "head(met_data_filtered)"
   ]
  },
  {
   "cell_type": "markdown",
   "id": "2381fc27",
   "metadata": {},
   "source": [
    "NO INSULIN? RUN THIS"
   ]
  },
  {
   "cell_type": "code",
   "execution_count": null,
   "id": "88391e3e",
   "metadata": {
    "vscode": {
     "languageId": "r"
    }
   },
   "outputs": [],
   "source": [
    "# Create a new dataset excluding rows where platform is \"In-house biochemistry [chem.]\"\n",
    "met_data_filtered <- met_data[platform_name != \"In-house biochemistry [chem.]\", ]\n",
    "\n",
    "# Print the first few rows of the new dataset\n",
    "head(met_data_filtered)"
   ]
  },
  {
   "cell_type": "markdown",
   "id": "c6aceeae",
   "metadata": {},
   "source": [
    "For ANOVA & T-TEST we need to only use targeted and non-targeted metabolites, we remove molecules from in Biochemistry, since these are not metabolites (e.g. insulin)"
   ]
  },
  {
   "cell_type": "code",
   "execution_count": null,
   "id": "fb2ff914",
   "metadata": {
    "vscode": {
     "languageId": "r"
    }
   },
   "outputs": [],
   "source": [
    "num_unique_metabolite_platforms <- nrow(unique(met_data_filtered[, .(metabolite, platform_name)]))\n",
    "print(num_unique_metabolite_platforms)"
   ]
  },
  {
   "cell_type": "markdown",
   "id": "ba38260e",
   "metadata": {},
   "source": [
    "## Anova-Test"
   ]
  },
  {
   "cell_type": "code",
   "execution_count": null,
   "id": "5775b653",
   "metadata": {
    "vscode": {
     "languageId": "r"
    }
   },
   "outputs": [],
   "source": [
    "num_unique_metabolite_platforms <- nrow(unique(met_data_filtered[, .(metabolite, platform_name)]))\n",
    "\n",
    "# Define significance threshold after multiple testing correction\n",
    "p_threshold <- 0.05 / num_unique_metabolite_platforms\n",
    "\n",
    "# Convert challenge_time to a categorical variable\n",
    "met_data_filtered[, time := as.factor(time)]\n",
    "met_data_filtered[, subject := as.factor(subject)]\n",
    "\n",
    "# Subset data by challenge\n",
    "metabolite_data_fasting <- met_data_filtered[challenge == \"Fasting\"]\n",
    "metabolite_data_pat <- met_data_filtered[challenge == \"PAT\"]\n",
    "metabolite_data_oltt <- met_data_filtered[challenge == \"OLTT\"]\n",
    "\n",
    "# Function to run ANOVA-like test while considering metabolite & platform\n",
    "run_anova_like_test <- function(metabolite_data, challenge_name) {\n",
    "    \n",
    "    # Initialize results list\n",
    "    results <- list()\n",
    "\n",
    "    # Loop through unique metabolite-platform combinations\n",
    "    unique_metabolites <- unique(metabolite_data[, .(metabolite, platform_name, super_pathway, sub_pathway)])\n",
    "    \n",
    "    for (i in seq_len(nrow(unique_metabolites))) {\n",
    "        \n",
    "        met <- unique_metabolites$metabolite[i]\n",
    "        plat <- unique_metabolites$platform_name[i]\n",
    "        super_path <- unique_metabolites$super_pathway[i]\n",
    "        sub_path <- unique_metabolites$sub_pathway[i]\n",
    "        \n",
    "        # Subset data for this metabolite and platform\n",
    "        subset_data <- metabolite_data[metabolite == met & platform_name == plat]\n",
    "        \n",
    "        # Ensure sufficient data points for analysis\n",
    "        if (nrow(subset_data) > 2) {\n",
    "            \n",
    "            # Run the ld.f1 test\n",
    "            test_result <- ld.f1(y = subset_data$response, \n",
    "                                 time = subset_data$time, \n",
    "                                 subject = subset_data$subject, \n",
    "                                 description=FALSE)\n",
    "\n",
    "            # Extract p-value for time effect\n",
    "            p_value <- test_result$ANOVA.test$`p-value`\n",
    "            \n",
    "            # Store results\n",
    "            results[[paste(met, plat, sep = \"_\")]] <- data.table(\n",
    "              challenge = challenge_name,\n",
    "              metabolite = met,\n",
    "              platform_name = plat,\n",
    "              super_pathway = super_path,\n",
    "              sub_pathway = sub_path,\n",
    "              p_value = p_value\n",
    "            )\n",
    "        }\n",
    "    }\n",
    "\n",
    "    # Combine results into a data frame\n",
    "    anova_results <- rbindlist(results, fill = TRUE)\n",
    "\n",
    "    # Identify significant time effects\n",
    "    anova_results[, significant := p_value < p_threshold]\n",
    "\n",
    "    return(anova_results)\n",
    "}\n",
    "\n",
    "# Run ANOVA-like test for each challenge\n",
    "anova_results_fasting <- run_anova_like_test(metabolite_data_fasting, \"Fasting\")\n",
    "anova_results_pat <- run_anova_like_test(metabolite_data_pat, \"PAT\")\n",
    "anova_results_oltt <- run_anova_like_test(metabolite_data_oltt, \"OLTT\")\n",
    "\n",
    "# Combine all results into one table\n",
    "#final_anova_results <- rbind(anova_results_ogtt, anova_results_oltt, anova_results_sld, fill = TRUE)\n",
    "#final_anova_results"
   ]
  },
  {
   "cell_type": "markdown",
   "id": "4ce8210f",
   "metadata": {},
   "source": [
    "#### Significant effect of time on metabolite levels during at least one challenge"
   ]
  },
  {
   "cell_type": "code",
   "execution_count": null,
   "id": "b061b50c",
   "metadata": {
    "vscode": {
     "languageId": "r"
    }
   },
   "outputs": [],
   "source": [
    "# Get all unique metabolites from the updated dataset (excluding insulin)\n",
    "all_metabolites <- unique(met_data_filtered[, .(metabolite, platform_name, super_pathway, sub_pathway)])\n",
    "\n",
    "# Sort metabolites first by super_pathway, then sub_pathway, then metabolite name\n",
    "all_metabolites <- all_metabolites[order(super_pathway, sub_pathway, tolower(metabolite))]\n",
    "\n",
    "# Initialize the column as FALSE for all metabolites\n",
    "all_metabolites[, significant_any_challenge := FALSE]\n",
    "\n",
    "# Extract **only** significant metabolites (ensuring metabolite-platform pairs match)\n",
    "significant_fasting <- anova_results_fasting[significant == TRUE, .(metabolite, platform_name)]\n",
    "significant_pat <- anova_results_pat[significant == TRUE, .(metabolite, platform_name)]\n",
    "significant_oltt <- anova_results_oltt[significant == TRUE, .(metabolite, platform_name)]\n",
    "\n",
    "# Function to update significance status **only for matching metabolite + platform pairs**\n",
    "update_significance <- function(met_data_filtered, sig_data) {\n",
    "    if (nrow(sig_data) > 0) {  # Only run if there's data\n",
    "        met_data_filtered[sig_data, on = .(metabolite,platform_name), significant_any_challenge := TRUE]\n",
    "    }\n",
    "}\n",
    "\n",
    "# Update based on **corrected** significance lists\n",
    "update_significance(all_metabolites, significant_fasting)\n",
    "update_significance(all_metabolites, significant_pat)\n",
    "update_significance(all_metabolites, significant_oltt)\n",
    "\n",
    "# Save the output file\n",
    "#fwrite(all_metabolites, \"../results/anova_results_significant_in_at_least_one_challenge.csv\")\n",
    "\n",
    "# Display output\n",
    "head(all_metabolites)"
   ]
  },
  {
   "cell_type": "markdown",
   "id": "f613f209",
   "metadata": {},
   "source": [
    "#### Significant effect of time on metabolite levels during at all challenges"
   ]
  },
  {
   "cell_type": "code",
   "execution_count": null,
   "id": "2f72bc03",
   "metadata": {
    "vscode": {
     "languageId": "r"
    }
   },
   "outputs": [],
   "source": [
    "# Initialize columns for each category as FALSE\n",
    "all_metabolites[, `:=`(\n",
    "  significant_fasting = FALSE,\n",
    "  significant_pat = FALSE,\n",
    "  significant_oltt = FALSE,\n",
    "  significant_fasting_pat = FALSE,\n",
    "  significant_fasting_oltt = FALSE,\n",
    "  significant_pat_oltt = FALSE,\n",
    "  significant_fasting_pat_oltt = FALSE\n",
    ")]\n",
    "\n",
    "# Function to update significance for each individual challenge\n",
    "update_significance <- function(met_data, sig_data, column_name) {\n",
    "    if (nrow(sig_data) > 0) {\n",
    "        met_data[sig_data, on = .(metabolite, platform_name), (column_name) := TRUE]\n",
    "    }\n",
    "}\n",
    "\n",
    "# Update individual significance columns\n",
    "update_significance(all_metabolites, significant_fasting, \"significant_fasting\")\n",
    "update_significance(all_metabolites, significant_pat, \"significant_pat\")\n",
    "update_significance(all_metabolites, significant_oltt, \"significant_oltt\")\n",
    "\n",
    "# Calculate overlaps\n",
    "all_metabolites[, `:=`(\n",
    "  significant_fasting_pat = significant_fasting & significant_pat & !significant_oltt,\n",
    "  significant_fasting_oltt = significant_fasting & significant_oltt & !significant_pat,\n",
    "  significant_pat_oltt = significant_pat & significant_oltt & !significant_fasting,\n",
    "  significant_fasting_pat_oltt = significant_fasting & significant_pat & significant_oltt\n",
    ")]\n",
    "\n",
    "head(all_metabolites)\n",
    "\n",
    "# Save the updated table\n",
    "#fwrite(all_metabolites, \"../results/anova_without_insulin.csv\")"
   ]
  },
  {
   "cell_type": "markdown",
   "id": "2688d9c6",
   "metadata": {},
   "source": [
    "# Plotting"
   ]
  },
  {
   "cell_type": "code",
   "execution_count": 256,
   "id": "8afd1a57",
   "metadata": {
    "vscode": {
     "languageId": "r"
    }
   },
   "outputs": [],
   "source": [
    "# WITH INSULIN\n",
    "\n",
    "all_metabolites <- fread(\"../data/processed/anova_with_insulin.csv\", sep = \",\", fill = TRUE)\n",
    "met_data_filtered <- fread(\"../data/processed/met_data_filtered_with_insulin.csv\", sep = \",\", fill = TRUE)"
   ]
  },
  {
   "cell_type": "code",
   "execution_count": 252,
   "id": "eda45f3e",
   "metadata": {
    "vscode": {
     "languageId": "r"
    }
   },
   "outputs": [],
   "source": [
    "# WITHOUT INSULIN\n",
    "\n",
    "all_metabolites <- fread(\"../data/processed/anova_without_insulin.csv\", sep = \",\", fill = TRUE)\n",
    "met_data_filtered <- fread(\"../data/processed/met_data_filtered_without_insulin.csv\", sep = \",\", fill = TRUE)"
   ]
  },
  {
   "cell_type": "code",
   "execution_count": null,
   "id": "afc208f0",
   "metadata": {
    "vscode": {
     "languageId": "r"
    }
   },
   "outputs": [],
   "source": [
    "met_data_filtered[met_data_filtered$metabolite == \"insulin\"]"
   ]
  },
  {
   "cell_type": "markdown",
   "id": "7ae407cc",
   "metadata": {},
   "source": [
    "### Figure 6 - Table"
   ]
  },
  {
   "cell_type": "code",
   "execution_count": 169,
   "id": "a20c5a69",
   "metadata": {
    "vscode": {
     "languageId": "r"
    }
   },
   "outputs": [],
   "source": [
    "all_metabolites_unique <- all_metabolites\n",
    "# Columns to remove\n",
    "cols_to_remove <- c(\"significant_any_challenge\", \"significant_fasting_pat_oltt\", \n",
    "\"significant_fasting_pat\", \"significant_fasting_oltt\", \"significant_pat_oltt\")\n",
    "\n",
    "# Remove columns if they exist\n",
    "all_metabolites_unique <- all_metabolites_unique[, !cols_to_remove, with = FALSE]\n",
    "\n",
    "# Create a new column indicating the count of TRUE values in the significant columns\n",
    "all_metabolites_unique$true_count <- rowSums(all_metabolites_unique[, c(\"significant_fasting\", \"significant_pat\", \"significant_oltt\")] == TRUE)\n",
    "\n",
    "# Filter rows where only one of the columns has TRUE\n",
    "result <- all_metabolites_unique[true_count == 1]\n",
    "\n",
    "fwrite(result, \"../results/unique_challenge_metabolites.csv\")"
   ]
  },
  {
   "cell_type": "markdown",
   "id": "b078d4c8",
   "metadata": {},
   "source": [
    "### Generate log2 fold change and ANOVA p-value table "
   ]
  },
  {
   "cell_type": "code",
   "execution_count": null,
   "id": "d5a62e90",
   "metadata": {
    "vscode": {
     "languageId": "r"
    }
   },
   "outputs": [],
   "source": [
    "#should not be separate\n",
    "#anova_results_combined <- merge(anova_results_fasting, anova_results_pat, by = c(\"metabolite\", \"platform_name\", \"super_pathway\", \"sub_pathway\"), all = TRUE)\n",
    "#anova_results_combined <- merge(anova_results_combined, anova_results_oltt, by = c(\"metabolite\", \"platform_name\", \"super_pathway\", \"sub_pathway\"), all = TRUE)"
   ]
  },
  {
   "cell_type": "code",
   "execution_count": 257,
   "id": "6e8df6e1",
   "metadata": {
    "vscode": {
     "languageId": "r"
    }
   },
   "outputs": [],
   "source": [
    "generate_log2foldchange_pvalue_data <- function(anova_results_fasting, anova_results_pat, anova_results_oltt, \n",
    "                                     all_metabolites, met_data) {\n",
    "  \n",
    "  # Merge results into one table\n",
    "  anova_results_combined <- merge(anova_results_fasting, anova_results_pat, by = c(\"metabolite\", \"platform_name\", \"super_pathway\", \"sub_pathway\"), all = TRUE)\n",
    "  anova_results_combined <- merge(anova_results_combined, anova_results_oltt, by = c(\"metabolite\", \"platform_name\", \"super_pathway\", \"sub_pathway\"), all = TRUE)\n",
    "  \n",
    "  # Rename p-value columns for each challenge\n",
    "  setnames(anova_results_combined, \n",
    "           c(\"p_value.x\", \"p_value.y\", \"p_value\"), \n",
    "           c(\"p_value_fasting\", \"p_value_pat\", \"p_value_oltt\"))\n",
    "  \n",
    "  # Remove the redundant challenge columns and significance columns as they are not needed\n",
    "  anova_results_combined[, c(\"challenge.x\", \"challenge.y\", \"challenge\", \"significant.x\", \"significant.y\", \"significant\") := NULL]\n",
    "\n",
    "  all_metabolites_fig <- all_metabolites\n",
    "\n",
    "  # Check if the columns exist before removing\n",
    "  cols_to_remove <- c(\"significant_fasting\", \"significant_pat\", \"significant_oltt\", \n",
    "                    \"significant_fasting_pat\", \"significant_fasting_oltt\", \"significant_pat_oltt\")\n",
    "\n",
    "  # Remove columns if they exist\n",
    "  existing_cols <- cols_to_remove[cols_to_remove %in% names(all_metabolites_fig)]\n",
    "  if (length(existing_cols) > 0) {\n",
    "    all_metabolites_fig[, (existing_cols) := NULL]\n",
    "  }\n",
    "\n",
    "  # Merge the p-values into the all_metabolites dataframe\n",
    "  all_metabolites_fig <- merge(all_metabolites_fig, anova_results_combined, by = c(\"metabolite\", \"platform_name\", \"super_pathway\", \"sub_pathway\"), all.x = TRUE)\n",
    "  \n",
    "  \n",
    "  # Merge all_metabolites with met_data based on metabolite and platform\n",
    "  all_metabolites_fig <- merge(all_metabolites_fig, met_data[, .(metabolite, platform_name, subject, challenge_time, \n",
    "                              challenge, response)], \n",
    "                                by = c(\"metabolite\", \"platform_name\"), all.x = TRUE)\n",
    "  \n",
    "  # Calculate the mean for each metabolite, platform, challenge, and time\n",
    "  all_metabolites_fig[, mean_response := mean(response, na.rm = TRUE), \n",
    "                         by = .(metabolite, platform_name, challenge, challenge_time)]\n",
    "  \n",
    "  # Remove 'subject' and 'response' columns\n",
    "  all_metabolites_fig <- all_metabolites_fig[, !c(\"subject\", \"response\"), with = FALSE]\n",
    "  \n",
    "  # Remove duplicates based on all columns\n",
    "  all_metabolites_fig <- unique(all_metabolites_fig)\n",
    "  \n",
    "  # Calculate log2_foldchange based on the difference in mean_response\n",
    "  all_metabolites_fig[, log2_foldchange := \n",
    "                        mean_response - mean_response[challenge_time == 0],\n",
    "                      by = .(metabolite, platform_name, challenge)]\n",
    "  \n",
    "  # Replace NA in mean_response with 0 if time is 0\n",
    "  all_metabolites_fig[challenge_time == 0 & is.na(mean_response), mean_response := 0]\n",
    "  \n",
    "  # Create a new column 'p_value' based on the 'challenge' column\n",
    "  all_metabolites_fig[, p_value := \n",
    "      ifelse(challenge == \"Fasting\", p_value_fasting,\n",
    "      ifelse(challenge == \"PAT\", p_value_pat,\n",
    "      ifelse(challenge == \"OLTT\", p_value_oltt, NA)))] \n",
    "  \n",
    "  # Now remove the original p_value columns (p_value_fasting, p_value_pat, p_value_sld)\n",
    "  all_metabolites_fig[, c(\"p_value_fasting\", \"p_value_pat\", \"p_value_oltt\") := NULL]\n",
    "  \n",
    "  # Create a new column 'neg_log_p_value' that takes -log10 of the 'p_value' column\n",
    "  all_metabolites_fig[, neg_log10_p_value := -log10(p_value)]\n",
    "  \n",
    "  # Create a new column 'abs_log2_foldchange' that stores the absolute value of 'log2_foldchange'\n",
    "  all_metabolites_fig[, abs_log2_foldchange := abs(log2_foldchange)]\n",
    "  \n",
    "  # Return the processed data frame\n",
    "  return(all_metabolites_fig)\n",
    "}"
   ]
  },
  {
   "cell_type": "markdown",
   "id": "1a691b02",
   "metadata": {},
   "source": [
    "### Figure 2 "
   ]
  },
  {
   "cell_type": "markdown",
   "id": "efc2a20d",
   "metadata": {},
   "source": [
    "#### Putting together a table"
   ]
  },
  {
   "cell_type": "code",
   "execution_count": null,
   "id": "fe5b2592",
   "metadata": {
    "vscode": {
     "languageId": "r"
    }
   },
   "outputs": [],
   "source": [
    "process_and_save_figure2_data <- function(all_metabolites, anova_results_fasting, anova_results_pat, anova_results_oltt, met_data, output_path = \"../results/figure_2_table.csv\") {\n",
    "  \n",
    "  # Generate figure 2 data\n",
    "  all_metabolites_fig <- generate_log2foldchange_pvalue_data(anova_results_fasting, anova_results_pat, anova_results_oltt, all_metabolites, met_data)\n",
    "\n",
    "  # Column to remove\n",
    "  col_to_remove <- \"significant_fasting_pat_oltt\"\n",
    "\n",
    "  # Remove column if it exists\n",
    "  if (col_to_remove %in% names(all_metabolites_fig)) {\n",
    "    all_metabolites_fig[, (col_to_remove) := NULL]\n",
    "  }\n",
    "  \n",
    "  # Filter rows where platform is either \"Metabolon HD4 [nt-ms]\" or \"In-house biochemistry [chem.]\"\n",
    "  all_metabolites_fig <- all_metabolites_fig[\n",
    "    platform_name %in% c(\"Metabolon HD4 [nt-ms]\")\n",
    "  ]\n",
    "\n",
    "  # Filter rows where either condition applies: abs_log2_foldchange > 1 or neg_log10_p_value > 40\n",
    "  all_metabolites_fig <- all_metabolites_fig[neg_log10_p_value > 40 | (significant_any_challenge == TRUE & abs_log2_foldchange > 2)]\n",
    "  \n",
    "  # Sort the table in decreasing order of abs_log2_foldchange\n",
    "  setorder(all_metabolites_fig, -abs_log2_foldchange)\n",
    "  \n",
    "  # Save the table to a CSV file\n",
    "  fwrite(all_metabolites_fig, output_path)\n",
    "  \n",
    "  message(\"Processed data saved to: \", output_path)\n",
    "  \n",
    "  # Return the processed data table\n",
    "  return(all_metabolites_fig)\n",
    "}\n",
    "\n",
    "# Example of how to call the function and get the result\n",
    "processed_data_fig2 <- process_and_save_figure2_data(all_metabolites, anova_results_fasting, anova_results_pat, \n",
    "                                                     anova_results_oltt, met_data_filtered, output_path = \"../results/figure_2_table.csv\")\n",
    "\n",
    "head(processed_data_fig2)\n"
   ]
  },
  {
   "cell_type": "markdown",
   "id": "211b3e1a",
   "metadata": {},
   "source": [
    "#### Supplementary Figure 1: Heatmap"
   ]
  },
  {
   "cell_type": "code",
   "execution_count": null,
   "id": "50d95744",
   "metadata": {
    "vscode": {
     "languageId": "r"
    }
   },
   "outputs": [],
   "source": [
    "  # Custom labels for challenge\n",
    "  challenge_labels <- c(\"Fasting\" = \"Fasting\",\n",
    "                        \"PAT\" = \"Physical Activity\",\n",
    "                        \"OLTT\" = \"Oral lipid tolerance test\")\n",
    "\n",
    "# Function to preprocess the data\n",
    "preprocess_data <- function(met_data_filtered, processed_data_fig2) {\n",
    "  # Merge data and filter\n",
    "  met_data_fig2_filtered <- merge(met_data_filtered, processed_data_fig2[, .(metabolite, platform_name)], \n",
    "                                   by = c(\"metabolite\", \"platform_name\"), all.x = FALSE)\n",
    "  \n",
    "  met_data_fig2_filtered <- unique(met_data_fig2_filtered)\n",
    "\n",
    "  # Create a reference column for the response at time == 0\n",
    "  met_data_fig2_filtered <- met_data_fig2_filtered %>%\n",
    "    group_by(metabolite, platform_name, subject, challenge) %>%\n",
    "    mutate(response_at_0 = response[challenge_time == 0][1]) %>%\n",
    "    ungroup() %>%\n",
    "    mutate(log2_foldchange = response - response_at_0, abs_log2_foldchange = abs(log2_foldchange))\n",
    "\n",
    "  # Reorder the challenge factor\n",
    "  met_data_fig2_filtered$challenge <- factor(met_data_fig2_filtered$challenge, \n",
    "                                             levels = c(\"PAT\", \"OLTT\", \"Fasting\"))\n",
    "\n",
    "  return(met_data_fig2_filtered)\n",
    "}\n",
    "\n",
    "# Function to split data by challenge\n",
    "split_data_by_challenge <- function(met_data_fig2_filtered) {\n",
    "  met_data_fig2_filtered_split <- split(met_data_fig2_filtered, met_data_fig2_filtered$challenge)\n",
    "  return(met_data_fig2_filtered_split)\n",
    "}\n",
    "\n",
    "# Prepare plot data\n",
    "prepare_plot_data <- function(met_data_combined) {\n",
    "  variance_data <- met_data_combined %>%\n",
    "    group_by(metabolite, platform_name, challenge, challenge_time) %>%\n",
    "    summarise(variance_log2fc = var(log2_foldchange, na.rm = TRUE)) %>%\n",
    "    ungroup()\n",
    "\n",
    "  # Pivot the variance data into a wide format\n",
    "  variance_wide <- variance_data %>%\n",
    "    pivot_wider(names_from = challenge_time, values_from = variance_log2fc)\n",
    "  \n",
    "  # Reshape the data to long format for ggplot\n",
    "  variance_long <- pivot_longer(variance_wide, \n",
    "                                cols = -c(metabolite, platform_name, challenge), \n",
    "                                names_to = \"time_point\", \n",
    "                                values_to = \"variance_log2fc\")\n",
    "\n",
    "  variance_long$time_point <- factor(variance_long$time_point, \n",
    "                                      levels = c(\"0\", \"15\", \"30\", \"45\", \"60\", \"90\", \"120\", \"180\", \n",
    "                                                \"240\", \"300\", \"360\", \"420\", \"480\", \"600\", \"720\", \n",
    "                                                \"840\", \"960\", \"1920\"))\n",
    "\n",
    "  return(variance_long)\n",
    "}\n",
    "\n",
    "# Function to create heatmap for high-variance fasting metabolites with dynamic scale and custom color scale\n",
    "create_heatmap_for_high_variance_fasting <- function(variance_long) {\n",
    "  # Filter for fasting where variance_log2fc > 30\n",
    "  high_variance_fasting <- variance_long %>%\n",
    "    filter(challenge == \"Fasting\", variance_log2fc > 30)\n",
    "  \n",
    "  # Get the max value dynamically for the high-variance fasting data\n",
    "  max_fasting_variance <- max(high_variance_fasting$variance_log2fc, na.rm = TRUE)\n",
    "  \n",
    "  # Define a color palette that starts from orange (#FB5607) and goes into green (#00FF00)\n",
    "  color_palette <- c(\"#6ac597\", \"#0B2B26\")\n",
    "  \n",
    "  # Define breaks and labels for high-variance fasting plot\n",
    "  breaks <- c(30, 65, 100, 150, 196)  # For values >30 up to the max\n",
    "  labels <- c(\"30\", \"65\", \"100\", \"150\", \"196\") # Custom legend\n",
    "  \n",
    "  p <- ggplot(high_variance_fasting, aes(x = time_point, y = metabolite, fill = variance_log2fc)) +  \n",
    "    geom_tile(aes(fill = variance_log2fc), color = \"gray\") +  \n",
    "    facet_wrap(~ challenge, scales = \"free_x\", ncol = 3, labeller = labeller(challenge = challenge_labels)) +  \n",
    "    scale_fill_gradientn(\n",
    "      colors = color_palette, \n",
    "      limits = c(30, max_fasting_variance),  # Scale starts at 30 and goes to the max value\n",
    "      breaks = breaks, \n",
    "      labels = labels  # Custom legend labels\n",
    "    ) +  \n",
    "    labs(x = \"Challenge time (min)\", y = \"Metabolite\", fill = \"Inter-individual variation\") +  \n",
    "    theme_minimal() +\n",
    "    theme(\n",
    "      axis.text.x = element_text(hjust = 1, size = 10),\n",
    "      axis.ticks = element_line(color = \"black\", size = 0.5),\n",
    "      axis.line = element_line(color = \"black\", size = 1),\n",
    "      strip.background = element_blank(),\n",
    "      strip.text = element_text(size = 12),\n",
    "      panel.spacing = unit(2, \"lines\"),\n",
    "      axis.title.y = element_text(size = 12, face = \"bold\"),\n",
    "      axis.title.x = element_text(size = 12, face = \"bold\"),\n",
    "      axis.text.y = element_text(size = 12),\n",
    "      panel.background = element_blank(),\n",
    "      plot.background = element_blank(),\n",
    "      panel.grid = element_blank(),\n",
    "      legend.position = \"top\",\n",
    "      legend.title = element_text(size = 12, face = \"bold\"),\n",
    "      legend.text = element_text(size = 10)\n",
    "    )\n",
    "  \n",
    "  return(p)\n",
    "}\n",
    "\n",
    "# Function to create a general heatmap with a fixed scale\n",
    "create_heatmap <- function(variance_long) {\n",
    "  # Filter out rows where time_point is \"0\"\n",
    "  variance_long <- variance_long %>%\n",
    "    filter(time_point != \"0\")\n",
    "  \n",
    "  # Adjust variance values\n",
    "  variance_long$variance_log2fc <- ifelse(variance_long$variance_log2fc > 30, 31, variance_long$variance_log2fc)\n",
    "\n",
    "  # Define color palette for the general heatmap\n",
    "  color_palette <- c(\"white\", \"blue\", \"#6ac597\")  # Orange to Green\n",
    "  \n",
    "  # Define breaks and labels for the general heatmap\n",
    "  breaks <- c(0, 10, 20, 31)  # Four points: 0, 10, 20, >30\n",
    "  labels <- c(\"0\", \"10\", \"20\", \">30\")  # Corresponding labels\n",
    "\n",
    "  # Example plot creation with correct ordering of 'challenge'\n",
    "p <- ggplot(variance_long, aes(x = time_point, y = metabolite, fill = variance_log2fc)) +  \n",
    "  geom_tile(aes(fill = variance_log2fc), color = \"gray\") +  \n",
    "  facet_wrap(~ challenge, scales = \"free_x\", ncol = 3, labeller = labeller(challenge = challenge_labels)) +  \n",
    "  scale_fill_gradientn(colors = color_palette, values = c(0, 0.9, 1), limits = c(0, 31), breaks = breaks, labels = labels) +  \n",
    "  labs(x = \"Challenge time [min]\", y = \"Metabolite\", fill = \"Inter-individual variation\") +  \n",
    "  theme_minimal() +\n",
    "  theme(\n",
    "    axis.text.x = element_text(angle = 45, hjust = 1, size = 10),\n",
    "    axis.ticks = element_line(color = \"black\", size = 1),\n",
    "    axis.line = element_line(color = \"black\", size = 1),\n",
    "    strip.background = element_blank(),\n",
    "    strip.text = element_text(size = 12),\n",
    "    panel.spacing = unit(2, \"lines\"),\n",
    "    axis.title.y = element_text(size = 12, face = \"bold\"),\n",
    "    axis.title.x = element_text(size = 12, face = \"bold\"),\n",
    "    axis.text.y = element_text(size = 8),\n",
    "    panel.background = element_blank(),\n",
    "    plot.background = element_blank(),\n",
    "    panel.grid = element_blank(),\n",
    "    legend.position = \"top\",\n",
    "    legend.title = element_text(size = 12, face = \"bold\"),\n",
    "    legend.text = element_text(size = 10)\n",
    "  )\n",
    "\n",
    "  \n",
    "  return(p)\n",
    "}\n",
    "\n",
    "# Function to create time series plot for high-variance fasting metabolites\n",
    "create_time_series_plot <- function(variance_long) {\n",
    "  # Filter for fasting where variance_log2fc > 30\n",
    "  high_variance_fasting <- variance_long %>%\n",
    "    filter(challenge == \"Fasting\", variance_log2fc > 30)\n",
    "\n",
    "  # Get the list of metabolites where variance_log2fc > 30\n",
    "  metabolites_platforms_over_30 <- high_variance_fasting %>%\n",
    "    dplyr::select(metabolite, platform_name) %>%\n",
    "    distinct()\n",
    "\n",
    "  # Print metabolites and platforms that meet the variance condition\n",
    "  print(\"Metabolites and Platforms with variance_log2fc > 30:\")\n",
    "  print(metabolites_platforms_over_30)\n",
    "\n",
    "  # Filter the main data to include only these metabolites and platforms\n",
    "  filtered_data <- variance_long %>%\n",
    "    filter(metabolite %in% metabolites_platforms_over_30$metabolite, \n",
    "           platform_name %in% metabolites_platforms_over_30$platform_name,\n",
    "           challenge == \"Fasting\")  # Only for the Fasting challenge\n",
    "\n",
    "  # Remove rows where time_point is NA\n",
    "  filtered_data <- filtered_data %>%\n",
    "    filter(!is.na(time_point))\n",
    "\n",
    "  # Get the max value dynamically for the high-variance fasting data\n",
    "  max_fasting_variance <- max(high_variance_fasting$variance_log2fc, na.rm = TRUE)\n",
    "\n",
    "  # Ensure time_point is numeric to allow for proper scaling\n",
    "  filtered_data$time_point <- as.numeric(as.character(filtered_data$time_point))\n",
    "\n",
    "  # Define a custom color palette for better distinction\n",
    "  #custom_palette <- RColorBrewer::brewer.pal(n = length(unique(filtered_data$metabolite)), name = \"Set3\")\n",
    "\n",
    "  # Create a ggplot for the time series of variance_log2fc for all time points in \"Fasting\"\n",
    "  p <- ggplot(filtered_data, aes(x = time_point, y = variance_log2fc, group = metabolite, color = metabolite)) +\n",
    "    geom_line(size = 1.5) +  # Thicker lines for better visibility\n",
    "    #scale_color_manual(values = custom_palette) +  # Assign custom colors\n",
    "    theme_minimal() +\n",
    "    labs(\n",
    "      title = \"High Variance Fasting Metabolites Time Series (Variance > 30)\",\n",
    "      x = \"Time (minutes)\",\n",
    "      y = \"Variance of log2 Fold Change\"\n",
    "    ) +\n",
    "    theme(\n",
    "      axis.text.x = element_text(angle = 45, hjust = 1),\n",
    "      axis.text.y = element_text(size = 12),\n",
    "      axis.title.x = element_text(size = 14),\n",
    "      axis.title.y = element_text(size = 14),\n",
    "      legend.position = \"top\",\n",
    "      legend.title = element_text(size = 14),\n",
    "      legend.text = element_text(size = 12),\n",
    "      #legend.key = element_rect(size = 10, linetype = \"solid\"),  # Make the legend keys bigger\n",
    "      legend.key.size = unit(1.5, \"lines\")  # Increase size of legend boxes\n",
    "    ) +\n",
    "    scale_y_continuous(limits = c(0, max_fasting_variance)) + # Dynamic y-axis scaling\n",
    "    scale_x_continuous(breaks = unique(filtered_data$time_point))  # Show all relevant time points for \"Fasting\"\n",
    "  \n",
    "  # Print the plot\n",
    "  print(p)\n",
    "}\n",
    "\n",
    "# Function to save the plot to a file\n",
    "save_plot <- function(plot, filename) {\n",
    "  ggsave(filename, plot = plot, bg = \"white\", width = 15, height = 12, units = \"in\", dpi = 300)\n",
    "}\n",
    "\n",
    "# Function to run the entire pipeline\n",
    "run_pipeline <- function(met_data_filtered, processed_data_fig2) {\n",
    "  met_data_fig2_filtered <- preprocess_data(met_data_filtered, processed_data_fig2)\n",
    "  met_data_fig2_filtered_split <- split_data_by_challenge(met_data_fig2_filtered)\n",
    "  variance_long <- bind_rows(lapply(met_data_fig2_filtered_split, prepare_plot_data))\n",
    "  blah <- create_time_series_plot(variance_long)\n",
    "  #save_plot(blah, \"../results/plots/sup_fig_1_time_series.png\")\n",
    "  #save_plot(create_heatmap_for_high_variance_fasting(variance_long), \"../results/plots/sup_fig_1_fasting_high_variance_heatmap.png\")\n",
    "  #save_plot(create_heatmap(variance_long), \"../results/plots/sup_fig_1_heatmap_all.png\")\n",
    "}\n",
    "\n",
    "# Run the pipeline\n",
    "run_pipeline(met_data_filtered, processed_data_fig2)\n"
   ]
  },
  {
   "cell_type": "code",
   "execution_count": 174,
   "id": "c170f1cf",
   "metadata": {
    "vscode": {
     "languageId": "r"
    }
   },
   "outputs": [],
   "source": [
    "# Define challenge colors\n",
    "challenge_colors <- c(\"Fasting\" = \"#E55050\",  \n",
    "                       \"PAT\" = \"#BDC0F2\",  \n",
    "                       \"OLTT\" = \"#E3D1A7\")  # Customize as needed\n",
    "\n",
    "challenge_labels <- c(\n",
    "    \"Fasting\" = \"Fasting\",\n",
    "    \"PAT\" = \"Physical Activity\",\n",
    "    \"OLTT\" = \"Oral Lipid Tolerance Test\")\n",
    "\n",
    "# Function to create and save histograms for variance_log2fc values\n",
    "create_histograms <- function(variance_long) {\n",
    "  # Check the maximum value in the variance_log2fc column\n",
    "  max_value <- max(variance_long$variance_log2fc, na.rm = TRUE)\n",
    "  print(paste(\"Max variance_log2fc:\", max_value))\n",
    "  \n",
    "  # Create individual histograms for each challenge with customized colors\n",
    "  hist_fasting <- ggplot(variance_long %>% filter(challenge == \"Fasting\"), \n",
    "                         aes(x = variance_log2fc)) +\n",
    "    geom_histogram(binwidth = 0.1, fill = challenge_colors[\"Fasting\"], color = \"black\") +\n",
    "    labs(title = \"Fasting\", x = \"Variance of log2 Fold Change\", y = \"Frequency\") +\n",
    "    scale_x_continuous(trans = 'log10', limits = c(1, max_value)) +  # Log scale for x-axis\n",
    "    scale_y_continuous(limits = c(0, 20), expand = expansion(mult = c(0, 0.05))) +  # Shift y-axis to intersect at 0\n",
    "    theme_minimal() +\n",
    "    geom_hline(yintercept = 0, color = \"black\", size = 0.5) +  # Draw x-axis\n",
    "    geom_vline(xintercept = 0, color = \"black\", size = 0.5)  # Draw y-axis\n",
    "\n",
    "  hist_pat <- ggplot(variance_long %>% filter(challenge == \"PAT\"), \n",
    "                     aes(x = variance_log2fc)) +\n",
    "    geom_histogram(binwidth = 0.1, fill = challenge_colors[\"PAT\"], color = \"black\") +\n",
    "    labs(title = \"Physical Activity\", x = \"Variance of log2 Fold Change\", y = \"Frequency\") +\n",
    "    scale_x_continuous(trans = 'log10', limits = c(1, max_value)) +  # Log scale for x-axis\n",
    "    scale_y_continuous(limits = c(0, 20), expand = expansion(mult = c(0, 0.05))) +  # Shift y-axis to intersect at 0\n",
    "    theme_minimal() +\n",
    "    geom_hline(yintercept = 0, color = \"black\", size = 0.5) +  # Draw x-axis\n",
    "    geom_vline(xintercept = 0, color = \"black\", size = 0.5)  # Draw y-axis\n",
    "\n",
    "  hist_oltt <- ggplot(variance_long %>% filter(challenge == \"OLTT\"), \n",
    "                      aes(x = variance_log2fc)) +\n",
    "    geom_histogram(binwidth = 0.1, fill = challenge_colors[\"OLTT\"], color = \"black\") +\n",
    "    labs(title = \"Oral Liquid Tolerance Test\", x = \"Variance of log2 Fold Change\", y = \"Frequency\") +\n",
    "    scale_x_continuous(trans = 'log10', limits = c(1, max_value)) +  # Log scale for x-axis\n",
    "    scale_y_continuous(limits = c(0, 20), expand = expansion(mult = c(0, 0.05))) +  # Shift y-axis to intersect at 0\n",
    "    theme_minimal() +\n",
    "    geom_hline(yintercept = 0, color = \"black\", size = 0.5) +  # Draw x-axis\n",
    "    geom_vline(xintercept = 0, color = \"black\", size = 0.5)  # Draw y-axis\n",
    "  \n",
    "  # Save the histograms into one PDF file with consistent axis scaling\n",
    "  ggsave(\"../results/plots/histograms_variance_log2fc.pdf\", \n",
    "         plot = gridExtra::grid.arrange(hist_fasting, hist_pat, hist_oltt, ncol = 3),\n",
    "         width = 15, height = 5)\n",
    "}"
   ]
  },
  {
   "cell_type": "markdown",
   "id": "30a39e7a",
   "metadata": {},
   "source": [
    "#### Volcano Plot"
   ]
  },
  {
   "cell_type": "code",
   "execution_count": null,
   "id": "3355e9d6",
   "metadata": {
    "vscode": {
     "languageId": "r"
    }
   },
   "outputs": [],
   "source": [
    "# Define challenge colors\n",
    "challenge_colors <- c(\"Fasting\" = \"red\",  \n",
    "                      \"PAT\" = \"blue\",  \n",
    "                      \"OLTT\" = \"#BA8E23\")  # Customize as needed\n",
    "\n",
    "# Define time point shapes with distinct shapes for each time point\n",
    "time_point_shapes <- c(\n",
    "  \"30\" = 16,  \n",
    "  \"60\" = 17,  \n",
    "  \"120\" = 15, \n",
    "  \"240\" = 5 \n",
    ")\n",
    "\n",
    "# Custom labels for challenge\n",
    "challenge_labels <- c(\"Fasting\" = \"Fasting\",\n",
    "                      \"PAT\" = \"Physical Activity\",\n",
    "                      \"OLTT\" = \"Oral lipid tolerance test\")\n",
    "\n",
    "generate_figure2a <- function(all_metabolites_fig, output_path = \"../results/plots/volcano_plot_figure.png\") {\n",
    "  \n",
    "  # Create volcano plot\n",
    "  volcano_plot <- ggplot(all_metabolites_fig, aes(x = log2_foldchange, y = neg_log10_p_value, \n",
    "                     color = challenge, shape = as.factor(challenge_time))) +\n",
    "    \n",
    "    # Add transparent rectangle\n",
    "    annotate(\"rect\", xmin = -1, xmax = 1, ymin = 0, ymax = Inf, alpha = 0.2, fill = \"blue\") +\n",
    "    \n",
    "    # Add dashed vertical lines at x = -1 and x = 1\n",
    "    geom_vline(xintercept = -1, linetype = \"dashed\", color = \"black\", size = 0.5) +\n",
    "    geom_vline(xintercept = 1, linetype = \"dashed\", color = \"black\", size = 0.5) +\n",
    "    \n",
    "    # Add dashed horizontal line for significance threshold\n",
    "    geom_hline(yintercept = -log10(0.05/637), linetype = \"dashed\", color = \"black\", size = 0.5) +\n",
    "    \n",
    "    # Add points (ensure this is after the rectangle and lines to be on top)\n",
    "    geom_point(size = 3, alpha = 1) +  # Set alpha to 1 for fully opaque points\n",
    "    \n",
    "    # Color and shape scales\n",
    "    scale_color_manual(values = challenge_colors, labels = challenge_labels) +  \n",
    "    scale_shape_manual(values = time_point_shapes) +\n",
    "    \n",
    "    # Labels\n",
    "    labs(x = \"log2 fold change\", \n",
    "         y = \"-log10(p-value)\",\n",
    "         color = \"Challenge\", \n",
    "         shape = \"Challenge time [min]\") +\n",
    "    \n",
    "    # Adjust x and y axes limits\n",
    "    scale_y_continuous(expand = c(0, 0) , limits = c(0, 240)) +\n",
    "    scale_x_continuous(expand = c(0, 0), limits = c(-5, 7), \n",
    "                       breaks = seq(-5, 7, by = 1), labels = seq(-5, 7, by = 1)) +  # Set integer labels on x-axis\n",
    "    \n",
    "    # Theme settings\n",
    "    theme_minimal() +\n",
    "    theme(\n",
    "      legend.position = \"top\",  # Legend stays at the top\n",
    "      legend.justification = \"left\",\n",
    "      legend.box = \"horizontal\",\n",
    "      legend.title = element_text(size = 10, face = \"bold\"),\n",
    "      legend.text = element_text(size = 10),\n",
    "      \n",
    "      axis.line = element_line(color = \"black\", size = 1),\n",
    "      axis.ticks = element_line(color = \"black\", size = 1),  # Ensure ticks are visible\n",
    "      axis.title = element_text(size = 14, face = \"bold\"),  # Increase axis title size\n",
    "      axis.text = element_text(size = 14)  # Increase size of the numbers next to ticks\n",
    "    ) +\n",
    "    \n",
    "    # Organize legends properly\n",
    "    guides(\n",
    "      color = guide_legend(ncol = 1, order = 1, title.position = \"top\"),  # Challenge legend\n",
    "      shape = guide_legend(ncol = 2, order = 2, title.position = \"top\")   # Challenge time legend\n",
    "    )\n",
    "\n",
    "  # Save the volcano plot\n",
    "  ggsave(output_path, plot = volcano_plot, bg = \"white\", width = 10, height = 8, units = \"in\")\n",
    "  \n",
    "  # Return the volcano plot object in case the user wants to further customize or display it\n",
    "  return(volcano_plot)\n",
    "}\n",
    "\n",
    "# Example of how to call the function\n",
    "generate_figure2a(processed_data_fig2, \"../results/plots/fig_2_A_volcano_plot_logfold_pvalue.png\")\n"
   ]
  },
  {
   "cell_type": "markdown",
   "id": "51510974",
   "metadata": {},
   "source": [
    "#### Forest Plot"
   ]
  },
  {
   "cell_type": "code",
   "execution_count": null,
   "id": "c26b7abd",
   "metadata": {
    "vscode": {
     "languageId": "r"
    }
   },
   "outputs": [],
   "source": [
    "super_pathway_colors <- c(\n",
    "  \"Amino Acids\" = \"#d62728\",\n",
    "  \"Carbohydrates\" = \"#7f7f7f\",\n",
    "  \"Cofactors and Vitamins\" = \"#9467bd\",\n",
    "  \"Energy\" = \"#8c564b\",\n",
    "  \"Lipids\" = \"#ba8e23\",\n",
    "  \"Nucleotides\" = \"#e377c2\",\n",
    "  \"Peptides\" = \"#2ca02c\",\n",
    "  \"Xenobiotics\" = \"#1f77b4\"\n",
    ")\n",
    "\n",
    "generate_figure2b <- function(all_metabolites_fig, output_path = \"../results/plots/forest_plot.png\") {\n",
    "  \n",
    "  # Define the custom order for super_pathway\n",
    "  pathway_order <- c(\"Carbohydrates\", \"Nucleotides\", \"Xenobiotics\", \n",
    "                     \"Amino Acids\", \"Lipids\", \"Cofactors and Vitamins\", \"Energy\")\n",
    "  \n",
    "  # Ensure the super_pathway is a factor with the specified order\n",
    "  all_metabolites_fig$super_pathway <- factor(all_metabolites_fig$super_pathway, levels = pathway_order)\n",
    "  \n",
    "  # Sort the dataframe by the ordered super_pathway and alphabetically by metabolite within each super_pathway\n",
    "  all_metabolites_fig <- all_metabolites_fig[order(all_metabolites_fig$super_pathway, all_metabolites_fig$metabolite), ]\n",
    "  \n",
    "  # Combine super_pathway and metabolite to ensure metabolites are grouped within the correct super_pathway order\n",
    "  all_metabolites_fig$metabolite <- factor(all_metabolites_fig$metabolite, \n",
    "                                            levels = unique(all_metabolites_fig$metabolite[order(all_metabolites_fig$super_pathway, all_metabolites_fig$metabolite)]))\n",
    "  \n",
    "  # Create forest plot\n",
    "  forest_plot <- ggplot(all_metabolites_fig, aes(x = log2_foldchange, y = metabolite)) +\n",
    "    geom_tile(aes(x = -5.5, fill = super_pathway), width = 0.2, height = 1) +  # Super pathway bar\n",
    "    scale_fill_manual(values = super_pathway_colors, name = \"Super Pathway\") +\n",
    "    \n",
    "    # Shaded region\n",
    "    annotate(\"rect\", xmin = -1, xmax = 1, ymin = -Inf, ymax = Inf, alpha = 0.3, fill = \"gray80\") +\n",
    "    geom_vline(xintercept = 0, linetype = \"dashed\", color = \"black\", size = 0.3) +\n",
    "    geom_point(aes(color = challenge, shape = as.factor(challenge_time)), size = 2, alpha = 0.8) +\n",
    "  \n",
    "    # Proper legend integration\n",
    "    scale_color_manual(\n",
    "      values = challenge_colors, \n",
    "      labels = challenge_labels, \n",
    "      guide = guide_legend(title = \"Challenge\", order = 1)\n",
    "    ) +\n",
    "    scale_shape_manual(\n",
    "      values = time_point_shapes,\n",
    "      guide = guide_legend(title = \"Challenge time [min]\", order = 2)\n",
    "    ) +\n",
    "  \n",
    "    # Labels\n",
    "    labs(x = \"log2 fold change\",\n",
    "         y = \"Metabolites\",\n",
    "         color = \"Challenge\", \n",
    "         shape = \"Challenge time [min]\") +\n",
    "  \n",
    "    theme_bw() +\n",
    "    theme(\n",
    "      legend.position = \"top\",  # Legend stays at the top\n",
    "      legend.justification = \"left\",\n",
    "      legend.title = element_text(size = 10, face = \"bold\"),\n",
    "      legend.text = element_text(size = 10),\n",
    "      \n",
    "      axis.text.x = element_text(size = 11),\n",
    "      axis.text.y = element_text(size = 9),\n",
    "      axis.title.x = element_text(size = 10, face = \"bold\"),\n",
    "      axis.title.y = element_text(size = 10, face = \"bold\"),\n",
    "      \n",
    "      strip.background = element_blank(),\n",
    "      strip.text = element_text(size = 10, face = \"bold\"),\n",
    "      \n",
    "      panel.border = element_blank(),\n",
    "      panel.spacing = unit(0.01, \"null\"), \n",
    "      axis.line = element_line(color = \"black\"),\n",
    "      \n",
    "      strip.text.y.left = element_blank(),\n",
    "      strip.placement = \"outside\"\n",
    "    ) +\n",
    "  \n",
    "    # Force legends into two separate lists\n",
    "    guides(\n",
    "      color = guide_legend(ncol = 1, order = 1, title.position = \"top\"),  # Challenge (list on left)\n",
    "      shape = guide_legend(ncol = 2, order = 2, title.position = \"top\"),   # Challenge time (2 columns)\n",
    "      fill = guide_legend(order = 1, nrow = 4, title.position = \"top\", title = \"Super Pathway\")\n",
    "    ) +\n",
    "  \n",
    "    # Facet grid for super_pathway\n",
    "    facet_grid(rows = vars(super_pathway), scales = \"free_y\", space = \"free_y\", switch = \"y\") +\n",
    "  \n",
    "    # Adjust x-axis to cut at exactly 7 (not more)\n",
    "    scale_x_continuous(limits = c(-6, 7), breaks = seq(-5, 7, by = 1))  # Cut x-axis right after 7\n",
    "  \n",
    "  # Save the plot\n",
    "  ggsave(output_path, plot = forest_plot, bg = \"white\", width = 10, height = 12, units = \"in\")\n",
    "  \n",
    "  # Return the forest plot object for further customization or use\n",
    "  return(forest_plot)\n",
    "}\n",
    "\n",
    "# Example of how to call the function\n",
    "generate_figure2b(processed_data_fig2, \"../results/plots/fig_2_B_forest_plot_logfold.png\")"
   ]
  },
  {
   "cell_type": "markdown",
   "id": "b22dc634",
   "metadata": {},
   "source": [
    "#### Input for Venn Diagram"
   ]
  },
  {
   "cell_type": "code",
   "execution_count": null,
   "id": "3d018ab7",
   "metadata": {
    "vscode": {
     "languageId": "r"
    }
   },
   "outputs": [],
   "source": [
    "create_venn_table <- function(all_metabolites) {\n",
    "  \n",
    "  # Calculate the counts of significant metabolites for each condition and their overlaps\n",
    "  venn_data <- c(\n",
    "    \"Fasting\" = sum(all_metabolites$significant_fasting),  # Metabolites significant in fasting condition\n",
    "    \"PAT\" = sum(all_metabolites$significant_pat),  # Metabolites significant in PAT condition\n",
    "    \"OLTT\" = sum(all_metabolites$significant_oltt),  # Metabolites significant in OLTT condition\n",
    "    \n",
    "    # Overlapping significance between conditions\n",
    "    \"Fasting ∩ PAT\" = sum(all_metabolites$significant_fasting_pat),  # Significant in both Fasting and PAT\n",
    "    \"Fasting ∩ OLTT\" = sum(all_metabolites$significant_fasting_oltt),  # Significant in both Fasting and OLTT\n",
    "    \"PAT ∩ OLTT\" = sum(all_metabolites$significant_pat_oltt),  # Significant in both PAT and OLTT\n",
    "    \"Fasting ∩ PAT ∩ OLTT\" = sum(all_metabolites$significant_fasting_pat_oltt),  # Significant in all three conditions\n",
    "    \n",
    "    # Exclusive significance for each condition\n",
    "    \"Fasting (exclusive)\" = sum(all_metabolites$significant_fasting) - sum(all_metabolites$significant_fasting_pat) - sum(all_metabolites$significant_fasting_oltt) - sum(all_metabolites$significant_fasting_pat_oltt),\n",
    "    \"PAT (exclusive)\" = sum(all_metabolites$significant_pat) - sum(all_metabolites$significant_pat_oltt) - sum(all_metabolites$significant_fasting_pat) - sum(all_metabolites$significant_fasting_pat_oltt),\n",
    "    \"OLTT (exclusive)\" = sum(all_metabolites$significant_oltt) - sum(all_metabolites$significant_fasting_oltt) - sum(all_metabolites$significant_pat_oltt) - sum(all_metabolites$significant_fasting_pat_oltt),\n",
    "    \n",
    "    # Overall summary statistics\n",
    "    \"Total Metabolites\" = nrow(all_metabolites),  # Total number of metabolites analyzed\n",
    "    \"Total Significant in Any Challenge\" = sum(all_metabolites$significant_any_challenge),  # Total metabolites significant in at least one condition\n",
    "    \"Total Not Significant\" = nrow(all_metabolites) - sum(all_metabolites$significant_any_challenge)  # Metabolites not significant in any condition\n",
    "  )\n",
    "  \n",
    "  # Convert the named vector to a data.table for better readability and handling\n",
    "  venn_table <- data.table(Category = names(venn_data), Count = venn_data)\n",
    "  venn_table  # Diasplay the created Venn diagram table\n",
    "}\n",
    "\n",
    "# Call the function to generate and return the Venn diagram table\n",
    "create_venn_table(all_metabolites)"
   ]
  },
  {
   "cell_type": "markdown",
   "id": "f7e32f21",
   "metadata": {},
   "source": [
    "#### Input for Nested Donut - Metabolite Responses by Class"
   ]
  },
  {
   "cell_type": "code",
   "execution_count": null,
   "id": "e93aad26",
   "metadata": {
    "vscode": {
     "languageId": "r"
    }
   },
   "outputs": [],
   "source": [
    "create_nested_donut_table <- function(all_metabolites) {\n",
    "  # Print tables for debugging and validation\n",
    "  # print(table(all_metabolites$super_pathway))  # Total count of metabolites per super_pathway\n",
    "  # print(table(all_metabolites$super_pathway[all_metabolites$significant_any_challenge]))  # Count of significant metabolites per super_pathway\n",
    "  \n",
    "  # Compute total counts for each super_pathway\n",
    "  super_pathway_counts <- table(all_metabolites$super_pathway)\n",
    "  \n",
    "  # Compute counts for significant metabolites\n",
    "  sig_super_pathway_counts <- table(all_metabolites$super_pathway[all_metabolites$significant_any_challenge])\n",
    "  \n",
    "  # Create a table combining both total and significant counts\n",
    "  nested_donut_table <- data.table(\n",
    "    super_pathway = names(super_pathway_counts),\n",
    "    total = as.integer(super_pathway_counts),\n",
    "    significant = as.integer(sig_super_pathway_counts[names(super_pathway_counts)]) # Ensure missing categories are filled with NA\n",
    "  )\n",
    "\n",
    "  # Save the table to a CSV file\n",
    "  fwrite(nested_donut_table, file = \"../results/nested_donut_counts_per_pathway.csv\")\n",
    "  message(\"Nested Donut input saved: ../results/nested_donut_counts_per_pathway.csv\")\n",
    "  nested_donut_table  # Display the nested donut table\n",
    "}\n",
    "\n",
    "# Generate and save the nested donut table\n",
    "create_nested_donut_table(all_metabolites)"
   ]
  },
  {
   "cell_type": "markdown",
   "id": "fb77a3d9",
   "metadata": {},
   "source": [
    "## T-Test"
   ]
  },
  {
   "cell_type": "code",
   "execution_count": null,
   "id": "23cb0205",
   "metadata": {
    "vscode": {
     "languageId": "r"
    }
   },
   "outputs": [],
   "source": [
    "perform_paired_ttests <- function(met_data, all_metabolites, \n",
    "                                  significant_challenge_type = \"any\", \n",
    "                                  filter_significant = TRUE, \n",
    "                                  output_path = \"../results/paired_ttest_results.csv\") {\n",
    "\n",
    "  # Select baseline data for different challenges\n",
    "  baseline_fasting <- met_data[challenge == \"Fasting\" & time == \"1\"]\n",
    "  baseline_pat  <- met_data[challenge == \"PAT\" & time == \"33\"]\n",
    "  \n",
    "  # Ensure only common subjects are used across all three conditions\n",
    "  common_subjects <- Reduce(intersect, list(baseline_fasting$subject, baseline_pat$subject))\n",
    "  baseline_fasting <- baseline_fasting[subject %in% common_subjects]\n",
    "  baseline_pat <- baseline_pat[subject %in% common_subjects]\n",
    "  \n",
    "  # Get unique metabolite-platform combinations\n",
    "  metabolites <- unique(met_data[, .(metabolite, platform_name)])\n",
    "  \n",
    "  # Perform paired t-tests and keep significance + pathway info\n",
    "  results <- lapply(1:nrow(metabolites), function(i) {\n",
    "    met_name <- metabolites$metabolite[i]\n",
    "    met_platform <- metabolites$platform_name[i]\n",
    "    \n",
    "    # Subset using both metabolite name and platform\n",
    "    fasting_values <- baseline_fasting[metabolite == met_name & platform_name == met_platform, response]\n",
    "    pat_values  <- baseline_pat[metabolite == met_name & platform_name == met_platform, response]\n",
    "    \n",
    "    # Ensure valid comparisons (at least two values in each group)\n",
    "    if (length(fasting_values) > 1 & length(pat_values) > 1) {\n",
    "      mean_diff_pat <- mean(pat_values, na.rm = TRUE) - mean(fasting_values, na.rm = TRUE)\n",
    "      \n",
    "      # Perform paired t-tests\n",
    "      p_val_pat <- tryCatch(\n",
    "        t.test(pat_values, fasting_values, paired = TRUE, var.equal = FALSE)$p.value,\n",
    "        error = function(e) NA\n",
    "      )\n",
    "      \n",
    "      # Choose significance column based on parameter\n",
    "      if (significant_challenge_type == \"all\") {\n",
    "        anova_significance <- all_metabolites[metabolite == met_name & platform_name == met_platform, significant_fasting_pat_oltt]\n",
    "        pathway_info <- all_metabolites[metabolite == met_name & platform_name == met_platform, \n",
    "                                      .(platform_name, super_pathway, sub_pathway, significant_fasting_pat_oltt)]\n",
    "      } else {\n",
    "        anova_significance <- all_metabolites[metabolite == met_name & platform_name == met_platform, significant_any_challenge]\n",
    "        pathway_info <- all_metabolites[metabolite == met_name & platform_name == met_platform, \n",
    "                                      .(platform_name, super_pathway, sub_pathway, significant_any_challenge)]\n",
    "      }\n",
    "      \n",
    "      # Return structured result\n",
    "      return(data.table(\n",
    "        metabolite = met_name,\n",
    "        platform_name = met_platform,\n",
    "        super_pathway = pathway_info$super_pathway,\n",
    "        sub_pathway = pathway_info$sub_pathway,\n",
    "        mean_diff_PAT_FASTING = mean_diff_pat,\n",
    "        pvalue_PAT_FASTING = p_val_pat,\n",
    "        significant_response = anova_significance\n",
    "      ))\n",
    "    } else {\n",
    "      return(NULL)\n",
    "    }\n",
    "  })\n",
    "  \n",
    "  # Remove NULL results safely\n",
    "  results <- rbindlist(Filter(Negate(is.null), results), fill = TRUE)\n",
    "  \n",
    "  # Filter based on significant challenge type\n",
    "  if (filter_significant) {\n",
    "    filtered_results <- results[significant_response == TRUE]\n",
    "  } else {\n",
    "    filtered_results <- results\n",
    "  }\n",
    "  \n",
    "  # Save filtered results to a CSV file\n",
    "  fwrite(filtered_results, output_path)\n",
    "  message(\"Filtered T-Test completed! Filtered results saved in: \", output_path)\n",
    "  \n",
    "  # Print summary of the filtered results\n",
    "  num_significant <- nrow(filtered_results)\n",
    "  total_tests <- nrow(results)\n",
    "  percentage <- (num_significant / total_tests) * 100\n",
    "  \n",
    "  cat(\"Number of significant metabolites (filtered):\", num_significant, \"\\n\")\n",
    "  cat(\"Percentage of significant results (filtered):\", round(percentage, 2), \"%\\n\")\n",
    "\n",
    "  return(filtered_results)\n",
    "}\n",
    "\n",
    "# Example of how to call the function and get the result\n",
    "filtered_results <- perform_paired_ttests(met_data, all_metabolites, \n",
    "                      significant_challenge_type = \"all\", # either \"any\" or \"all\"\n",
    "                      filter_significant = TRUE, # if you want to only have significant results choose TRUE\n",
    "                      output_path = \"../results/paired_ttest_results.csv\")\n"
   ]
  },
  {
   "cell_type": "code",
   "execution_count": null,
   "id": "4d3c3655",
   "metadata": {
    "vscode": {
     "languageId": "r"
    }
   },
   "outputs": [],
   "source": [
    "### OLD TTEST\n",
    "\n",
    "# Select baseline data for different challenges\n",
    "baseline_fasting <- met_data[challenge == \"Fasting\" & time == \"1\"]\n",
    "baseline_pat  <- met_data[challenge == \"Physical Activity\"  & time == \"33\"]\n",
    "\n",
    "# Ensure only common subjects are used across all three conditions\n",
    "common_subjects <- Reduce(intersect, list(baseline_fasting$subject, baseline_pat$subject))\n",
    "baseline_fasting <- baseline_fasting[subject %in% common_subjects]\n",
    "baseline_pat <- baseline_pat[subject %in% common_subjects]\n",
    "\n",
    "# Get unique metabolite-platform combinations\n",
    "metabolites <- unique(met_data[, .(metabolite, platform_name)])\n",
    "\n",
    "# Perform paired t-tests and keep significance + pathway info\n",
    "results <- lapply(1:nrow(metabolites), function(i) {\n",
    "  met_name <- metabolites$metabolite[i]\n",
    "  met_platform <- metabolites$platform_name[i]\n",
    "\n",
    "  # Subset using both metabolite name and platform\n",
    "  fasting_values <- baseline_fasting[metabolite == met_name & platform_name == met_platform, response]\n",
    "  pat_values  <- baseline_pat[metabolite == met_name & platform_name == met_platform, response]\n",
    "\n",
    "  # Ensure valid comparisons (at least two values in each group)\n",
    "  if (length(fasting_values) > 1 & length(pat_values) > 1) {\n",
    "    mean_diff_pat <- mean(pat_values, na.rm = TRUE) - mean(fasting_values, na.rm = TRUE)\n",
    "\n",
    "    # Perform paired t-tests\n",
    "    p_val_pat <- tryCatch(\n",
    "      t.test(pat_values, fasting_values, paired = TRUE, var.equal = FALSE)$p.value,\n",
    "      error = function(e) NA\n",
    "    )\n",
    "\n",
    "    # Retrieve significance info and pathway details\n",
    "    anova_significance <- all_metabolites[metabolite == met_name & platform_name == met_platform, significant_fasting_pat_oltt]\n",
    "    pathway_info <- all_metabolites[metabolite == met_name & platform_name == met_platform, \n",
    "                                    .(platform_name, super_pathway, sub_pathway, significant_fasting_pat_oltt)]\n",
    "\n",
    "    # Return structured result\n",
    "    return(data.table(\n",
    "      metabolite = met_name,\n",
    "      platform_name = met_platform,\n",
    "      super_pathway = pathway_info$super_pathway,\n",
    "      sub_pathway = pathway_info$sub_pathway,\n",
    "      mean_diff_PAT_FASTING = mean_diff_pat,\n",
    "      pvalue_PAT_FASTING = p_val_pat,\n",
    "      significant_response = anova_significance\n",
    "    ))\n",
    "  } else {\n",
    "    return(NULL)\n",
    "  }\n",
    "})\n",
    "\n",
    "# Remove NULL results safely\n",
    "results <- rbindlist(Filter(Negate(is.null), results), fill = TRUE)\n",
    "\n",
    "# Filter rows where significant_OGTT_OLTT_SLD is TRUE\n",
    "filtered_results <- results[significant_response == TRUE]\n",
    "\n",
    "# Save filtered results to a CSV file\n",
    "fwrite(filtered_results, \"../results/paired_ttest_results.csv\")\n",
    "message(\"Filtered T-Test completed! Filtered results saved in: ../results/paired_ttest_results.csv\")\n",
    "\n",
    "# Print summary of the filtered results\n",
    "num_significant <- nrow(filtered_results)\n",
    "total_tests <- nrow(results)\n",
    "percentage <- (num_significant / total_tests) * 100\n",
    "\n",
    "cat(\"Number of significant metabolites (filtered):\", num_significant, \"\\n\")\n",
    "cat(\"Percentage of significant results (filtered):\", round(percentage, 2), \"%\\n\")\n"
   ]
  },
  {
   "cell_type": "markdown",
   "id": "f9280076",
   "metadata": {},
   "source": [
    "#### Input for Volcano Plot - Carryover Effect Analysis"
   ]
  },
  {
   "cell_type": "code",
   "execution_count": null,
   "id": "2b01af96",
   "metadata": {
    "vscode": {
     "languageId": "r"
    }
   },
   "outputs": [],
   "source": [
    "create_volcano_carryover_input <- function(met_data, all_metabolites) {\n",
    "  # Select baseline data for different challenges\n",
    "  baseline_fasting <- met_data[challenge == \"Fasting\" & time == \"1\"]\n",
    "  baseline_pat  <- met_data[challenge == \"PAT\"  & time == \"33\"]\n",
    "\n",
    "  # Ensure only common subjects are used across all three conditions\n",
    "  common_subjects <- Reduce(intersect, list(baseline_fasting$subject, baseline_pat$subject))\n",
    "  baseline_fasting <- baseline_fasting[subject %in% common_subjects]\n",
    "  baseline_pat <- baseline_pat[subject %in% common_subjects]\n",
    "\n",
    "  # Get unique metabolite-platform combinations\n",
    "  metabolites <- unique(met_data[, .(metabolite, platform_name)])\n",
    "\n",
    "  # Perform paired t-tests and keep significance + pathway info\n",
    "  ttest_results <- lapply(1:nrow(metabolites), function(i) {\n",
    "    met_name <- metabolites$metabolite[i]\n",
    "    met_platform <- metabolites$platform_name[i]\n",
    "\n",
    "    fasting_values <- baseline_fasting[metabolite == met_name & platform_name == met_platform, response]\n",
    "    pat_values  <- baseline_pat[metabolite == met_name & platform_name == met_platform, response]\n",
    "\n",
    "    if (length(fasting_values) > 1 & length(pat_values) > 1) {\n",
    "      mean_diff_pat <- mean(pat_values, na.rm = TRUE) - mean(fasting_values, na.rm = TRUE)\n",
    "      p_val_pat <- tryCatch(\n",
    "        t.test(pat_values, fasting_values, paired = TRUE, var.equal = FALSE)$p.value,\n",
    "        error = function(e) NA\n",
    "      )\n",
    "      pathway_info <- all_metabolites[metabolite == met_name & platform_name == met_platform, \n",
    "                                      .(super_pathway, sub_pathway, significant_any_challenge)]\n",
    "      return(data.table(\n",
    "        metabolite = met_name,\n",
    "        platform_name = met_platform,\n",
    "        super_pathway = pathway_info$super_pathway,\n",
    "        sub_pathway = pathway_info$sub_pathway,\n",
    "        mean_diff_PAT_FASTING = mean_diff_pat,\n",
    "        pvalue_PAT_FASTING = p_val_pat,\n",
    "        significant_response = pathway_info$significant_any_challenge\n",
    "      ))\n",
    "    } else {\n",
    "      return(NULL)\n",
    "    }\n",
    "  })\n",
    "\n",
    "  ttest_results <- rbindlist(Filter(Negate(is.null), ttest_results), fill = TRUE)\n",
    "  fwrite(ttest_results, \"../results/volcano_ttest_inputs.csv\")\n",
    "  message(\"Carryover Volcano input saved: ../results/volcano_ttest_inputs.csv\")\n",
    "}\n",
    "\n",
    "# Call the function to generate and save Volcano Plot input\n",
    "data_volcano <- create_volcano_carryover_input(met_data, all_metabolites)"
   ]
  },
  {
   "cell_type": "markdown",
   "id": "ef41c70d",
   "metadata": {},
   "source": [
    "#### Create Volcano Plot"
   ]
  },
  {
   "cell_type": "code",
   "execution_count": null,
   "id": "1b9c923d",
   "metadata": {
    "vscode": {
     "languageId": "r"
    }
   },
   "outputs": [],
   "source": [
    "create_volcano_carryover_plot <- function() {\n",
    "\n",
    "  # Load data\n",
    "  data <- fread(\"../results/volcano_ttest_inputs.csv\")\n",
    "  \n",
    "  # Select and transform data\n",
    "  data_transformed <- data %>%\n",
    "    mutate(log_pvalue = -log10(pvalue_PAT_FASTING)) %>%\n",
    "    arrange(desc(log_pvalue))  # Order by log_pvalue in descending order\n",
    "\n",
    "  # Define colors for each super-pathway\n",
    "  super_pathway_colors <- c(\n",
    "    \"Amino Acids\" = \"#d62728\",\n",
    "    \"Carbohydrates\" = \"#7f7f7f\",\n",
    "    \"Cofactors and Vitamins\" = \"#9467bd\",\n",
    "    \"Energy\" = \"#8c564b\",\n",
    "    \"Lipids\" = \"#ba8e23\",\n",
    "    \"Nucleotides\" = \"#e377c2\",\n",
    "    \"Peptides\" = \"#2ca02c\",\n",
    "    \"Xenobiotics\" = \"#1f77b4\"\n",
    "  )\n",
    "\n",
    "  # Define significance threshold value for dotted line\n",
    "  sig_threshold <- -log10(0.05/634)\n",
    "\n",
    "  # Select metabolites with log_pvalue above the significance threshold for labeling\n",
    "  top_metabolites <- data_transformed %>% filter(log_pvalue > sig_threshold)\n",
    "\n",
    "  # Create volcano plot\n",
    "  volcano_plot <- ggplot(data_transformed, aes(x = mean_diff_PAT_FASTING, y = log_pvalue, color = super_pathway)) +\n",
    "    geom_point(aes(alpha = log_pvalue > sig_threshold, shape = significant_response), size = 2.5) +\n",
    "    scale_shape_manual(values = c(16, 1), name = \"Significant response\", labels = c(\"yes\", \"no\"), breaks = c(TRUE, FALSE)) +\n",
    "    scale_alpha_manual(values = c(0.2, 1.0), guide = 'none') +\n",
    "    scale_color_manual(values = super_pathway_colors) +\n",
    "    guides(shape = guide_legend(order = 1), color = guide_legend(order = 2)) +\n",
    "    labs(\n",
    "      x = \"Mean difference of challenge baseline\",\n",
    "      y = \"-log10(p-value)\",\n",
    "      color = \"Super-pathways\"\n",
    "    ) +\n",
    "    \n",
    "    # Updated y-axis\n",
    "    scale_y_continuous(limits = c(0, 9), breaks = seq(0, 9, 1), expand = c(0, 0)) +\n",
    "    \n",
    "    # Updated x-axis\n",
    "    scale_x_continuous(limits = c(-11, 12), breaks = seq(-10, 10, 5), expand = c(0, 0)) +\n",
    "    \n",
    "    theme_minimal() +\n",
    "    theme(\n",
    "      panel.grid.major = element_line(color = \"gray80\", linewidth = 0.3),  # Fix deprecated 'size' argument\n",
    "      panel.grid.minor = element_blank(),  # Remove minor grid lines\n",
    "      legend.position = \"right\",\n",
    "      legend.title = element_text(size = 12, face = \"bold\"),\n",
    "      legend.text = element_text(size = 10),\n",
    "      plot.title = element_text(hjust = 0.5, size = 14, margin = margin(b = 10)),\n",
    "      plot.margin = margin(20, 5, 5, 5),\n",
    "      axis.title = element_text(size = 12, face = \"bold\"),\n",
    "      axis.text = element_text(size = 10)\n",
    "    ) +\n",
    "    \n",
    "    # Reference lines\n",
    "    geom_hline(yintercept = sig_threshold, linetype = \"dashed\", color = \"black\") +\n",
    "    geom_hline(yintercept = 0, linetype = \"solid\", color = \"black\") +\n",
    "    geom_vline(xintercept = -11, linetype = \"solid\", color = \"black\") +\n",
    "  \n",
    "    # Adjusted annotation\n",
    "    annotate(\"text\", x = 9, y = sig_threshold + 0.15, label = paste(\"-log10(0.05/634) =\", round(sig_threshold, 2)), \n",
    "             size = 3.5, color = \"black\", fontface = \"bold\") +\n",
    "  \n",
    "    # Adjusted metabolite labels\n",
    "    geom_text_repel(data = top_metabolites, aes(label = metabolite), size = 3, box.padding = 0.4, max.overlaps = 20)\n",
    "\n",
    "  # Display the plot in the notebook\n",
    "  print(volcano_plot)\n",
    "\n",
    "  # Save the plot as an image\n",
    "  ggsave(\"../results/plots/sup_fig_4_volcano_plot_carryover_pat_fasting.png\", plot = volcano_plot, width = 10, height = 12, dpi = 300, bg = \"white\")\n",
    "}\n",
    "\n",
    "# Call function to create and save volcano plot\n",
    "create_volcano_carryover_plot()"
   ]
  },
  {
   "cell_type": "markdown",
   "id": "0f54acb0",
   "metadata": {},
   "source": [
    "# Clustering"
   ]
  },
  {
   "cell_type": "markdown",
   "id": "d0029178",
   "metadata": {},
   "source": [
    "### Clustering Input"
   ]
  },
  {
   "cell_type": "code",
   "execution_count": null,
   "id": "2de013c3",
   "metadata": {
    "vscode": {
     "languageId": "r"
    }
   },
   "outputs": [],
   "source": [
    "# Map missing information from met_data_filtered to filtered_results based on both \"metabolite\" and \"platform\"\n",
    "clustering_input <- merge(\n",
    "  filtered_results, \n",
    "  met_data_filtered[, .(metabolite, platform_name, response, subject, challenge, challenge_time)], \n",
    "  by = c(\"metabolite\", \"platform_name\"), \n",
    "  all.x = TRUE\n",
    ")\n",
    "\n",
    "# Save the updated results\n",
    "fwrite(clustering_input, \"../data/processed/clustering_input.csv\")\n",
    "\n",
    "# Display the first few rows of the updated data\n",
    "head(clustering_input)"
   ]
  },
  {
   "cell_type": "code",
   "execution_count": null,
   "id": "26ceac4b",
   "metadata": {
    "vscode": {
     "languageId": "r"
    }
   },
   "outputs": [],
   "source": [
    "# Get unique combinations of 'metabolite' and 'platform_name'\n",
    "unique_metabolites_platforms <- unique(clustering_input[, c(\"metabolite\", \"platform_name\")])\n",
    "\n",
    "# Count the number of unique combinations\n",
    "num_unique_combinations <- nrow(unique_metabolites_platforms)\n",
    "\n",
    "# Print the result\n",
    "print(num_unique_combinations)"
   ]
  },
  {
   "cell_type": "markdown",
   "id": "8b791d3b",
   "metadata": {},
   "source": [
    "### Run Clustering"
   ]
  },
  {
   "cell_type": "code",
   "execution_count": null,
   "id": "55e04fac",
   "metadata": {
    "vscode": {
     "languageId": "r"
    }
   },
   "outputs": [],
   "source": [
    "# Funktion für den Workflow\n",
    "run_clustering <- function(c_num = 8, m = 1.25, seed = 123) {\n",
    "  \n",
    "  # Setze Seed für Reproduzierbarkeit\n",
    "  set.seed(seed)\n",
    "  \n",
    "  # 1. Daten laden und vorverarbeiten\n",
    "  df <- clustering_input\n",
    "  head(df)\n",
    "  \n",
    "  # Sicherstellen, dass notwendige Spalten vorhanden sind\n",
    "  required_columns <- c(\"metabolite\", \"super_pathway\", \"sub_pathway\", \"response\", \"subject\", \"challenge\")\n",
    "  if (!all(required_columns %in% colnames(df))) {\n",
    "    stop(\"Not all required columns are present in the dataset!\")\n",
    "  }\n",
    "  \n",
    "  # Filter und Vorverarbeitung\n",
    "  #df <- df[!(df$challenge == \"OGTT\" & df$response == 240), ] # Entferne bestimmte Zeilen\n",
    "  df$challenge <- NULL # Entferne die 'challenge'-Spalte\n",
    "  \n",
    "  # Fehlende Werte im 'response'-Feld durch den Mittelwert ersetzen\n",
    "  df$response[is.na(df$response)] <- mean(df$response, na.rm = TRUE)\n",
    "  \n",
    "  # Z-Score Normalisierung pro Metabolit\n",
    "  df$response <- ave(df$response, df$metabolite, FUN = function(x) scale(x, center = TRUE, scale = TRUE))\n",
    "  \n",
    "  # Metadaten speichern\n",
    "  df_meta <- unique(df[, c(\"metabolite\", \"super_pathway\", \"sub_pathway\")])\n",
    "  \n",
    "  # 2. Daten für Clustering vorbereiten\n",
    "  # Aggregiere Mittelwerte von 'response' nach 'metabolite' und 'platform_name'\n",
    "  df_agg <- aggregate(response ~ metabolite + platform_name, data = df, FUN = mean)\n",
    "  \n",
    "  # Erstelle eine vollständige Kombination aller 'metabolite' und 'platform_name'\n",
    "  all_combinations <- expand.grid(metabolite = unique(df_agg$metabolite),\n",
    "                                   platform_name = unique(df_agg$platform_name))\n",
    "  \n",
    "  # Verbinde die vollständige Kombination mit den aggregierten Daten\n",
    "  df_agg <- merge(all_combinations, df_agg, by = c(\"metabolite\", \"platform_name\"), all.x = TRUE)\n",
    "  \n",
    "  # Fehlende Werte in 'response' mit 0 auffüllen\n",
    "  df_agg$response[is.na(df_agg$response)] <- 0\n",
    "  \n",
    "  # Konvertiere die aggregierten Daten in eine Matrix\n",
    "  response_matrix <- reshape(df_agg, idvar = \"metabolite\", timevar = \"platform_name\", direction = \"wide\")\n",
    "  rownames(response_matrix) <- response_matrix$metabolite\n",
    "  response_matrix <- response_matrix[, -1] # Entferne die erste Spalte (metabolite)\n",
    "  response_matrix <- as.matrix(response_matrix)\n",
    "  \n",
    "  # ExpressionSet erstellen\n",
    "  expr_set <- new(\"ExpressionSet\", exprs = response_matrix)\n",
    "  \n",
    "  # 3. Mfuzz-Clustering durchführen\n",
    "  cl <- mfuzz(expr_set, c = c_num, m = m)\n",
    "  \n",
    "  # 4. Ergebnisse formatieren\n",
    "  cluster_assignments <- data.frame(\n",
    "    metabolite = rownames(response_matrix),\n",
    "    cl$membership\n",
    "  )\n",
    "  \n",
    "  # Bestimme den Cluster mit der höchsten Wahrscheinlichkeit für jeden Metaboliten\n",
    "  cluster_assignments$Assigned_Cluster <- apply(cl$membership, 1, which.max)\n",
    "  \n",
    "  # Füge Super Pathway und Sub Pathway hinzu\n",
    "  cluster_assignments <- merge(cluster_assignments, df_meta, by = \"metabolite\", all.x = TRUE)\n",
    "  \n",
    "  # Formatieren der Spalten\n",
    "  colnames(cluster_assignments) <- c(\n",
    "    \"Metabolite\", \"Cluster_1\", \"Cluster_2\", \"Cluster_3\", \"Cluster_4\", \"Cluster_5\",\n",
    "    \"Cluster_6\", \"Cluster_7\", \"Cluster_8\", \"Assigned_Cluster\", \"Super_Pathway\", \"Sub_Pathway\"\n",
    "  )\n",
    "  \n",
    "  # Ergebnisse speichern\n",
    "  fwrite(cluster_assignments, \"../results/mfuzz_results.csv\")\n",
    "  print(\"Clustering abgeschlossen! Ergebnisse gespeichert.\")\n",
    "}\n",
    "\n",
    "# Beispielaufruf\n",
    "run_clustering(\n",
    "  c_num = 8,  # Anzahl der Cluster\n",
    "  m = 1.25,   # Fuzzifizierungsparameter\n",
    "  seed = 42  # Seed für Reproduzierbarkeit\n",
    ")"
   ]
  },
  {
   "cell_type": "code",
   "execution_count": null,
   "id": "652368bd",
   "metadata": {
    "vscode": {
     "languageId": "r"
    }
   },
   "outputs": [],
   "source": []
  }
 ],
 "metadata": {
  "kernelspec": {
   "display_name": "R",
   "language": "R",
   "name": "ir"
  },
  "language_info": {
   "codemirror_mode": "r",
   "file_extension": ".r",
   "mimetype": "text/x-r-source",
   "name": "R",
   "pygments_lexer": "r",
   "version": "4.4.2"
  }
 },
 "nbformat": 4,
 "nbformat_minor": 5
}
