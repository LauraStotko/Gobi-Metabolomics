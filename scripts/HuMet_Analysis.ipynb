{
 "cells": [
  {
   "cell_type": "code",
   "execution_count": null,
   "id": "6db63fb5-d4f1-47b1-8e55-4c668123b3e1",
   "metadata": {
    "vscode": {
     "languageId": "r"
    }
   },
   "outputs": [],
   "source": [
    "library(data.table)\n",
    "library(dplyr)\n",
    "library(nparLD)\n",
    "library(missForest)\n",
    "library(parallel)\n",
    "library(doParallel)\n",
    "library(stats)\n",
    "library(Mfuzz)\n",
    "library(Biobase)\n",
    "library(ggplot2)\n",
    "library(ggrepel)"
   ]
  },
  {
   "cell_type": "markdown",
   "id": "b25848e5",
   "metadata": {},
   "source": [
    "# HuMet DATASET"
   ]
  },
  {
   "cell_type": "markdown",
   "id": "e6803ace",
   "metadata": {},
   "source": [
    "In this notebook, we analyze a subset of the HuMet dataset, focusing on **plasma** samples across three platforms:\n",
    "\n",
    "- Metabolon HD4 (nt-ms)\n",
    "- Biocrates p150 (t-ms)\n",
    "- In-house biochemistry (chem.)"
   ]
  },
  {
   "cell_type": "markdown",
   "id": "3ee22f17-b4a6-4e38-ba1b-001fadaa2a99",
   "metadata": {},
   "source": [
    "## Loading the Data"
   ]
  },
  {
   "cell_type": "code",
   "execution_count": null,
   "id": "2afcdd37-4af8-4520-8de9-9a3e40f81c07",
   "metadata": {
    "vscode": {
     "languageId": "r"
    }
   },
   "outputs": [],
   "source": [
    "met_data <- fread(\"../input/raw/humet_data_raw_none_subjects15_tp57.csv\", sep = \",\", fill = TRUE)\n",
    "info_data <- fread(\"../input/humet_info.csv\", sep = \",\", fill = TRUE)\n",
    "head(met_data)\n",
    "head(info_data)"
   ]
  },
  {
   "cell_type": "markdown",
   "id": "a5ca85e8-1ead-4f17-b85e-1df33aec7f5e",
   "metadata": {
    "jp-MarkdownHeadingCollapsed": true
   },
   "source": [
    "## Data Analysis"
   ]
  },
  {
   "cell_type": "code",
   "execution_count": null,
   "id": "708c8e34-38e6-40f2-986a-7d5b570259fd",
   "metadata": {
    "vscode": {
     "languageId": "r"
    }
   },
   "outputs": [],
   "source": [
    "# Count metabolite columns\n",
    "num_metabolite_columns <- length(setdiff(names(met_data), c(\"time\", \"subject\")))\n",
    "\n",
    "unique_time_values <- unique(met_data$time)\n",
    "unique_subject_values <- unique(met_data$subject)\n",
    "\n",
    "print(paste(\"Number of metabolites:\", num_metabolite_columns))\n",
    "print(paste(\"Unique time values:\", paste(unique_time_values, collapse = \", \")))\n",
    "print(paste(\"Unique subject values:\", paste(unique_subject_values, collapse = \", \")))"
   ]
  },
  {
   "cell_type": "code",
   "execution_count": null,
   "id": "5520baae-160c-4290-be24-0b1e97107350",
   "metadata": {
    "vscode": {
     "languageId": "r"
    }
   },
   "outputs": [],
   "source": [
    "# Count occurrences of each unique platform\n",
    "platform_counts <- table(info_data$platform_name)\n",
    "print(platform_counts)"
   ]
  },
  {
   "cell_type": "markdown",
   "id": "b2710623-ca0f-4c5f-af26-e065d76755d1",
   "metadata": {},
   "source": [
    "- Targeted: 132\n",
    "- Non-Targeted: 502\n",
    "- Insulin (Hormone): 1"
   ]
  },
  {
   "cell_type": "markdown",
   "id": "c42e2e34-0559-4672-b0c6-823a71648953",
   "metadata": {},
   "source": [
    "## Preprocessing"
   ]
  },
  {
   "cell_type": "markdown",
   "id": "37a1920a-c58e-4695-aaa4-ebe5d50679af",
   "metadata": {},
   "source": [
    "## Adding Challenge information"
   ]
  },
  {
   "cell_type": "markdown",
   "id": "66f93f13-fedb-4e27-8ade-ccdb6560fc9c",
   "metadata": {},
   "source": [
    "**Relevant time intervals for our analysis**:\n",
    "\n",
    "Since the original dataset lacked challenge information, we assigned it based on the time column:\n",
    "\n",
    "- **Fasting**: Time points 1–10\n",
    "- **Physical Activity**: Time points 33–39\n",
    "- **Oral Lipid Tolerance Test (OLTT)**: Time points 40–50"
   ]
  },
  {
   "cell_type": "code",
   "execution_count": null,
   "id": "1617fa67-7550-4f6b-a5c9-05eb9cb04fa8",
   "metadata": {
    "vscode": {
     "languageId": "r"
    }
   },
   "outputs": [],
   "source": [
    "# Create a dataset with all time intervals\n",
    "met_data <- met_data %>%\n",
    "  mutate(challenge = case_when(\n",
    "    time >= 1 & time <= 10 ~ \"Fasting\",\n",
    "    time >= 33 & time <= 39 ~ \"Physical Activity\",\n",
    "    time >= 40 & time <= 50 ~ \"OLTT\", # crosscheck what happens if OLTT ends at 48\n",
    "    TRUE ~ \"Other\"  # Keep \"Other\" instead of filtering out\n",
    "  ))\n",
    "\n",
    "# Display first rows of both datasets\n",
    "#tail(met_data_all)\n",
    "head(met_data)"
   ]
  },
  {
   "cell_type": "markdown",
   "id": "6faf0668-416f-4f7f-bbc6-5c1241798a44",
   "metadata": {},
   "source": [
    "## Removing Metabolites with > 30% missing values"
   ]
  },
  {
   "cell_type": "code",
   "execution_count": 271,
   "id": "385d2b97-37ca-4c2e-b79a-535f171f52b1",
   "metadata": {
    "vscode": {
     "languageId": "r"
    }
   },
   "outputs": [],
   "source": [
    "remove_high_na_metabolites <- function(met_data, threshold = 0.3, output_file = \"removed_metabolites.txt\") {\n",
    "  # Identify metabolite columns (excluding time, subject, and challenge)\n",
    "  metabolite_columns <- setdiff(colnames(met_data), c(\"time\", \"subject\", \"challenge\"))\n",
    "  \n",
    "  # Calculate the percentage of missing values for each metabolite\n",
    "  na_percentage <- colMeans(is.na(met_data[, ..metabolite_columns]))\n",
    "\n",
    "  # Find metabolites with more than `threshold` missing values\n",
    "  high_na_metabolites <- names(na_percentage[na_percentage > threshold])\n",
    "\n",
    "  # Write the removed metabolite names to a text file\n",
    "  if (length(high_na_metabolites) > 0) {\n",
    "    writeLines(high_na_metabolites, output_file)\n",
    "  }\n",
    "\n",
    "  # Remove these metabolites from met_data\n",
    "  filtered_met_data <- met_data[, !high_na_metabolites, with = FALSE]\n",
    "\n",
    "  return(filtered_met_data)\n",
    "}\n",
    "\n",
    "# Apply function to clean met_data\n",
    "met_data <- remove_high_na_metabolites(met_data)"
   ]
  },
  {
   "cell_type": "markdown",
   "id": "c9a9da23",
   "metadata": {},
   "source": [
    "#### Leaving Only Relevant Time Points"
   ]
  },
  {
   "cell_type": "code",
   "execution_count": 272,
   "id": "5f6fb512",
   "metadata": {
    "vscode": {
     "languageId": "r"
    }
   },
   "outputs": [],
   "source": [
    "# Create a dataset with only relevant time intervals\n",
    "met_data <- met_data %>%\n",
    "  filter(challenge != \"Other\")"
   ]
  },
  {
   "cell_type": "markdown",
   "id": "082e8d5e-732e-4fce-a280-c1414acee93d",
   "metadata": {},
   "source": [
    "## Splitting the dataset based on platform"
   ]
  },
  {
   "cell_type": "code",
   "execution_count": 273,
   "id": "0c85ceb8-0f79-43a0-a71c-958749b4835c",
   "metadata": {
    "vscode": {
     "languageId": "r"
    }
   },
   "outputs": [],
   "source": [
    "# Identify metabolite columns (excluding time, subject, and challenge)\n",
    "metabolite_columns <- setdiff(colnames(met_data), c(\"time\", \"subject\", \"challenge\"))\n",
    "\n",
    "# Define platform patterns for Metabolon and Biocrates\n",
    "platforms <- list(\n",
    "  metabolon = \"\\\\[P, nt-ms\\\\]\",\n",
    "  biocrates = \"\\\\[P, t-ms\\\\]\"\n",
    ")\n",
    "\n",
    "# Function to filter metabolites based on platform\n",
    "filter_metabolites <- function(pattern) {\n",
    "  selected_cols <- c(\"time\", \"subject\", \"challenge\", metabolite_columns[grepl(pattern, metabolite_columns)])\n",
    "  met_data[, ..selected_cols]\n",
    "}\n",
    "\n",
    "# Function to filter metabolites NOT belonging to Metabolon or Biocrates (i.e., Inhouse)\n",
    "filter_inhouse_metabolites <- function() {\n",
    "  excluded_cols <- unique(unlist(lapply(platforms, function(p) metabolite_columns[grepl(p, metabolite_columns)])))\n",
    "  selected_cols <- c(\"time\", \"subject\", \"challenge\", setdiff(metabolite_columns, excluded_cols))\n",
    "  met_data[, ..selected_cols]\n",
    "}\n",
    "\n",
    "# Create datasets\n",
    "met_data_metabolon <- filter_metabolites(platforms$metabolon)\n",
    "met_data_biocrates <- filter_metabolites(platforms$biocrates)\n",
    "met_data_inhouse <- filter_inhouse_metabolites()  # Everything else\n"
   ]
  },
  {
   "cell_type": "markdown",
   "id": "8b372f64-94ab-4cef-84d2-acd9d0931b1d",
   "metadata": {},
   "source": [
    "## Handle Missing Values - missForest"
   ]
  },
  {
   "cell_type": "code",
   "execution_count": null,
   "id": "b820b76b-9996-4b5f-aec8-2402eb81727d",
   "metadata": {
    "jupyter": {
     "source_hidden": true
    },
    "vscode": {
     "languageId": "r"
    }
   },
   "outputs": [],
   "source": [
    "# Count missing values in each dataset\n",
    "sum(is.na(data_fasting))\n",
    "sum(is.na(data_exercise))\n",
    "sum(is.na(data_oltt))"
   ]
  },
  {
   "cell_type": "code",
   "execution_count": null,
   "id": "458ad7a1-9508-4cd6-a521-99ddde5ec23f",
   "metadata": {
    "vscode": {
     "languageId": "r"
    }
   },
   "outputs": [],
   "source": [
    "# Function to convert categorical variables to factors\n",
    "convert_to_factors <- function(data) {\n",
    "  data %>%\n",
    "    mutate(\n",
    "      challenge = as.factor(challenge),\n",
    "      time = as.factor(time),\n",
    "      subject = as.factor(subject)\n",
    "    ) %>%\n",
    "    mutate(across(where(is.character), as.factor))\n",
    "}\n",
    "\n",
    "# Function for missForest imputation with adaptive parallelization\n",
    "perform_missForest <- function(data_subset, ntree_val = 10) {\n",
    "  num_vars <- ncol(data_subset)  # Get the number of variables\n",
    "  \n",
    "  # Adjust cores to be at most the number of variables\n",
    "  num_cores <- min(detectCores() - 1, num_vars)\n",
    "  \n",
    "  # If parallelization is still invalid, set it to 'no'\n",
    "  parallel_option <- if (num_cores > 1) \"variables\" else \"no\"\n",
    "  \n",
    "  cl <- makeCluster(num_cores, type = \"FORK\") \n",
    "  registerDoParallel(cl)\n",
    "  \n",
    "  set.seed(42)  # Ensures reproducibility\n",
    "  imputed_data <- missForest(data_subset, ntree = ntree_val, parallelize = parallel_option, verbose = TRUE)\n",
    "  \n",
    "  stopCluster(cl)  # Stop cluster\n",
    "  \n",
    "  return(imputed_data$ximp)  # Extract imputed dataset\n",
    "}\n",
    "\n",
    "# Wrapper function to process and impute metabolite datasets\n",
    "data_pipeline <- function(metabolite_datasets) {\n",
    "  # Convert categorical variables to factors\n",
    "  metabolite_datasets <- lapply(metabolite_datasets, convert_to_factors)\n",
    "  \n",
    "  # Perform imputation with automatic parallelization adjustment\n",
    "  imputed_data <- lapply(metabolite_datasets, perform_missForest, ntree_val = 10) #400\n",
    "  \n",
    "  return(imputed_data)\n",
    "}\n",
    "\n",
    "# List of metabolite datasets\n",
    "metabolite_datasets <- list(\n",
    "  metabolon = met_data_metabolon,\n",
    "  biocrates = met_data_biocrates,\n",
    "  inhouse = met_data_inhouse\n",
    ")\n",
    "\n",
    "# Apply pipeline to each dataset\n",
    "imputed_metabolite_data <- data_pipeline(metabolite_datasets)"
   ]
  },
  {
   "cell_type": "code",
   "execution_count": null,
   "id": "fc54576a",
   "metadata": {
    "vscode": {
     "languageId": "r"
    }
   },
   "outputs": [],
   "source": [
    "imputed_metabolite_data"
   ]
  },
  {
   "cell_type": "code",
   "execution_count": 113,
   "id": "cf6bbba5",
   "metadata": {
    "vscode": {
     "languageId": "r"
    }
   },
   "outputs": [],
   "source": [
    "### AFTER REMOVING OTHER\n",
    "\n",
    "# 50 trees => 0.603862\n",
    "# 68 trees => 0.6200632\n",
    "# 69 trees => 0.594013\n",
    "# 70 trees => 0.5919029\n",
    "# 75 trees => 0.5951333\n",
    "# 76 trees => 0.5837592\n",
    "# 77 trees => 0.5951333\n",
    "# 78 trees => 0.5852654\n",
    "# 80 trees => 0.6201631\n",
    "# 100 trees => 0.5938395\n",
    "# 120 trees => 0.6130575\n",
    "# 400 trees => 0.5863569"
   ]
  },
  {
   "cell_type": "markdown",
   "id": "72379a05",
   "metadata": {},
   "source": [
    "#### Merging platform-separated datasets together "
   ]
  },
  {
   "cell_type": "code",
   "execution_count": null,
   "id": "b54ccd1a",
   "metadata": {
    "vscode": {
     "languageId": "r"
    }
   },
   "outputs": [],
   "source": [
    "# Merge datasets based on time, subject, and challenge\n",
    "combined_data <- Reduce(function(x, y) {\n",
    "  merge(x, y, by = c(\"time\", \"subject\", \"challenge\"), all = TRUE)\n",
    "}, list(imputed_metabolite_data$metabolon, \n",
    "        imputed_metabolite_data$biocrates, \n",
    "        imputed_metabolite_data$inhouse))\n",
    "\n",
    "# Print the first rows of the combined dataset\n",
    "head(combined_data)"
   ]
  },
  {
   "cell_type": "markdown",
   "id": "7cdbed50",
   "metadata": {},
   "source": [
    "## Correlation"
   ]
  },
  {
   "cell_type": "code",
   "execution_count": null,
   "id": "78fee791",
   "metadata": {
    "vscode": {
     "languageId": "r"
    }
   },
   "outputs": [],
   "source": [
    "correlation_analysis <- function(target_variable, \n",
    "                                 exclude_columns = c(), \n",
    "                                 method = \"pearson\", \n",
    "                                 p_adjust_method = \"bonferroni\") {\n",
    "\n",
    "  \n",
    "  # Daten einlesen\n",
    "  df <- combined_data\n",
    "  \n",
    "  # Identifiziere numerische Spalten und schließe Zielvariable sowie andere auszuschließende Spalten aus\n",
    "  numeric_columns <- sapply(df, is.numeric)\n",
    "  metabolite_columns <- setdiff(names(df)[numeric_columns], c(target_variable, exclude_columns))\n",
    "  \n",
    "  # Ergebnisse vorbereiten\n",
    "  cor_results <- data.frame(Metabolite = metabolite_columns, Correlation = NA, p_value = NA)\n",
    "  \n",
    "  # Berechnung der paarweisen Korrelation\n",
    "  for (metabolite in metabolite_columns) {\n",
    "    cor_test <- cor.test(df[[metabolite]], df[[target_variable]], method = method)\n",
    "    cor_results[cor_results$Metabolite == metabolite, \"Correlation\"] <- cor_test$estimate\n",
    "    cor_results[cor_results$Metabolite == metabolite, \"p_value\"] <- cor_test$p.value\n",
    "  }\n",
    "  \n",
    "  # Multiple Testing Correction\n",
    "  cor_results$p_adjusted <- p.adjust(cor_results$p_value, method = p_adjust_method)\n",
    "  \n",
    "  # Ergebnisse sortieren\n",
    "  cor_results <- cor_results[order(cor_results$p_adjusted), ]\n",
    "\n",
    "  fwrite(cor_results, \"../results/correlation_results\")\n",
    "  \n",
    "  # Top 10 Ergebnisse ausgeben\n",
    "  return(head(cor_results, 10))\n",
    "}\n",
    "\n",
    "# Beispiel-Aufruf der Funktion\n",
    "result <- correlation_analysis(\n",
    "  target_variable = \"Insulin [P, chem.]\", # Zielvariable angepasst\n",
    "  exclude_columns = c(\"time\", \"subject\", \"challenge\"), # Ausschlüsse anpassen\n",
    "  method = \"pearson\",\n",
    "  p_adjust_method = \"bonferroni\"\n",
    ")\n",
    "\n",
    "# Ergebnisse anzeigen\n",
    "print(result)"
   ]
  },
  {
   "cell_type": "markdown",
   "id": "14ba1c94-72ed-4a38-bde4-c3196103a9da",
   "metadata": {},
   "source": [
    "## Reformating the Table"
   ]
  },
  {
   "cell_type": "code",
   "execution_count": null,
   "id": "0c6f193b",
   "metadata": {
    "vscode": {
     "languageId": "r"
    }
   },
   "outputs": [],
   "source": [
    "# Function to add platform information and reshape each dataset into long format\n",
    "reshape_long <- function(data) {\n",
    "  # Identify metabolite columns (exclude time, subject, challenge)\n",
    "  metabolite_columns <- setdiff(names(data), c(\"time\", \"subject\", \"challenge\"))\n",
    "  \n",
    "  # Convert all metabolite columns to numeric (preserves NA values)\n",
    "  data[, (metabolite_columns) := lapply(.SD, as.numeric), .SDcols = metabolite_columns]\n",
    "  \n",
    "  # Reshape into long format\n",
    "  long_data <- melt(data,\n",
    "                    id.vars = c(\"time\", \"subject\", \"challenge\"),  # Keep these columns unchanged\n",
    "                    measure.vars = metabolite_columns,  # Only reshape metabolite columns\n",
    "                    variable.name = \"metabolite\",\n",
    "                    value.name = \"response\",\n",
    "                    na.rm = FALSE)  # Keep NA values instead of removing them\n",
    "  \n",
    "  # Add platform name based on the metabolite column name\n",
    "  long_data[, platform_name := case_when(\n",
    "    grepl(\"\\\\[P, t-ms\\\\]\", metabolite) ~ \"Biocrates p150 [t-ms]\",\n",
    "    grepl(\"\\\\[P, nt-ms\\\\]\", metabolite) ~ \"Metabolon HD4 [nt-ms]\",\n",
    "    grepl(\"\\\\[P, chem.\\\\]\", metabolite) ~ \"In-house biochemistry [chem.]\",\n",
    "    TRUE ~ \"Unknown\"  # Default case for anything that doesn't match\n",
    "  )]\n",
    "  \n",
    "  return(long_data)\n",
    "}\n",
    "\n",
    "# Reshape the combined dataset into long format\n",
    "met_data <- reshape_long(combined_data)\n",
    "\n",
    "\n",
    "# Print first rows of the final combined dataset\n",
    "head(met_data)"
   ]
  },
  {
   "cell_type": "markdown",
   "id": "f12c99d8-a30a-4282-883a-72bcb39be841",
   "metadata": {},
   "source": [
    "Clean up the metabolite names"
   ]
  },
  {
   "cell_type": "code",
   "execution_count": null,
   "id": "1b4492a3-8ed6-48e4-aecb-2105f58e4f4f",
   "metadata": {
    "vscode": {
     "languageId": "r"
    }
   },
   "outputs": [],
   "source": [
    "# Clean metabolite names by removing anything inside square brackets and trimming whitespace\n",
    "met_data[, metabolite := gsub(\"\\\\[.*?\\\\]\", \"\", metabolite)]  # Remove text inside brackets\n",
    "met_data[, metabolite := trimws(metabolite)]  # Trim leading/trailing spaces\n",
    "met_data[, metabolite := tolower(metabolite)]  # Convert to lowercase\n",
    "\n",
    "# Print first rows to verify changes\n",
    "head(met_data)\n"
   ]
  },
  {
   "cell_type": "markdown",
   "id": "ba57c35d-86e4-487d-bc43-ea3203689950",
   "metadata": {},
   "source": [
    "Some data is missing from our met_data dataset (e.g. super_pathway and sub_pathway), we need to add it for further analysis. For this we use info_data.\n",
    "\n",
    "Clean up of info_data:"
   ]
  },
  {
   "cell_type": "code",
   "execution_count": null,
   "id": "9bf7d0d9-56f8-4040-a890-ee8a6a9a47a4",
   "metadata": {
    "vscode": {
     "languageId": "r"
    }
   },
   "outputs": [],
   "source": [
    "# Keep only rows where fluid == \"plasma\"\n",
    "info_data <- info_data[fluid == \"plasma\"]\n",
    "\n",
    "# Ensure correct encoding and remove asterisks\n",
    "info_data$metabolite <- gsub(\"[*]\", \"\", info_data$metabolite)  # Remove all asterisks\n",
    "info_data$metabolite <- gsub(\"\\u200B\", \"\", info_data$metabolite)  # Remove zero-width spaces (if present)\n",
    "info_data$metabolite <- gsub(\"[[:space:]]+$\", \"\", info_data$metabolite)  # Trim trailing spaces\n",
    "info_data$metabolite <- trimws(info_data$metabolite)  # Remove any remaining spaces\n",
    "info_data$metabolite <- tolower(info_data$metabolite)  # Convert to lowercase\n",
    "\n",
    "head(info_data)"
   ]
  },
  {
   "cell_type": "markdown",
   "id": "5d8c1190-fc88-47d7-88d1-664be4eafbc0",
   "metadata": {},
   "source": [
    "Merging the data "
   ]
  },
  {
   "cell_type": "code",
   "execution_count": null,
   "id": "b03db27e-7f6c-46d6-88d7-12146f4acc88",
   "metadata": {
    "vscode": {
     "languageId": "r"
    }
   },
   "outputs": [],
   "source": [
    "# Merge met_data with info_data based on metabolite and platform_name\n",
    "met_data <- merge(met_data, \n",
    "                  info_data[, .(metabolite, platform_name, super_pathway, sub_pathway)], \n",
    "                  by = c(\"metabolite\", \"platform_name\"), \n",
    "                  all.x = TRUE)  # Keep all rows in met_data\n",
    "\n",
    "# Print first rows to verify the merge\n",
    "head(met_data)"
   ]
  },
  {
   "cell_type": "markdown",
   "id": "40803dfa",
   "metadata": {},
   "source": [
    "## Hypothesis Testing"
   ]
  },
  {
   "cell_type": "markdown",
   "id": "15b960f1",
   "metadata": {},
   "source": [
    "DO YOU WANT TO ANALYSE HORMONES (E.G. INSULIN) TOO, RUN THIS CELL"
   ]
  },
  {
   "cell_type": "code",
   "execution_count": null,
   "id": "88391e3e",
   "metadata": {
    "vscode": {
     "languageId": "r"
    }
   },
   "outputs": [],
   "source": [
    "# Create a new dataset excluding rows where platform is \"In-house biochemistry [chem.]\"\n",
    "met_data_filtered <- met_data[platform_name != \"In-house biochemistry [chem.]\", ]\n",
    "\n",
    "# Print the first few rows of the new dataset\n",
    "head(met_data_filtered)"
   ]
  },
  {
   "cell_type": "markdown",
   "id": "2381fc27",
   "metadata": {},
   "source": [
    "NO INSULIN? RUN THIS"
   ]
  },
  {
   "cell_type": "code",
   "execution_count": 280,
   "id": "cba27710",
   "metadata": {
    "vscode": {
     "languageId": "r"
    }
   },
   "outputs": [],
   "source": [
    "met_data_filtered <- met_data"
   ]
  },
  {
   "cell_type": "markdown",
   "id": "c6aceeae",
   "metadata": {},
   "source": [
    "For ANOVA & T-TEST we need to only use targeted and non-targeted metabolites, we remove molecules from in Biochemistry, since these are not metabolites (e.g. insulin)"
   ]
  },
  {
   "cell_type": "code",
   "execution_count": null,
   "id": "fb2ff914",
   "metadata": {
    "vscode": {
     "languageId": "r"
    }
   },
   "outputs": [],
   "source": [
    "num_unique_metabolite_platforms <- nrow(unique(met_data_filtered[, .(metabolite, platform_name)]))\n",
    "print(num_unique_metabolite_platforms)"
   ]
  },
  {
   "cell_type": "markdown",
   "id": "ba38260e",
   "metadata": {},
   "source": [
    "## Anova-Test"
   ]
  },
  {
   "cell_type": "code",
   "execution_count": null,
   "id": "5775b653",
   "metadata": {
    "vscode": {
     "languageId": "r"
    }
   },
   "outputs": [],
   "source": [
    "# Define significance threshold after multiple testing correction\n",
    "p_threshold <- 0.05 / 634\n",
    "\n",
    "# Convert challenge_time to a categorical variable\n",
    "met_data_filtered[, time := as.factor(time)]\n",
    "met_data_filtered[, subject := as.factor(subject)]\n",
    "\n",
    "# Subset data by challenge\n",
    "metabolite_data_fasting <- met_data_filtered[challenge == \"Fasting\"]\n",
    "metabolite_data_pat <- met_data_filtered[challenge == \"Physical Activity\"]\n",
    "metabolite_data_oltt <- met_data_filtered[challenge == \"OLTT\"]\n",
    "\n",
    "# Function to run ANOVA-like test while considering metabolite & platform\n",
    "run_anova_like_test <- function(metabolite_data, challenge_name) {\n",
    "    \n",
    "    # Initialize results list\n",
    "    results <- list()\n",
    "\n",
    "    # Loop through unique metabolite-platform combinations\n",
    "    unique_metabolites <- unique(metabolite_data[, .(metabolite, platform_name, super_pathway, sub_pathway)])\n",
    "    \n",
    "    for (i in seq_len(nrow(unique_metabolites))) {\n",
    "        \n",
    "        met <- unique_metabolites$metabolite[i]\n",
    "        plat <- unique_metabolites$platform_name[i]\n",
    "        super_path <- unique_metabolites$super_pathway[i]\n",
    "        sub_path <- unique_metabolites$sub_pathway[i]\n",
    "        \n",
    "        # Subset data for this metabolite and platform\n",
    "        subset_data <- metabolite_data[metabolite == met & platform_name == plat]\n",
    "        \n",
    "        # Ensure sufficient data points for analysis\n",
    "        if (nrow(subset_data) > 2) {\n",
    "            \n",
    "            # Run the ld.f1 test\n",
    "            test_result <- ld.f1(y = subset_data$response, \n",
    "                                 time = subset_data$time, \n",
    "                                 subject = subset_data$subject, \n",
    "                                 description=FALSE)\n",
    "\n",
    "            # Extract p-value for time effect\n",
    "            p_value <- test_result$ANOVA.test$`p-value`\n",
    "            \n",
    "            # Store results\n",
    "            results[[paste(met, plat, sep = \"_\")]] <- data.table(\n",
    "              challenge = challenge_name,\n",
    "              metabolite = met,\n",
    "              platform_name = plat,\n",
    "              super_pathway = super_path,\n",
    "              sub_pathway = sub_path,\n",
    "              p_value = p_value\n",
    "            )\n",
    "        }\n",
    "    }\n",
    "\n",
    "    # Combine results into a data frame\n",
    "    anova_results <- rbindlist(results, fill = TRUE)\n",
    "\n",
    "    # Identify significant time effects\n",
    "    anova_results[, significant := p_value < p_threshold]\n",
    "\n",
    "    return(anova_results)\n",
    "}\n",
    "\n",
    "# Run ANOVA-like test for each challenge\n",
    "anova_results_fasting <- run_anova_like_test(metabolite_data_fasting, \"Fasting\")\n",
    "anova_results_pat <- run_anova_like_test(metabolite_data_pat, \"Physical Activity\")\n",
    "anova_results_oltt <- run_anova_like_test(metabolite_data_oltt, \"OLTT\")\n",
    "\n",
    "# Combine all results into one table\n",
    "#final_anova_results <- rbind(anova_results_ogtt, anova_results_oltt, anova_results_sld, fill = TRUE)\n",
    "#final_anova_results"
   ]
  },
  {
   "cell_type": "markdown",
   "id": "4ce8210f",
   "metadata": {},
   "source": [
    "#### Significant effect of time on metabolite levels during at least one challenge"
   ]
  },
  {
   "cell_type": "code",
   "execution_count": null,
   "id": "b061b50c",
   "metadata": {
    "vscode": {
     "languageId": "r"
    }
   },
   "outputs": [],
   "source": [
    "# Get all unique metabolites from the updated dataset (excluding insulin)\n",
    "all_metabolites <- unique(met_data_filtered[, .(metabolite, platform_name, super_pathway, sub_pathway)])\n",
    "\n",
    "# Sort metabolites first by super_pathway, then sub_pathway, then metabolite name\n",
    "all_metabolites <- all_metabolites[order(super_pathway, sub_pathway, tolower(metabolite))]\n",
    "\n",
    "# Initialize the column as FALSE for all metabolites\n",
    "all_metabolites[, significant_any_challenge := FALSE]\n",
    "\n",
    "# Extract **only** significant metabolites (ensuring metabolite-platform pairs match)\n",
    "significant_fasting <- anova_results_fasting[significant == TRUE, .(metabolite, platform_name)]\n",
    "significant_pat <- anova_results_pat[significant == TRUE, .(metabolite, platform_name)]\n",
    "significant_oltt <- anova_results_oltt[significant == TRUE, .(metabolite, platform_name)]\n",
    "\n",
    "# Function to update significance status **only for matching metabolite + platform pairs**\n",
    "update_significance <- function(met_data_filtered, sig_data) {\n",
    "    if (nrow(sig_data) > 0) {  # Only run if there's data\n",
    "        met_data_filtered[sig_data, on = .(metabolite,platform_name), significant_any_challenge := TRUE]\n",
    "    }\n",
    "}\n",
    "\n",
    "# Update based on **corrected** significance lists\n",
    "update_significance(all_metabolites, significant_fasting)\n",
    "update_significance(all_metabolites, significant_pat)\n",
    "update_significance(all_metabolites, significant_oltt)\n",
    "\n",
    "# Save the output file\n",
    "#fwrite(all_metabolites, \"../results/anova_results_significant_in_at_least_one_challenge.csv\")\n",
    "\n",
    "# Display output\n",
    "head(all_metabolites)"
   ]
  },
  {
   "cell_type": "markdown",
   "id": "1a691b02",
   "metadata": {},
   "source": [
    "### Figure 2 "
   ]
  },
  {
   "cell_type": "markdown",
   "id": "efc2a20d",
   "metadata": {},
   "source": [
    "#### Putting together a table"
   ]
  },
  {
   "cell_type": "code",
   "execution_count": null,
   "id": "47a30212",
   "metadata": {
    "vscode": {
     "languageId": "r"
    }
   },
   "outputs": [],
   "source": [
    "# Merge results into one table\n",
    "  anova_results_combined <- merge(anova_results_fasting, anova_results_pat, by = c(\"metabolite\", \"platform_name\", \"super_pathway\", \"sub_pathway\"), all = TRUE)\n",
    "  anova_results_combined <- merge(anova_results_combined, anova_results_oltt, by = c(\"metabolite\", \"platform_name\", \"super_pathway\", \"sub_pathway\"), all = TRUE)\n",
    "  \n",
    "  # Rename p-value columns for each challenge\n",
    "  setnames(anova_results_combined, \n",
    "           c(\"p_value.x\", \"p_value.y\", \"p_value\"), \n",
    "           c(\"p_value_fasting\", \"p_value_pat\", \"p_value_oltt\"))\n",
    "  \n",
    "  # Remove the redundant challenge columns and significance columns as they are not needed\n",
    "  anova_results_combined[, c(\"challenge.x\", \"challenge.y\", \"challenge\", \"significant.x\", \"significant.y\", \"significant\") := NULL]\n",
    "  \n",
    "  # Merge the p-values into the all_metabolites dataframe\n",
    "  all_metabolites_fig <- merge(all_metabolites, anova_results_combined, by = c(\"metabolite\", \"platform_name\", \"super_pathway\", \"sub_pathway\"), all.x = TRUE)\n",
    "  \n",
    "  # Filter rows where platform is either \"Metabolon HD4 [nt-ms]\" or \"In-house biochemistry [chem.]\"\n",
    "  all_metabolites_fig <- all_metabolites_fig[\n",
    "    platform_name %in% c(\"Metabolon HD4 [nt-ms]\", \"In-house biochemistry [chem.]\")\n",
    "  ]\n",
    "  \n",
    "  # Merge all_metabolites with met_data based on metabolite and platform\n",
    "  all_metabolites_fig <- merge(all_metabolites_fig, met_data[, .(metabolite, platform_name, subject, time, \n",
    "                              challenge, response)], \n",
    "                                by = c(\"metabolite\", \"platform_name\"), all.x = TRUE)\n",
    "  \n",
    "  # Calculate the mean for each metabolite, platform, challenge, and time\n",
    "  all_metabolites_fig[, mean_response := mean(response, na.rm = TRUE), \n",
    "                         by = .(metabolite, platform_name, challenge, time)]\n",
    "\n",
    "   print(\"after mean\")\n",
    "  head(all_metabolites_fig)\n",
    "  \n",
    "  # Remove 'subject' and 'response' columns\n",
    "  all_metabolites_fig <- all_metabolites_fig[, !c(\"subject\", \"response\"), with = FALSE]\n",
    "  \n",
    "  # Remove duplicates based on all columns\n",
    "  all_metabolites_fig <- unique(all_metabolites_fig)\n",
    "  \n",
    "  # Calculate log2_foldchange based on the difference in mean_response\n",
    "  all_metabolites_fig[, log2_foldchange := \n",
    "                        mean_response - mean_response[time == 1],\n",
    "                      by = .(metabolite, platform_name, challenge)]\n",
    "  \n",
    "  # Replace NA in mean_response with 0 if time is 0\n",
    "  all_metabolites_fig[time == 0 & is.na(mean_response), mean_response := 0]\n",
    "  \n",
    "  # Create a new column 'p_value' based on the 'challenge' column\n",
    "  all_metabolites_fig[, p_value := \n",
    "      ifelse(challenge == \"Fasting\", p_value_fasting,\n",
    "      ifelse(challenge == \"Physical Activity\", p_value_pat,\n",
    "      ifelse(challenge == \"OLTT\", p_value_oltt, NA)))] \n",
    "  \n",
    "  # Now remove the original p_value columns (p_value_fasting, p_value_fasting, p_value_oltt)\n",
    "  all_metabolites_fig[, c(\"p_value_fasting\", \"p_value_pat\", \"p_value_oltt\") := NULL]\n",
    "  \n",
    "  # Create a new column 'neg_log_p_value' that takes -log10 of the 'p_value' column\n",
    "  all_metabolites_fig[, neg_log10_p_value := -log10(p_value)]\n",
    "  \n",
    "  # Create a new column 'abs_log2_foldchange' that stores the absolute value of 'log2_foldchange'\n",
    "  all_metabolites_fig[, abs_log2_foldchange := abs(log2_foldchange)]\n",
    "\n",
    "  unique(all_metabolites_fig$significant_any_challenge)"
   ]
  },
  {
   "cell_type": "code",
   "execution_count": null,
   "id": "44f4e0f2",
   "metadata": {
    "vscode": {
     "languageId": "r"
    }
   },
   "outputs": [],
   "source": [
    "generate_figure2_data <- function(anova_results_fasting, anova_results_pat, anova_results_oltt, \n",
    "                                     all_metabolites, met_data, output_path = \"../results/figure_2_table.csv\") {\n",
    "  \n",
    "  # Merge results into one table\n",
    "  anova_results_combined <- merge(anova_results_fasting, anova_results_pat, by = c(\"metabolite\", \"platform_name\", \"super_pathway\", \"sub_pathway\"), all = TRUE)\n",
    "  anova_results_combined <- merge(anova_results_combined, anova_results_oltt, by = c(\"metabolite\", \"platform_name\", \"super_pathway\", \"sub_pathway\"), all = TRUE)\n",
    "  \n",
    "  # Rename p-value columns for each challenge\n",
    "  setnames(anova_results_combined, \n",
    "           c(\"p_value.x\", \"p_value.y\", \"p_value\"), \n",
    "           c(\"p_value_fasting\", \"p_value_pat\", \"p_value_oltt\"))\n",
    "  \n",
    "  # Remove the redundant challenge columns and significance columns as they are not needed\n",
    "  anova_results_combined[, c(\"challenge.x\", \"challenge.y\", \"challenge\", \"significant.x\", \"significant.y\", \"significant\") := NULL]\n",
    "  \n",
    "  # Merge the p-values into the all_metabolites dataframe\n",
    "  all_metabolites_fig <- merge(all_metabolites, anova_results_combined, by = c(\"metabolite\", \"platform_name\", \"super_pathway\", \"sub_pathway\"), all.x = TRUE)\n",
    "  \n",
    "  # Filter rows where platform is either \"Metabolon HD4 [nt-ms]\" or \"In-house biochemistry [chem.]\"\n",
    "  all_metabolites_fig <- all_metabolites_fig[\n",
    "    platform_name %in% c(\"Metabolon HD4 [nt-ms]\", \"In-house biochemistry [chem.]\")\n",
    "  ]\n",
    "  \n",
    "  # Merge all_metabolites with met_data based on metabolite and platform\n",
    "  all_metabolites_fig <- merge(all_metabolites_fig, met_data[, .(metabolite, platform_name, subject, time, \n",
    "                              challenge, response)], \n",
    "                                by = c(\"metabolite\", \"platform_name\"), all.x = TRUE)\n",
    "  \n",
    "  # Calculate the mean for each metabolite, platform, challenge, and time\n",
    "  all_metabolites_fig[, mean_response := mean(response, na.rm = TRUE), \n",
    "                         by = .(metabolite, platform_name, challenge, time)]\n",
    "  \n",
    "  # Remove 'subject' and 'response' columns\n",
    "  all_metabolites_fig <- all_metabolites_fig[, !c(\"subject\", \"response\"), with = FALSE]\n",
    "  \n",
    "  # Remove duplicates based on all columns\n",
    "  all_metabolites_fig <- unique(all_metabolites_fig)\n",
    "  \n",
    "  # Calculate log2_foldchange based on the difference in mean_response\n",
    "  all_metabolites_fig[, log2_foldchange := \n",
    "                        mean_response - mean_response[time == 0],\n",
    "                      by = .(metabolite, platform_name, challenge)]\n",
    "  \n",
    "  # Replace NA in mean_response with 0 if time is 0\n",
    "  all_metabolites_fig[time == 0 & is.na(mean_response), mean_response := 0]\n",
    "  \n",
    "  # Create a new column 'p_value' based on the 'challenge' column\n",
    "  all_metabolites_fig[, p_value := \n",
    "      ifelse(challenge == \"Fasting\", p_value_fasting,\n",
    "      ifelse(challenge == \"Physical Activity\", p_value_pat,\n",
    "      ifelse(challenge == \"OLTT\", p_value_oltt, NA)))] \n",
    "  \n",
    "  # Now remove the original p_value columns (p_value_fasting, p_value_fasting, p_value_oltt)\n",
    "  all_metabolites_fig[, c(\"p_value_fasting\", \"p_value_pat\", \"p_value_oltt\") := NULL]\n",
    "  \n",
    "  # Create a new column 'neg_log_p_value' that takes -log10 of the 'p_value' column\n",
    "  all_metabolites_fig[, neg_log10_p_value := -log10(p_value)]\n",
    "  \n",
    "  # Create a new column 'abs_log2_foldchange' that stores the absolute value of 'log2_foldchange'\n",
    "  all_metabolites_fig[, abs_log2_foldchange := abs(log2_foldchange)]\n",
    "  \n",
    "  # Filter rows where either condition applies: abs_log2_foldchange > 1 or neg_log10_p_value > 40\n",
    "  all_metabolites_fig <- all_metabolites_fig[(significant_any_challenge == TRUE & abs_log2_foldchange > 1) | neg_log10_p_value > 40]\n",
    "  \n",
    "  # Sort the table in decreasing order of abs_log2_foldchange\n",
    "  setorder(all_metabolites_fig, -abs_log2_foldchange)\n",
    "  \n",
    "  # Save the table to a CSV file\n",
    "  fwrite(all_metabolites_fig, output_path)\n",
    "  \n",
    "  # Return the processed data frame\n",
    "  return(all_metabolites_fig)\n",
    "}\n",
    "\n",
    "# Example of how to call the function and get the result\n",
    "all_metabolites_fig <- generate_figure2_data(anova_results_fasting, anova_results_pat, anova_results_oltt, all_metabolites, met_data, \"../results/fig_2_table.csv\")\n",
    "head(all_metabolites_fig)"
   ]
  },
  {
   "cell_type": "code",
   "execution_count": null,
   "id": "1001733e",
   "metadata": {
    "vscode": {
     "languageId": "r"
    }
   },
   "outputs": [],
   "source": [
    "all_metabolites_fig[all_metabolites_fig$significant_any_challenge == \"FALSE\"]"
   ]
  },
  {
   "cell_type": "markdown",
   "id": "30a39e7a",
   "metadata": {},
   "source": [
    "#### Volcano Plot"
   ]
  },
  {
   "cell_type": "code",
   "execution_count": null,
   "id": "24207765",
   "metadata": {
    "vscode": {
     "languageId": "r"
    }
   },
   "outputs": [],
   "source": [
    " # Define challenge colors\n",
    "  challenge_colors <- c(\"ogtt\" = \"red\",  \n",
    "                        \"sld\" = \"blue\",  \n",
    "                        \"oltt\" = \"#BA8E23\") \n",
    "\n",
    "  # Define time point shapes\n",
    "  time_point_shapes <- c(\n",
    "    \"15\" = 0,   # Empty square\n",
    "    \"30\" = 1,   # Empty circle\n",
    "    \"45\" = 2,   # Empty triangle facing up\n",
    "    \"60\" = 15,  # Filled square\n",
    "    \"90\" = 6,   # Empty triangle facing down\n",
    "    \"120\" = 16, # Filled circle\n",
    "    \"180\" = 17, # Filled triangle facing up\n",
    "    \"240\" = 18  # Filled rhombus\n",
    "  ) \n",
    "\n",
    "  # Custom labels for challenge\n",
    "  challenge_labels <- c(\"Fasting\" = \"Fasting\",\n",
    "                        \"Physical Activity\" = \"Physical Activity\",\n",
    "                        \"OLTT\" = \"Oral liquid tolerance test\")\n",
    "\n",
    "generate_figure2a <- function(all_metabolites_fig, output_path = \"../results/plots/volcano_plot_figure.png\") {\n",
    "\n",
    "  # Create volcano plot\n",
    "  volcano_plot <- ggplot(all_metabolites_fig, aes(x = log2_foldchange, y = neg_log10_p_value, \n",
    "                     color = challenge, shape = as.factor(challenge_time))) +\n",
    "    # Add transparent rectangle\n",
    "    annotate(\"rect\", xmin = -1, xmax = 1, ymin = 0, ymax = Inf, alpha = 0.2, fill = \"blue\") +\n",
    "    # Add dashed vertical lines at x = -1 and x = 1\n",
    "    geom_vline(xintercept = -1, linetype = \"dashed\", color = \"black\", size = 0.5) +\n",
    "    geom_vline(xintercept = 1, linetype = \"dashed\", color = \"black\", size = 0.5) +\n",
    "    geom_hline(yintercept = -log10(0.05/634), linetype = \"dashed\", color = \"black\", size = 0.5) +\n",
    "    # Add points (ensure this is after the rectangle and lines to be on top)\n",
    "    geom_point(size = 3, alpha = 1) +  # Set alpha to 1 for fully opaque points\n",
    "    scale_color_manual(values = challenge_colors, labels = challenge_labels, \n",
    "                       guide = \"none\") +  # Remove color legend\n",
    "    scale_x_continuous(breaks = seq(floor(min(all_metabolites_fig$log2_foldchange)), \n",
    "                                  ceiling(max(all_metabolites_fig$log2_foldchange)), \n",
    "                                  by = 1)) +\n",
    "    scale_shape_manual(values = time_point_shapes) +\n",
    "    geom_hline(yintercept = 40, linetype = \"dashed\", color = \"black\", size = 0.5) +\n",
    "    theme_minimal() +\n",
    "    labs(x = \"log2 fold change\", \n",
    "         y = \"-log10(p-value)\") +\n",
    "    scale_y_continuous(expand = c(0, 0), limits = c(0, 85)) +\n",
    "    theme(\n",
    "      legend.position = \"none\",  # Remove the legend\n",
    "      axis.line = element_line(color = \"black\", size = 1),\n",
    "      axis.ticks = element_line(color = \"black\", size = 1),  # Ensure ticks are visible\n",
    "      axis.title = element_text(size = 14, face = \"bold\"),  # Increase axis title size\n",
    "      axis.text = element_text(size = 14)  # Increase size of the numbers next to ticks\n",
    "    )\n",
    "\n",
    "  # Save the volcano plot without the legend\n",
    "  ggsave(output_path, plot = volcano_plot, bg = \"white\")\n",
    "  \n",
    "  # Return the volcano plot object in case the user wants to further customize or display it\n",
    "  return(volcano_plot)\n",
    "}\n",
    "\n",
    "# Example of how to call the function\n",
    "generate_figure2a(all_metabolites_fig, \"../results/plots/fig_2_A_volcano_plot_logfold_pvalue.png\")"
   ]
  },
  {
   "cell_type": "markdown",
   "id": "51510974",
   "metadata": {},
   "source": [
    "#### Forest Plot"
   ]
  },
  {
   "cell_type": "code",
   "execution_count": null,
   "id": "d1f1bf8b",
   "metadata": {
    "vscode": {
     "languageId": "r"
    }
   },
   "outputs": [],
   "source": [
    "generate_figure2b <- function(all_metabolites_fig, output_path = \"../results/plots/forest_plot.png\") {\n",
    "  \n",
    "  # Define the custom order for super_pathway\n",
    "  pathway_order <- c(\"Hormones\", \"Carbohydrate\", \"Nucleotide\", \"Xenobiotics\", \n",
    "                     \"Amino Acid\", \"Lipid\", \"Peptide\")\n",
    "  \n",
    "  # Ensure the super_pathway is a factor with the specified order\n",
    "  all_metabolites_fig$super_pathway <- factor(all_metabolites_fig$super_pathway, levels = pathway_order)\n",
    "  \n",
    "  # Sort the dataframe by the ordered super_pathway and alphabetically by metabolite within each super_pathway\n",
    "  all_metabolites_fig <- all_metabolites_fig[order(all_metabolites_fig$super_pathway, all_metabolites_fig$metabolite), ]\n",
    "  \n",
    "  # Combine super_pathway and metabolite to ensure metabolites are grouped within the correct super_pathway order\n",
    "  all_metabolites_fig$metabolite <- factor(all_metabolites_fig$metabolite, \n",
    "                                            levels = unique(all_metabolites_fig$metabolite[order(all_metabolites_fig$super_pathway, all_metabolites_fig$metabolite)]))\n",
    "  \n",
    "  # Compute bracket positions automatically (RIGHT SIDE)\n",
    "  bracket_data <- all_metabolites_fig %>%\n",
    "    group_by(super_pathway) %>%\n",
    "    summarise(ymin = min(as.numeric(factor(metabolite))), \n",
    "              ymax = max(as.numeric(factor(metabolite)))) %>%\n",
    "    mutate(x = max(all_metabolites_fig$log2_foldchange) + 1.2)  # Move to RIGHT side\n",
    "  \n",
    "  # Calculate max x position for labels\n",
    "  max_x_value <- max(all_metabolites_fig$log2_foldchange, na.rm = TRUE) + 1.5  \n",
    "  \n",
    "  # Compute label positions for super_pathway\n",
    "  label_data <- bracket_data %>%\n",
    "    mutate(label_x = x + 0.15,   # Move labels slightly to the right\n",
    "           label_y = (ymin + ymax) / 2)  # Position at midpoint of each bracket\n",
    "  \n",
    "  # Create forest plot\n",
    "  forest_plot <- ggplot(all_metabolites_fig, aes(x = log2_foldchange, y = metabolite)) +\n",
    "    # Shaded region\n",
    "    annotate(\"rect\", xmin = -1, xmax = 1, ymin = -Inf, ymax = Inf, alpha = 0.3, fill = \"gray80\") +\n",
    "    geom_vline(xintercept = 0, linetype = \"dashed\", color = \"black\", size = 0.3) +\n",
    "    geom_point(aes(color = challenge, shape = as.factor(challenge_time)), size = 2, alpha = 0.8) +\n",
    "  \n",
    "    # Proper legend integration\n",
    "    scale_color_manual(\n",
    "      values = challenge_colors, \n",
    "      labels = challenge_labels, \n",
    "      guide = guide_legend(title = \"Challenge\", order = 1)\n",
    "    ) +\n",
    "    scale_shape_manual(\n",
    "      values = time_point_shapes,\n",
    "      guide = guide_legend(title = \"Challenge time [min]\", order = 2)\n",
    "    ) +\n",
    "  \n",
    "    # Labels\n",
    "    labs(x = \"log2 fold change\",\n",
    "         y = \"Metabolites\",\n",
    "         color = \"Challenge\", \n",
    "         shape = \"Challenge time [min]\") +\n",
    "  \n",
    "    theme_bw() +\n",
    "    theme(\n",
    "      legend.position = \"top\",  # Legend stays at the top\n",
    "      legend.title = element_text(size = 12, face = \"bold\"),\n",
    "      legend.text = element_text(size = 10),\n",
    "      \n",
    "      axis.text.x = element_text(size = 14),\n",
    "      axis.text.y = element_text(size = 12),\n",
    "      axis.title.x = element_text(size = 16, face = \"bold\"),\n",
    "      axis.title.y = element_text(size = 16, face = \"bold\"),\n",
    "      \n",
    "      strip.background = element_blank(),\n",
    "      strip.text = element_text(size = 14, face = \"bold\"),\n",
    "      \n",
    "      panel.grid = element_blank(),\n",
    "      panel.border = element_blank(),\n",
    "      panel.spacing = unit(0.01, \"null\"), \n",
    "      axis.line = element_line(color = \"black\"),\n",
    "      \n",
    "      strip.text.y.left = element_blank(),\n",
    "      strip.placement = \"outside\"\n",
    "    ) +\n",
    "  \n",
    "    # Force legends into two separate lists\n",
    "    guides(\n",
    "      color = guide_legend(ncol = 1, order = 1, title.position = \"top\"),  # Challenge (list on left)\n",
    "      shape = guide_legend(ncol = 2, order = 2, title.position = \"top\")   # Challenge time (2 columns)\n",
    "    ) +\n",
    "  \n",
    "    # Facet grid for super_pathway\n",
    "    facet_grid(rows = vars(super_pathway), scales = \"free_y\", space = \"free_y\", switch = \"y\") +\n",
    "  \n",
    "    # Adjust x-axis\n",
    "    scale_x_continuous(breaks = seq(-2, max_x_value, by = 1)) +\n",
    "    expand_limits(x = c(0, max_x_value + 1)) +\n",
    "  \n",
    "    # Brackets on the right side\n",
    "    geom_segment(data = bracket_data, aes(x = x, xend = x, y = ymin, yend = ymax), size = 0.5) +\n",
    "    geom_segment(data = bracket_data, aes(x = x, xend = x - 0.2, y = ymin, yend = ymin), size = 0.5) +\n",
    "    geom_segment(data = bracket_data, aes(x = x, xend = x - 0.2, y = ymax, yend = ymax), size = 0.5) +\n",
    "  \n",
    "    # Super_pathway labels next to brackets\n",
    "    geom_text(data = label_data, aes(x = label_x, y = label_y, label = super_pathway),\n",
    "              hjust = 0, vjust = 0.5, size = 5)\n",
    "\n",
    "  # Save without cutting off labels\n",
    "  ggsave(output_path, plot = forest_plot, bg = \"white\", width = 12, height = 13, units = \"in\")\n",
    "  \n",
    "  # Return the forest plot object for further customization or use\n",
    "  return(forest_plot)\n",
    "}\n",
    "\n",
    "# Example of how to call the function\n",
    "generate_figure2b(all_metabolites_fig, \"../results/plots/fig_2_B_forest_plot_logfold.png\")"
   ]
  },
  {
   "cell_type": "markdown",
   "id": "f613f209",
   "metadata": {},
   "source": [
    "#### Significant effect of time on metabolite levels during at all challenges"
   ]
  },
  {
   "cell_type": "code",
   "execution_count": 284,
   "id": "2f72bc03",
   "metadata": {
    "vscode": {
     "languageId": "r"
    }
   },
   "outputs": [],
   "source": [
    "# Initialize columns for each category as FALSE\n",
    "all_metabolites[, `:=`(\n",
    "  significant_fasting = FALSE,\n",
    "  significant_pat = FALSE,\n",
    "  significant_oltt = FALSE,\n",
    "  significant_fasting_pat = FALSE,\n",
    "  significant_fasting_oltt = FALSE,\n",
    "  significant_pat_oltt = FALSE,\n",
    "  significant_fasting_pat_oltt = FALSE\n",
    ")]\n",
    "\n",
    "# Function to update significance for each individual challenge\n",
    "update_significance <- function(met_data, sig_data, column_name) {\n",
    "    if (nrow(sig_data) > 0) {\n",
    "        met_data[sig_data, on = .(metabolite, platform_name), (column_name) := TRUE]\n",
    "    }\n",
    "}\n",
    "\n",
    "# Update individual significance columns\n",
    "update_significance(all_metabolites, significant_fasting, \"significant_fasting\")\n",
    "update_significance(all_metabolites, significant_pat, \"significant_pat\")\n",
    "update_significance(all_metabolites, significant_oltt, \"significant_oltt\")\n",
    "\n",
    "# Calculate overlaps\n",
    "all_metabolites[, `:=`(\n",
    "  significant_fasting_pat = significant_fasting & significant_pat & !significant_oltt,\n",
    "  significant_fasting_oltt = significant_fasting & significant_oltt & !significant_pat,\n",
    "  significant_pat_oltt = significant_pat & significant_oltt & !significant_fasting,\n",
    "  significant_fasting_pat_oltt = significant_fasting & significant_pat & significant_oltt\n",
    ")]\n",
    "\n",
    "# Save the updated table\n",
    "#fwrite(all_metabolites, \"results/all_metabolites_with_significance.csv\")"
   ]
  },
  {
   "cell_type": "markdown",
   "id": "b22dc634",
   "metadata": {},
   "source": [
    "#### Input for Venn Diagram"
   ]
  },
  {
   "cell_type": "code",
   "execution_count": null,
   "id": "3d018ab7",
   "metadata": {
    "vscode": {
     "languageId": "r"
    }
   },
   "outputs": [],
   "source": [
    "create_venn_table <- function(all_metabolites) {\n",
    "  \n",
    "  # Calculate the counts of significant metabolites for each condition and their overlaps\n",
    "  venn_data <- c(\n",
    "    \"Fasting\" = sum(all_metabolites$significant_fasting),  # Metabolites significant in fasting condition\n",
    "    \"PAT\" = sum(all_metabolites$significant_pat),  # Metabolites significant in PAT condition\n",
    "    \"OLTT\" = sum(all_metabolites$significant_oltt),  # Metabolites significant in OLTT condition\n",
    "    \n",
    "    # Overlapping significance between conditions\n",
    "    \"Fasting ∩ PAT\" = sum(all_metabolites$significant_fasting_pat),  # Significant in both Fasting and PAT\n",
    "    \"Fasting ∩ OLTT\" = sum(all_metabolites$significant_fasting_oltt),  # Significant in both Fasting and OLTT\n",
    "    \"PAT ∩ OLTT\" = sum(all_metabolites$significant_pat_oltt),  # Significant in both PAT and OLTT\n",
    "    \"Fasting ∩ PAT ∩ OLTT\" = sum(all_metabolites$significant_fasting_pat_oltt),  # Significant in all three conditions\n",
    "    \n",
    "    # Exclusive significance for each condition\n",
    "    \"Fasting (exclusive)\" = sum(all_metabolites$significant_fasting) - sum(all_metabolites$significant_fasting_pat) - sum(all_metabolites$significant_fasting_oltt) - sum(all_metabolites$significant_fasting_pat_oltt),\n",
    "    \"PAT (exclusive)\" = sum(all_metabolites$significant_pat) - sum(all_metabolites$significant_pat_oltt) - sum(all_metabolites$significant_fasting_pat) - sum(all_metabolites$significant_fasting_pat_oltt),\n",
    "    \"OLTT (exclusive)\" = sum(all_metabolites$significant_oltt) - sum(all_metabolites$significant_fasting_oltt) - sum(all_metabolites$significant_pat_oltt) - sum(all_metabolites$significant_fasting_pat_oltt),\n",
    "    \n",
    "    # Overall summary statistics\n",
    "    \"Total Metabolites\" = nrow(all_metabolites),  # Total number of metabolites analyzed\n",
    "    \"Total Significant in Any Challenge\" = sum(all_metabolites$significant_any_challenge),  # Total metabolites significant in at least one condition\n",
    "    \"Total Not Significant\" = nrow(all_metabolites) - sum(all_metabolites$significant_any_challenge)  # Metabolites not significant in any condition\n",
    "  )\n",
    "  \n",
    "  # Convert the named vector to a data.table for better readability and handling\n",
    "  venn_table <- data.table(Category = names(venn_data), Count = venn_data)\n",
    "  venn_table  # Diasplay the created Venn diagram table\n",
    "}\n",
    "\n",
    "# Call the function to generate and return the Venn diagram table\n",
    "create_venn_table(all_metabolites)"
   ]
  },
  {
   "cell_type": "markdown",
   "id": "f7e32f21",
   "metadata": {},
   "source": [
    "#### Input for Nested Donut - Metabolite Responses by Class"
   ]
  },
  {
   "cell_type": "code",
   "execution_count": null,
   "id": "e93aad26",
   "metadata": {
    "vscode": {
     "languageId": "r"
    }
   },
   "outputs": [],
   "source": [
    "create_nested_donut_table <- function(all_metabolites) {\n",
    "  # Print tables for debugging and validation\n",
    "  # print(table(all_metabolites$super_pathway))  # Total count of metabolites per super_pathway\n",
    "  # print(table(all_metabolites$super_pathway[all_metabolites$significant_any_challenge]))  # Count of significant metabolites per super_pathway\n",
    "  \n",
    "  # Compute total counts for each super_pathway\n",
    "  super_pathway_counts <- table(all_metabolites$super_pathway)\n",
    "  \n",
    "  # Compute counts for significant metabolites\n",
    "  sig_super_pathway_counts <- table(all_metabolites$super_pathway[all_metabolites$significant_any_challenge])\n",
    "  \n",
    "  # Create a table combining both total and significant counts\n",
    "  nested_donut_table <- data.table(\n",
    "    super_pathway = names(super_pathway_counts),\n",
    "    total = as.integer(super_pathway_counts),\n",
    "    significant = as.integer(sig_super_pathway_counts[names(super_pathway_counts)]) # Ensure missing categories are filled with NA\n",
    "  )\n",
    "\n",
    "  # Save the table to a CSV file\n",
    "  fwrite(nested_donut_table, file = \"../results/nested_donut_counts_per_pathway.csv\")\n",
    "  message(\"Nested Donut input saved: ../results/nested_donut_counts_per_pathway.csv\")\n",
    "  nested_donut_table  # Display the nested donut table\n",
    "}\n",
    "\n",
    "# Generate and save the nested donut table\n",
    "create_nested_donut_table(all_metabolites)"
   ]
  },
  {
   "cell_type": "markdown",
   "id": "fb77a3d9",
   "metadata": {},
   "source": [
    "## T-Test"
   ]
  },
  {
   "cell_type": "code",
   "execution_count": null,
   "id": "23cb0205",
   "metadata": {
    "vscode": {
     "languageId": "r"
    }
   },
   "outputs": [],
   "source": [
    "perform_paired_ttests <- function(met_data, all_metabolites, \n",
    "                                  significant_challenge_type = \"any\", \n",
    "                                  filter_significant = TRUE, \n",
    "                                  output_path = \"../results/paired_ttest_results.csv\") {\n",
    "\n",
    "  # Select baseline data for different challenges\n",
    "  baseline_fasting <- met_data[challenge == \"Fasting\" & time == \"1\"]\n",
    "  baseline_pat  <- met_data[challenge == \"Physical Activity\" & time == \"33\"]\n",
    "  \n",
    "  # Ensure only common subjects are used across all three conditions\n",
    "  common_subjects <- Reduce(intersect, list(baseline_fasting$subject, baseline_pat$subject))\n",
    "  baseline_fasting <- baseline_fasting[subject %in% common_subjects]\n",
    "  baseline_pat <- baseline_pat[subject %in% common_subjects]\n",
    "  \n",
    "  # Get unique metabolite-platform combinations\n",
    "  metabolites <- unique(met_data[, .(metabolite, platform_name)])\n",
    "  \n",
    "  # Perform paired t-tests and keep significance + pathway info\n",
    "  results <- lapply(1:nrow(metabolites), function(i) {\n",
    "    met_name <- metabolites$metabolite[i]\n",
    "    met_platform <- metabolites$platform_name[i]\n",
    "    \n",
    "    # Subset using both metabolite name and platform\n",
    "    fasting_values <- baseline_fasting[metabolite == met_name & platform_name == met_platform, response]\n",
    "    pat_values  <- baseline_pat[metabolite == met_name & platform_name == met_platform, response]\n",
    "    \n",
    "    # Ensure valid comparisons (at least two values in each group)\n",
    "    if (length(fasting_values) > 1 & length(pat_values) > 1) {\n",
    "      mean_diff_pat <- mean(pat_values, na.rm = TRUE) - mean(fasting_values, na.rm = TRUE)\n",
    "      \n",
    "      # Perform paired t-tests\n",
    "      p_val_pat <- tryCatch(\n",
    "        t.test(pat_values, fasting_values, paired = TRUE, var.equal = FALSE)$p.value,\n",
    "        error = function(e) NA\n",
    "      )\n",
    "      \n",
    "      # Choose significance column based on parameter\n",
    "      if (significant_challenge_type == \"all\") {\n",
    "        anova_significance <- all_metabolites[metabolite == met_name & platform_name == met_platform, significant_fasting_pat_oltt]\n",
    "        pathway_info <- all_metabolites[metabolite == met_name & platform_name == met_platform, \n",
    "                                      .(platform_name, super_pathway, sub_pathway, significant_fasting_pat_oltt)]\n",
    "      } else {\n",
    "        anova_significance <- all_metabolites[metabolite == met_name & platform_name == met_platform, significant_any_challenge]\n",
    "        pathway_info <- all_metabolites[metabolite == met_name & platform_name == met_platform, \n",
    "                                      .(platform_name, super_pathway, sub_pathway, significant_any_challenge)]\n",
    "      }\n",
    "      \n",
    "      # Return structured result\n",
    "      return(data.table(\n",
    "        metabolite = met_name,\n",
    "        platform_name = met_platform,\n",
    "        super_pathway = pathway_info$super_pathway,\n",
    "        sub_pathway = pathway_info$sub_pathway,\n",
    "        mean_diff_PAT_FASTING = mean_diff_pat,\n",
    "        pvalue_PAT_FASTING = p_val_pat,\n",
    "        significant_response = anova_significance\n",
    "      ))\n",
    "    } else {\n",
    "      return(NULL)\n",
    "    }\n",
    "  })\n",
    "  \n",
    "  # Remove NULL results safely\n",
    "  results <- rbindlist(Filter(Negate(is.null), results), fill = TRUE)\n",
    "  \n",
    "  # Filter based on significant challenge type\n",
    "  if (filter_significant) {\n",
    "    filtered_results <- results[significant_response == TRUE]\n",
    "  } else {\n",
    "    filtered_results <- results\n",
    "  }\n",
    "  \n",
    "  # Save filtered results to a CSV file\n",
    "  fwrite(filtered_results, output_path)\n",
    "  message(\"Filtered T-Test completed! Filtered results saved in: \", output_path)\n",
    "  \n",
    "  # Print summary of the filtered results\n",
    "  num_significant <- nrow(filtered_results)\n",
    "  total_tests <- nrow(results)\n",
    "  percentage <- (num_significant / total_tests) * 100\n",
    "  \n",
    "  cat(\"Number of significant metabolites (filtered):\", num_significant, \"\\n\")\n",
    "  cat(\"Percentage of significant results (filtered):\", round(percentage, 2), \"%\\n\")\n",
    "}\n",
    "\n",
    "# Example of how to call the function and get the result\n",
    "filtered_results <- perform_paired_ttests(met_data, all_metabolites, \n",
    "                      significant_challenge_type = \"any\", # either \"any\" or \"all\"\n",
    "                      filter_significant = TRUE, # if you want to only have significant results choose TRUE\n",
    "                      output_path = \"../results/paired_ttest_results.csv\")\n"
   ]
  },
  {
   "cell_type": "code",
   "execution_count": null,
   "id": "4d3c3655",
   "metadata": {
    "vscode": {
     "languageId": "r"
    }
   },
   "outputs": [],
   "source": [
    "### OLD TTEST\n",
    "\n",
    "# Select baseline data for different challenges\n",
    "baseline_fasting <- met_data[challenge == \"Fasting\" & time == \"1\"]\n",
    "baseline_pat  <- met_data[challenge == \"Physical Activity\"  & time == \"33\"]\n",
    "\n",
    "# Ensure only common subjects are used across all three conditions\n",
    "common_subjects <- Reduce(intersect, list(baseline_fasting$subject, baseline_pat$subject))\n",
    "baseline_fasting <- baseline_fasting[subject %in% common_subjects]\n",
    "baseline_pat <- baseline_pat[subject %in% common_subjects]\n",
    "\n",
    "# Get unique metabolite-platform combinations\n",
    "metabolites <- unique(met_data[, .(metabolite, platform_name)])\n",
    "\n",
    "# Perform paired t-tests and keep significance + pathway info\n",
    "results <- lapply(1:nrow(metabolites), function(i) {\n",
    "  met_name <- metabolites$metabolite[i]\n",
    "  met_platform <- metabolites$platform_name[i]\n",
    "\n",
    "  # Subset using both metabolite name and platform\n",
    "  fasting_values <- baseline_fasting[metabolite == met_name & platform_name == met_platform, response]\n",
    "  pat_values  <- baseline_pat[metabolite == met_name & platform_name == met_platform, response]\n",
    "\n",
    "  # Ensure valid comparisons (at least two values in each group)\n",
    "  if (length(fasting_values) > 1 & length(pat_values) > 1) {\n",
    "    mean_diff_pat <- mean(pat_values, na.rm = TRUE) - mean(fasting_values, na.rm = TRUE)\n",
    "\n",
    "    # Perform paired t-tests\n",
    "    p_val_pat <- tryCatch(\n",
    "      t.test(pat_values, fasting_values, paired = TRUE, var.equal = FALSE)$p.value,\n",
    "      error = function(e) NA\n",
    "    )\n",
    "\n",
    "    # Retrieve significance info and pathway details\n",
    "    anova_significance <- all_metabolites[metabolite == met_name & platform_name == met_platform, significant_fasting_pat_oltt]\n",
    "    pathway_info <- all_metabolites[metabolite == met_name & platform_name == met_platform, \n",
    "                                    .(platform_name, super_pathway, sub_pathway, significant_fasting_pat_oltt)]\n",
    "\n",
    "    # Return structured result\n",
    "    return(data.table(\n",
    "      metabolite = met_name,\n",
    "      platform_name = met_platform,\n",
    "      super_pathway = pathway_info$super_pathway,\n",
    "      sub_pathway = pathway_info$sub_pathway,\n",
    "      mean_diff_PAT_FASTING = mean_diff_pat,\n",
    "      pvalue_PAT_FASTING = p_val_pat,\n",
    "      significant_response = anova_significance\n",
    "    ))\n",
    "  } else {\n",
    "    return(NULL)\n",
    "  }\n",
    "})\n",
    "\n",
    "# Remove NULL results safely\n",
    "results <- rbindlist(Filter(Negate(is.null), results), fill = TRUE)\n",
    "\n",
    "# Filter rows where significant_OGTT_OLTT_SLD is TRUE\n",
    "filtered_results <- results[significant_response == TRUE]\n",
    "\n",
    "# Save filtered results to a CSV file\n",
    "fwrite(filtered_results, \"../results/paired_ttest_results.csv\")\n",
    "message(\"Filtered T-Test completed! Filtered results saved in: ../results/paired_ttest_results.csv\")\n",
    "\n",
    "# Print summary of the filtered results\n",
    "num_significant <- nrow(filtered_results)\n",
    "total_tests <- nrow(results)\n",
    "percentage <- (num_significant / total_tests) * 100\n",
    "\n",
    "cat(\"Number of significant metabolites (filtered):\", num_significant, \"\\n\")\n",
    "cat(\"Percentage of significant results (filtered):\", round(percentage, 2), \"%\\n\")\n"
   ]
  },
  {
   "cell_type": "markdown",
   "id": "f9280076",
   "metadata": {},
   "source": [
    "#### Input for Volcano Plot - Carryover Effect Analysis"
   ]
  },
  {
   "cell_type": "code",
   "execution_count": null,
   "id": "2b01af96",
   "metadata": {
    "vscode": {
     "languageId": "r"
    }
   },
   "outputs": [],
   "source": [
    "create_volcano_carryover_input <- function(met_data, all_metabolites) {\n",
    "  # Select baseline data for different challenges\n",
    "  baseline_fasting <- met_data[challenge == \"Fasting\" & time == \"1\"]\n",
    "  baseline_pat  <- met_data[challenge == \"Physical Activity\"  & time == \"33\"]\n",
    "\n",
    "  # Ensure only common subjects are used across all three conditions\n",
    "  common_subjects <- Reduce(intersect, list(baseline_fasting$subject, baseline_pat$subject))\n",
    "  baseline_fasting <- baseline_fasting[subject %in% common_subjects]\n",
    "  baseline_pat <- baseline_pat[subject %in% common_subjects]\n",
    "\n",
    "  # Get unique metabolite-platform combinations\n",
    "  metabolites <- unique(met_data[, .(metabolite, platform_name)])\n",
    "\n",
    "  # Perform paired t-tests and keep significance + pathway info\n",
    "  ttest_results <- lapply(1:nrow(metabolites), function(i) {\n",
    "    met_name <- metabolites$metabolite[i]\n",
    "    met_platform <- metabolites$platform_name[i]\n",
    "\n",
    "    fasting_values <- baseline_fasting[metabolite == met_name & platform_name == met_platform, response]\n",
    "    pat_values  <- baseline_pat[metabolite == met_name & platform_name == met_platform, response]\n",
    "\n",
    "    if (length(fasting_values) > 1 & length(pat_values) > 1) {\n",
    "      mean_diff_pat <- mean(pat_values, na.rm = TRUE) - mean(fasting_values, na.rm = TRUE)\n",
    "      p_val_pat <- tryCatch(\n",
    "        t.test(pat_values, fasting_values, paired = TRUE, var.equal = FALSE)$p.value,\n",
    "        error = function(e) NA\n",
    "      )\n",
    "      pathway_info <- all_metabolites[metabolite == met_name & platform_name == met_platform, \n",
    "                                      .(super_pathway, sub_pathway, significant_any_challenge)]\n",
    "      return(data.table(\n",
    "        metabolite = met_name,\n",
    "        platform_name = met_platform,\n",
    "        super_pathway = pathway_info$super_pathway,\n",
    "        sub_pathway = pathway_info$sub_pathway,\n",
    "        mean_diff_PAT_FASTING = mean_diff_pat,\n",
    "        pvalue_PAT_FASTING = p_val_pat,\n",
    "        significant_response = pathway_info$significant_any_challenge\n",
    "      ))\n",
    "    } else {\n",
    "      return(NULL)\n",
    "    }\n",
    "  })\n",
    "\n",
    "  ttest_results <- rbindlist(Filter(Negate(is.null), ttest_results), fill = TRUE)\n",
    "  fwrite(ttest_results, \"../results/volcano_ttest_inputs.csv\")\n",
    "  message(\"Carryover Volcano input saved: ../results/volcano_ttest_inputs.csv\")\n",
    "}\n",
    "\n",
    "# Call the function to generate and save Volcano Plot input\n",
    "data_volcano <- create_volcano_carryover_input(met_data, all_metabolites)"
   ]
  },
  {
   "cell_type": "markdown",
   "id": "ef41c70d",
   "metadata": {},
   "source": [
    "#### Create Volcano Plot"
   ]
  },
  {
   "cell_type": "code",
   "execution_count": null,
   "id": "1b9c923d",
   "metadata": {
    "vscode": {
     "languageId": "r"
    }
   },
   "outputs": [],
   "source": [
    "create_volcano_carryover_plot <- function() {\n",
    "\n",
    "  # Load data\n",
    "  data <- fread(\"../results/volcano_ttest_inputs.csv\")\n",
    "  \n",
    "  # Select and transform data\n",
    "  data_transformed <- data %>%\n",
    "    mutate(log_pvalue = -log10(pvalue_PAT_FASTING)) %>%\n",
    "    arrange(desc(log_pvalue))  # Order by log_pvalue in descending order\n",
    "\n",
    "  # Define colors for each super-pathway\n",
    "  super_pathway_colors <- c(\n",
    "    \"Amino Acids\" = \"#d62728\",\n",
    "    \"Carbohydrates\" = \"#7f7f7f\",\n",
    "    \"Cofactors and Vitamins\" = \"#9467bd\",\n",
    "    \"Energy\" = \"#8c564b\",\n",
    "    \"Lipids\" = \"#ba8e23\",\n",
    "    \"Nucleotides\" = \"#e377c2\",\n",
    "    \"Peptides\" = \"#2ca02c\",\n",
    "    \"Xenobiotics\" = \"#1f77b4\"\n",
    "  )\n",
    "\n",
    "  # Define significance threshold value for dotted line\n",
    "  sig_threshold <- -log10(0.05/634)\n",
    "\n",
    "  # Select metabolites with log_pvalue above the significance threshold for labeling\n",
    "  top_metabolites <- data_transformed %>% filter(log_pvalue > sig_threshold)\n",
    "\n",
    "  # Create volcano plot\n",
    "  volcano_plot <- ggplot(data_transformed, aes(x = mean_diff_PAT_FASTING, y = log_pvalue, color = super_pathway)) +\n",
    "    geom_point(aes(alpha = log_pvalue > sig_threshold, shape = significant_response), size = 2.5) +\n",
    "    scale_shape_manual(values = c(16, 1), name = \"Significant response\", labels = c(\"yes\", \"no\"), breaks = c(TRUE, FALSE)) +\n",
    "    scale_alpha_manual(values = c(0.2, 1.0), guide = 'none') +\n",
    "    scale_color_manual(values = super_pathway_colors) +\n",
    "    guides(shape = guide_legend(order = 1), color = guide_legend(order = 2)) +\n",
    "    labs(\n",
    "      x = \"Mean difference of challenge baseline\",\n",
    "      y = \"-log10(p-value)\",\n",
    "      color = \"Super-pathways\"\n",
    "    ) +\n",
    "    \n",
    "    # Updated y-axis\n",
    "    scale_y_continuous(limits = c(0, 9), breaks = seq(0, 9, 1), expand = c(0, 0)) +\n",
    "    \n",
    "    # Updated x-axis\n",
    "    scale_x_continuous(limits = c(-11, 12), breaks = seq(-10, 10, 5), expand = c(0, 0)) +\n",
    "    \n",
    "    theme_minimal() +\n",
    "    theme(\n",
    "      panel.grid.major = element_line(color = \"gray80\", linewidth = 0.3),  # Fix deprecated 'size' argument\n",
    "      panel.grid.minor = element_blank(),  # Remove minor grid lines\n",
    "      legend.position = \"right\",\n",
    "      legend.title = element_text(size = 12, face = \"bold\"),\n",
    "      legend.text = element_text(size = 10),\n",
    "      plot.title = element_text(hjust = 0.5, size = 14, margin = margin(b = 10)),\n",
    "      plot.margin = margin(20, 5, 5, 5),\n",
    "      axis.title = element_text(size = 12, face = \"bold\"),\n",
    "      axis.text = element_text(size = 10)\n",
    "    ) +\n",
    "    \n",
    "    # Reference lines\n",
    "    geom_hline(yintercept = sig_threshold, linetype = \"dashed\", color = \"black\") +\n",
    "    geom_hline(yintercept = 0, linetype = \"solid\", color = \"black\") +\n",
    "    geom_vline(xintercept = -11, linetype = \"solid\", color = \"black\") +\n",
    "  \n",
    "    # Adjusted annotation\n",
    "    annotate(\"text\", x = 9, y = sig_threshold + 0.15, label = paste(\"-log10(0.05/634) =\", round(sig_threshold, 2)), \n",
    "             size = 3.5, color = \"black\", fontface = \"bold\") +\n",
    "  \n",
    "    # Adjusted metabolite labels\n",
    "    geom_text_repel(data = top_metabolites, aes(label = metabolite), size = 3, box.padding = 0.4, max.overlaps = 20)\n",
    "\n",
    "  # Display the plot in the notebook\n",
    "  print(volcano_plot)\n",
    "\n",
    "  # Save the plot as an image\n",
    "  ggsave(\"../results/plots/sup_fig_4_volcano_plot_carryover_pat_fasting.png\", plot = volcano_plot, width = 10, height = 12, dpi = 300, bg = \"white\")\n",
    "}\n",
    "\n",
    "# Call function to create and save volcano plot\n",
    "create_volcano_carryover_plot()"
   ]
  },
  {
   "cell_type": "markdown",
   "id": "0f54acb0",
   "metadata": {},
   "source": [
    "# Clustering"
   ]
  },
  {
   "cell_type": "markdown",
   "id": "d0029178",
   "metadata": {},
   "source": [
    "### Clustering Input"
   ]
  },
  {
   "cell_type": "code",
   "execution_count": null,
   "id": "2de013c3",
   "metadata": {
    "vscode": {
     "languageId": "r"
    }
   },
   "outputs": [],
   "source": [
    "# Map missing information from met_data_filtered to filtered_results based on both \"metabolite\" and \"platform\"\n",
    "clustering_input <- merge(\n",
    "  filtered_results, \n",
    "  met_data_filtered[, .(metabolite, platform_name, response, subject, challenge, time)], \n",
    "  by = c(\"metabolite\", \"platform_name\"), \n",
    "  all.x = TRUE\n",
    ")\n",
    "\n",
    "# Save the updated results\n",
    "#fwrite(clustering_input, \"../results/clustering_input.csv\")\n",
    "\n",
    "# Display the first few rows of the updated data\n",
    "head(clustering_input)"
   ]
  },
  {
   "cell_type": "markdown",
   "id": "8b791d3b",
   "metadata": {},
   "source": [
    "### Run Clustering"
   ]
  },
  {
   "cell_type": "code",
   "execution_count": null,
   "id": "55e04fac",
   "metadata": {
    "vscode": {
     "languageId": "r"
    }
   },
   "outputs": [],
   "source": [
    "# Funktion für den Workflow\n",
    "run_clustering <- function(c_num = 8, m = 1.25, seed = 123) {\n",
    "  \n",
    "  # Setze Seed für Reproduzierbarkeit\n",
    "  set.seed(seed)\n",
    "  \n",
    "  # 1. Daten laden und vorverarbeiten\n",
    "  df <- clustering_input\n",
    "  head(df)\n",
    "  \n",
    "  # Sicherstellen, dass notwendige Spalten vorhanden sind\n",
    "  required_columns <- c(\"metabolite\", \"super_pathway\", \"sub_pathway\", \"response\", \"subject\", \"challenge\")\n",
    "  if (!all(required_columns %in% colnames(df))) {\n",
    "    stop(\"Not all required columns are present in the dataset!\")\n",
    "  }\n",
    "  \n",
    "  # Filter und Vorverarbeitung\n",
    "  #df <- df[!(df$challenge == \"OGTT\" & df$response == 240), ] # Entferne bestimmte Zeilen\n",
    "  df$challenge <- NULL # Entferne die 'challenge'-Spalte\n",
    "  \n",
    "  # Fehlende Werte im 'response'-Feld durch den Mittelwert ersetzen\n",
    "  df$response[is.na(df$response)] <- mean(df$response, na.rm = TRUE)\n",
    "  \n",
    "  # Z-Score Normalisierung pro Metabolit\n",
    "  df$response <- ave(df$response, df$metabolite, FUN = function(x) scale(x, center = TRUE, scale = TRUE))\n",
    "  \n",
    "  # Metadaten speichern\n",
    "  df_meta <- unique(df[, c(\"metabolite\", \"super_pathway\", \"sub_pathway\")])\n",
    "  \n",
    "  # 2. Daten für Clustering vorbereiten\n",
    "  # Aggregiere Mittelwerte von 'response' nach 'metabolite' und 'platform_name'\n",
    "  df_agg <- aggregate(response ~ metabolite + platform_name, data = df, FUN = mean)\n",
    "  \n",
    "  # Erstelle eine vollständige Kombination aller 'metabolite' und 'platform_name'\n",
    "  all_combinations <- expand.grid(metabolite = unique(df_agg$metabolite),\n",
    "                                   platform_name = unique(df_agg$platform_name))\n",
    "  \n",
    "  # Verbinde die vollständige Kombination mit den aggregierten Daten\n",
    "  df_agg <- merge(all_combinations, df_agg, by = c(\"metabolite\", \"platform_name\"), all.x = TRUE)\n",
    "  \n",
    "  # Fehlende Werte in 'response' mit 0 auffüllen\n",
    "  df_agg$response[is.na(df_agg$response)] <- 0\n",
    "  \n",
    "  # Konvertiere die aggregierten Daten in eine Matrix\n",
    "  response_matrix <- reshape(df_agg, idvar = \"metabolite\", timevar = \"platform_name\", direction = \"wide\")\n",
    "  rownames(response_matrix) <- response_matrix$metabolite\n",
    "  response_matrix <- response_matrix[, -1] # Entferne die erste Spalte (metabolite)\n",
    "  response_matrix <- as.matrix(response_matrix)\n",
    "  \n",
    "  # ExpressionSet erstellen\n",
    "  expr_set <- new(\"ExpressionSet\", exprs = response_matrix)\n",
    "  \n",
    "  # 3. Mfuzz-Clustering durchführen\n",
    "  cl <- mfuzz(expr_set, c = c_num, m = m)\n",
    "  \n",
    "  # 4. Ergebnisse formatieren\n",
    "  cluster_assignments <- data.frame(\n",
    "    metabolite = rownames(response_matrix),\n",
    "    cl$membership\n",
    "  )\n",
    "  \n",
    "  # Bestimme den Cluster mit der höchsten Wahrscheinlichkeit für jeden Metaboliten\n",
    "  cluster_assignments$Assigned_Cluster <- apply(cl$membership, 1, which.max)\n",
    "  \n",
    "  # Füge Super Pathway und Sub Pathway hinzu\n",
    "  cluster_assignments <- merge(cluster_assignments, df_meta, by = \"metabolite\", all.x = TRUE)\n",
    "  \n",
    "  # Formatieren der Spalten\n",
    "  colnames(cluster_assignments) <- c(\n",
    "    \"Metabolite\", \"Cluster_1\", \"Cluster_2\", \"Cluster_3\", \"Cluster_4\", \"Cluster_5\",\n",
    "    \"Cluster_6\", \"Cluster_7\", \"Cluster_8\", \"Assigned_Cluster\", \"Super_Pathway\", \"Sub_Pathway\"\n",
    "  )\n",
    "  \n",
    "  # Ergebnisse speichern\n",
    "  fwrite(cluster_assignments, \"../results/mfuzz_results.csv\")\n",
    "  print(\"Clustering abgeschlossen! Ergebnisse gespeichert.\")\n",
    "}\n",
    "\n",
    "# Beispielaufruf\n",
    "run_clustering(\n",
    "  c_num = 8,  # Anzahl der Cluster\n",
    "  m = 1.25,   # Fuzzifizierungsparameter\n",
    "  seed = 42  # Seed für Reproduzierbarkeit\n",
    ")"
   ]
  }
 ],
 "metadata": {
  "kernelspec": {
   "display_name": "R",
   "language": "R",
   "name": "ir"
  },
  "language_info": {
   "codemirror_mode": "r",
   "file_extension": ".r",
   "mimetype": "text/x-r-source",
   "name": "R",
   "pygments_lexer": "r",
   "version": "4.4.2"
  }
 },
 "nbformat": 4,
 "nbformat_minor": 5
}
