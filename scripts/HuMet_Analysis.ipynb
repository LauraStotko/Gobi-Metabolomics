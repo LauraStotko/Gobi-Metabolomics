{
 "cells": [
  {
   "cell_type": "code",
   "execution_count": null,
   "id": "6db63fb5-d4f1-47b1-8e55-4c668123b3e1",
   "metadata": {
    "vscode": {
     "languageId": "r"
    }
   },
   "outputs": [],
   "source": [
    "library(data.table)\n",
    "library(dplyr)\n",
    "library(nparLD)\n",
    "library(missForest)\n",
    "library(parallel)\n",
    "library(doParallel)"
   ]
  },
  {
   "cell_type": "markdown",
   "id": "b25848e5",
   "metadata": {},
   "source": [
    "# HuMet DATASET"
   ]
  },
  {
   "cell_type": "markdown",
   "id": "e6803ace",
   "metadata": {},
   "source": [
    "In this notebook, we analyze a subset of the HuMet dataset, focusing on **plasma** samples across three platforms:\n",
    "\n",
    "- Metabolon HD4 (nt-ms)\n",
    "- Biocrates p150 (t-ms)\n",
    "- In-house biochemistry (chem.)"
   ]
  },
  {
   "cell_type": "markdown",
   "id": "3ee22f17-b4a6-4e38-ba1b-001fadaa2a99",
   "metadata": {},
   "source": [
    "## Loading the Data"
   ]
  },
  {
   "cell_type": "code",
   "execution_count": null,
   "id": "2afcdd37-4af8-4520-8de9-9a3e40f81c07",
   "metadata": {
    "vscode": {
     "languageId": "r"
    }
   },
   "outputs": [],
   "source": [
    "met_data <- fread(\"../input/raw/humet_data_raw_none_subjects15_tp57.csv\", sep = \",\", fill = TRUE)\n",
    "info_data <- fread(\"../input/humet_info.csv\", sep = \",\", fill = TRUE)\n",
    "head(met_data)\n",
    "head(info_data)"
   ]
  },
  {
   "cell_type": "markdown",
   "id": "a5ca85e8-1ead-4f17-b85e-1df33aec7f5e",
   "metadata": {
    "jp-MarkdownHeadingCollapsed": true
   },
   "source": [
    "## Data Analysis"
   ]
  },
  {
   "cell_type": "code",
   "execution_count": null,
   "id": "708c8e34-38e6-40f2-986a-7d5b570259fd",
   "metadata": {
    "vscode": {
     "languageId": "r"
    }
   },
   "outputs": [],
   "source": [
    "# Count metabolite columns\n",
    "num_metabolite_columns <- length(setdiff(names(met_data), c(\"time\", \"subject\")))\n",
    "\n",
    "unique_time_values <- unique(met_data$time)\n",
    "unique_subject_values <- unique(met_data$subject)\n",
    "\n",
    "print(paste(\"Number of metabolites:\", num_metabolite_columns))\n",
    "print(paste(\"Unique time values:\", paste(unique_time_values, collapse = \", \")))\n",
    "print(paste(\"Unique subject values:\", paste(unique_subject_values, collapse = \", \")))"
   ]
  },
  {
   "cell_type": "code",
   "execution_count": null,
   "id": "5520baae-160c-4290-be24-0b1e97107350",
   "metadata": {
    "vscode": {
     "languageId": "r"
    }
   },
   "outputs": [],
   "source": [
    "# Count occurrences of each unique platform\n",
    "platform_counts <- table(info_data$platform_name)\n",
    "print(platform_counts)"
   ]
  },
  {
   "cell_type": "markdown",
   "id": "b2710623-ca0f-4c5f-af26-e065d76755d1",
   "metadata": {},
   "source": [
    "- Targeted: 132\n",
    "- Non-Targeted: 502\n",
    "- Insulin (Hormone): 1"
   ]
  },
  {
   "cell_type": "markdown",
   "id": "c42e2e34-0559-4672-b0c6-823a71648953",
   "metadata": {},
   "source": [
    "## Preprocessing"
   ]
  },
  {
   "cell_type": "markdown",
   "id": "37a1920a-c58e-4695-aaa4-ebe5d50679af",
   "metadata": {},
   "source": [
    "## Adding Challenge information"
   ]
  },
  {
   "cell_type": "markdown",
   "id": "66f93f13-fedb-4e27-8ade-ccdb6560fc9c",
   "metadata": {},
   "source": [
    "**Relevant time intervals for our analysis**:\n",
    "\n",
    "Since the original dataset lacked challenge information, we assigned it based on the time column:\n",
    "\n",
    "- **Fasting**: Time points 1–9\n",
    "- **Physical Activity**: Time points 33–39\n",
    "- **Oral Lipid Tolerance Test (OLTT)**: Time points 40–49"
   ]
  },
  {
   "cell_type": "code",
   "execution_count": null,
   "id": "1617fa67-7550-4f6b-a5c9-05eb9cb04fa8",
   "metadata": {
    "vscode": {
     "languageId": "r"
    }
   },
   "outputs": [],
   "source": [
    "# Create a dataset with all time intervals\n",
    "met_data <- met_data %>%\n",
    "  mutate(challenge = case_when(\n",
    "    time >= 1 & time <= 9 ~ \"Fasting\",\n",
    "    time >= 33 & time <= 39 ~ \"Physical Activity\",\n",
    "    time >= 40 & time <= 49 ~ \"OLTT\",\n",
    "    TRUE ~ \"Other\"  # Keep \"Other\" instead of filtering out\n",
    "  ))\n",
    "\n",
    "# Display first rows of both datasets\n",
    "#tail(met_data_all)\n",
    "head(met_data)"
   ]
  },
  {
   "cell_type": "code",
   "execution_count": null,
   "id": "16acd17b-73fe-40af-aa84-a72c8f131c1c",
   "metadata": {
    "collapsed": true,
    "jupyter": {
     "outputs_hidden": true,
     "source_hidden": true
    },
    "vscode": {
     "languageId": "r"
    }
   },
   "outputs": [],
   "source": [
    "# Count occurrences of each unique challenge\n",
    "challenge_counts <- table(met_data$challenge)\n",
    "print(challenge_counts)"
   ]
  },
  {
   "cell_type": "markdown",
   "id": "6faf0668-416f-4f7f-bbc6-5c1241798a44",
   "metadata": {},
   "source": [
    "## Removing Metabolites with > 30% missing values"
   ]
  },
  {
   "cell_type": "code",
   "execution_count": 12,
   "id": "385d2b97-37ca-4c2e-b79a-535f171f52b1",
   "metadata": {
    "vscode": {
     "languageId": "r"
    }
   },
   "outputs": [],
   "source": [
    "remove_high_na_metabolites <- function(met_data, threshold = 0.3, output_file = \"removed_metabolites.txt\") {\n",
    "  # Identify metabolite columns (excluding time, subject, and challenge)\n",
    "  metabolite_columns <- setdiff(colnames(met_data), c(\"time\", \"subject\", \"challenge\"))\n",
    "  \n",
    "  # Calculate the percentage of missing values for each metabolite\n",
    "  na_percentage <- colMeans(is.na(met_data[, ..metabolite_columns]))\n",
    "\n",
    "  # Find metabolites with more than `threshold` missing values\n",
    "  high_na_metabolites <- names(na_percentage[na_percentage > threshold])\n",
    "\n",
    "  # Write the removed metabolite names to a text file\n",
    "  if (length(high_na_metabolites) > 0) {\n",
    "    writeLines(high_na_metabolites, output_file)\n",
    "  }\n",
    "\n",
    "  # Remove these metabolites from met_data\n",
    "  filtered_met_data <- met_data[, !high_na_metabolites, with = FALSE]\n",
    "\n",
    "  return(filtered_met_data)\n",
    "}\n",
    "\n",
    "# Apply function to clean met_data\n",
    "met_data <- remove_high_na_metabolites(met_data)"
   ]
  },
  {
   "cell_type": "code",
   "execution_count": null,
   "id": "7db12484",
   "metadata": {
    "vscode": {
     "languageId": "r"
    }
   },
   "outputs": [],
   "source": [
    "# Calculate the total number of columns in the dataset\n",
    "num_columns <- ncol(met_data)\n",
    "\n",
    "# Print the number of columns\n",
    "cat(\"The number of columns in met_data is:\", num_columns, \"\\n\")"
   ]
  },
  {
   "cell_type": "markdown",
   "id": "c9a9da23",
   "metadata": {},
   "source": [
    "#### Leaving Only Relevant Time Points"
   ]
  },
  {
   "cell_type": "code",
   "execution_count": 13,
   "id": "5f6fb512",
   "metadata": {
    "vscode": {
     "languageId": "r"
    }
   },
   "outputs": [],
   "source": [
    "# Create a dataset with only relevant time intervals\n",
    "met_data <- met_data %>%\n",
    "  filter(challenge != \"Other\")"
   ]
  },
  {
   "cell_type": "markdown",
   "id": "082e8d5e-732e-4fce-a280-c1414acee93d",
   "metadata": {},
   "source": [
    "## Splitting the dataset based on platform"
   ]
  },
  {
   "cell_type": "code",
   "execution_count": 14,
   "id": "0c85ceb8-0f79-43a0-a71c-958749b4835c",
   "metadata": {
    "vscode": {
     "languageId": "r"
    }
   },
   "outputs": [],
   "source": [
    "# Identify metabolite columns (excluding time, subject, and challenge)\n",
    "metabolite_columns <- setdiff(colnames(met_data), c(\"time\", \"subject\", \"challenge\"))\n",
    "\n",
    "# Define platform patterns for Metabolon and Biocrates\n",
    "platforms <- list(\n",
    "  metabolon = \"\\\\[P, nt-ms\\\\]\",\n",
    "  biocrates = \"\\\\[P, t-ms\\\\]\"\n",
    ")\n",
    "\n",
    "# Function to filter metabolites based on platform\n",
    "filter_metabolites <- function(pattern) {\n",
    "  selected_cols <- c(\"time\", \"subject\", \"challenge\", metabolite_columns[grepl(pattern, metabolite_columns)])\n",
    "  met_data[, ..selected_cols]\n",
    "}\n",
    "\n",
    "# Function to filter metabolites NOT belonging to Metabolon or Biocrates (i.e., Inhouse)\n",
    "filter_inhouse_metabolites <- function() {\n",
    "  excluded_cols <- unique(unlist(lapply(platforms, function(p) metabolite_columns[grepl(p, metabolite_columns)])))\n",
    "  selected_cols <- c(\"time\", \"subject\", \"challenge\", setdiff(metabolite_columns, excluded_cols))\n",
    "  met_data[, ..selected_cols]\n",
    "}\n",
    "\n",
    "# Create datasets\n",
    "met_data_metabolon <- filter_metabolites(platforms$metabolon)\n",
    "met_data_biocrates <- filter_metabolites(platforms$biocrates)\n",
    "met_data_inhouse <- filter_inhouse_metabolites()  # Everything else\n",
    "\n",
    "# Inspect results\n",
    "#list(met_data_metabolon, met_data_biocrates, met_data_inhouse)\n"
   ]
  },
  {
   "cell_type": "markdown",
   "id": "8b372f64-94ab-4cef-84d2-acd9d0931b1d",
   "metadata": {},
   "source": [
    "## Handle Missing Values - missForest"
   ]
  },
  {
   "cell_type": "code",
   "execution_count": null,
   "id": "cac8728c",
   "metadata": {
    "vscode": {
     "languageId": "r"
    }
   },
   "outputs": [],
   "source": [
    "head(met_data_metabolon, 10)"
   ]
  },
  {
   "cell_type": "markdown",
   "id": "14319ccf-a0e2-4551-83e5-d4380dcab964",
   "metadata": {},
   "source": [
    "The dataset was downloaded with the **\"Concentrations and relative abundances\"** transformation applied.  \n",
    "According to the HuMet documentation, the following preprocessing steps were already performed:\n",
    "\n",
    "#### 1. **Manual Data Curation**\n",
    "- Data points exceeding **4 times the standard deviation** at a given time point were flagged.\n",
    "- If these outliers were **not within the first 30 minutes** of a challenge, they were considered for exclusion.\n",
    "- After **manual inspection**, **92 data points** were removed.\n",
    "\n",
    "#### 2. **Missing Data**\n",
    "- The dataset **does not contain manually excluded data points**.\n",
    "\n",
    "Since these steps were applied in the repository, **additional outlier removal and manual curation are not necessary.**"
   ]
  },
  {
   "cell_type": "code",
   "execution_count": null,
   "id": "b820b76b-9996-4b5f-aec8-2402eb81727d",
   "metadata": {
    "jupyter": {
     "source_hidden": true
    },
    "vscode": {
     "languageId": "r"
    }
   },
   "outputs": [],
   "source": [
    "# Count missing values in each dataset\n",
    "sum(is.na(data_fasting))\n",
    "sum(is.na(data_exercise))\n",
    "sum(is.na(data_oltt))"
   ]
  },
  {
   "cell_type": "code",
   "execution_count": null,
   "id": "458ad7a1-9508-4cd6-a521-99ddde5ec23f",
   "metadata": {
    "vscode": {
     "languageId": "r"
    }
   },
   "outputs": [],
   "source": [
    "# Function to convert categorical variables to factors\n",
    "convert_to_factors <- function(data) {\n",
    "  data %>%\n",
    "    mutate(\n",
    "      challenge = as.factor(challenge),\n",
    "      time = as.factor(time),\n",
    "      subject = as.factor(subject)\n",
    "    ) %>%\n",
    "    mutate(across(where(is.character), as.factor))\n",
    "}\n",
    "\n",
    "# Function for missForest imputation with adaptive parallelization\n",
    "perform_missForest <- function(data_subset, ntree_val = 10) {\n",
    "  num_vars <- ncol(data_subset)  # Get the number of variables\n",
    "  \n",
    "  # Adjust cores to be at most the number of variables\n",
    "  num_cores <- min(detectCores() - 1, num_vars)\n",
    "  \n",
    "  # If parallelization is still invalid, set it to 'no'\n",
    "  parallel_option <- if (num_cores > 1) \"variables\" else \"no\"\n",
    "  \n",
    "  cl <- makeCluster(num_cores, type = \"FORK\") \n",
    "  registerDoParallel(cl)\n",
    "  \n",
    "  set.seed(42)  # Ensures reproducibility\n",
    "  imputed_data <- missForest(data_subset, ntree = ntree_val, parallelize = parallel_option, verbose = TRUE)\n",
    "  \n",
    "  stopCluster(cl)  # Stop cluster\n",
    "  \n",
    "  return(imputed_data$ximp)  # Extract imputed dataset\n",
    "}\n",
    "\n",
    "# Wrapper function to process and impute metabolite datasets\n",
    "data_pipeline <- function(metabolite_datasets) {\n",
    "  # Convert categorical variables to factors\n",
    "  metabolite_datasets <- lapply(metabolite_datasets, convert_to_factors)\n",
    "  \n",
    "  # Perform imputation with automatic parallelization adjustment\n",
    "  imputed_data <- lapply(metabolite_datasets, perform_missForest, ntree_val = 400)\n",
    "  \n",
    "  return(imputed_data)\n",
    "}\n",
    "\n",
    "# List of metabolite datasets\n",
    "metabolite_datasets <- list(\n",
    "  metabolon = met_data_metabolon,\n",
    "  biocrates = met_data_biocrates,\n",
    "  inhouse = met_data_inhouse\n",
    ")\n",
    "\n",
    "# Apply pipeline to each dataset\n",
    "imputed_metabolite_data <- data_pipeline(metabolite_datasets)"
   ]
  },
  {
   "cell_type": "code",
   "execution_count": null,
   "id": "ab4d0034-ab98-4707-8f94-2aa27aacb5f8",
   "metadata": {
    "vscode": {
     "languageId": "r"
    }
   },
   "outputs": [],
   "source": [
    "head(imputed_metabolite_data$metabolon, 10)"
   ]
  },
  {
   "cell_type": "code",
   "execution_count": null,
   "id": "cf6bbba5",
   "metadata": {
    "vscode": {
     "languageId": "r"
    }
   },
   "outputs": [],
   "source": [
    "### AFTER REMOVING OTHER\n",
    "\n",
    "# 50 trees => 0.603862\n",
    "# 68 trees => 0.6200632\n",
    "# 69 trees => 0.594013\n",
    "# 70 trees => 0.5919029\n",
    "# 75 trees => 0.5951333\n",
    "# 76 trees => 0.5837592\n",
    "# 77 trees => 0.5951333\n",
    "# 78 trees => 0.5852654\n",
    "# 80 trees => 0.6201631\n",
    "# 100 trees => 0.5938395\n",
    "# 120 trees => 0.6130575\n",
    "# 400 trees => 0.5863569\n",
    "\n",
    "\n",
    "head(imputed_metabolite_data$metabolon)\n"
   ]
  },
  {
   "cell_type": "markdown",
   "id": "14ba1c94-72ed-4a38-bde4-c3196103a9da",
   "metadata": {},
   "source": [
    "## Reformating the Table"
   ]
  },
  {
   "cell_type": "code",
   "execution_count": null,
   "id": "c73ebb2e-81d5-4bee-a92e-ed73b3982d5a",
   "metadata": {
    "vscode": {
     "languageId": "r"
    }
   },
   "outputs": [],
   "source": [
    "# Function to reshape a dataset into long format and add platform information\n",
    "reshape_long <- function(data, platform_name) {\n",
    "  # Identify metabolite columns (exclude time, subject, challenge)\n",
    "  metabolite_columns <- setdiff(names(data), c(\"time\", \"subject\", \"challenge\"))\n",
    "\n",
    "  # Convert all metabolite columns to numeric (preserves NA values)\n",
    "  data[, (metabolite_columns) := lapply(.SD, as.numeric), .SDcols = metabolite_columns]\n",
    "\n",
    "  # Reshape into long format\n",
    "  long_data <- melt(data,\n",
    "                    id.vars = c(\"time\", \"subject\", \"challenge\"),  # Keep these columns unchanged\n",
    "                    measure.vars = metabolite_columns,  # Only reshape metabolite columns\n",
    "                    variable.name = \"metabolite\",\n",
    "                    value.name = \"response\",\n",
    "                    na.rm = FALSE)  # Keep NA values instead of removing them\n",
    "\n",
    "  # Add platform column\n",
    "  long_data[, platform_name := platform_name]\n",
    "\n",
    "  return(long_data)\n",
    "}\n",
    "\n",
    "# Reshape all three datasets and combine them\n",
    "met_data <- rbindlist(\n",
    "  list(\n",
    "    reshape_long(imputed_metabolite_data$metabolon, \"Metabolon HD4 [nt-ms]\"),\n",
    "    reshape_long(imputed_metabolite_data$biocrates, \"Biocrates p150 [t-ms]\"),\n",
    "    reshape_long(imputed_metabolite_data$inhouse, \"In-house biochemistry [chem.]\")\n",
    "  ),\n",
    "  use.names = TRUE,\n",
    "  fill = TRUE\n",
    ")\n",
    "\n",
    "# Print first rows of the final combined dataset\n",
    "head(met_data)"
   ]
  },
  {
   "cell_type": "markdown",
   "id": "f12c99d8-a30a-4282-883a-72bcb39be841",
   "metadata": {},
   "source": [
    "Clean up the metabolite names"
   ]
  },
  {
   "cell_type": "code",
   "execution_count": null,
   "id": "1b4492a3-8ed6-48e4-aecb-2105f58e4f4f",
   "metadata": {
    "vscode": {
     "languageId": "r"
    }
   },
   "outputs": [],
   "source": [
    "# Clean metabolite names by removing anything inside square brackets and trimming whitespace\n",
    "met_data[, metabolite := gsub(\"\\\\[.*?\\\\]\", \"\", metabolite)]  # Remove text inside brackets\n",
    "met_data[, metabolite := trimws(metabolite)]  # Trim leading/trailing spaces\n",
    "met_data[, metabolite := tolower(metabolite)]  # Convert to lowercase\n",
    "\n",
    "# Print first rows to verify changes\n",
    "head(met_data)\n"
   ]
  },
  {
   "cell_type": "markdown",
   "id": "ba57c35d-86e4-487d-bc43-ea3203689950",
   "metadata": {},
   "source": [
    "Some data is missing from our met_data dataset (e.g. super_pathway and sub_pathway), we need to add it for further analysis. For this we use info_data.\n",
    "\n",
    "Clean up of info_data:"
   ]
  },
  {
   "cell_type": "code",
   "execution_count": null,
   "id": "9bf7d0d9-56f8-4040-a890-ee8a6a9a47a4",
   "metadata": {
    "vscode": {
     "languageId": "r"
    }
   },
   "outputs": [],
   "source": [
    "# Keep only rows where fluid == \"plasma\"\n",
    "info_data <- info_data[fluid == \"plasma\"]\n",
    "\n",
    "# Ensure correct encoding and remove asterisks\n",
    "info_data$metabolite <- gsub(\"[*]\", \"\", info_data$metabolite)  # Remove all asterisks\n",
    "info_data$metabolite <- gsub(\"\\u200B\", \"\", info_data$metabolite)  # Remove zero-width spaces (if present)\n",
    "info_data$metabolite <- gsub(\"[[:space:]]+$\", \"\", info_data$metabolite)  # Trim trailing spaces\n",
    "info_data$metabolite <- trimws(info_data$metabolite)  # Remove any remaining spaces\n",
    "info_data$metabolite <- tolower(info_data$metabolite)  # Convert to lowercase\n",
    "\n",
    "head(info_data)"
   ]
  },
  {
   "cell_type": "markdown",
   "id": "5d8c1190-fc88-47d7-88d1-664be4eafbc0",
   "metadata": {},
   "source": [
    "Merging the data "
   ]
  },
  {
   "cell_type": "code",
   "execution_count": null,
   "id": "b03db27e-7f6c-46d6-88d7-12146f4acc88",
   "metadata": {
    "vscode": {
     "languageId": "r"
    }
   },
   "outputs": [],
   "source": [
    "# Merge met_data with info_data based on metabolite and platform_name\n",
    "met_data <- merge(met_data, \n",
    "                  info_data[, .(metabolite, platform_name, super_pathway, sub_pathway)], \n",
    "                  by = c(\"metabolite\", \"platform_name\"), \n",
    "                  all.x = TRUE)  # Keep all rows in met_data\n",
    "\n",
    "# Print first rows to verify the merge\n",
    "head(met_data)"
   ]
  },
  {
   "cell_type": "code",
   "execution_count": null,
   "id": "31aa412a",
   "metadata": {
    "vscode": {
     "languageId": "r"
    }
   },
   "outputs": [],
   "source": [
    "# Get unique values of the platform_name column\n",
    "unique_platforms <- unique(met_data$platform_name)\n",
    "\n",
    "# Print the unique platforms\n",
    "print(unique_platforms)\n"
   ]
  },
  {
   "cell_type": "markdown",
   "id": "40803dfa",
   "metadata": {},
   "source": [
    "## Hypothesis Testing"
   ]
  },
  {
   "cell_type": "code",
   "execution_count": null,
   "id": "88391e3e",
   "metadata": {
    "vscode": {
     "languageId": "r"
    }
   },
   "outputs": [],
   "source": [
    "# Create a new dataset excluding rows where platform is \"In-house biochemistry [chem.]\"\n",
    "met_data_filtered <- met_data[platform_name != \"In-house biochemistry [chem.]\", ]\n",
    "\n",
    "# Print the first few rows of the new dataset\n",
    "head(met_data_filtered)"
   ]
  },
  {
   "cell_type": "code",
   "execution_count": null,
   "id": "a8f28029",
   "metadata": {
    "vscode": {
     "languageId": "r"
    }
   },
   "outputs": [],
   "source": [
    "filtered = unique(met_data$challenge)\n",
    "print(filtered)"
   ]
  },
  {
   "cell_type": "markdown",
   "id": "ba38260e",
   "metadata": {},
   "source": [
    "## Anova-Test"
   ]
  },
  {
   "cell_type": "code",
   "execution_count": null,
   "id": "5775b653",
   "metadata": {
    "vscode": {
     "languageId": "r"
    }
   },
   "outputs": [],
   "source": [
    "### DO NOT FORGET TO ADJUST THE THRESHOLD!!!!!\n",
    "\n",
    "# Define significance threshold after multiple testing correction\n",
    "p_threshold <- 0.05 / 634\n",
    "\n",
    "# Convert challenge_time to a categorical variable\n",
    "met_data_filtered[, time := as.factor(time)]\n",
    "met_data_filtered[, subject := as.factor(subject)]\n",
    "\n",
    "# Subset data by challenge\n",
    "metabolite_data_fasting <- met_data_filtered[challenge == \"Fasting\"]\n",
    "metabolite_data_pat <- met_data_filtered[challenge == \"Physical Activity\"]\n",
    "metabolite_data_oltt <- met_data_filtered[challenge == \"OLTT\"]\n",
    "\n",
    "# Function to run ANOVA-like test while considering metabolite & platform\n",
    "run_anova_like_test <- function(metabolite_data, challenge_name) {\n",
    "    \n",
    "    # Initialize results list\n",
    "    results <- list()\n",
    "\n",
    "    # Loop through unique metabolite-platform combinations\n",
    "    unique_metabolites <- unique(metabolite_data[, .(metabolite, platform_name, super_pathway, sub_pathway)])\n",
    "    \n",
    "    for (i in seq_len(nrow(unique_metabolites))) {\n",
    "        \n",
    "        met <- unique_metabolites$metabolite[i]\n",
    "        plat <- unique_metabolites$platform_name[i]\n",
    "        super_path <- unique_metabolites$super_pathway[i]\n",
    "        sub_path <- unique_metabolites$sub_pathway[i]\n",
    "        \n",
    "        # Subset data for this metabolite and platform\n",
    "        subset_data <- metabolite_data[metabolite == met & platform_name == plat]\n",
    "        \n",
    "        # Ensure sufficient data points for analysis\n",
    "        if (nrow(subset_data) > 2) {\n",
    "            \n",
    "            # Run the ld.f1 test\n",
    "            test_result <- ld.f1(y = subset_data$response, \n",
    "                                 time = subset_data$time, \n",
    "                                 subject = subset_data$subject, \n",
    "                                 description=FALSE)\n",
    "\n",
    "            # Extract p-value for time effect\n",
    "            p_value <- test_result$ANOVA.test$`p-value`\n",
    "            \n",
    "            # Store results\n",
    "            results[[paste(met, plat, sep = \"_\")]] <- data.table(\n",
    "              challenge = challenge_name,\n",
    "              metabolite = met,\n",
    "              platform_name = plat,\n",
    "              super_pathway = super_path,\n",
    "              sub_pathway = sub_path,\n",
    "              p_value = p_value\n",
    "            )\n",
    "        }\n",
    "    }\n",
    "\n",
    "    # Combine results into a data frame\n",
    "    anova_results <- rbindlist(results, fill = TRUE)\n",
    "\n",
    "    # Identify significant time effects\n",
    "    anova_results[, significant := p_value < p_threshold]\n",
    "\n",
    "    return(anova_results)\n",
    "}\n",
    "\n",
    "# Run ANOVA-like test for each challenge\n",
    "anova_results_fasting <- run_anova_like_test(metabolite_data_fasting, \"Fasting\")\n",
    "anova_results_pat <- run_anova_like_test(metabolite_data_pat, \"Physical Activity\")\n",
    "anova_results_oltt <- run_anova_like_test(metabolite_data_oltt, \"OLTT\")\n",
    "\n",
    "# Combine all results into one table\n",
    "#final_anova_results <- rbind(anova_results_ogtt, anova_results_oltt, anova_results_sld, fill = TRUE)\n",
    "#final_anova_results"
   ]
  },
  {
   "cell_type": "markdown",
   "id": "4ce8210f",
   "metadata": {},
   "source": [
    "#### Significant effect of time on metabolite levels during at least one challenge"
   ]
  },
  {
   "cell_type": "code",
   "execution_count": null,
   "id": "b061b50c",
   "metadata": {
    "vscode": {
     "languageId": "r"
    }
   },
   "outputs": [],
   "source": [
    "# Get all unique metabolites from the updated dataset (excluding insulin)\n",
    "all_metabolites <- unique(met_data_filtered[, .(metabolite, platform_name, super_pathway, sub_pathway)])\n",
    "\n",
    "# Sort metabolites first by super_pathway, then sub_pathway, then metabolite name\n",
    "all_metabolites <- all_metabolites[order(super_pathway, sub_pathway, tolower(metabolite))]\n",
    "\n",
    "# Initialize the column as FALSE for all metabolites\n",
    "all_metabolites[, significant_any_challenge := FALSE]\n",
    "\n",
    "# Extract **only** significant metabolites (ensuring metabolite-platform pairs match)\n",
    "significant_fasting <- anova_results_fasting[significant == TRUE, .(metabolite, platform_name)]\n",
    "significant_pat <- anova_results_pat[significant == TRUE, .(metabolite, platform_name)]\n",
    "significant_oltt <- anova_results_oltt[significant == TRUE, .(metabolite, platform_name)]\n",
    "\n",
    "# Function to update significance status **only for matching metabolite + platform pairs**\n",
    "update_significance <- function(met_data_filtered, sig_data) {\n",
    "    if (nrow(sig_data) > 0) {  # Only run if there's data\n",
    "        met_data_filtered[sig_data, on = .(metabolite,platform_name), significant_any_challenge := TRUE]\n",
    "    }\n",
    "}\n",
    "\n",
    "# Update based on **corrected** significance lists\n",
    "update_significance(all_metabolites, significant_fasting)\n",
    "update_significance(all_metabolites, significant_pat)\n",
    "update_significance(all_metabolites, significant_oltt)\n",
    "\n",
    "# Save the output file\n",
    "fwrite(all_metabolites, \"../results/anova_results_significant_in_at_least_one_challenge.csv\")\n",
    "\n",
    "# Display output\n",
    "head(all_metabolites)"
   ]
  },
  {
   "cell_type": "markdown",
   "id": "f613f209",
   "metadata": {},
   "source": [
    "#### Significant effect of time on metabolite levels during at all challenges"
   ]
  },
  {
   "cell_type": "code",
   "execution_count": null,
   "id": "2f72bc03",
   "metadata": {
    "vscode": {
     "languageId": "r"
    }
   },
   "outputs": [],
   "source": [
    "# Initialize columns for each category as FALSE\n",
    "all_metabolites[, `:=`(\n",
    "  significant_fasting = FALSE,\n",
    "  significant_pat = FALSE,\n",
    "  significant_oltt = FALSE,\n",
    "  significant_fasting_pat = FALSE,\n",
    "  significant_fasting_oltt = FALSE,\n",
    "  significant_pat_oltt = FALSE,\n",
    "  significant_fasting_pat_oltt = FALSE\n",
    ")]\n",
    "\n",
    "# Function to update significance for each individual challenge\n",
    "update_significance <- function(met_data, sig_data, column_name) {\n",
    "    if (nrow(sig_data) > 0) {\n",
    "        met_data[sig_data, on = .(metabolite, platform_name), (column_name) := TRUE]\n",
    "    }\n",
    "}\n",
    "\n",
    "# Update individual significance columns\n",
    "update_significance(all_metabolites, significant_fasting, \"significant_fasting\")\n",
    "update_significance(all_metabolites, significant_pat, \"significant_pat\")\n",
    "update_significance(all_metabolites, significant_oltt, \"significant_oltt\")\n",
    "\n",
    "# Debugging: Check individual significance counts\n",
    "print(paste(\"fasting:\", sum(all_metabolites$significant_fasting)))\n",
    "print(paste(\"pat:\", sum(all_metabolites$significant_pat)))\n",
    "print(paste(\"oltt:\", sum(all_metabolites$significant_oltt)))\n",
    "\n",
    "# Calculate overlaps\n",
    "all_metabolites[, `:=`(\n",
    "  significant_fasting_pat = significant_fasting & significant_pat & !significant_oltt,\n",
    "  significant_fasting_oltt = significant_fasting & significant_oltt & !significant_pat,\n",
    "  significant_pat_oltt = significant_pat & significant_oltt & !significant_fasting,\n",
    "  significant_fasting_pat_oltt = significant_fasting & significant_pat & significant_oltt\n",
    ")]\n",
    "\n",
    "# Debugging: Check overlap counts\n",
    "print(paste(\"fasting ∩ pat:\", sum(all_metabolites$significant_fasting_pat)))\n",
    "print(paste(\"fasting ∩ oltt:\", sum(all_metabolites$significant_fasting_oltt)))\n",
    "print(paste(\"pat ∩ oltt:\", sum(all_metabolites$significant_pat_oltt)))\n",
    "print(paste(\"fasting ∩ pat ∩ oltt:\", sum(all_metabolites$significant_fasting_pat_oltt)))\n",
    "\n",
    "# Save the updated table\n",
    "#fwrite(all_metabolites, \"results/all_metabolites_with_significance.csv\")\n",
    "\n",
    "# Calculate final counts\n",
    "counts <- list(\n",
    "  fasting = sum(all_metabolites$significant_fasting),\n",
    "  pat = sum(all_metabolites$significant_pat),\n",
    "  oltt = sum(all_metabolites$significant_oltt),\n",
    "  fasting_pat = sum(all_metabolites$significant_fasting_pat),\n",
    "  fasting_oltt = sum(all_metabolites$significant_fasting_oltt),\n",
    "  pat_oltt = sum(all_metabolites$significant_pat_oltt),\n",
    "  fasting_pat_oltt = sum(all_metabolites$significant_fasting_pat_oltt)\n",
    ")\n",
    "\n",
    "# Print final counts\n",
    "print(counts)"
   ]
  },
  {
   "cell_type": "markdown",
   "id": "fb77a3d9",
   "metadata": {},
   "source": [
    "## T-Test"
   ]
  },
  {
   "cell_type": "code",
   "execution_count": null,
   "id": "f63d867c",
   "metadata": {
    "vscode": {
     "languageId": "r"
    }
   },
   "outputs": [],
   "source": [
    "### Needs to adjusted \n",
    "\n",
    "# Select baseline data for different challenges\n",
    "baseline_ogtt <- met_data[challenge == \"fasting\" & challenge_time == \"0\"]  # Baseline for OGTT\n",
    "baseline_sld  <- met_data[challenge == \"ogtt\" & challenge_time == \"240\"]  # Baseline for SLD (240 min after OGTT)\n",
    "baseline_oltt <- met_data[challenge == \"oltt\" & challenge_time == \"0\"]  # Baseline for OLTT (240 min)\n",
    "\n",
    "# Ensure only common subjects are used across all three conditions\n",
    "common_subjects <- Reduce(intersect, list(baseline_ogtt$subject, baseline_sld$subject, baseline_oltt$subject))\n",
    "baseline_ogtt <- baseline_ogtt[subject %in% common_subjects]\n",
    "baseline_sld <- baseline_sld[subject %in% common_subjects]\n",
    "baseline_oltt <- baseline_oltt[subject %in% common_subjects]\n",
    "\n",
    "# Get the list of unique metabolites\n",
    "metabolites <- unique(met_data$metabolite)\n",
    "\n",
    "# Perform paired t-tests for all metabolites\n",
    "results <- lapply(metabolites, function(met) {\n",
    "  # Subset data for the current metabolite\n",
    "  ogtt_values <- baseline_ogtt[metabolite == met, response]\n",
    "  sld_values <- baseline_sld[metabolite == met, response]\n",
    "  oltt_values <- baseline_oltt[metabolite == met, response]\n",
    "  \n",
    "  # Ensure there are valid values for all comparisons\n",
    "  if (length(ogtt_values) > 1 & length(sld_values) > 1 & length(oltt_values) > 1) {\n",
    "    # Calculate mean differences\n",
    "    mean_diff_sld <- mean(sld_values, na.rm = TRUE) - mean(ogtt_values, na.rm = TRUE)\n",
    "    mean_diff_oltt <- mean(oltt_values, na.rm = TRUE) - mean(ogtt_values, na.rm = TRUE)\n",
    "    \n",
    "    # Perform paired t-tests\n",
    "    p_val_sld <- tryCatch(\n",
    "      t.test(sld_values, ogtt_values, paired = TRUE, var.equal = FALSE)$p.value,\n",
    "      error = function(e) NA\n",
    "    )\n",
    "    p_val_oltt <- tryCatch(\n",
    "      t.test(oltt_values, ogtt_values, paired = TRUE, var.equal = FALSE)$p.value,\n",
    "      error = function(e) NA\n",
    "    )\n",
    "    \n",
    "    # Determine significance\n",
    "    anova_significance <- all_metabolites[metabolite == met, significant_any_challenge]\n",
    "    \n",
    "    # Return results as a data.table\n",
    "    return(data.table(\n",
    "      metabolite = met,\n",
    "      mean_diff_SLD_OGTT = mean_diff_sld,\n",
    "      pvalue_SLD_OGTT = p_val_sld,\n",
    "      mean_diff_OLTT_OGTT = mean_diff_oltt,\n",
    "      pvalue_OLTT_OGTT = p_val_oltt,\n",
    "      significant_response = anova_significance\n",
    "    ))\n",
    "  }\n",
    "})\n",
    "\n",
    "# Remove NULL results safely\n",
    "results <- rbindlist(Filter(Negate(is.null), results), fill = TRUE)\n",
    "\n",
    "# Save results to a CSV file\n",
    "fwrite(results, \"../results/paired_ttest_results.csv\")\n",
    "message(\"T-Test completed! Results saved in: ../results/paired_ttest_results.csv\")\n",
    "\n",
    "# Print summary of the results\n",
    "num_significant <- sum(results$significant_response, na.rm = TRUE)\n",
    "total_tests <- nrow(results)\n",
    "percentage <- (num_significant / total_tests) * 100\n",
    "\n",
    "cat(\"Number of significant metabolites:\", num_significant, \"\\n\")\n",
    "cat(\"Percentage of significant results:\", round(percentage, 2), \"%\\n\")"
   ]
  },
  {
   "cell_type": "markdown",
   "id": "0f54acb0",
   "metadata": {},
   "source": [
    "# Clustering"
   ]
  },
  {
   "cell_type": "markdown",
   "id": "9f1bccbd",
   "metadata": {},
   "source": [
    "## Z-Score Calculation"
   ]
  },
  {
   "cell_type": "code",
   "execution_count": 26,
   "id": "4c5738e7",
   "metadata": {
    "vscode": {
     "languageId": "r"
    }
   },
   "outputs": [],
   "source": [
    "met_data_z_score <- fread(\"../input/raw/humet_data_zscore_none_subjects15_tp57.csv\", sep = \",\", fill = TRUE)\n",
    "met_data_raw <- fread(\"../input/raw/humet_data_raw_none_subjects15_tp57.csv\", sep = \",\", fill = TRUE)"
   ]
  },
  {
   "cell_type": "code",
   "execution_count": null,
   "id": "8123170d",
   "metadata": {
    "vscode": {
     "languageId": "r"
    }
   },
   "outputs": [],
   "source": [
    "# Identify metabolite columns (exclude \"time\" and \"subject\")\n",
    "metabolite_columns <- setdiff(names(met_data_raw), c(\"time\", \"subject\", \"challenge\"))\n",
    "\n",
    "# Apply z-score transformation to all metabolite columns\n",
    "met_data_raw[, (metabolite_columns) := lapply(.SD, function(x) (x - mean(x, na.rm = TRUE)) / sd(x, na.rm = TRUE)), .SDcols = metabolite_columns]\n",
    "\n",
    "# Print first rows to verify\n",
    "head(met_data_raw)\n"
   ]
  },
  {
   "cell_type": "code",
   "execution_count": null,
   "id": "82380150",
   "metadata": {
    "vscode": {
     "languageId": "r"
    }
   },
   "outputs": [],
   "source": [
    "# Apply z-score transformation grouped by \"metabolite\"\n",
    "met_data[, response_z := (response - mean(response, na.rm = TRUE)) / sd(response, na.rm = TRUE), by = metabolite]\n",
    "\n",
    "# Print the first rows to verify\n",
    "head(met_data)\n"
   ]
  }
 ],
 "metadata": {
  "kernelspec": {
   "display_name": "R",
   "language": "R",
   "name": "ir"
  },
  "language_info": {
   "codemirror_mode": "r",
   "file_extension": ".r",
   "mimetype": "text/x-r-source",
   "name": "R",
   "pygments_lexer": "r",
   "version": "4.4.2"
  }
 },
 "nbformat": 4,
 "nbformat_minor": 5
}
