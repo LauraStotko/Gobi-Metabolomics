{
 "cells": [
  {
   "cell_type": "code",
   "execution_count": 200,
   "id": "6db63fb5-d4f1-47b1-8e55-4c668123b3e1",
   "metadata": {
    "vscode": {
     "languageId": "r"
    }
   },
   "outputs": [],
   "source": [
    "library(data.table)\n",
    "library(dplyr)\n",
    "library(nparLD)\n",
    "library(missForest)\n",
    "library(parallel)\n",
    "library(doParallel)\n",
    "library(ggplot2)"
   ]
  },
  {
   "cell_type": "markdown",
   "id": "b25848e5",
   "metadata": {},
   "source": [
    "# HuMet DATASET"
   ]
  },
  {
   "cell_type": "markdown",
   "id": "e6803ace",
   "metadata": {},
   "source": [
    "In this notebook, we analyze a subset of the HuMet dataset, focusing on **plasma** samples across three platforms:\n",
    "\n",
    "- Metabolon HD4 (nt-ms)\n",
    "- Biocrates p150 (t-ms)\n",
    "- In-house biochemistry (chem.)"
   ]
  },
  {
   "cell_type": "markdown",
   "id": "3ee22f17-b4a6-4e38-ba1b-001fadaa2a99",
   "metadata": {},
   "source": [
    "## Loading the Data"
   ]
  },
  {
   "cell_type": "code",
   "execution_count": null,
   "id": "2afcdd37-4af8-4520-8de9-9a3e40f81c07",
   "metadata": {
    "vscode": {
     "languageId": "r"
    }
   },
   "outputs": [],
   "source": [
    "met_data <- fread(\"../input/raw/humet_data_raw_none_subjects15_tp57.csv\", sep = \",\", fill = TRUE)\n",
    "info_data <- fread(\"../input/humet_info.csv\", sep = \",\", fill = TRUE)\n",
    "head(met_data)\n",
    "head(info_data)"
   ]
  },
  {
   "cell_type": "markdown",
   "id": "a5ca85e8-1ead-4f17-b85e-1df33aec7f5e",
   "metadata": {
    "jp-MarkdownHeadingCollapsed": true
   },
   "source": [
    "## Data Analysis"
   ]
  },
  {
   "cell_type": "code",
   "execution_count": null,
   "id": "708c8e34-38e6-40f2-986a-7d5b570259fd",
   "metadata": {
    "vscode": {
     "languageId": "r"
    }
   },
   "outputs": [],
   "source": [
    "# Count metabolite columns\n",
    "num_metabolite_columns <- length(setdiff(names(met_data), c(\"time\", \"subject\")))\n",
    "\n",
    "unique_time_values <- unique(met_data$time)\n",
    "unique_subject_values <- unique(met_data$subject)\n",
    "\n",
    "print(paste(\"Number of metabolites:\", num_metabolite_columns))\n",
    "print(paste(\"Unique time values:\", paste(unique_time_values, collapse = \", \")))\n",
    "print(paste(\"Unique subject values:\", paste(unique_subject_values, collapse = \", \")))"
   ]
  },
  {
   "cell_type": "code",
   "execution_count": null,
   "id": "5520baae-160c-4290-be24-0b1e97107350",
   "metadata": {
    "vscode": {
     "languageId": "r"
    }
   },
   "outputs": [],
   "source": [
    "# Count occurrences of each unique platform\n",
    "platform_counts <- table(info_data$platform_name)\n",
    "print(platform_counts)"
   ]
  },
  {
   "cell_type": "markdown",
   "id": "b2710623-ca0f-4c5f-af26-e065d76755d1",
   "metadata": {},
   "source": [
    "- Targeted: 132\n",
    "- Non-Targeted: 502\n",
    "- Insulin (Hormone): 1"
   ]
  },
  {
   "cell_type": "markdown",
   "id": "c42e2e34-0559-4672-b0c6-823a71648953",
   "metadata": {},
   "source": [
    "## Preprocessing"
   ]
  },
  {
   "cell_type": "markdown",
   "id": "37a1920a-c58e-4695-aaa4-ebe5d50679af",
   "metadata": {},
   "source": [
    "## Adding Challenge information"
   ]
  },
  {
   "cell_type": "markdown",
   "id": "66f93f13-fedb-4e27-8ade-ccdb6560fc9c",
   "metadata": {},
   "source": [
    "**Relevant time intervals for our analysis**:\n",
    "\n",
    "Since the original dataset lacked challenge information, we assigned it based on the time column:\n",
    "\n",
    "- **Fasting**: Time points 1–9\n",
    "- **Physical Activity**: Time points 33–39\n",
    "- **Oral Lipid Tolerance Test (OLTT)**: Time points 40–49"
   ]
  },
  {
   "cell_type": "code",
   "execution_count": null,
   "id": "1617fa67-7550-4f6b-a5c9-05eb9cb04fa8",
   "metadata": {
    "vscode": {
     "languageId": "r"
    }
   },
   "outputs": [],
   "source": [
    "# Create a dataset with all time intervals\n",
    "met_data_all <- met_data %>%\n",
    "  mutate(challenge = case_when(\n",
    "    time >= 1 & time <= 9 ~ \"Fasting\",\n",
    "    time >= 33 & time <= 39 ~ \"Physical Activity\",\n",
    "    time >= 40 & time <= 49 ~ \"OLTT\",\n",
    "    TRUE ~ \"Other\"  # Keep \"Other\" instead of filtering out\n",
    "  ))\n",
    "\n",
    "# Count removed rows\n",
    "num_removed <- nrow(met_data_all) - nrow(met_data)\n",
    "cat(\"Number of rows removed:\", num_removed, \"\\n\")\n",
    "\n",
    "# Display first rows of both datasets\n",
    "#tail(met_data_all)\n",
    "tail(met_data)"
   ]
  },
  {
   "cell_type": "code",
   "execution_count": null,
   "id": "16acd17b-73fe-40af-aa84-a72c8f131c1c",
   "metadata": {
    "collapsed": true,
    "jupyter": {
     "outputs_hidden": true,
     "source_hidden": true
    },
    "vscode": {
     "languageId": "r"
    }
   },
   "outputs": [],
   "source": [
    "# Count occurrences of each unique challenge\n",
    "challenge_counts <- table(met_data$challenge)\n",
    "print(challenge_counts)"
   ]
  },
  {
   "cell_type": "markdown",
   "id": "6faf0668-416f-4f7f-bbc6-5c1241798a44",
   "metadata": {},
   "source": [
    "## Removing Metabolites with > 30% missing values"
   ]
  },
  {
   "cell_type": "code",
   "execution_count": 5,
   "id": "385d2b97-37ca-4c2e-b79a-535f171f52b1",
   "metadata": {
    "vscode": {
     "languageId": "r"
    }
   },
   "outputs": [],
   "source": [
    "remove_high_na_metabolites <- function(met_data, threshold = 0.3, output_file = \"removed_metabolites.txt\") {\n",
    "  # Identify metabolite columns (excluding time, subject, and challenge)\n",
    "  metabolite_columns <- setdiff(colnames(met_data), c(\"time\", \"subject\", \"challenge\"))\n",
    "  \n",
    "  # Calculate the percentage of missing values for each metabolite\n",
    "  na_percentage <- colMeans(is.na(met_data[, ..metabolite_columns]))\n",
    "\n",
    "  # Find metabolites with more than `threshold` missing values\n",
    "  high_na_metabolites <- names(na_percentage[na_percentage > threshold])\n",
    "\n",
    "  # Write the removed metabolite names to a text file\n",
    "  if (length(high_na_metabolites) > 0) {\n",
    "    writeLines(high_na_metabolites, output_file)\n",
    "  }\n",
    "\n",
    "  # Remove these metabolites from met_data\n",
    "  filtered_met_data <- met_data[, !high_na_metabolites, with = FALSE]\n",
    "\n",
    "  return(filtered_met_data)\n",
    "}\n",
    "\n",
    "# Apply function to clean met_data\n",
    "met_data <- remove_high_na_metabolites(met_data)"
   ]
  },
  {
   "cell_type": "code",
   "execution_count": null,
   "id": "7fd0b038",
   "metadata": {
    "vscode": {
     "languageId": "r"
    }
   },
   "outputs": [],
   "source": [
    "\n",
    "# Create a dataset with only relevant time intervals\n",
    "met_data <- met_data_all %>%\n",
    "  filter(challenge != \"Other\")"
   ]
  },
  {
   "cell_type": "code",
   "execution_count": null,
   "id": "9d63de75-941b-4e31-b1a3-a5cacdd94c5d",
   "metadata": {
    "vscode": {
     "languageId": "r"
    }
   },
   "outputs": [],
   "source": [
    "tail(met_data)"
   ]
  },
  {
   "cell_type": "markdown",
   "id": "082e8d5e-732e-4fce-a280-c1414acee93d",
   "metadata": {},
   "source": [
    "## Splitting the dataset based on platform"
   ]
  },
  {
   "cell_type": "code",
   "execution_count": 7,
   "id": "0c85ceb8-0f79-43a0-a71c-958749b4835c",
   "metadata": {
    "vscode": {
     "languageId": "r"
    }
   },
   "outputs": [],
   "source": [
    "# Identify metabolite columns (excluding time, subject, and challenge)\n",
    "metabolite_columns <- setdiff(colnames(met_data), c(\"time\", \"subject\", \"challenge\"))\n",
    "\n",
    "# Define platform patterns for Metabolon and Biocrates\n",
    "platforms <- list(\n",
    "  metabolon = \"\\\\[P, nt-ms\\\\]\",\n",
    "  biocrates = \"\\\\[P, t-ms\\\\]\"\n",
    ")\n",
    "\n",
    "# Function to filter metabolites based on platform\n",
    "filter_metabolites <- function(pattern) {\n",
    "  selected_cols <- c(\"time\", \"subject\", \"challenge\", metabolite_columns[grepl(pattern, metabolite_columns)])\n",
    "  met_data[, ..selected_cols]\n",
    "}\n",
    "\n",
    "# Function to filter metabolites NOT belonging to Metabolon or Biocrates (i.e., Inhouse)\n",
    "filter_inhouse_metabolites <- function() {\n",
    "  excluded_cols <- unique(unlist(lapply(platforms, function(p) metabolite_columns[grepl(p, metabolite_columns)])))\n",
    "  selected_cols <- c(\"time\", \"subject\", \"challenge\", setdiff(metabolite_columns, excluded_cols))\n",
    "  met_data[, ..selected_cols]\n",
    "}\n",
    "\n",
    "# Create datasets\n",
    "met_data_metabolon <- filter_metabolites(platforms$metabolon)\n",
    "met_data_biocrates <- filter_metabolites(platforms$biocrates)\n",
    "met_data_inhouse <- filter_inhouse_metabolites()  # Everything else\n",
    "\n",
    "# Inspect results\n",
    "#list(met_data_metabolon, met_data_biocrates, met_data_inhouse)\n"
   ]
  },
  {
   "cell_type": "markdown",
   "id": "8b372f64-94ab-4cef-84d2-acd9d0931b1d",
   "metadata": {},
   "source": [
    "## Handle Missing Values - missForest"
   ]
  },
  {
   "cell_type": "markdown",
   "id": "14319ccf-a0e2-4551-83e5-d4380dcab964",
   "metadata": {},
   "source": [
    "The dataset was downloaded with the **\"Concentrations and relative abundances\"** transformation applied.  \n",
    "According to the HuMet documentation, the following preprocessing steps were already performed:\n",
    "\n",
    "#### 1. **Manual Data Curation**\n",
    "- Data points exceeding **4 times the standard deviation** at a given time point were flagged.\n",
    "- If these outliers were **not within the first 30 minutes** of a challenge, they were considered for exclusion.\n",
    "- After **manual inspection**, **92 data points** were removed.\n",
    "\n",
    "#### 2. **Missing Data**\n",
    "- The dataset **does not contain manually excluded data points**.\n",
    "\n",
    "Since these steps were applied in the repository, **additional outlier removal and manual curation are not necessary.**"
   ]
  },
  {
   "cell_type": "code",
   "execution_count": null,
   "id": "b820b76b-9996-4b5f-aec8-2402eb81727d",
   "metadata": {
    "jupyter": {
     "source_hidden": true
    },
    "vscode": {
     "languageId": "r"
    }
   },
   "outputs": [],
   "source": [
    "# Count missing values in each dataset\n",
    "sum(is.na(data_fasting))\n",
    "sum(is.na(data_exercise))\n",
    "sum(is.na(data_oltt))"
   ]
  },
  {
   "cell_type": "code",
   "execution_count": null,
   "id": "458ad7a1-9508-4cd6-a521-99ddde5ec23f",
   "metadata": {
    "vscode": {
     "languageId": "r"
    }
   },
   "outputs": [],
   "source": [
    "# Function to convert categorical variables to factors\n",
    "convert_to_factors <- function(data) {\n",
    "  data %>%\n",
    "    mutate(\n",
    "      challenge = as.factor(challenge),\n",
    "      time = as.factor(time),\n",
    "      subject = as.factor(subject)\n",
    "    ) %>%\n",
    "    mutate(across(where(is.character), as.factor))\n",
    "}\n",
    "\n",
    "# Function for missForest imputation with adaptive parallelization\n",
    "perform_missForest <- function(data_subset, ntree_val = 10) {\n",
    "  num_vars <- ncol(data_subset)  # Get the number of variables\n",
    "  \n",
    "  # Adjust cores to be at most the number of variables\n",
    "  num_cores <- min(detectCores() - 1, num_vars)\n",
    "  \n",
    "  # If parallelization is still invalid, set it to 'no'\n",
    "  parallel_option <- if (num_cores > 1) \"variables\" else \"no\"\n",
    "  \n",
    "  cl <- makeCluster(num_cores, type = \"FORK\") \n",
    "  registerDoParallel(cl)\n",
    "  \n",
    "  set.seed(42)  # Ensures reproducibility\n",
    "  imputed_data <- missForest(data_subset, ntree = ntree_val, parallelize = parallel_option, verbose = TRUE)\n",
    "  \n",
    "  stopCluster(cl)  # Stop cluster\n",
    "  \n",
    "  return(imputed_data$ximp)  # Extract imputed dataset\n",
    "}\n",
    "\n",
    "# Wrapper function to process and impute metabolite datasets\n",
    "data_pipeline <- function(metabolite_datasets) {\n",
    "  # Convert categorical variables to factors\n",
    "  metabolite_datasets <- lapply(metabolite_datasets, convert_to_factors)\n",
    "  \n",
    "  # Perform imputation with automatic parallelization adjustment\n",
    "  imputed_data <- lapply(metabolite_datasets, perform_missForest, ntree_val = 10)\n",
    "  \n",
    "  return(imputed_data)\n",
    "}\n",
    "\n",
    "# List of metabolite datasets\n",
    "metabolite_datasets <- list(\n",
    "  metabolon = met_data_metabolon,\n",
    "  biocrates = met_data_biocrates,\n",
    "  inhouse = met_data_inhouse\n",
    ")\n",
    "\n",
    "# Apply pipeline to each dataset\n",
    "imputed_metabolite_data <- data_pipeline(metabolite_datasets)"
   ]
  },
  {
   "cell_type": "code",
   "execution_count": null,
   "id": "ab4d0034-ab98-4707-8f94-2aa27aacb5f8",
   "metadata": {
    "vscode": {
     "languageId": "r"
    }
   },
   "outputs": [],
   "source": [
    "head(imputed_metabolite_data$metabolon)"
   ]
  },
  {
   "cell_type": "markdown",
   "id": "14ba1c94-72ed-4a38-bde4-c3196103a9da",
   "metadata": {},
   "source": [
    "## Reformating the Table"
   ]
  },
  {
   "cell_type": "markdown",
   "id": "59575229-6949-4c5b-b802-3c3c5ba04b79",
   "metadata": {},
   "source": [
    "Bringing 3 platform specific datasets together"
   ]
  },
  {
   "cell_type": "markdown",
   "id": "5d8c1190-fc88-47d7-88d1-664be4eafbc0",
   "metadata": {},
   "source": [
    "Merging the data "
   ]
  },
  {
   "cell_type": "code",
   "execution_count": null,
   "id": "b03db27e-7f6c-46d6-88d7-12146f4acc88",
   "metadata": {
    "vscode": {
     "languageId": "r"
    }
   },
   "outputs": [],
   "source": [
    "# Merge met_data with info_data based on metabolite and platform_name\n",
    "met_data <- merge(met_data, \n",
    "                  info_data[, .(metabolite, platform_name, super_pathway, sub_pathway)], \n",
    "                  by = c(\"metabolite\", \"platform_name\"), \n",
    "                  all.x = TRUE)  # Keep all rows in met_data\n",
    "\n",
    "# Print first rows to verify the merge\n",
    "head(met_data)"
   ]
  },
  {
   "cell_type": "code",
   "execution_count": null,
   "id": "b5cc156c-68fc-44b8-ac50-c156bb2492b6",
   "metadata": {
    "vscode": {
     "languageId": "r"
    }
   },
   "outputs": [],
   "source": [
    "# View rows where Platform is 'Biocrates_p150'\n",
    "filtered_data <- met_data[platform_name == \"Biocrates p150 [t-ms]\"]\n",
    "\n",
    "# Print first rows\n",
    "filtered_data"
   ]
  },
  {
   "cell_type": "code",
   "execution_count": null,
   "id": "c73ebb2e-81d5-4bee-a92e-ed73b3982d5a",
   "metadata": {
    "vscode": {
     "languageId": "r"
    }
   },
   "outputs": [],
   "source": [
    "# Function to reshape a dataset into long format and add platform information\n",
    "reshape_long <- function(data, platform_name) {\n",
    "  # Identify metabolite columns (exclude time, subject, challenge)\n",
    "  metabolite_columns <- setdiff(names(data), c(\"time\", \"subject\", \"challenge\"))\n",
    "\n",
    "  # Convert all metabolite columns to numeric (preserves NA values)\n",
    "  data[, (metabolite_columns) := lapply(.SD, as.numeric), .SDcols = metabolite_columns]\n",
    "\n",
    "  # Reshape into long format\n",
    "  long_data <- melt(data,\n",
    "                    id.vars = c(\"time\", \"subject\", \"challenge\"),  # Keep these columns unchanged\n",
    "                    measure.vars = metabolite_columns,  # Only reshape metabolite columns\n",
    "                    variable.name = \"metabolite\",\n",
    "                    value.name = \"response\",\n",
    "                    na.rm = FALSE)  # Keep NA values instead of removing them\n",
    "\n",
    "  # Add platform column\n",
    "  long_data[, platform_name := platform_name]\n",
    "\n",
    "  return(long_data)\n",
    "}\n",
    "\n",
    "# Reshape all three datasets and combine them\n",
    "met_data <- rbindlist(\n",
    "  list(\n",
    "    reshape_long(imputed_metabolite_data$metabolon, \"Metabolon HD4 [nt-ms]\"),\n",
    "    reshape_long(imputed_metabolite_data$biocrates, \"Biocrates p150 [t-ms]\"),\n",
    "    reshape_long(imputed_metabolite_data$inhouse, \"In-house biochemistry [chem.]\")\n",
    "  ),\n",
    "  use.names = TRUE,\n",
    "  fill = TRUE\n",
    ")\n",
    "\n",
    "# Print first rows of the final combined dataset\n",
    "head(met_data)"
   ]
  },
  {
   "cell_type": "markdown",
   "id": "f12c99d8-a30a-4282-883a-72bcb39be841",
   "metadata": {},
   "source": [
    "Clean up the metabolite names"
   ]
  },
  {
   "cell_type": "code",
   "execution_count": null,
   "id": "1b4492a3-8ed6-48e4-aecb-2105f58e4f4f",
   "metadata": {
    "vscode": {
     "languageId": "r"
    }
   },
   "outputs": [],
   "source": [
    "# Clean metabolite names by removing anything inside square brackets and trimming whitespace\n",
    "met_data[, metabolite := gsub(\"\\\\[.*?\\\\]\", \"\", metabolite)]  # Remove text inside brackets\n",
    "met_data[, metabolite := trimws(metabolite)]  # Trim leading/trailing spaces\n",
    "met_data[, metabolite := tolower(metabolite)]  # Convert to lowercase\n",
    "\n",
    "# Print first rows to verify changes\n",
    "head(met_data)\n"
   ]
  },
  {
   "cell_type": "markdown",
   "id": "ba57c35d-86e4-487d-bc43-ea3203689950",
   "metadata": {},
   "source": [
    "Some data is missing from our met_data dataset (e.g. super_pathway and sub_pathway), we need to add it for further analysis. For this we use info_data.\n",
    "\n",
    "Clean up of info_data:"
   ]
  },
  {
   "cell_type": "code",
   "execution_count": null,
   "id": "9bf7d0d9-56f8-4040-a890-ee8a6a9a47a4",
   "metadata": {
    "vscode": {
     "languageId": "r"
    }
   },
   "outputs": [],
   "source": [
    "# Keep only rows where fluid == \"plasma\"\n",
    "info_data <- info_data[fluid == \"plasma\"]\n",
    "\n",
    "# Ensure correct encoding and remove asterisks\n",
    "info_data$metabolite <- gsub(\"[*]\", \"\", info_data$metabolite)  # Remove all asterisks\n",
    "info_data$metabolite <- gsub(\"\\u200B\", \"\", info_data$metabolite)  # Remove zero-width spaces (if present)\n",
    "info_data$metabolite <- gsub(\"[[:space:]]+$\", \"\", info_data$metabolite)  # Trim trailing spaces\n",
    "info_data$metabolite <- trimws(info_data$metabolite)  # Remove any remaining spaces\n",
    "info_data$metabolite <- tolower(info_data$metabolite)  # Convert to lowercase\n",
    "\n",
    "head(info_data)"
   ]
  },
  {
   "cell_type": "markdown",
   "id": "c4ca5809",
   "metadata": {},
   "source": [
    "# Postprandial DATASET"
   ]
  },
  {
   "cell_type": "markdown",
   "id": "d4b25b9f",
   "metadata": {},
   "source": [
    "## NON-IMPUTED DATASET PREPROCESSING"
   ]
  },
  {
   "cell_type": "code",
   "execution_count": null,
   "id": "f2efc38d",
   "metadata": {
    "vscode": {
     "languageId": "r"
    }
   },
   "outputs": [],
   "source": [
    "met_data <- fread(\"../input/raw/postprandial_non_imputed.csv\", sep = \";\", fill = TRUE)\n",
    "info_data <- fread(\"../input/raw/postprandial_info.csv\", sep = \";\", fill = TRUE, header=TRUE)\n",
    "\n",
    "met_data[, V1 := NULL]\n",
    "info_data[, V1 := NULL]\n",
    "\n",
    "head(met_data)\n",
    "head(info_data)"
   ]
  },
  {
   "cell_type": "code",
   "execution_count": null,
   "id": "7784d7b3",
   "metadata": {
    "vscode": {
     "languageId": "r"
    }
   },
   "outputs": [],
   "source": [
    "# Select columns excluding challenge, challenge_time, and subject\n",
    "selected_columns <- setdiff(names(met_data), c(\"challenge\", \"challenge_time\", \"subject\"))\n",
    "\n",
    "# Count total number of NA values in these columns\n",
    "total_na_selected <- sum(is.na(met_data[, ..selected_columns]))\n",
    "\n",
    "# Print result\n",
    "print(total_na_selected)"
   ]
  },
  {
   "cell_type": "code",
   "execution_count": null,
   "id": "84f56dda",
   "metadata": {
    "vscode": {
     "languageId": "r"
    }
   },
   "outputs": [],
   "source": [
    "# Find columns that match \"cis-aconitate\" and \"sebacate (decanedioate)_metabolon\"\n",
    "matching_columns <- names(met_data)[grepl(\"cis-aconitate\", names(met_data), ignore.case = TRUE) |\n",
    "                                    grepl(\"^sebacate \\\\(decanedioate\\\\)_metabolon$\", names(met_data), ignore.case = TRUE)]\n",
    "\n",
    "# Check if columns exist\n",
    "if (length(matching_columns) > 0) {\n",
    "  # Calculate percentage of missing values for each column\n",
    "  na_percentages <- colMeans(is.na(met_data[, ..matching_columns])) * 100\n",
    "  \n",
    "  # Print results\n",
    "  print(\"Percentage of missing values per column:\")\n",
    "  print(na_percentages)\n",
    "} else {\n",
    "  print(\"Columns not found!\")\n",
    "}"
   ]
  },
  {
   "cell_type": "code",
   "execution_count": 48,
   "id": "ff3b38b2",
   "metadata": {
    "vscode": {
     "languageId": "r"
    }
   },
   "outputs": [],
   "source": [
    "## REMOVE OVER 30% MISSINGNESS\n",
    "\n",
    "remove_high_na_metabolites <- function(met_data, threshold = 0.3, output_file = \"removed_metabolites.txt\") {\n",
    "  # Identify metabolite columns (excluding time, subject, and challenge)\n",
    "  metabolite_columns <- setdiff(colnames(met_data), c(\"subject\", \"challenge\", \"challenge_time\"))\n",
    "  \n",
    "  # Calculate the percentage of missing values for each metabolite\n",
    "  na_percentage <- colMeans(is.na(met_data[, ..metabolite_columns]))\n",
    "\n",
    "  # Find metabolites with more than `threshold` missing values\n",
    "  high_na_metabolites <- names(na_percentage[na_percentage > threshold])\n",
    "\n",
    "  # Write the removed metabolite names to a text file\n",
    "  if (length(high_na_metabolites) > 0) {\n",
    "    writeLines(high_na_metabolites, output_file)\n",
    "  }\n",
    "\n",
    "  # Remove these metabolites from met_data\n",
    "  filtered_met_data <- met_data[, !high_na_metabolites, with = FALSE]\n",
    "\n",
    "  return(filtered_met_data)\n",
    "}\n",
    "\n",
    "# Apply function to clean met_data\n",
    "met_data <- remove_high_na_metabolites(met_data)\n"
   ]
  },
  {
   "cell_type": "markdown",
   "id": "2bd24318",
   "metadata": {},
   "source": [
    "- after loading the data: 4465 metabolites with na values \n",
    "- after removing > 30% missingness: 4222 metabolites with na values left\n",
    "- in this dataset insulin is the only metabolite in biochemistry dataset"
   ]
  },
  {
   "cell_type": "code",
   "execution_count": null,
   "id": "7f7ae81c",
   "metadata": {
    "vscode": {
     "languageId": "r"
    }
   },
   "outputs": [],
   "source": [
    "## SPLITTING THE DATA\n",
    "\n",
    "# Identify metabolite columns (excluding time, challenge, and challenge_time)\n",
    "metabolite_columns <- setdiff(colnames(met_data), c(\"subject\", \"challenge\", \"challenge_time\"))\n",
    "\n",
    "# Define platform patterns based on metabolite column names\n",
    "platforms <- list(\n",
    "  metabolon = \"metabolon\",\n",
    "  biocrates = \"biocrates\",\n",
    "  inhouse = \"biochemistry\"\n",
    ")\n",
    "\n",
    "# Function to filter metabolites based on platform\n",
    "filter_metabolites <- function(pattern) {\n",
    "  selected_cols <- c(\"subject\", \"challenge\", \"challenge_time\", metabolite_columns[grepl(pattern, metabolite_columns, ignore.case = TRUE)])\n",
    "  met_data[, ..selected_cols]\n",
    "}\n",
    "\n",
    "# Function to filter metabolites NOT belonging to Metabolon or Biocrates (i.e., Inhouse)\n",
    "filter_inhouse_metabolites <- function() {\n",
    "  excluded_cols <- unique(unlist(lapply(platforms[-3], function(p) metabolite_columns[grepl(p, metabolite_columns, ignore.case = TRUE)])))\n",
    "  selected_cols <- c(\"subject\", \"challenge\", \"challenge_time\", setdiff(metabolite_columns, excluded_cols))\n",
    "  met_data[, ..selected_cols]\n",
    "}\n",
    "\n",
    "# Create datasets based on metabolite column names\n",
    "met_data_metabolon <- filter_metabolites(platforms$metabolon)\n",
    "met_data_biocrates <- filter_metabolites(platforms$biocrates)\n",
    "met_data_inhouse <- filter_inhouse_metabolites()  # Everything else\n",
    "\n",
    "## MISSFOREST\n",
    "\n",
    "# Function to convert categorical variables to factors\n",
    "convert_to_factors <- function(data) {\n",
    "  data %>%\n",
    "    mutate(\n",
    "      challenge = as.factor(challenge),\n",
    "      challenge_time = as.factor(challenge_time),\n",
    "      subject = as.factor(subject)\n",
    "    ) %>%\n",
    "    mutate(across(where(is.character), as.factor))\n",
    "}\n",
    "\n",
    "# Function for missForest imputation with adaptive parallelization\n",
    "perform_missForest <- function(data_subset, ntree_val = 10) {\n",
    "  num_vars <- ncol(data_subset)  # Get the number of variables\n",
    "  \n",
    "  # Adjust cores to be at most the number of variables\n",
    "  num_cores <- min(detectCores() - 1, num_vars)\n",
    "  \n",
    "  # If parallelization is still invalid, set it to 'no'\n",
    "  parallel_option <- if (num_cores > 1) \"variables\" else \"no\"\n",
    "  \n",
    "  cl <- makeCluster(num_cores, type = \"FORK\") \n",
    "  registerDoParallel(cl)\n",
    "  \n",
    "  set.seed(42)  # Ensures reproducibility\n",
    "  imputed_data <- missForest(data_subset, ntree = ntree_val, parallelize = parallel_option, verbose = TRUE)\n",
    "  \n",
    "  stopCluster(cl)  # Stop cluster\n",
    "  \n",
    "  return(imputed_data$ximp)  # Extract imputed dataset\n",
    "}\n",
    "\n",
    "# Wrapper function to process and impute metabolite datasets\n",
    "data_pipeline <- function(metabolite_datasets) {\n",
    "  # Convert categorical variables to factors\n",
    "  metabolite_datasets <- lapply(metabolite_datasets, convert_to_factors)\n",
    "  \n",
    "  # Perform imputation with automatic parallelization adjustment\n",
    "  imputed_data <- lapply(metabolite_datasets, perform_missForest, ntree_val = 10)\n",
    "  \n",
    "  return(imputed_data)\n",
    "}\n",
    "\n",
    "# List of metabolite datasets\n",
    "metabolite_datasets <- list(\n",
    "  metabolon = met_data_metabolon,\n",
    "  biocrates = met_data_biocrates,\n",
    "  inhouse = met_data_inhouse\n",
    ")\n",
    "\n",
    "# Apply pipeline to each dataset\n",
    "imputed_metabolite_data <- data_pipeline(metabolite_datasets)"
   ]
  },
  {
   "cell_type": "markdown",
   "id": "5767a16a",
   "metadata": {},
   "source": [
    "### Comparing With Imputed Data"
   ]
  },
  {
   "cell_type": "code",
   "execution_count": null,
   "id": "7c37f969",
   "metadata": {
    "vscode": {
     "languageId": "r"
    }
   },
   "outputs": [],
   "source": [
    "## LOADING IMPUTED DATA \n",
    "\n",
    "met_data_imputed <- fread(\"../input/raw/postprandial_imputed.csv\", sep = \";\", fill = TRUE)\n",
    "met_data_imputed[, V1 := NULL]\n",
    "\n",
    "## SPLITTING THE DATA\n",
    "\n",
    "# Identify metabolite columns (excluding time, challenge, and challenge_time)\n",
    "metabolite_columns <- setdiff(colnames(met_data_imputed), c(\"subject\", \"challenge\", \"challenge_time\"))\n",
    "\n",
    "# Define platform patterns based on metabolite column names\n",
    "platforms <- list(\n",
    "  metabolon = \"metabolon\",\n",
    "  biocrates = \"biocrates\",\n",
    "  inhouse = \"biochemistry\"\n",
    ")\n",
    "\n",
    "# Function to filter metabolites based on platform\n",
    "filter_metabolites <- function(pattern) {\n",
    "  selected_cols <- c(\"subject\", \"challenge\", \"challenge_time\", metabolite_columns[grepl(pattern, metabolite_columns, ignore.case = TRUE)])\n",
    "  met_data_imputed[, ..selected_cols]\n",
    "}\n",
    "\n",
    "# Function to filter metabolites NOT belonging to Metabolon or Biocrates (i.e., Inhouse)\n",
    "filter_inhouse_metabolites <- function() {\n",
    "  excluded_cols <- unique(unlist(lapply(platforms[-3], function(p) metabolite_columns[grepl(p, metabolite_columns, ignore.case = TRUE)])))\n",
    "  selected_cols <- c(\"subject\", \"challenge\", \"challenge_time\", setdiff(metabolite_columns, excluded_cols))\n",
    "  met_data_imputed[, ..selected_cols]\n",
    "}\n",
    "\n",
    "# Create datasets based on metabolite column names\n",
    "met_data_metabolon_imputed <- filter_metabolites(platforms$metabolon)\n",
    "met_data_biocrates_imputed <- filter_metabolites(platforms$biocrates)\n",
    "met_data_inhouse_imputed <- filter_inhouse_metabolites()  # Everything else\n",
    "\n",
    "# Inspect results\n",
    "#list(met_data_metabolon, met_data_biocrates, met_data_inhouse)\n",
    "\n",
    "met_data_metabolon_imputed"
   ]
  },
  {
   "cell_type": "markdown",
   "id": "9d825bbb-b965-4b12-b457-7db06ff7264c",
   "metadata": {},
   "source": [
    "## IMPUTED DATASET ADJUSTMENTS "
   ]
  },
  {
   "cell_type": "code",
   "execution_count": null,
   "id": "cbb6c231-87e5-4a23-b880-0ac37026e78c",
   "metadata": {
    "vscode": {
     "languageId": "r"
    }
   },
   "outputs": [],
   "source": [
    "met_data <- fread(\"../input/raw/postprandial_imputed.csv\", sep = \";\", fill = TRUE)\n",
    "info_data <- fread(\"../input/raw/postprandial_info.csv\", sep = \";\", fill = TRUE, header=TRUE)\n",
    "\n",
    "met_data[, V1 := NULL]\n",
    "info_data[, V1 := NULL]\n",
    "\n",
    "head(met_data)\n",
    "head(info_data)"
   ]
  },
  {
   "cell_type": "code",
   "execution_count": null,
   "id": "9daef6e3",
   "metadata": {
    "vscode": {
     "languageId": "r"
    }
   },
   "outputs": [],
   "source": [
    "met_data[met_data$challenge == \"oltt\"]"
   ]
  },
  {
   "cell_type": "markdown",
   "id": "78426d3f-bf48-4fe4-812b-ab04a228a71f",
   "metadata": {},
   "source": [
    "- 0 NA values\n",
    "- In imputed postprandial dataset only 3 types of platforms are present: biocrates, biochemistry, metabolon"
   ]
  },
  {
   "cell_type": "code",
   "execution_count": null,
   "id": "ee5a2e7d-a849-4a8c-9729-b97629f4a7b2",
   "metadata": {
    "vscode": {
     "languageId": "r"
    }
   },
   "outputs": [],
   "source": [
    "# Identify metabolite columns (excluding subject, challenge, and challenge_time)\n",
    "metabolite_columns <- setdiff(names(met_data), c(\"subject\", \"challenge_time\", \"challenge\"))\n",
    "\n",
    "# Convert all metabolite columns to numeric (preserves NA values)\n",
    "met_data[, (metabolite_columns) := lapply(.SD, as.numeric), .SDcols = metabolite_columns]\n",
    "\n",
    "# Reshape into long format\n",
    "met_data <- melt(met_data,\n",
    "                      id.vars = c(\"subject\", \"challenge_time\", \"challenge\"),  # Keep these columns unchanged\n",
    "                      measure.vars = metabolite_columns,  # Only reshape metabolite columns\n",
    "                      variable.name = \"metabolite\",\n",
    "                      value.name = \"response\",\n",
    "                      na.rm = FALSE)  # Keep NA values instead of removing them\n",
    "\n",
    "# Extract platform name from metabolite column (text after last underscore \"_\")\n",
    "met_data[, platform_name := sub(\".*_\", \"\", metabolite)]\n",
    "\n",
    "# Map extracted platform names to correct labels\n",
    "met_data[, platform_name := fifelse(platform_name == \"biocrates\", \"Biocrates p150 [t-ms]\",\n",
    "                                  fifelse(platform_name == \"biochemistry\", \"In-house biochemistry [chem.]\",\n",
    "                                  fifelse(platform_name == \"metabolon\", \"Metabolon HD4 [nt-ms]\", NA_character_)))]\n",
    "\n",
    "# Keep only rows where fluid == \"plasma\"\n",
    "info_data <- info_data[Fluid == \"Plasma\"]\n",
    "\n",
    "# Rename col_code in info_data to match metabolite column in met_data\n",
    "setnames(info_data, \"col_code\", \"metabolite\")\n",
    "\n",
    "# Merge met_data with info_data based on metabolite and platform_name\n",
    "met_data <- merge(met_data, \n",
    "                  info_data[, .(metabolite, platform_name, SUPER.PATHWAY, SUB.PATHWAY)], \n",
    "                  by = c(\"metabolite\", \"platform_name\"), \n",
    "                  all.x = TRUE)  # Keep all rows in met_data\n",
    "\n",
    "# Rename columns properly\n",
    "setnames(met_data, c(\"platform_name\", \"SUPER.PATHWAY\", \"SUB.PATHWAY\"), \n",
    "                  c(\"platform\", \"super_pathway\", \"sub_pathway\"))\n",
    "\n",
    "# Remove everything after the last underscore \"_\" in metabolite names\n",
    "met_data[, metabolite := sub(\"_.*\", \"\", metabolite)]\n",
    "\n",
    "\n",
    "# Reorder columns to match the desired structure\n",
    "setcolorder(met_data, c(\"metabolite\", \"super_pathway\", \"sub_pathway\", \n",
    "                         \"platform\", \"response\", \"subject\", \"challenge_time\", \"challenge\"))\n",
    "\n",
    "# Print first rows to verify changes\n",
    "head(met_data)\n"
   ]
  },
  {
   "cell_type": "markdown",
   "id": "cee1d60f-323c-4662-a73c-2757386dda4d",
   "metadata": {},
   "source": [
    "# Hypothesis Testing"
   ]
  },
  {
   "cell_type": "markdown",
   "id": "3adba385",
   "metadata": {},
   "source": [
    "635 columns, but only 634 are relevant for ANOVA, since insulin is not a metabolite"
   ]
  },
  {
   "cell_type": "markdown",
   "id": "bf640007",
   "metadata": {},
   "source": [
    "NO INSULIN RUN THIS "
   ]
  },
  {
   "cell_type": "code",
   "execution_count": null,
   "id": "ec2acc3d",
   "metadata": {
    "vscode": {
     "languageId": "r"
    }
   },
   "outputs": [],
   "source": [
    "# Create a new dataset excluding rows where platform is \"In-house biochemistry [chem.]\"\n",
    "met_data_filtered <- met_data[platform != \"In-house biochemistry [chem.]\", ]\n",
    "\n",
    "# Print the first few rows of the new dataset\n",
    "head(met_data_filtered)"
   ]
  },
  {
   "cell_type": "markdown",
   "id": "1332a9ca",
   "metadata": {},
   "source": [
    "INSULIN NEEDED? RUN THIS!"
   ]
  },
  {
   "cell_type": "code",
   "execution_count": 571,
   "id": "64db579d",
   "metadata": {
    "vscode": {
     "languageId": "r"
    }
   },
   "outputs": [],
   "source": [
    "met_data_filtered <- met_data"
   ]
  },
  {
   "cell_type": "markdown",
   "id": "21f39fd5-1c20-4f63-9942-1229edf19579",
   "metadata": {},
   "source": [
    "### ANOVA-like Test"
   ]
  },
  {
   "cell_type": "code",
   "execution_count": null,
   "id": "51e4a7ee",
   "metadata": {
    "vscode": {
     "languageId": "r"
    }
   },
   "outputs": [],
   "source": [
    "# Define significance threshold after multiple testing correction\n",
    "p_threshold <- 0.05 / 634\n",
    "\n",
    "# Convert challenge_time to a categorical variable\n",
    "met_data_filtered[, challenge_time := as.factor(challenge_time)]\n",
    "\n",
    "# Subset data by challenge\n",
    "metabolite_data_ogtt <- met_data_filtered[challenge == \"ogtt\"]\n",
    "metabolite_data_oltt <- met_data_filtered[challenge == \"oltt\"]\n",
    "metabolite_data_sld <- met_data_filtered[challenge == \"sld\"]\n",
    "\n",
    "# Function to run ANOVA-like test while considering metabolite & platform\n",
    "run_anova_like_test <- function(metabolite_data, challenge_name) {\n",
    "    \n",
    "    # Initialize results list\n",
    "    results <- list()\n",
    "\n",
    "    # Loop through unique metabolite-platform combinations\n",
    "    unique_metabolites <- unique(metabolite_data[, .(metabolite, platform, super_pathway, sub_pathway)])\n",
    "    \n",
    "    for (i in seq_len(nrow(unique_metabolites))) {\n",
    "        \n",
    "        met <- unique_metabolites$metabolite[i]\n",
    "        plat <- unique_metabolites$platform[i]\n",
    "        super_path <- unique_metabolites$super_pathway[i]\n",
    "        sub_path <- unique_metabolites$sub_pathway[i]\n",
    "        \n",
    "        # Subset data for this metabolite and platform\n",
    "        subset_data <- metabolite_data[metabolite == met & platform == plat]\n",
    "        \n",
    "        # Ensure sufficient data points for analysis\n",
    "        if (nrow(subset_data) > 2) {\n",
    "            \n",
    "            # Run the ld.f1 test\n",
    "            test_result <- ld.f1(y = subset_data$response, \n",
    "                                 time = subset_data$challenge_time, \n",
    "                                 subject = subset_data$subject, \n",
    "                                 description=FALSE)\n",
    "\n",
    "            # Extract p-value for time effect\n",
    "            p_value <- test_result$ANOVA.test$`p-value`\n",
    "            \n",
    "            # Store results\n",
    "            results[[paste(met, plat, sep = \"_\")]] <- data.table(\n",
    "              challenge = challenge_name,\n",
    "              metabolite = met,\n",
    "              platform = plat,\n",
    "              super_pathway = super_path,\n",
    "              sub_pathway = sub_path,\n",
    "              p_value = p_value\n",
    "            )\n",
    "        }\n",
    "    }\n",
    "\n",
    "    # Combine results into a data frame\n",
    "    anova_results <- rbindlist(results, fill = TRUE)\n",
    "\n",
    "    # Identify significant time effects\n",
    "    anova_results[, significant := p_value < p_threshold]\n",
    "\n",
    "    return(anova_results)\n",
    "}\n",
    "\n",
    "# Run ANOVA-like test for each challenge\n",
    "anova_results_ogtt <- run_anova_like_test(metabolite_data_ogtt, \"OGTT\")\n",
    "anova_results_oltt <- run_anova_like_test(metabolite_data_oltt, \"OLTT\")\n",
    "anova_results_sld <- run_anova_like_test(metabolite_data_sld, \"SLD\")\n",
    "\n",
    "# Combine all results into one table\n",
    "#final_anova_results <- rbind(anova_results_ogtt, anova_results_oltt, anova_results_sld, fill = TRUE)\n",
    "#final_anova_results"
   ]
  },
  {
   "cell_type": "code",
   "execution_count": null,
   "id": "264a3c7e",
   "metadata": {
    "vscode": {
     "languageId": "r"
    }
   },
   "outputs": [],
   "source": [
    "head(anova_results_ogtt)"
   ]
  },
  {
   "cell_type": "markdown",
   "id": "c39570f3",
   "metadata": {},
   "source": [
    "#### Significant effect of time on metabolite levels during at least one challenge"
   ]
  },
  {
   "cell_type": "code",
   "execution_count": null,
   "id": "aba06a42",
   "metadata": {
    "vscode": {
     "languageId": "r"
    }
   },
   "outputs": [],
   "source": [
    "# Get all unique metabolites from the updated dataset (excluding insulin)\n",
    "all_metabolites <- unique(met_data_filtered[, .(metabolite, platform, super_pathway, sub_pathway)])\n",
    "\n",
    "# Sort metabolites first by super_pathway, then sub_pathway, then metabolite name\n",
    "all_metabolites <- all_metabolites[order(super_pathway, sub_pathway, tolower(metabolite))]\n",
    "\n",
    "# Initialize the column as FALSE for all metabolites\n",
    "all_metabolites[, significant_any_challenge := FALSE]\n",
    "\n",
    "# Extract **only** significant metabolites (ensuring metabolite-platform pairs match)\n",
    "significant_ogtt <- anova_results_ogtt[significant == TRUE, .(metabolite, platform)]\n",
    "significant_oltt <- anova_results_oltt[significant == TRUE, .(metabolite, platform)]\n",
    "significant_sld <- anova_results_sld[significant == TRUE, .(metabolite, platform)]\n",
    "\n",
    "# Function to update significance status **only for matching metabolite + platform pairs**\n",
    "update_significance <- function(met_data_filtered, sig_data) {\n",
    "    if (nrow(sig_data) > 0) {  # Only run if there's data\n",
    "        met_data_filtered[sig_data, on = .(metabolite,platform), significant_any_challenge := TRUE]\n",
    "    }\n",
    "}\n",
    "\n",
    "# Update based on **corrected** significance lists\n",
    "update_significance(all_metabolites, significant_ogtt)\n",
    "update_significance(all_metabolites, significant_oltt)\n",
    "update_significance(all_metabolites, significant_sld)\n",
    "\n",
    "# Save the output file\n",
    "#fwrite(all_metabolites, \"../results/anova_results_significant_in_at_least_one_challenge.csv\")\n",
    "\n",
    "# Display output\n",
    "head(all_metabolites)"
   ]
  },
  {
   "cell_type": "markdown",
   "id": "5ee271bf",
   "metadata": {},
   "source": [
    "### Figure 2 "
   ]
  },
  {
   "cell_type": "markdown",
   "id": "3f15667b",
   "metadata": {},
   "source": [
    "#### Putting together a table"
   ]
  },
  {
   "cell_type": "code",
   "execution_count": null,
   "id": "ac1e6d5e",
   "metadata": {
    "vscode": {
     "languageId": "r"
    }
   },
   "outputs": [],
   "source": [
    "generate_figure2_data <- function(anova_results_ogtt, anova_results_oltt, anova_results_sld, \n",
    "                                     all_metabolites, met_data, output_path = \"../results/figure_2_table.csv\") {\n",
    "  \n",
    "  # Merge results into one table\n",
    "  anova_results_combined <- merge(anova_results_ogtt, anova_results_oltt, by = c(\"metabolite\", \"platform\", \"super_pathway\", \"sub_pathway\"), all = TRUE)\n",
    "  anova_results_combined <- merge(anova_results_combined, anova_results_sld, by = c(\"metabolite\", \"platform\", \"super_pathway\", \"sub_pathway\"), all = TRUE)\n",
    "  \n",
    "  # Rename p-value columns for each challenge\n",
    "  setnames(anova_results_combined, \n",
    "           c(\"p_value.x\", \"p_value.y\", \"p_value\"), \n",
    "           c(\"p_value_ogtt\", \"p_value_oltt\", \"p_value_sld\"))\n",
    "  \n",
    "  # Remove the redundant challenge columns and significance columns as they are not needed\n",
    "  anova_results_combined[, c(\"challenge.x\", \"challenge.y\", \"challenge\", \"significant.x\", \"significant.y\", \"significant\") := NULL]\n",
    "  \n",
    "  # Merge the p-values into the all_metabolites dataframe\n",
    "  all_metabolites_fig <- merge(all_metabolites, anova_results_combined, by = c(\"metabolite\", \"platform\", \"super_pathway\", \"sub_pathway\"), all.x = TRUE)\n",
    "  \n",
    "  # Filter rows where platform is either \"Metabolon HD4 [nt-ms]\" or \"In-house biochemistry [chem.]\"\n",
    "  all_metabolites_fig <- all_metabolites_fig[\n",
    "    platform %in% c(\"Metabolon HD4 [nt-ms]\", \"In-house biochemistry [chem.]\")\n",
    "  ]\n",
    "  \n",
    "  # Merge all_metabolites with met_data based on metabolite and platform\n",
    "  all_metabolites_fig <- merge(all_metabolites_fig, met_data[, .(metabolite, platform, subject, challenge_time, \n",
    "                              challenge, response)], \n",
    "                                by = c(\"metabolite\", \"platform\"), all.x = TRUE)\n",
    "  \n",
    "  # Calculate the mean for each metabolite, platform, challenge, and challenge_time\n",
    "  all_metabolites_fig[, mean_response := mean(response, na.rm = TRUE), \n",
    "                         by = .(metabolite, platform, challenge, challenge_time)]\n",
    "  \n",
    "  # Remove 'subject' and 'response' columns\n",
    "  all_metabolites_fig <- all_metabolites_fig[, !c(\"subject\", \"response\"), with = FALSE]\n",
    "  \n",
    "  # Remove duplicates based on all columns\n",
    "  all_metabolites_fig <- unique(all_metabolites_fig)\n",
    "  \n",
    "  # Calculate log2_foldchange based on the difference in mean_response\n",
    "  all_metabolites_fig[, log2_foldchange := \n",
    "                        mean_response - mean_response[challenge_time == 0],\n",
    "                      by = .(metabolite, platform, challenge)]\n",
    "  \n",
    "  # Replace NA in mean_response with 0 if challenge_time is 0\n",
    "  all_metabolites_fig[challenge_time == 0 & is.na(mean_response), mean_response := 0]\n",
    "  \n",
    "  # Create a new column 'p_value' based on the 'challenge' column\n",
    "  all_metabolites_fig[, p_value := \n",
    "      ifelse(challenge == \"ogtt\", p_value_ogtt,\n",
    "      ifelse(challenge == \"oltt\", p_value_oltt,\n",
    "      ifelse(challenge == \"sld\", p_value_sld, NA)))] \n",
    "  \n",
    "  # Now remove the original p_value columns (p_value_ogtt, p_value_oltt, p_value_sld)\n",
    "  all_metabolites_fig[, c(\"p_value_ogtt\", \"p_value_oltt\", \"p_value_sld\") := NULL]\n",
    "  \n",
    "  # Create a new column 'neg_log_p_value' that takes -log10 of the 'p_value' column\n",
    "  all_metabolites_fig[, neg_log10_p_value := -log10(p_value)]\n",
    "  \n",
    "  # Create a new column 'abs_log2_foldchange' that stores the absolute value of 'log2_foldchange'\n",
    "  all_metabolites_fig[, abs_log2_foldchange := abs(log2_foldchange)]\n",
    "  \n",
    "  print(\"one\")\n",
    "  print(unique(all_metabolites_fig$significant_any_challenge))\n",
    "  \n",
    "  # Filter rows where either condition applies: abs_log2_foldchange > 1 or neg_log10_p_value > 40\n",
    "  #all_metabolites_fig <- all_metabolites_fig[neg_log10_p_value > 40 | (significant_any_challenge == TRUE & abs_log2_foldchange > 1)]\n",
    "  all_metabolites_fig <- all_metabolites_fig[(abs_log2_foldchange > 1) | neg_log10_p_value > 40]\n",
    "\n",
    "  print(\"two\")\n",
    "  print(unique(all_metabolites_fig$significant_any_challenge))\n",
    "  \n",
    "  # Sort the table in decreasing order of abs_log2_foldchange\n",
    "  setorder(all_metabolites_fig, -abs_log2_foldchange)\n",
    "  \n",
    "  # Display the result\n",
    "  head(all_metabolites_fig)\n",
    "  \n",
    "  # Save the table to a CSV file\n",
    "  fwrite(all_metabolites_fig, output_path)\n",
    "  \n",
    "  # Return the processed data frame\n",
    "  return(all_metabolites_fig)\n",
    "}\n",
    "\n",
    "# Example of how to call the function and get the result\n",
    "all_metabolites_fig <- generate_figure2_data(anova_results_ogtt, anova_results_oltt, anova_results_sld, all_metabolites, met_data, \"../results/figure_2_table.csv\")"
   ]
  },
  {
   "cell_type": "code",
   "execution_count": null,
   "id": "d199ada8",
   "metadata": {
    "vscode": {
     "languageId": "r"
    }
   },
   "outputs": [],
   "source": [
    "all_metabolites_fig[all_metabolites_fig$significant_any_challenge == \"FALSE\"]"
   ]
  },
  {
   "cell_type": "markdown",
   "id": "5e01b0ff",
   "metadata": {},
   "source": [
    "#### Volcano Plot"
   ]
  },
  {
   "cell_type": "code",
   "execution_count": null,
   "id": "2513b22c",
   "metadata": {
    "vscode": {
     "languageId": "r"
    }
   },
   "outputs": [],
   "source": [
    " # Define challenge colors\n",
    "  challenge_colors <- c(\"ogtt\" = \"red\",  \n",
    "                        \"sld\" = \"blue\",  \n",
    "                        \"oltt\" = \"#BA8E23\") \n",
    "\n",
    "  # Define time point shapes\n",
    "  time_point_shapes <- c(\n",
    "    \"15\" = 0,   # Empty square\n",
    "    \"30\" = 1,   # Empty circle\n",
    "    \"45\" = 2,   # Empty triangle facing up\n",
    "    \"60\" = 15,  # Filled square\n",
    "    \"90\" = 6,   # Empty triangle facing down\n",
    "    \"120\" = 16, # Filled circle\n",
    "    \"180\" = 17, # Filled triangle facing up\n",
    "    \"240\" = 18  # Filled rhombus\n",
    "  ) \n",
    "\n",
    "  # Custom labels for challenge\n",
    "  challenge_labels <- c(\"ogtt\" = \"Oral glucose tolerance test\",\n",
    "                        \"sld\" = \"Standard liquid diet\",\n",
    "                        \"oltt\" = \"Oral liquid tolerance test\")\n",
    "\n",
    "generate_figure2a <- function(all_metabolites_fig, output_path = \"../results/plots/volcano_plot_figure.png\") {\n",
    "\n",
    "  # Create volcano plot\n",
    "  volcano_plot <- ggplot(all_metabolites_fig, aes(x = log2_foldchange, y = neg_log10_p_value, \n",
    "                     color = challenge, shape = as.factor(challenge_time))) +\n",
    "    # Add transparent rectangle\n",
    "    annotate(\"rect\", xmin = -1, xmax = 1, ymin = 0, ymax = Inf, alpha = 0.2, fill = \"blue\") +\n",
    "    # Add dashed vertical lines at x = -1 and x = 1\n",
    "    geom_vline(xintercept = -1, linetype = \"dashed\", color = \"black\", size = 0.5) +\n",
    "    geom_vline(xintercept = 1, linetype = \"dashed\", color = \"black\", size = 0.5) +\n",
    "    geom_hline(yintercept = -log10(0.05/634), linetype = \"dashed\", color = \"black\", size = 0.5) +\n",
    "    # Add points (ensure this is after the rectangle and lines to be on top)\n",
    "    geom_point(size = 3, alpha = 1) +  # Set alpha to 1 for fully opaque points\n",
    "    scale_color_manual(values = challenge_colors, labels = challenge_labels, \n",
    "                       guide = \"none\") +  # Remove color legend\n",
    "    scale_x_continuous(breaks = seq(floor(min(all_metabolites_fig$log2_foldchange)), \n",
    "                                  ceiling(max(all_metabolites_fig$log2_foldchange)), \n",
    "                                  by = 1)) +\n",
    "    scale_shape_manual(values = time_point_shapes) +\n",
    "    geom_hline(yintercept = 40, linetype = \"dashed\", color = \"black\", size = 0.5) +\n",
    "    theme_minimal() +\n",
    "    labs(x = \"log2 fold change\", \n",
    "         y = \"-log10(p-value)\") +\n",
    "    scale_y_continuous(expand = c(0, 0), limits = c(0, 85)) +\n",
    "    theme(\n",
    "      legend.position = \"none\",  # Remove the legend\n",
    "      axis.line = element_line(color = \"black\", size = 1),\n",
    "      axis.ticks = element_line(color = \"black\", size = 1),  # Ensure ticks are visible\n",
    "      axis.title = element_text(size = 14, face = \"bold\"),  # Increase axis title size\n",
    "      axis.text = element_text(size = 14)  # Increase size of the numbers next to ticks\n",
    "    )\n",
    "\n",
    "  # Save the volcano plot without the legend\n",
    "  ggsave(output_path, plot = volcano_plot, bg = \"white\")\n",
    "  \n",
    "  # Return the volcano plot object in case the user wants to further customize or display it\n",
    "  return(volcano_plot)\n",
    "}\n",
    "\n",
    "# Example of how to call the function\n",
    "generate_figure2a(all_metabolites_fig, \"../results/plots/volcano_plot_figure_2A.png\")"
   ]
  },
  {
   "cell_type": "markdown",
   "id": "11556063",
   "metadata": {},
   "source": [
    "#### Forest Plot"
   ]
  },
  {
   "cell_type": "code",
   "execution_count": null,
   "id": "c5a1deea",
   "metadata": {
    "vscode": {
     "languageId": "r"
    }
   },
   "outputs": [],
   "source": [
    "generate_figure2b <- function(all_metabolites_fig, output_path = \"../results/plots/forest_plot.png\") {\n",
    "  \n",
    "  # Define the custom order for super_pathway\n",
    "  pathway_order <- c(\"Hormones\", \"Carbohydrate\", \"Nucleotide\", \"Xenobiotics\", \n",
    "                     \"Amino Acid\", \"Lipid\", \"Peptide\")\n",
    "  \n",
    "  # Ensure the super_pathway is a factor with the specified order\n",
    "  all_metabolites_fig$super_pathway <- factor(all_metabolites_fig$super_pathway, levels = pathway_order)\n",
    "  \n",
    "  # Sort the dataframe by the ordered super_pathway and alphabetically by metabolite within each super_pathway\n",
    "  all_metabolites_fig <- all_metabolites_fig[order(all_metabolites_fig$super_pathway, all_metabolites_fig$metabolite), ]\n",
    "  \n",
    "  # Combine super_pathway and metabolite to ensure metabolites are grouped within the correct super_pathway order\n",
    "  all_metabolites_fig$metabolite <- factor(all_metabolites_fig$metabolite, \n",
    "                                            levels = unique(all_metabolites_fig$metabolite[order(all_metabolites_fig$super_pathway, all_metabolites_fig$metabolite)]))\n",
    "  \n",
    "  # Compute bracket positions automatically (RIGHT SIDE)\n",
    "  bracket_data <- all_metabolites_fig %>%\n",
    "    group_by(super_pathway) %>%\n",
    "    summarise(ymin = min(as.numeric(factor(metabolite))), \n",
    "              ymax = max(as.numeric(factor(metabolite)))) %>%\n",
    "    mutate(x = max(all_metabolites_fig$log2_foldchange) + 1.2)  # Move to RIGHT side\n",
    "  \n",
    "  # Calculate max x position for labels\n",
    "  max_x_value <- max(all_metabolites_fig$log2_foldchange, na.rm = TRUE) + 1.5  \n",
    "  \n",
    "  # Compute label positions for super_pathway\n",
    "  label_data <- bracket_data %>%\n",
    "    mutate(label_x = x + 0.15,   # Move labels slightly to the right\n",
    "           label_y = (ymin + ymax) / 2)  # Position at midpoint of each bracket\n",
    "  \n",
    "  # Create forest plot\n",
    "  forest_plot <- ggplot(all_metabolites_fig, aes(x = log2_foldchange, y = metabolite)) +\n",
    "    # Shaded region\n",
    "    annotate(\"rect\", xmin = -1, xmax = 1, ymin = -Inf, ymax = Inf, alpha = 0.3, fill = \"gray80\") +\n",
    "    geom_vline(xintercept = 0, linetype = \"dashed\", color = \"black\", size = 0.3) +\n",
    "    geom_point(aes(color = challenge, shape = as.factor(challenge_time)), size = 2, alpha = 0.8) +\n",
    "  \n",
    "    # Proper legend integration\n",
    "    scale_color_manual(\n",
    "      values = challenge_colors, \n",
    "      labels = challenge_labels, \n",
    "      guide = guide_legend(title = \"Challenge\", order = 1)\n",
    "    ) +\n",
    "    scale_shape_manual(\n",
    "      values = time_point_shapes,\n",
    "      guide = guide_legend(title = \"Challenge time [min]\", order = 2)\n",
    "    ) +\n",
    "  \n",
    "    # Labels\n",
    "    labs(x = \"log2 fold change\",\n",
    "         y = \"Metabolites\",\n",
    "         color = \"Challenge\", \n",
    "         shape = \"Challenge time [min]\") +\n",
    "  \n",
    "    theme_bw() +\n",
    "    theme(\n",
    "      legend.position = \"top\",  # Legend stays at the top\n",
    "      legend.title = element_text(size = 12, face = \"bold\"),\n",
    "      legend.text = element_text(size = 10),\n",
    "      \n",
    "      axis.text.x = element_text(size = 14),\n",
    "      axis.text.y = element_text(size = 12),\n",
    "      axis.title.x = element_text(size = 16, face = \"bold\"),\n",
    "      axis.title.y = element_text(size = 16, face = \"bold\"),\n",
    "      \n",
    "      strip.background = element_blank(),\n",
    "      strip.text = element_text(size = 14, face = \"bold\"),\n",
    "      \n",
    "      panel.grid = element_blank(),\n",
    "      panel.border = element_blank(),\n",
    "      panel.spacing = unit(0.01, \"null\"), \n",
    "      axis.line = element_line(color = \"black\"),\n",
    "      \n",
    "      strip.text.y.left = element_blank(),\n",
    "      strip.placement = \"outside\"\n",
    "    ) +\n",
    "  \n",
    "    # Force legends into two separate lists\n",
    "    guides(\n",
    "      color = guide_legend(ncol = 1, order = 1, title.position = \"top\"),  # Challenge (list on left)\n",
    "      shape = guide_legend(ncol = 2, order = 2, title.position = \"top\")   # Challenge time (2 columns)\n",
    "    ) +\n",
    "  \n",
    "    # Facet grid for super_pathway\n",
    "    facet_grid(rows = vars(super_pathway), scales = \"free_y\", space = \"free_y\", switch = \"y\") +\n",
    "  \n",
    "    # Adjust x-axis\n",
    "    scale_x_continuous(breaks = seq(-2, max_x_value, by = 1)) +\n",
    "    expand_limits(x = c(0, max_x_value + 1)) +\n",
    "  \n",
    "    # Brackets on the right side\n",
    "    geom_segment(data = bracket_data, aes(x = x, xend = x, y = ymin, yend = ymax), size = 0.5) +\n",
    "    geom_segment(data = bracket_data, aes(x = x, xend = x - 0.2, y = ymin, yend = ymin), size = 0.5) +\n",
    "    geom_segment(data = bracket_data, aes(x = x, xend = x - 0.2, y = ymax, yend = ymax), size = 0.5) +\n",
    "  \n",
    "    # Super_pathway labels next to brackets\n",
    "    geom_text(data = label_data, aes(x = label_x, y = label_y, label = super_pathway),\n",
    "              hjust = 0, vjust = 0.5, size = 5)\n",
    "\n",
    "  # Save without cutting off labels\n",
    "  ggsave(output_path, plot = forest_plot, bg = \"white\", width = 12, height = 13, units = \"in\")\n",
    "  \n",
    "  # Return the forest plot object for further customization or use\n",
    "  return(forest_plot)\n",
    "}\n",
    "\n",
    "# Example of how to call the function\n",
    "generate_figure2b(all_metabolites_fig, \"../results/plots/forest_plot_figure2B.png\")\n"
   ]
  },
  {
   "cell_type": "markdown",
   "id": "f27c71b4",
   "metadata": {},
   "source": [
    "### T-Test "
   ]
  },
  {
   "cell_type": "code",
   "execution_count": null,
   "id": "cdf4a478",
   "metadata": {
    "vscode": {
     "languageId": "r"
    }
   },
   "outputs": [],
   "source": [
    "# Select baseline data for different challenges\n",
    "baseline_ogtt <- met_data[challenge == \"ogtt\" & challenge_time == \"0\"]\n",
    "baseline_sld  <- met_data[challenge == \"ogtt\" & challenge_time == \"240\"]\n",
    "baseline_oltt <- met_data[challenge == \"oltt\" & challenge_time == \"0\"]\n",
    "\n",
    "# Ensure only common subjects are used across all three conditions\n",
    "common_subjects <- Reduce(intersect, list(baseline_ogtt$subject, baseline_sld$subject, baseline_oltt$subject))\n",
    "baseline_ogtt <- baseline_ogtt[subject %in% common_subjects]\n",
    "baseline_sld  <- baseline_sld[subject %in% common_subjects]\n",
    "baseline_oltt <- baseline_oltt[subject %in% common_subjects]\n",
    "\n",
    "# Get unique metabolite-platform combinations\n",
    "metabolites <- unique(met_data[, .(metabolite, platform)])\n",
    "\n",
    "# Perform paired t-tests and keep significance + pathway info\n",
    "results <- lapply(1:nrow(metabolites), function(i) {\n",
    "  met_name <- metabolites$metabolite[i]\n",
    "  met_platform <- metabolites$platform[i]\n",
    "\n",
    "  # Subset using both metabolite name and platform\n",
    "  ogtt_values <- baseline_ogtt[metabolite == met_name & platform == met_platform, response]\n",
    "  sld_values  <- baseline_sld[metabolite == met_name & platform == met_platform, response]\n",
    "  oltt_values <- baseline_oltt[metabolite == met_name & platform == met_platform, response]\n",
    "\n",
    "  # Ensure valid comparisons (at least two values in each group)\n",
    "  if (length(ogtt_values) > 1 & length(sld_values) > 1 & length(oltt_values) > 1) {\n",
    "    mean_diff_sld  <- mean(sld_values, na.rm = TRUE) - mean(ogtt_values, na.rm = TRUE)\n",
    "    mean_diff_oltt <- mean(oltt_values, na.rm = TRUE) - mean(ogtt_values, na.rm = TRUE)\n",
    "\n",
    "    # Perform paired t-tests\n",
    "    p_val_sld <- tryCatch(\n",
    "      t.test(sld_values, ogtt_values, paired = TRUE, var.equal = FALSE)$p.value,\n",
    "      error = function(e) NA\n",
    "    )\n",
    "    p_val_oltt <- tryCatch(\n",
    "      t.test(oltt_values, ogtt_values, paired = TRUE, var.equal = FALSE)$p.value,\n",
    "      error = function(e) NA\n",
    "    )\n",
    "\n",
    "    # Retrieve significance info and pathway details\n",
    "\n",
    "    # Should you metabolites be significant in any_challenge or in all_challenges \n",
    "    # ALL CHALLENGES: significant_OGTT_OLTT_SLD\n",
    "    # ANY CHALLENGE: significant_any_challenge\n",
    "    anova_significance <- all_metabolites[metabolite == met_name & platform == met_platform, significant_OGTT_OLTT_SLD]\n",
    "    pathway_info <- all_metabolites[metabolite == met_name & platform == met_platform, \n",
    "                                    .(platform, super_pathway, sub_pathway, significant_OGTT_OLTT_SLD)]\n",
    "\n",
    "    # Return structured result\n",
    "    return(data.table(\n",
    "      metabolite = met_name,\n",
    "      platform = met_platform,\n",
    "      super_pathway = pathway_info$super_pathway,\n",
    "      sub_pathway = pathway_info$sub_pathway,\n",
    "      mean_diff_sld = mean_diff_sld,\n",
    "      p_val_sld = p_val_sld,\n",
    "      mean_diff_oltt = mean_diff_oltt,\n",
    "      p_val_oltt = p_val_oltt,\n",
    "      significant_response = anova_significance\n",
    "    ))\n",
    "  } else {\n",
    "    return(NULL)\n",
    "  }\n",
    "})\n",
    "\n",
    "# Remove NULL results safely\n",
    "results <- rbindlist(Filter(Negate(is.null), results), fill = TRUE)\n",
    "\n",
    "# Filter rows where significant_OGTT_OLTT_SLD is TRUE\n",
    "filtered_results <- results[significant_response == TRUE]\n",
    "\n",
    "# Save filtered results to a CSV file\n",
    "fwrite(filtered_results, \"../results/paired_ttest_results.csv\")\n",
    "message(\"Filtered T-Test completed! Filtered results saved in: ../results/paired_ttest_results.csv\")\n",
    "\n",
    "# Print summary of the filtered results\n",
    "num_significant <- nrow(filtered_results)\n",
    "total_tests <- nrow(results)\n",
    "percentage <- (num_significant / total_tests) * 100\n",
    "\n",
    "cat(\"Number of significant metabolites (filtered):\", num_significant, \"\\n\")\n",
    "cat(\"Percentage of significant results (filtered):\", round(percentage, 2), \"%\\n\")\n"
   ]
  },
  {
   "cell_type": "code",
   "execution_count": null,
   "id": "f9924502",
   "metadata": {
    "vscode": {
     "languageId": "r"
    }
   },
   "outputs": [],
   "source": [
    "# Map missing information from met_data_filtered to filtered_results based on both \"metabolite\" and \"platform\"\n",
    "clustering_input <- merge(\n",
    "  filtered_results, \n",
    "  met_data_filtered[, .(metabolite, platform, response, subject, challenge, challenge_time)], \n",
    "  by = c(\"metabolite\", \"platform\"), \n",
    "  all.x = TRUE\n",
    ")\n",
    "\n",
    "# Save the updated results\n",
    "fwrite(clustering_input, \"../results/clustering_input.csv\")\n",
    "\n",
    "# Display the first few rows of the updated data\n",
    "head(clustering_input)"
   ]
  },
  {
   "cell_type": "markdown",
   "id": "471a7399",
   "metadata": {},
   "source": [
    "# Clustering"
   ]
  },
  {
   "cell_type": "markdown",
   "id": "bfe1b85c",
   "metadata": {},
   "source": [
    "is already integrated into the pipeline, tested by Laura"
   ]
  }
 ],
 "metadata": {
  "kernelspec": {
   "display_name": "R",
   "language": "R",
   "name": "ir"
  },
  "language_info": {
   "codemirror_mode": "r",
   "file_extension": ".r",
   "mimetype": "text/x-r-source",
   "name": "R",
   "pygments_lexer": "r",
   "version": "4.4.2"
  }
 },
 "nbformat": 4,
 "nbformat_minor": 5
}
